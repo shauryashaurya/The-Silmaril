








# Star Wars Data Analysis
# 
# Exploring narrative patterns and storytelling elements in the Star Wars original trilogy using only the generated data.

import json
import pandas as pd
import numpy as np
import plotly.express as px
import plotly.graph_objects as go
from plotly.subplots import make_subplots
import networkx as nx
from collections import Counter, defaultdict
import re
import os
from IPython.display import SVG, Image, display
from IPython import get_ipython


# Import our visualization functions
from star_wars_visualizations import (
    timeline_visualization,
    character_interaction_network,
    location_frequency,
    character_appearances,
    event_significance,
    quote_analysis,
    battle_analysis,
    force_user_analysis,
    ship_analysis,
    relationship_map,
    faction_distribution
)


# Import our visualization functions
from star_wars_visualizations_extended import (
    save_and_show_fig,
    event_significance_by_episode,
    character_appearances_timeline,
    scene_context_analysis,
    character_co_occurrence,
    location_appearances_by_episode,
    character_network_by_episode,
    character_affiliation_analysis,
    quote_analysis_by_character,
    relationship_types_analysis,
    battle_analysis_through_trilogy
)


# Load the data
with open('./data/star_wars_trilogy.json', 'r') as file:
    data = json.load(file)

# For easier reference
characters = data['characters']
jedis = data['jedis']
siths = data['siths']
droids = data.get('droids', {})
planets = data['planets']
spaceships = data['spaceships']
events = data['events']
battles = data['battles']
relationships = data['relationships']
timelines = data['timelines']



print(f"Dataset loaded with {len(characters)} characters, {len(planets)} planets, and {sum(len(ep) for ep in timelines.values())} events across 3 films.")





# check if running in jupyter/colab or just rendering in GitHub

shell = get_ipython().__class__.__name__
show_interactive_fig = False
use_SVG = True
print(shell)
if (shell == 'ZMQInteractiveShell') or (shell == 'google.colab._shell'):
    show_interactive_fig = True
else:
    show_interactive_fig = False

print("interative visualizations: ",show_interactive_fig)


# test image display
# show_interactive_fig = False


def show_fig_or_image(fig):
    image_filename = (fig.layout.title.text).replace(' ', '_')
    if show_interactive_fig:
        fig.show(config={'toImageButtonOptions': {'format': 'svg', 'filename': image_filename}})
    else:
        image_filename_full = './images/'+image_filename+'.svg'
        if use_SVG:
            image = SVG(filename=image_filename_full)
        else:
            image = Image(filename=image_filename_full)
        display(image)











# which characters interact with each other the most throughout the trilogy.

# show_fig_or_image(character_interaction_network())








# tracks when major characters appear throughout the trilogy.

# show_fig_or_image(character_appearances_timeline(data))








# which characters appear together most frequently - as a heatmap
# only Luke and Vader ever met Palpitine? Bro!

# show_fig_or_image(character_co_occurrence(data))








# how the character networks evolve across the three films.

# show_fig_or_image(character_network_by_episode(data))








# a look at the balance of power between different factions.

# show_fig_or_image(character_affiliation_analysis(data))








# ...the different types of relationships between characters.

# show_fig_or_image(relationship_types_analysis(data))








# how frequently major characters appear in each episode.

# show_fig_or_image(character_appearances())








# how characters are distributed across different factions.

show_fig_or_image(faction_distribution())











# types of scenes (battles, dialogues, revelations) in each episode... 
# can we use this to measure how BORING or EXCITING a film is?, 
# as a writer, this thought HURTS MY SOUL, but as a servant of the dark arts of corp management, this is another way I can torture the souls of writers...mwaahahaha!

# show_fig_or_image(scene_context_analysis(data))








# the significance of events flows through each episode
# TODO: this could be the seed of drawing out the narrative arcs of a film
# this could lead to an interesting visualization of film scripts...

# show_fig_or_image(event_significance_by_episode(data))





# events by their significance level in each episode.

# show_fig_or_image(event_significance())








# the scale and outcomes of battles across the three films.

# show_fig_or_image(battle_analysis_through_trilogy(data))





# casualties across the major battles in the trilogy.

# show_fig_or_image(battle_analysis())








# the appearances and classes of starships in the trilogy.

# show_fig_or_image(ship_analysis())








# where do the scenes take place across the trilogy?

# show_fig_or_image(location_appearances_by_episode(data))








# which locations appear most frequently in the trilogy?

# show_fig_or_image(location_frequency())








# ...how events flow across the Star Wars original trilogy timeline.

# show_fig_or_image(timeline_visualization())






