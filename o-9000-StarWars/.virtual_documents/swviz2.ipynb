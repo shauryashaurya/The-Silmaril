# Star Wars Data Analysis
# 
# Exploring narrative patterns and storytelling elements in the Star Wars original trilogy using only the generated data.

import json
import pandas as pd
import numpy as np
import plotly.express as px
import plotly.graph_objects as go
from plotly.subplots import make_subplots
import networkx as nx
from collections import Counter, defaultdict
import re
import os
from IPython.display import SVG, Image, display
from IPython import get_ipython


# Import our visualization functions
from star_wars_visualizations_extended import (
    save_and_show_fig,
    event_significance_by_episode,
    character_appearances_timeline,
    scene_context_analysis,
    character_co_occurrence,
    location_appearances_by_episode,
    character_network_by_episode,
    character_affiliation_analysis,
    quote_analysis_by_character,
    relationship_types_analysis,
    battle_analysis_through_trilogy
)


# Load the data
with open('./data/star_wars_trilogy.json', 'r') as file:
    data = json.load(file)

# For easier reference
characters = data['characters']
jedis = data['jedis']
siths = data['siths']
droids = data.get('droids', {})
planets = data['planets']
spaceships = data['spaceships']
events = data['events']
battles = data['battles']
relationships = data['relationships']
timelines = data['timelines']

print(f"Starting advanced analysis of Star Wars trilogy data with {sum(len(ep) for ep in timelines.values())} events across 3 films.")


# check if running in jupyter/colab or just rendering in GitHub

shell = get_ipython().__class__.__name__
show_interactive_fig = False
use_SVG = True
print(shell)
if (shell == 'ZMQInteractiveShell') or (shell == 'google.colab._shell'):
    show_interactive_fig = True
else:
    show_interactive_fig = False

print("interative visualizations: ",show_interactive_fig)


# test image display
# show_interactive_fig = False


def show_fig_or_image(fig):
    image_filename = (fig.layout.title.text).replace(' ', '_')
    if show_interactive_fig:
        fig.show(config={'toImageButtonOptions': {'format': 'svg', 'filename': image_filename}})
    else:
        image_filename_full = './images/'+image_filename+'.svg'
        if use_SVG:
            image = SVG(filename=image_filename_full)
        else:
            image = Image(filename=image_filename_full)
        display(image)





# This visualization shows how the significance of events flows through each episode.

fig1 = event_significance_by_episode(data)
# fig1.show()
show_fig_or_image(fig1)


# how can we extract the title of a plotfly figure?
# dir(fig1.layout.title.text)





# This tracks when major characters appear throughout the trilogy.

fig2 = character_appearances_timeline(data)
# fig2.show()
show_fig_or_image(fig2)





# This analyzes what types of scenes (battles, dialogues, revelations) occur in each episode.

fig3 = scene_context_analysis(data)
# fig3.show()
show_fig_or_image(fig3)





# This heatmap shows which characters appear together most frequently.

fig4 = character_co_occurrence(data)
# fig4.show()
show_fig_or_image(fig4)





# This treemap shows where scenes take place across the trilogy.

fig5 = location_appearances_by_episode(data)
# fig5.show()
show_fig_or_image(fig5)





# This shows how character networks evolve across the three films.

fig6 = character_network_by_episode(data)
# fig6.show()
show_fig_or_image(fig6)





# This analyzes the balance of power between different factions.

fig7 = character_affiliation_analysis(data)
# fig7.show()
show_fig_or_image(fig7)





# This examines which characters have the most memorable quotes.

fig8 = quote_analysis_by_character(data)
# fig8.show()
show_fig_or_image(fig8)





# This investigates the different types of relationships between characters.

fig9 = relationship_types_analysis(data)
# fig9.show()
show_fig_or_image(fig9)





# This compares the scale and outcomes of battles across the three films.

fig10 = battle_analysis_through_trilogy(data)
# fig10.show()
show_fig_or_image(fig10)



# These advanced visualizations reveal deeper patterns in the Star Wars narrative:
# 
# - Each film follows a classic structure with rising action, climax, and resolution
# - Character appearances show how the ensemble cast moves through the story
# - The types of scenes evolve across the trilogy, with more emotional content in later films
# - Character co-occurrence reveals key character groupings and relationships
# - Locations show the expanding scope of the trilogy's universe
# - Character networks grow more complex and interconnected as the trilogy progresses
# - The balance between Rebel Alliance and Empire factions remains relatively constant
# - Certain characters dominate the memorable quotes and dialogue
# - Family relationships form the core of the saga's most important connections
# - Battles grow in scale and significance throughout the trilogy
# 
# These visualizations provide a deeper understanding of the storytelling techniques that made the original Star Wars trilogy a classic.





# !pip install -U kaleido



