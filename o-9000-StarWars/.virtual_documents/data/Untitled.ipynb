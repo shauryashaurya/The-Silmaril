# Advanced Star Wars Data Analysis
# 
# This notebook explores narrative patterns and storytelling elements in the Star Wars original trilogy using only the generated data.

import json
import pandas as pd
import numpy as np
import plotly.express as px
import plotly.graph_objects as go
from plotly.subplots import make_subplots
import networkx as nx
from collections import Counter, defaultdict
import re


# Import our visualization functions
from star_wars_simplified_visualizations import (
    event_significance_by_episode,
    character_appearances_timeline,
    scene_context_analysis,
    character_co_occurrence,
    location_appearances_by_episode,
    character_network_by_episode,
    character_affiliation_analysis,
    quote_analysis_by_character,
    relationship_types_analysis,
    battle_analysis_through_trilogy
)


# Load the data
with open('star_wars_trilogy.json', 'r') as file:
    data = json.load(file)

# For easier reference
characters = data['characters']
jedis = data['jedis']
siths = data['siths']
droids = data.get('droids', {})
planets = data['planets']
spaceships = data['spaceships']
events = data['events']
battles = data['battles']
relationships = data['relationships']
timelines = data['timelines']

print(f"Starting advanced analysis of Star Wars trilogy data with {sum(len(ep) for ep in timelines.values())} events across 3 films.")


# ## 1. Event Significance by Episode
# This visualization shows how the significance of events flows through each episode.

fig1 = event_significance_by_episode(data)
fig1.show()


# ## 2. Character Appearances Timeline
# This tracks when major characters appear throughout the trilogy.

fig2 = character_appearances_timeline(data)
fig2.show()


# ## 3. Scene Context Analysis
# This analyzes what types of scenes (battles, dialogues, revelations) occur in each episode.

fig3 = scene_context_analysis(data)
fig3.show()


# ## 4. Character Co-occurrence Analysis
# This heatmap shows which characters appear together most frequently.

fig4 = character_co_occurrence(data)
fig4.show()


# ## 5. Location Appearances by Episode
# This treemap shows where scenes take place across the trilogy.

fig5 = location_appearances_by_episode(data)
fig5.show()


# ## 6. Character Network By Episode
# This shows how character networks evolve across the three films.

fig6 = character_network_by_episode(data)
fig6.show()


# ## 7. Character Affiliation Analysis
# This analyzes the balance of power between different factions.

fig7 = character_affiliation_analysis(data)
fig7.show()


# ## 8. Quote Analysis by Character
# This examines which characters have the most memorable quotes.

fig8 = quote_analysis_by_character(data)
fig8.show()


# ## 9. Relationship Types Analysis
# This investigates the different types of relationships between characters.

fig9 = relationship_types_analysis(data)
fig9.show()


# ## 10. Battle Analysis Through the Trilogy
# This compares the scale and outcomes of battles across the three films.

fig10 = battle_analysis_through_trilogy(data)
fig10.show()


# ## Conclusion
# 
# These advanced visualizations reveal deeper patterns in the Star Wars narrative:
# 
# - Each film follows a classic structure with rising action, climax, and resolution
# - Character appearances show how the ensemble cast moves through the story
# - The types of scenes evolve across the trilogy, with more emotional content in later films
# - Character co-occurrence reveals key character groupings and relationships
# - Locations show the expanding scope of the trilogy's universe
# - Character networks grow more complex and interconnected as the trilogy progresses
# - The balance between Rebel Alliance and Empire factions remains relatively constant
# - Certain characters dominate the memorable quotes and dialogue
# - Family relationships form the core of the saga's most important connections
# - Battles grow in scale and significance throughout the trilogy
# 
# These visualizations provide a deeper understanding of the storytelling techniques that made the original Star Wars trilogy a classic.
