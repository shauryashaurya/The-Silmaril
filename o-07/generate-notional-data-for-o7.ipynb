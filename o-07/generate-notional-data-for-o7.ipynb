{
 "cells": [
  {
   "cell_type": "code",
   "execution_count": 1,
   "id": "6e7eb68e-3b93-4725-82d4-50f0aab846ff",
   "metadata": {},
   "outputs": [],
   "source": [
    "import random\n",
    "import pandas as pd\n",
    "from faker import Faker\n",
    "from datetime import timedelta, datetime  # Import datetime"
   ]
  },
  {
   "cell_type": "code",
   "execution_count": 2,
   "id": "502ffda3-5521-4b3a-bd4c-257dca5902c4",
   "metadata": {},
   "outputs": [],
   "source": [
    "data_path = \"./data/\""
   ]
  },
  {
   "cell_type": "code",
   "execution_count": 3,
   "id": "e0add317-644b-4301-ad1c-52db010a15a6",
   "metadata": {},
   "outputs": [],
   "source": [
    "fake = Faker()"
   ]
  },
  {
   "cell_type": "code",
   "execution_count": 4,
   "id": "b3f587ff-67bd-4515-8303-2a3a9836a812",
   "metadata": {},
   "outputs": [],
   "source": [
    "# Configuration\n",
    "NUM_INVESTORS = 30\n",
    "NUM_BROKERS = 15\n",
    "NUM_COMM_PLANS = 6\n",
    "NUM_EXCHANGES = 8\n",
    "NUM_INSTRUMENTS = 80\n",
    "NUM_ORDERS = 150\n",
    "NUM_TRADES = 250\n",
    "NUM_PORTFOLIOS = 40\n",
    "NUM_POSITIONS = 100\n",
    "NUM_CASH_ACCOUNTS = 50"
   ]
  },
  {
   "cell_type": "code",
   "execution_count": 5,
   "id": "b433dbd1-0fc7-4f19-a8a4-197712736ca3",
   "metadata": {},
   "outputs": [],
   "source": [
    "# We'll define small sets for code logic\n",
    "ORDER_TYPES = [\"Market\", \"Limit\", \"Stop\"]\n",
    "ORDER_STATUS_OPTIONS = [\"Open\", \"PartiallyFilled\", \"Filled\", \"Cancelled\"]\n",
    "ORDER_SIDES = [\"Buy\", \"Sell\"]\n",
    "TIME_IN_FORCE_OPTS = [\"DAY\", \"GTC\"]\n",
    "\n",
    "INSTRUMENT_TYPES = [\"Equity\", \"ETF\"]\n",
    "TICK_SIZE_OPTIONS = [0.01, 0.001]  # approximate\n",
    "COUNTRIES = [\"USA\", \"Canada\", \"UK\", \"Germany\", \"Japan\"]\n",
    "\n",
    "# RULE from CommissionPlan: rate < 0.05\n",
    "commission_plans = []\n",
    "for i in range(NUM_COMM_PLANS):\n",
    "    rate = round(random.uniform(0.0001, 0.05), 4)  # ensures commissionRate is >0 and <0.05\n",
    "    commission_plans.append({\n",
    "        \"id\": f\"plan_{i}\",\n",
    "        \"planName\": fake.bs(),\n",
    "        \"commissionRate\": rate\n",
    "    })"
   ]
  },
  {
   "cell_type": "code",
   "execution_count": 6,
   "id": "4f21a924-fde1-4a12-b9f0-e293248070e6",
   "metadata": {},
   "outputs": [],
   "source": [
    "# 1 Generate Investors\n",
    "investor_types = [\"Retail\", \"Institutional\"]\n",
    "investors = []\n",
    "for i in range(NUM_INVESTORS):\n",
    "    investors.append({\n",
    "        \"id\": f\"inv_{i}\",\n",
    "        \"investorName\": fake.name(),\n",
    "        \"investorType\": random.choice(investor_types)\n",
    "    })"
   ]
  },
  {
   "cell_type": "code",
   "execution_count": 7,
   "id": "373cef5d-accc-4f16-817b-90ea00316aa2",
   "metadata": {},
   "outputs": [],
   "source": [
    "# 2 Generate Brokers\n",
    "brokers = []\n",
    "for i in range(NUM_BROKERS):\n",
    "    # randomly choose a CommissionPlan\n",
    "    plan = random.choice(commission_plans)\n",
    "    brokers.append({\n",
    "        \"id\": f\"broker_{i}\",\n",
    "        \"brokerName\": fake.company() + \" Brokerage\",\n",
    "        \"brokerLicenseID\": f\"BR-{random.randint(1000,9999)}\",\n",
    "        \"commissionPlanID\": plan[\"id\"]\n",
    "    })"
   ]
  },
  {
   "cell_type": "code",
   "execution_count": 8,
   "id": "471ec69d-887d-4aaa-a7d0-61b61e770347",
   "metadata": {},
   "outputs": [],
   "source": [
    "# 3 Generate Exchanges\n",
    "exchanges = []\n",
    "for i in range(NUM_EXCHANGES):\n",
    "    exchanges.append({\n",
    "        \"id\": f\"exch_{i}\",\n",
    "        \"exchangeName\": fake.company() + \" Exchange\",\n",
    "        \"country\": random.choice(COUNTRIES)\n",
    "    })"
   ]
  },
  {
   "cell_type": "code",
   "execution_count": 9,
   "id": "3a409b80-7c47-4aa8-bf2e-f8d26f9cc966",
   "metadata": {},
   "outputs": [],
   "source": [
    "# 4 Generate Financial Instruments\n",
    "instruments = []\n",
    "for i in range(NUM_INSTRUMENTS):\n",
    "    sym = \"\".join(random.choices(\"ABCDEFGHIJKLMNOPQRSTUVWXYZ\", k=3)) + str(random.randint(10,99))\n",
    "    instruments.append({\n",
    "        \"id\": f\"instr_{i}\",\n",
    "        \"symbol\": sym,\n",
    "        \"description\": fake.catch_phrase(),\n",
    "        \"tickSize\": random.choice(TICK_SIZE_OPTIONS),\n",
    "        \"instrumentType\": random.choice(INSTRUMENT_TYPES)\n",
    "    })"
   ]
  },
  {
   "cell_type": "code",
   "execution_count": 10,
   "id": "6ab88485-23c3-41f6-a95f-155fdde1ee70",
   "metadata": {},
   "outputs": [],
   "source": [
    "# 5 Generate Portfolios\n",
    "portfolios = []\n",
    "for i in range(NUM_PORTFOLIOS):\n",
    "    inv = random.choice(investors)\n",
    "    portfolios.append({\n",
    "        \"id\": f\"port_{i}\",\n",
    "        \"portfolioID\": f\"PORT-{i}\",\n",
    "        \"portfolioName\": inv[\"investorName\"] + \"'s Portfolio\",\n",
    "        \"investorID\": inv[\"id\"]\n",
    "    })"
   ]
  },
  {
   "cell_type": "code",
   "execution_count": 11,
   "id": "919c3dfc-f987-414a-8c34-755b7e8647be",
   "metadata": {},
   "outputs": [],
   "source": [
    "# 6 Generate Positions\n",
    "positions = []\n",
    "for i in range(NUM_POSITIONS):\n",
    "    port = random.choice(portfolios)\n",
    "    instr = random.choice(instruments)\n",
    "    # negative quantity -> short\n",
    "    quantity = random.randint(-300, 1000)\n",
    "    avg_cost = round(random.uniform(1, 2000), 2)\n",
    "    positions.append({\n",
    "        \"id\": f\"pos_{i}\",\n",
    "        \"portfolioID\": port[\"id\"],\n",
    "        \"instrumentID\": instr[\"id\"],\n",
    "        \"averageCost\": avg_cost,\n",
    "        \"currentQuantity\": quantity\n",
    "    })"
   ]
  },
  {
   "cell_type": "code",
   "execution_count": 12,
   "id": "d33b88ed-1a58-4781-be6e-4cb0b9b960a3",
   "metadata": {},
   "outputs": [],
   "source": [
    "# 7 Generate CashAccounts\n",
    "cash_accounts = []\n",
    "for i in range(NUM_CASH_ACCOUNTS):\n",
    "    inv = random.choice(investors)\n",
    "    bal = round(random.uniform(500.0, 100000.0), 2)\n",
    "    cash_accounts.append({\n",
    "        \"id\": f\"cash_{i}\",\n",
    "        \"accountID\": f\"CASH-{i}\",\n",
    "        \"balance\": bal,\n",
    "        \"belongsToInvestorID\": inv[\"id\"]  # or None if we want broker accounts\n",
    "    })"
   ]
  },
  {
   "cell_type": "code",
   "execution_count": 13,
   "id": "ece32490-3084-4bf0-8a41-4f9ad5d5eb0a",
   "metadata": {},
   "outputs": [],
   "source": [
    "# 8 Generate Orders\n",
    "orders = []\n",
    "for i in range(NUM_ORDERS):\n",
    "    inv = random.choice(investors)\n",
    "    # ~80% of orders have a broker, ~20% self-directed\n",
    "    maybe_broker = random.choice(brokers) if random.random() < 0.8 else None\n",
    "    exch = random.choice(exchanges)\n",
    "    instr = random.choice(instruments)\n",
    "\n",
    "    otype = random.choice(ORDER_TYPES)\n",
    "    side = random.choice(ORDER_SIDES)\n",
    "    qty = random.randint(10, 1000)\n",
    "    dt_created = fake.date_time_between(start_date='-1y', end_date='now')\n",
    "\n",
    "    # RULE 1 & RULE 2: If orderType=Limit => limitPrice != None, else limitPrice=None\n",
    "    limit_px = None\n",
    "    if otype == \"Limit\":\n",
    "        limit_px = round(random.uniform(5, 500), 2)\n",
    "\n",
    "    # pick a random status\n",
    "    status = random.choice(ORDER_STATUS_OPTIONS)\n",
    "    # We'll note partial fill logic in trades. For now, we just pick a status.\n",
    "\n",
    "    # Create the order\n",
    "    order_data = {\n",
    "        \"id\": f\"ord_{i}\",\n",
    "        \"orderID\": f\"ORD-{random.randint(100000,999999)}\",\n",
    "        \"orderType\": otype,\n",
    "        \"side\": side,\n",
    "        \"quantity\": qty,\n",
    "        \"limitPrice\": limit_px,  # If Market -> should be None\n",
    "        \"timeInForce\": random.choice(TIME_IN_FORCE_OPTS),\n",
    "        \"status\": status,\n",
    "        \"creationDateTime\": dt_created.isoformat(),\n",
    "        \"investorID\": inv[\"id\"],\n",
    "        \"brokerID\": maybe_broker[\"id\"] if maybe_broker else None,\n",
    "        \"exchangeID\": exch[\"id\"],\n",
    "        \"instrumentID\": instr[\"id\"]\n",
    "    }\n",
    "    orders.append(order_data)"
   ]
  },
  {
   "cell_type": "code",
   "execution_count": 14,
   "id": "97097160-6a6e-4ab7-b55f-1d91411e5de8",
   "metadata": {},
   "outputs": [],
   "source": [
    "# 9 Generate Trades\n",
    "# We'll attempt to respect partial/fill logic: \n",
    "# If status='Filled', sum of trades == quantity\n",
    "# If 'PartiallyFilled', sum(trades) < quantity, etc.\n",
    "trades = []\n",
    "order_fills_map = {}  # track how many shares filled so far\n",
    "\n",
    "def create_trades_for_order(order_obj, trades_list, trade_count):\n",
    "    \"\"\"Generate trades for a single order, respecting rule 3 & 4 about sums of trade quantities vs. order qty.\"\"\"\n",
    "    filled_so_far = 0\n",
    "    order_qty = order_obj[\"quantity\"]\n",
    "    order_status = order_obj[\"status\"]\n",
    "    # we choose how many trades we create\n",
    "    if order_status in [\"Filled\", \"PartiallyFilled\"]:\n",
    "        # create 1-3 trades if partial/filled\n",
    "        n_trades = random.randint(1,3)\n",
    "        for _ in range(n_trades):\n",
    "            remain = order_qty - filled_so_far\n",
    "            if remain <= 0:\n",
    "                break\n",
    "            # pick a portion\n",
    "            portion = random.randint(1, remain)\n",
    "            price = round(random.uniform(5, 500), 2)  # ignoring tickSize for simplicity\n",
    "            dt = fake.date_time_between_dates(datetime_start=datetime.fromisoformat(order_obj[\"creationDateTime\"]),\n",
    "                                              datetime_end=datetime.now())\n",
    "            trade_id = f\"TR-{random.randint(100000,999999)}\"\n",
    "            trades_list.append({\n",
    "                \"id\": f\"trade_{trade_count[0]}\",\n",
    "                \"tradeID\": trade_id,\n",
    "                \"orderID\": order_obj[\"id\"],\n",
    "                \"price\": price,\n",
    "                \"quantity\": portion,\n",
    "                \"tradeDateTime\": dt.isoformat()\n",
    "            })\n",
    "            filled_so_far += portion\n",
    "            trade_count[0] += 1\n",
    "\n",
    "        # now check if we match the status:\n",
    "        # If status = Filled, ideally filled_so_far == order_qty\n",
    "        # If status = PartiallyFilled, filled_so_far < order_qty\n",
    "        if order_status == \"Filled\" and filled_so_far < order_qty:\n",
    "            # force a final trade to top it up\n",
    "            remain = order_qty - filled_so_far\n",
    "            price = round(random.uniform(5, 500), 2)\n",
    "            dt = fake.date_time_between_dates(datetime_start=datetime.fromisoformat(order_obj[\"creationDateTime\"]),\n",
    "                                              datetime_end=datetime.now())\n",
    "            trades_list.append({\n",
    "                \"id\": f\"trade_{trade_count[0]}\",\n",
    "                \"tradeID\": f\"TR-{random.randint(100000,999999)}\",\n",
    "                \"orderID\": order_obj[\"id\"],\n",
    "                \"price\": price,\n",
    "                \"quantity\": remain,\n",
    "                \"tradeDateTime\": dt.isoformat()\n",
    "            })\n",
    "            filled_so_far += remain\n",
    "            trade_count[0] += 1\n",
    "\n",
    "    elif order_status in [\"Open\", \"Cancelled\"]:\n",
    "        # RULE 5: sum of trades should be 0 or less than quantity\n",
    "        # We'll skip creating trades or create 0 trades for Open/Cancelled\n",
    "        pass\n",
    "\n",
    "trade_counter = [0]\n",
    "for ord_obj in orders:\n",
    "    create_trades_for_order(ord_obj, trades, trade_counter)"
   ]
  },
  {
   "cell_type": "code",
   "execution_count": 15,
   "id": "a4555189-c057-4251-b71a-53b328bcc2d5",
   "metadata": {},
   "outputs": [
    {
     "name": "stdout",
     "output_type": "stream",
     "text": [
      "\n",
      "--- Generated Entities ---\n",
      "\n",
      "CommissionPlans: 6\n",
      "Investors: 30\n",
      "Brokers: 15\n",
      "Exchanges: 8\n",
      "Instruments: 80\n",
      "Orders: 150\n",
      "Trades: 184\n",
      "Portfolios: 40\n",
      "Positions: 100\n",
      "CashAccounts: 50\n"
     ]
    }
   ],
   "source": [
    "# Summaries\n",
    "print(\"\\n--- Generated Entities ---\\n\")\n",
    "print(\"CommissionPlans:\", len(commission_plans))\n",
    "print(\"Investors:\", len(investors))\n",
    "print(\"Brokers:\", len(brokers))\n",
    "print(\"Exchanges:\", len(exchanges))\n",
    "print(\"Instruments:\", len(instruments))\n",
    "print(\"Orders:\", len(orders))\n",
    "print(\"Trades:\", len(trades))\n",
    "print(\"Portfolios:\", len(portfolios))\n",
    "print(\"Positions:\", len(positions))\n",
    "print(\"CashAccounts:\", len(cash_accounts))"
   ]
  },
  {
   "cell_type": "code",
   "execution_count": 16,
   "id": "a575cbed-12a3-47ce-94dc-606e22d6e6b2",
   "metadata": {},
   "outputs": [
    {
     "name": "stdout",
     "output_type": "stream",
     "text": [
      "\n",
      "--- Samples ---\n",
      "\n",
      "Sample CommissionPlan: {'id': 'plan_0', 'planName': 'engineer cross-media experiences', 'commissionRate': 0.0186}\n",
      "Sample Investor: {'id': 'inv_0', 'investorName': 'Christopher Sanchez', 'investorType': 'Retail'}\n",
      "Sample Broker: {'id': 'broker_0', 'brokerName': 'Austin, Smith and Walton Brokerage', 'brokerLicenseID': 'BR-1818', 'commissionPlanID': 'plan_4'}\n",
      "Sample Exchange: {'id': 'exch_0', 'exchangeName': 'Baker, Rodriguez and Reyes Exchange', 'country': 'Germany'}\n",
      "Sample Instrument: {'id': 'instr_0', 'symbol': 'VHE37', 'description': 'Integrated fresh-thinking hierarchy', 'tickSize': 0.01, 'instrumentType': 'Equity'}\n",
      "Sample Order: {'id': 'ord_0', 'orderID': 'ORD-619957', 'orderType': 'Limit', 'side': 'Buy', 'quantity': 721, 'limitPrice': 87.16, 'timeInForce': 'GTC', 'status': 'PartiallyFilled', 'creationDateTime': '2024-04-06T01:25:56', 'investorID': 'inv_12', 'brokerID': None, 'exchangeID': 'exch_3', 'instrumentID': 'instr_64'}\n",
      "Sample Trade: {'id': 'trade_0', 'tradeID': 'TR-719877', 'orderID': 'ord_0', 'price': 86.65, 'quantity': 594, 'tradeDateTime': '2024-07-18T00:27:06'}\n",
      "Sample Portfolio: {'id': 'port_0', 'portfolioID': 'PORT-0', 'portfolioName': \"Kaitlin Duke's Portfolio\", 'investorID': 'inv_11'}\n",
      "Sample Position: {'id': 'pos_0', 'portfolioID': 'port_27', 'instrumentID': 'instr_7', 'averageCost': 167.82, 'currentQuantity': 477}\n",
      "Sample CashAccount: {'id': 'cash_0', 'accountID': 'CASH-0', 'balance': 77420.25, 'belongsToInvestorID': 'inv_23'}\n"
     ]
    }
   ],
   "source": [
    "# Show some sample data\n",
    "print(\"\\n--- Samples ---\\n\")\n",
    "print(\"Sample CommissionPlan:\", commission_plans[0] if commission_plans else None)\n",
    "print(\"Sample Investor:\", investors[0])\n",
    "print(\"Sample Broker:\", brokers[0])\n",
    "print(\"Sample Exchange:\", exchanges[0])\n",
    "print(\"Sample Instrument:\", instruments[0])\n",
    "print(\"Sample Order:\", orders[0])\n",
    "print(\"Sample Trade:\", trades[0] if trades else None)\n",
    "print(\"Sample Portfolio:\", portfolios[0])\n",
    "print(\"Sample Position:\", positions[0])\n",
    "print(\"Sample CashAccount:\", cash_accounts[0])"
   ]
  },
  {
   "cell_type": "code",
   "execution_count": 17,
   "id": "201047b5-0d0b-483f-a9fa-059f7ab9b4d4",
   "metadata": {},
   "outputs": [],
   "source": [
    "# persist the data\n",
    "pd.DataFrame(commission_plans).to_csv(data_path+\"commission_plans.csv\", encoding = \"utf-8\", escapechar = \"\\\"\", index=False)\n",
    "pd.DataFrame(investors).to_csv(data_path+\"investors.csv\", encoding = \"utf-8\", escapechar = \"\\\"\", index=False)\n",
    "pd.DataFrame(brokers).to_csv(data_path+\"brokers.csv\", encoding = \"utf-8\", escapechar = \"\\\"\", index=False)\n",
    "pd.DataFrame(exchanges).to_csv(data_path+\"exchanges.csv\", encoding = \"utf-8\", escapechar = \"\\\"\", index=False)\n",
    "pd.DataFrame(instruments).to_csv(data_path+\"instruments.csv\", encoding = \"utf-8\", escapechar = \"\\\"\", index=False)\n",
    "pd.DataFrame(orders).to_csv(data_path+\"orders.csv\", encoding = \"utf-8\", escapechar = \"\\\"\", index=False)\n",
    "pd.DataFrame(portfolios).to_csv(data_path+\"portfolios.csv\", encoding = \"utf-8\", escapechar = \"\\\"\", index=False)\n",
    "pd.DataFrame(positions).to_csv(data_path+\"positions.csv\", encoding = \"utf-8\", escapechar = \"\\\"\", index=False)\n",
    "pd.DataFrame(cash_accounts).to_csv(data_path+\"cash_accounts.csv\", encoding = \"utf-8\", escapechar = \"\\\"\", index=False)"
   ]
  },
  {
   "cell_type": "code",
   "execution_count": null,
   "id": "eca3e6b4-c9a7-4e8a-98ac-c9a55759b2c9",
   "metadata": {},
   "outputs": [],
   "source": []
  }
 ],
 "metadata": {
  "kernelspec": {
   "display_name": "Python 3 (ipykernel)",
   "language": "python",
   "name": "python3"
  },
  "language_info": {
   "codemirror_mode": {
    "name": "ipython",
    "version": 3
   },
   "file_extension": ".py",
   "mimetype": "text/x-python",
   "name": "python",
   "nbconvert_exporter": "python",
   "pygments_lexer": "ipython3",
   "version": "3.11.7"
  }
 },
 "nbformat": 4,
 "nbformat_minor": 5
}
