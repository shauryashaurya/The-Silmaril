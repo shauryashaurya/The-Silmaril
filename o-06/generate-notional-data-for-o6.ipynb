{
 "cells": [
  {
   "cell_type": "markdown",
   "id": "73e416d0-3417-495a-8fa9-34b9bd2563fb",
   "metadata": {},
   "source": [
    "# Ontology #6: Manufacturing Domain"
   ]
  },
  {
   "cell_type": "markdown",
   "id": "89909f29-beb5-4863-882f-8423a62177e3",
   "metadata": {},
   "source": [
    "## Approach"
   ]
  },
  {
   "cell_type": "markdown",
   "id": "9ae36770-3017-47e0-9235-89cd505c4e1c",
   "metadata": {},
   "source": [
    "### Main Classes \n",
    "\n",
    "1. **ManufacturingPlant**  \n",
    "2. **ProductionLine**  \n",
    "3. **Machine**  \n",
    "4. **Operator**  \n",
    "5. **Material**  \n",
    "6. **Product**  \n",
    "7. **WorkOrder**  \n",
    "8. **QualityInspection**  \n",
    "\n",
    "*(We also briefly mentioned relationships like Machine↔Operator or WorkOrder↔ProductionLine↔Material↔Product, etc.)*\n",
    "\n",
    "### Logical Generation Sequence & Reasoning\n",
    "\n",
    "1. **ManufacturingPlant**  \n",
    "   - Top-level entity: each plant is a broad location/facility.  \n",
    "   - Doesn’t reference other classes (independent).  \n",
    "   - ProductionLines will later reference a plant ID.\n",
    "\n",
    "2. **ProductionLine**  \n",
    "   - Each line belongs to a **ManufacturingPlant** (via `hasProductionLine` or a `plantID` field).  \n",
    "   - So we create plants first, then production lines can store `plantID`.\n",
    "\n",
    "3. **Machine**  \n",
    "   - Typically assigned to a specific **ProductionLine** (we have a field like `lineID`).  \n",
    "   - Therefore, lines must exist first.  \n",
    "   - Also we link each Machine to one or more **Operators** (in the sample code, we store `operatorIDs[]`). Because we might randomly select operators, we could create **Operators** either before or after Machines, but typically we do Operators first in practice.  \n",
    "\n",
    "   *However*, in many sample scripts, we see Machines come before Operators, then do a “machine ↔ operator” link. Or we do Operators first, then assign them to Machines.  \n",
    "   - Either is valid, but if Machines store operator references, **Operators** must exist first if you want to pick from actual operator IDs. Alternatively, you can do a two-phase approach.\n",
    "\n",
    "4. **Operator**  \n",
    "   - Skilled worker who runs machines. In some code, Operators are created first so the `Machines` can link to them. In others, we create Machines first, then do a separate pass to link each machine to random operators.  \n",
    "   - For simplicity, many code examples place Operators **before** Machines or **after**. It depends on how you define references.  \n",
    "\n",
    "   **Typical approach**:  \n",
    "   - If we store `Machine.operatorIDs[]`, then we want Operators first.  \n",
    "   - Or if we store `Operator.machineIDs[]`, then we want Machines first.  \n",
    "   In the provided sample code, we had a step “Link Operators to Machines in a many-to-many approach,” which can occur after both sets are created.  \n",
    "\n",
    "5. **Material**  \n",
    "   - Usually independent: “Raw” or “Semi-Finished” materials.  \n",
    "   - Must exist before we create **WorkOrders** that “consumesMaterial” or references them.  \n",
    "\n",
    "6. **Product**  \n",
    "   - Often we track final goods (or subassemblies).  \n",
    "   - Must exist before a **WorkOrder** states which product is being produced.\n",
    "\n",
    "7. **WorkOrder**  \n",
    "   - Each WorkOrder typically references:  \n",
    "     - A **ProductionLine** (where it is scheduled),  \n",
    "     - **Material**(s) it consumes,  \n",
    "     - **Product** it produces,  \n",
    "     - Possibly **Machine** or **Operator** info.  \n",
    "   - So lines, materials, and products must exist before we build a WorkOrder.\n",
    "\n",
    "8. **QualityInspection**  \n",
    "   - Typically references a **WorkOrder** plus an **Operator** who performed the inspection.  \n",
    "   - So it must come after WorkOrders (and Operators) exist.  \n",
    "\n",
    "### Putting It All Together\n",
    "\n",
    "A **common** approach is:\n",
    "\n",
    "1. **ManufacturingPlant** (foundation)  \n",
    "2. **ProductionLine** (links to plant)  \n",
    "3. **Operators** (independent “worker” records)  \n",
    "4. **Machines** (each assigned to a line, plus referencing operators if we do that linking now)  \n",
    "5. **Materials** (raw or semi-finished)  \n",
    "6. **Product** (final goods or sub-assemblies)  \n",
    "7. **WorkOrder** (consumes materials, produces product, assigned to a production line, might reference operators/machines for scheduling)  \n",
    "8. **QualityInspection** (references an operator performing the inspection, and the work order inspected)\n",
    "\n",
    "*(If the code stores “operatorIDs[]” in each machine, then we typically need **Operators** prior to **Machines**. If we do it the other way, we can store “machineIDs[]” in each operator. The key is to have **both** classes generated by the time you link them.)*"
   ]
  },
  {
   "cell_type": "markdown",
   "id": "6eef3de9-ecea-461f-b338-1584d7d2e5fc",
   "metadata": {},
   "source": [
    "## Implementation"
   ]
  },
  {
   "cell_type": "code",
   "execution_count": 1,
   "id": "6e7eb68e-3b93-4725-82d4-50f0aab846ff",
   "metadata": {},
   "outputs": [],
   "source": [
    "import random\n",
    "import pandas as pd\n",
    "from faker import Faker\n",
    "from datetime import timedelta, datetime  # Import datetime"
   ]
  },
  {
   "cell_type": "code",
   "execution_count": 2,
   "id": "502ffda3-5521-4b3a-bd4c-257dca5902c4",
   "metadata": {},
   "outputs": [],
   "source": [
    "data_path = \"./data/\""
   ]
  },
  {
   "cell_type": "code",
   "execution_count": 3,
   "id": "e0add317-644b-4301-ad1c-52db010a15a6",
   "metadata": {},
   "outputs": [],
   "source": [
    "fake = Faker()"
   ]
  },
  {
   "cell_type": "code",
   "execution_count": 4,
   "id": "3418f786-1aad-4935-bacb-13460985ef9d",
   "metadata": {},
   "outputs": [],
   "source": [
    "# Configuration\n",
    "\n",
    "NUM_PLANTS = 10\n",
    "NUM_LINES = 30\n",
    "NUM_MACHINES = 50\n",
    "NUM_OPERATORS = 40\n",
    "NUM_MATERIALS = 60\n",
    "NUM_PRODUCTS = 40\n",
    "NUM_WORKORDERS = 80\n",
    "NUM_INSPECTIONS = 70"
   ]
  },
  {
   "cell_type": "code",
   "execution_count": 5,
   "id": "228c9c96-f79c-4a10-975d-ec9d9e6b565d",
   "metadata": {},
   "outputs": [],
   "source": [
    "# 1. Generate ManufacturingPlants\n",
    "plants = []\n",
    "for i in range(NUM_PLANTS):\n",
    "    plants.append({\n",
    "        \"id\": f\"plant_{i}\",\n",
    "        \"plantName\": fake.company() + \" Plant\",\n",
    "        \"location\": fake.city()\n",
    "    })"
   ]
  },
  {
   "cell_type": "code",
   "execution_count": 6,
   "id": "1a6dd154-575a-4eb7-87ea-19f90df91fdd",
   "metadata": {},
   "outputs": [],
   "source": [
    "# 2. Generate ProductionLines\n",
    "# Each line belongs to one plant\n",
    "lines = []\n",
    "for i in range(NUM_LINES):\n",
    "    plant = random.choice(plants)\n",
    "    lines.append({\n",
    "        \"id\": f\"line_{i}\",\n",
    "        \"lineName\": f\"Line_{i}_{fake.word()}\",\n",
    "        \"capacity\": random.randint(50, 500),  # units/day\n",
    "        \"plantID\": plant[\"id\"]\n",
    "    })"
   ]
  },
  {
   "cell_type": "code",
   "execution_count": 7,
   "id": "3b99ab18-a113-4f1f-9cee-1e36ffd16de0",
   "metadata": {},
   "outputs": [],
   "source": [
    "# 3. Generate Machines\n",
    "machine_types = [\"Cutting\", \"Assembly\", \"Packaging\", \"Welding\", \"Pressing\"]\n",
    "machines = []\n",
    "for i in range(NUM_MACHINES):\n",
    "    line = random.choice(lines)\n",
    "    mtype = random.choice(machine_types)\n",
    "    # maintenance due ~ next 6 months\n",
    "    due_date = datetime.today() + timedelta(days=random.randint(0, 180))\n",
    "    machines.append({\n",
    "        \"id\": f\"machine_{i}\",\n",
    "        \"machineName\": f\"{mtype}Machine_{i}\",\n",
    "        \"machineType\": mtype,\n",
    "        \"maintenanceDueDate\": due_date.isoformat(),\n",
    "        \"lineID\": line[\"id\"]\n",
    "    })"
   ]
  },
  {
   "cell_type": "code",
   "execution_count": 8,
   "id": "7f6717d3-f112-4043-ab65-01defeb0d465",
   "metadata": {},
   "outputs": [],
   "source": [
    "# 4. Generate Operators\n",
    "skill_levels = [\"Beginner\", \"Intermediate\", \"Expert\"]\n",
    "operators = []\n",
    "for i in range(NUM_OPERATORS):\n",
    "    operators.append({\n",
    "        \"id\": f\"operator_{i}\",\n",
    "        \"operatorName\": fake.name(),\n",
    "        \"skillLevel\": random.choice(skill_levels),\n",
    "        \"hireDate\": fake.date_between(start_date='-5y', end_date='today').isoformat()\n",
    "    })\n",
    "\n",
    "# Link Operators to Machines in a many-to-many approach\n",
    "# We'll store the \"operatedBy -> Operator\" in a separate structure or as a list\n",
    "machine_operator_links = []\n",
    "for m in machines:\n",
    "    # each machine can have 1-3 operators\n",
    "    num_ops = random.randint(1, 3)\n",
    "    assigned_ops = random.sample(operators, k=num_ops)\n",
    "    # store\n",
    "    m[\"operatorIDs\"] = [op[\"id\"] for op in assigned_ops]"
   ]
  },
  {
   "cell_type": "code",
   "execution_count": 9,
   "id": "5d368da7-9b04-4d65-aa74-14a2c9ed9bb9",
   "metadata": {},
   "outputs": [],
   "source": [
    "# 5. Generate Materials\n",
    "material_types = [\"Raw\", \"Semi-Finished\"]\n",
    "material_names = [\"Steel Sheet\", \"Aluminum Rod\", \"Plastic Granules\", \"Wood Plank\", \"Copper Wire\", \"Rubber Block\", \"Glass Pane\"]\n",
    "materials = []\n",
    "for i in range(NUM_MATERIALS):\n",
    "    mat_name = random.choice(material_names)\n",
    "    mat_type = random.choice(material_types)\n",
    "    unit_cost = round(random.uniform(0.5, 50.0), 2)\n",
    "    materials.append({\n",
    "        \"id\": f\"material_{i}\",\n",
    "        \"materialName\": mat_name,\n",
    "        \"materialType\": mat_type,\n",
    "        \"unitCost\": unit_cost\n",
    "    })"
   ]
  },
  {
   "cell_type": "code",
   "execution_count": 10,
   "id": "2b84467e-aa21-4a67-9b98-bb4d9dd8fe08",
   "metadata": {},
   "outputs": [],
   "source": [
    "# 6. Generate Products\n",
    "product_names = [\"Widget A\", \"Gadget B\", \"Assembly X\", \"Component Y\", \"Part Z\", \"Device Q\"]\n",
    "products = []\n",
    "for i in range(NUM_PRODUCTS):\n",
    "    p_name = random.choice(product_names)\n",
    "    sku_val = f\"SKU-{random.randint(1000,9999)}\"\n",
    "    price = round(random.uniform(5.0, 200.0), 2)\n",
    "    products.append({\n",
    "        \"id\": f\"product_{i}\",\n",
    "        \"productName\": p_name,\n",
    "        \"sku\": sku_val,\n",
    "        \"price\": price\n",
    "    })"
   ]
  },
  {
   "cell_type": "code",
   "execution_count": 11,
   "id": "79786393-8c71-44f0-8450-65b775a1a3f2",
   "metadata": {},
   "outputs": [],
   "source": [
    "# 7. Generate WorkOrders\n",
    "status_options = [\"Scheduled\", \"In Progress\", \"Completed\", \"Cancelled\"]\n",
    "workOrders = []\n",
    "for i in range(NUM_WORKORDERS):\n",
    "    wo_num = f\"WO-{random.randint(1000,9999)}\"\n",
    "    qty = random.randint(10, 1000)\n",
    "    start = fake.date_between(start_date='-180d', end_date='today')\n",
    "    due = start + timedelta(days=random.randint(1, 60))\n",
    "    w_status = random.choice(status_options)\n",
    "    # pick a production line\n",
    "    line = random.choice(lines)\n",
    "    # pick 0-3 consumed materials\n",
    "    consumed_mat_ids = []\n",
    "    mat_count = random.randint(0,3)\n",
    "    if mat_count > 0:\n",
    "        consumed_mat_ids = [random.choice(materials)[\"id\"] for _ in range(mat_count)]\n",
    "    # pick 1 product\n",
    "    prod = random.choice(products)\n",
    "\n",
    "    workOrders.append({\n",
    "        \"id\": f\"wo_{i}\",\n",
    "        \"workOrderNumber\": wo_num,\n",
    "        \"quantity\": qty,\n",
    "        \"startDate\": start.isoformat(),\n",
    "        \"dueDate\": due.isoformat(),\n",
    "        \"status\": w_status,\n",
    "        \"lineID\": line[\"id\"],\n",
    "        \"materialIDs\": consumed_mat_ids,\n",
    "        \"productID\": prod[\"id\"]\n",
    "    })"
   ]
  },
  {
   "cell_type": "code",
   "execution_count": 12,
   "id": "bc785550-2f3a-4826-bac7-22e2ffd7032c",
   "metadata": {},
   "outputs": [],
   "source": [
    "# 8. Generate QualityInspections\n",
    "results = [\"Pass\", \"Fail\"]\n",
    "inspections = []\n",
    "for i in range(NUM_INSPECTIONS):\n",
    "    # choose random work order, operator\n",
    "    wo = random.choice(workOrders)\n",
    "    op = random.choice(operators)\n",
    "    date_of_inspection = fake.date_between(start_date=datetime.fromisoformat(wo[\"startDate\"]), end_date=datetime.fromisoformat(wo[\"dueDate\"]))\n",
    "    insp_result = random.choice(results)\n",
    "    insp_notes = fake.sentence(nb_words=6)\n",
    "\n",
    "    inspections.append({\n",
    "        \"id\": f\"inspection_{i}\",\n",
    "        \"inspectionDate\": date_of_inspection.isoformat(),\n",
    "        \"result\": insp_result,\n",
    "        \"notes\": insp_notes,\n",
    "        \"workOrderID\": wo[\"id\"],\n",
    "        \"operatorID\": op[\"id\"]\n",
    "    })"
   ]
  },
  {
   "cell_type": "code",
   "execution_count": 13,
   "id": "4e59fb6a-632c-42d2-a6d7-970c46df91df",
   "metadata": {},
   "outputs": [
    {
     "name": "stdout",
     "output_type": "stream",
     "text": [
      "ManufacturingPlants: 10\n",
      "ProductionLines: 30\n",
      "Machines: 50\n",
      "Operators: 40\n",
      "Materials: 60\n",
      "Products: 40\n",
      "WorkOrders: 80\n",
      "QualityInspections: 70 \n",
      "\n"
     ]
    }
   ],
   "source": [
    "# Print Summaries\n",
    "print(\"ManufacturingPlants:\", len(plants))\n",
    "print(\"ProductionLines:\", len(lines))\n",
    "print(\"Machines:\", len(machines))\n",
    "print(\"Operators:\", len(operators))\n",
    "print(\"Materials:\", len(materials))\n",
    "print(\"Products:\", len(products))\n",
    "print(\"WorkOrders:\", len(workOrders))\n",
    "print(\"QualityInspections:\", len(inspections), \"\\n\")"
   ]
  },
  {
   "cell_type": "code",
   "execution_count": 14,
   "id": "9d3b5c48-f182-437e-ae20-f9e65db057a7",
   "metadata": {},
   "outputs": [
    {
     "name": "stdout",
     "output_type": "stream",
     "text": [
      "Sample Plant: {'id': 'plant_0', 'plantName': 'Morris-Casey Plant', 'location': 'East Angela'}\n",
      "Sample ProductionLine: {'id': 'line_0', 'lineName': 'Line_0_make', 'capacity': 327, 'plantID': 'plant_7'}\n",
      "Sample Machine: {'id': 'machine_0', 'machineName': 'CuttingMachine_0', 'machineType': 'Cutting', 'maintenanceDueDate': '2025-05-19T15:15:56.579559', 'lineID': 'line_28', 'operatorIDs': ['operator_36']}\n",
      "Sample Operator: {'id': 'operator_0', 'operatorName': 'Jane Morgan', 'skillLevel': 'Expert', 'hireDate': '2024-03-03'}\n",
      "Sample Material: {'id': 'material_0', 'materialName': 'Steel Sheet', 'materialType': 'Semi-Finished', 'unitCost': 28.17}\n",
      "Sample Product: {'id': 'product_0', 'productName': 'Widget A', 'sku': 'SKU-5801', 'price': 144.95}\n",
      "Sample WorkOrder: {'id': 'wo_0', 'workOrderNumber': 'WO-2916', 'quantity': 145, 'startDate': '2024-12-21', 'dueDate': '2025-01-07', 'status': 'Completed', 'lineID': 'line_26', 'materialIDs': ['material_12', 'material_9', 'material_46'], 'productID': 'product_33'}\n",
      "Sample QualityInspection: {'id': 'inspection_0', 'inspectionDate': '2024-10-20', 'result': 'Pass', 'notes': 'Remember white color letter cultural speech.', 'workOrderID': 'wo_38', 'operatorID': 'operator_0'}\n"
     ]
    }
   ],
   "source": [
    "# Print sample data\n",
    "print(\"Sample Plant:\", plants[0])\n",
    "print(\"Sample ProductionLine:\", lines[0])\n",
    "print(\"Sample Machine:\", machines[0])\n",
    "print(\"Sample Operator:\", operators[0])\n",
    "print(\"Sample Material:\", materials[0])\n",
    "print(\"Sample Product:\", products[0])\n",
    "print(\"Sample WorkOrder:\", workOrders[0])\n",
    "print(\"Sample QualityInspection:\", inspections[0])"
   ]
  },
  {
   "cell_type": "code",
   "execution_count": 15,
   "id": "201047b5-0d0b-483f-a9fa-059f7ab9b4d4",
   "metadata": {},
   "outputs": [],
   "source": [
    "# persist the data\n",
    "pd.DataFrame(plants).to_csv(data_path+\"plants.csv\", encoding = \"utf-8\", escapechar = \"\\\"\", index=False)\n",
    "pd.DataFrame(lines).to_csv(data_path+\"lines.csv\", encoding = \"utf-8\", escapechar = \"\\\"\", index=False)\n",
    "pd.DataFrame(machines).to_csv(data_path+\"machines.csv\", encoding = \"utf-8\", escapechar = \"\\\"\", index=False)\n",
    "pd.DataFrame(operators).to_csv(data_path+\"operators.csv\", encoding = \"utf-8\", escapechar = \"\\\"\", index=False)\n",
    "pd.DataFrame(materials).to_csv(data_path+\"materials.csv\", encoding = \"utf-8\", escapechar = \"\\\"\", index=False)\n",
    "pd.DataFrame(products).to_csv(data_path+\"products.csv\", encoding = \"utf-8\", escapechar = \"\\\"\", index=False)\n",
    "pd.DataFrame(workOrders).to_csv(data_path+\"work_orders.csv\", encoding = \"utf-8\", escapechar = \"\\\"\", index=False)\n",
    "pd.DataFrame(inspections).to_csv(data_path+\"inspections.csv\", encoding = \"utf-8\", escapechar = \"\\\"\", index=False)"
   ]
  },
  {
   "cell_type": "code",
   "execution_count": null,
   "id": "eca3e6b4-c9a7-4e8a-98ac-c9a55759b2c9",
   "metadata": {},
   "outputs": [],
   "source": []
  },
  {
   "cell_type": "markdown",
   "id": "a7c24650-e96b-4f71-9061-66aa7a3690cd",
   "metadata": {},
   "source": [
    "## Reviewing the **Intuition** behind the approach to creating sample data\n",
    "\n",
    "Creting data for these ontologies is getting more and more involved. So it's a good idea to review our approach again:  \n",
    "  \n",
    "- ***Top-level***: **ManufacturingPlant** is completely independent, so it’s created first.  \n",
    "- ***Next***: **ProductionLines** (each referencing an existing plant).  \n",
    "- **Operators** and **Machines** can be in either order if you store references in a second pass, but if the code is “Machine references operatorIDs,” you want Operators first.  \n",
    "- **Materials** and **Products** are typically independent of lines or operators, but needed before **WorkOrders** so we can assign them.  \n",
    "- **WorkOrders** reference lines, materials, products (and possibly operators), so it depends on all those existing.  \n",
    "- **QualityInspection** references a **WorkOrder** plus an **Operator**, so it’s typically last.  \n",
    "\n",
    "Thus the **logic** is consistent: start with **foundation** classes, then build up to **dependent** classes, ensuring each new item has valid references to existing data."
   ]
  },
  {
   "cell_type": "code",
   "execution_count": null,
   "id": "f77077aa-b9d8-4444-8287-15463ff82cdf",
   "metadata": {},
   "outputs": [],
   "source": []
  },
  {
   "cell_type": "code",
   "execution_count": null,
   "id": "d011c53c-0d55-4fc2-bdfb-4a76b24508e8",
   "metadata": {},
   "outputs": [],
   "source": []
  }
 ],
 "metadata": {
  "kernelspec": {
   "display_name": "Python 3 (ipykernel)",
   "language": "python",
   "name": "python3"
  },
  "language_info": {
   "codemirror_mode": {
    "name": "ipython",
    "version": 3
   },
   "file_extension": ".py",
   "mimetype": "text/x-python",
   "name": "python",
   "nbconvert_exporter": "python",
   "pygments_lexer": "ipython3",
   "version": "3.11.7"
  }
 },
 "nbformat": 4,
 "nbformat_minor": 5
}
