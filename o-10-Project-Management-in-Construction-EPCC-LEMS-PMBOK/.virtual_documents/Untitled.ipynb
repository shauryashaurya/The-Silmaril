# Import necessary libraries
import sys
import os
import pandas as pd
import plotly.io as pio

# Make sure the data_loader and resource_critical_path_analysis modules are in the path
# sys.path.append('../path/to/modules')  # Uncomment and adjust if modules are in a different directory

# Import the modules
from data_loader import load_project_data, prepare_project_hierarchy, calculate_project_metrics
from resource_critical_path_analysis import (
    initialize_data,
    analyze_resource_distribution,
    visualize_critical_path,
    visualize_resource_utilization_timeline,
    analyze_resource_bottlenecks,
    analyze_workstream_resource_efficiency,
    get_actionable_insights,
    run_specific_analysis
)

# Set Plotly to display figures in a browser if not in a notebook environment
pio.renderers.default = "browser"

def main():
    print("PMBOK/EPCC/LEMS Project Resource Analysis")
    print("========================================")
    
    # Initialize the data
    data, hierarchy, metrics = initialize_data()
    print(f"Data loaded successfully. Found {len(data['mega_projects'])} projects, {len(data['workstreams'])} workstreams, and {len(data['tasks'])} tasks.")
    
    # Display menu of available analyses
    while True:
        print("\nAvailable analyses:")
        print("1. Resource Distribution Analysis")
        print("2. Critical Path Network Visualization")
        print("3. Resource Utilization Timeline")
        print("4. Resource Bottleneck Analysis") 
        print("5. WorkStream Resource Efficiency Analysis")
        print("6. Run All Analyses")
        print("7. Exit")
        
        choice = input("\nEnter your choice (1-7): ")
        
        if choice == '1':
            print("\nRunning Resource Distribution Analysis...")
            fig1, fig2, data = analyze_resource_distribution()
            print("Analysis complete. Displaying visualizations...")
            fig1.show()
            fig2.show()
            print("\nActionable Insights:")
            for i, insight in enumerate(get_actionable_insights()["resource_distribution"]):
                print(f"  {i+1}. {insight}")
        
        elif choice == '2':
            # Allow user to select a project
            projects = data['mega_projects']
            print("\nAvailable projects:")
            for i, (_, project) in enumerate(projects.iterrows()):
                print(f"  {i+1}. {project['projectName']} (ID: {project['projectID']})")
            
            project_choice = input("\nEnter project number (or press Enter for first project): ")
            
            if project_choice.strip():
                project_idx = int(project_choice) - 1
                if 0 <= project_idx < len(projects):
                    project_id = projects.iloc[project_idx]['projectID']
                else:
                    print("Invalid project number. Using first project.")
                    project_id = projects.iloc[0]['projectID'] if not projects.empty else None
            else:
                project_id = projects.iloc[0]['projectID'] if not projects.empty else None
            
            print(f"\nVisualizing Critical Path for Project {project_id}...")
            fig = visualize_critical_path(project_id)
            print("Visualization complete. Displaying network graph...")
            fig.show()
            print("\nActionable Insights:")
            for i, insight in enumerate(get_actionable_insights()["critical_path"]):
                print(f"  {i+1}. {insight}")
        
        elif choice == '3':
            print("\nAnalyzing Resource Utilization Timeline...")
            fig = visualize_resource_utilization_timeline()
            print("Analysis complete. Displaying timeline visualization...")
            fig.show()
            print("\nActionable Insights:")
            for i, insight in enumerate(get_actionable_insights()["resource_timeline"]):
                print(f"  {i+1}. {insight}")
        
        elif choice == '4':
            print("\nAnalyzing Resource Bottlenecks...")
            fig, labor_bottlenecks, equipment_bottlenecks = analyze_resource_bottlenecks()
            print("Analysis complete. Displaying bottleneck visualization...")
            fig.show()
            
            print("\nTop Labor Bottlenecks:")
            for i, (_, row) in enumerate(labor_bottlenecks.iterrows()):
                print(f"  {i+1}. {row['date'].strftime('%Y-%m-%d')}: {row['total']} assignments")
            
            print("\nTop Equipment Bottlenecks:")
            for i, (_, row) in enumerate(equipment_bottlenecks.iterrows()):
                print(f"  {i+1}. {row['date'].strftime('%Y-%m-%d')}: {row['total']} assignments")
            
            print("\nActionable Insights:")
            for i, insight in enumerate(get_actionable_insights()["resource_bottlenecks"]):
                print(f"  {i+1}. {insight}")
        
        elif choice == '5':
            print("\nAnalyzing WorkStream Resource Efficiency...")
            fig, ws_data = analyze_workstream_resource_efficiency()
            print("Analysis complete. Displaying workstream efficiency visualization...")
            fig.show()
            
            print("\nTop 5 WorkStreams by Resource Count:")
            for i, (_, row) in enumerate(ws_data.head(5).iterrows()):
                print(f"  {i+1}. {row['workStreamName']}: {row['labor_count']} labor, " +
                      f"{row['equipment_count']} equipment, {row['material_count']} material")
            
            print("\nActionable Insights:")
            for i, insight in enumerate(get_actionable_insights()["workstream_efficiency"]):
                print(f"  {i+1}. {insight}")
        
        elif choice == '6':
            print("\nRunning all analyses sequentially...")
            
            # Resource Distribution
            print("\n1. Resource Distribution Analysis")
            fig1, fig2, _ = analyze_resource_distribution()
            fig1.show()
            fig2.show()
            
            # Critical Path (using first project)
            print("\n2. Critical Path Network Visualization")
            project_id = data['mega_projects']['projectID'].iloc[0] if not data['mega_projects'].empty else None
            fig = visualize_critical_path(project_id)
            fig.show()
            
            # Resource Timeline
            print("\n3. Resource Utilization Timeline")
            fig = visualize_resource_utilization_timeline()
            fig.show()
            
            # Resource Bottlenecks
            print("\n4. Resource Bottleneck Analysis")
            fig, _, _ = analyze_resource_bottlenecks()
            fig.show()
            
            # WorkStream Efficiency
            print("\n5. WorkStream Resource Efficiency Analysis")
            fig, _ = analyze_workstream_resource_efficiency()
            fig.show()
            
            print("\nAll analyses complete!")
        
        elif choice == '7':
            print("\nExiting program. Goodbye!")
            break
        
        else:
            print("\nInvalid choice. Please enter a number between 1 and 7.")


if __name__ == "__main__":
    main()



