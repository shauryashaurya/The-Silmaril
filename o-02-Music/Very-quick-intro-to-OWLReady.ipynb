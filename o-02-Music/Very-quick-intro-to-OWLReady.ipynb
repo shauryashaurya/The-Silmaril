{
 "cells": [
  {
   "cell_type": "markdown",
   "id": "6a5f12bf-d223-4194-9ce7-fd26857f86b4",
   "metadata": {},
   "source": [
    "# Playing with OWLready (`owlready2`)"
   ]
  },
  {
   "cell_type": "code",
   "execution_count": 1,
   "id": "fc76f0f2-7299-46c1-8c39-760399182e92",
   "metadata": {},
   "outputs": [],
   "source": [
    "# Install owlready2\n",
    "# !pip install owlready2"
   ]
  },
  {
   "cell_type": "code",
   "execution_count": 2,
   "id": "3d5a2b4b-3443-4880-a895-1f3fb6858f58",
   "metadata": {},
   "outputs": [],
   "source": [
    "# Import essential modules\n",
    "import datetime\n",
    "\n",
    "from owlready2 import *"
   ]
  },
  {
   "cell_type": "markdown",
   "id": "4762d7ec-481b-4322-80cb-19c754ae07e3",
   "metadata": {},
   "source": [
    "# Your First OWL Ontology"
   ]
  },
  {
   "cell_type": "code",
   "execution_count": 3,
   "id": "500dd280-13e4-4579-a9b2-649dc1964514",
   "metadata": {},
   "outputs": [],
   "source": [
    "# Create a new ontology\n",
    "onto = get_ontology(\"http://example.org/music.owl\")"
   ]
  },
  {
   "cell_type": "code",
   "execution_count": 4,
   "id": "96d6094a-6958-456a-a515-1a8b9d6efd1c",
   "metadata": {},
   "outputs": [],
   "source": [
    "# Define classes using Python class syntax\n",
    "with onto:\n",
    "\n",
    "    class Song(Thing):\n",
    "        pass\n",
    "\n",
    "    class Artist(Thing):\n",
    "        pass\n",
    "\n",
    "    # Define properties as Python properties\n",
    "    class performedBy(ObjectProperty):\n",
    "        domain = [Song]\n",
    "        range = [Artist]\n",
    "\n",
    "    class title(DataProperty):\n",
    "        domain = [Song]\n",
    "        range = [str]\n",
    "\n",
    "    class title(AnnotationProperty):\n",
    "        pass\n",
    "\n",
    "    class comment(AnnotationProperty):\n",
    "        pass"
   ]
  },
  {
   "cell_type": "code",
   "execution_count": 5,
   "id": "13ed25e2-b27c-4743-aab6-a4399b53c756",
   "metadata": {},
   "outputs": [],
   "source": [
    "# Create instances\n",
    "bohemian_rhapsody = Song(\"BohemianRhapsody\")\n",
    "queen = Artist(\"Queen\")"
   ]
  },
  {
   "cell_type": "code",
   "execution_count": 6,
   "id": "94e9f27d-72ab-4282-98ca-58e7f233148b",
   "metadata": {},
   "outputs": [],
   "source": [
    "# Set properties using Python assignment\n",
    "bohemian_rhapsody.title = [\"Bohemian Rhapsody\"]\n",
    "bohemian_rhapsody.performedBy = [queen]"
   ]
  },
  {
   "cell_type": "code",
   "execution_count": 7,
   "id": "53a0ba4b-87e3-4736-ac79-1c835bb924ca",
   "metadata": {},
   "outputs": [
    {
     "name": "stdout",
     "output_type": "stream",
     "text": [
      "Song: Bohemian Rhapsody\n",
      "Performed by: music.Queen\n"
     ]
    }
   ],
   "source": [
    "print(f\"Song: {bohemian_rhapsody.title[0]}\")\n",
    "print(f\"Performed by: {bohemian_rhapsody.performedBy[0]}\")"
   ]
  },
  {
   "cell_type": "code",
   "execution_count": 8,
   "id": "fe38828a-c82f-4acf-9a5c-1322ac8ae511",
   "metadata": {},
   "outputs": [],
   "source": [
    "# dir(onto)"
   ]
  },
  {
   "cell_type": "code",
   "execution_count": 9,
   "id": "a578035a-078c-4eb5-b4b0-5a056610ce2d",
   "metadata": {},
   "outputs": [],
   "source": [
    "# dir(bohemian_rhapsody)"
   ]
  },
  {
   "cell_type": "markdown",
   "id": "09e0335d-8ff7-41a7-8184-d5988fc333bb",
   "metadata": {},
   "source": [
    "# Namespaces"
   ]
  },
  {
   "cell_type": "code",
   "execution_count": 10,
   "id": "5c31adce-3686-43f7-8d8a-1c325666c48d",
   "metadata": {},
   "outputs": [
    {
     "name": "stdout",
     "output_type": "stream",
     "text": [
      "Ontology IRI: http://example.org/music.owl#\n",
      "All classes: [music.Song, music.Artist]\n",
      "All properties: [music.title, music.performedBy, music.comment]\n"
     ]
    }
   ],
   "source": [
    "# Set ontology metadata\n",
    "onto.metadata.title = [\"Music Ontology\"]\n",
    "onto.metadata.comment = [\"An ontology for music domain modeling\"]\n",
    "\n",
    "# Access the ontology's namespace\n",
    "print(f\"Ontology IRI: {onto.base_iri}\")\n",
    "print(f\"All classes: {list(onto.classes())}\")\n",
    "print(f\"All properties: {list(onto.properties())}\")"
   ]
  },
  {
   "cell_type": "markdown",
   "id": "24d92780-f50e-4e17-9dc3-a56fd1017630",
   "metadata": {},
   "source": [
    "## Sidebar - Merging 2 ontologies\n",
    "\n",
    "Skip in the first go...   \n",
    "...or maybe don't  \n",
    "_(ask the audience)_"
   ]
  },
  {
   "cell_type": "markdown",
   "id": "f5f82413-e764-4ee9-a7dd-b144e435e40f",
   "metadata": {},
   "source": [
    "Let's bring [FOAF - Friend Of A Friend - Ontoglogy](https://en.wikipedia.org/wiki/FOAF) into the mix.  \n",
    "\n",
    "Ref:  \n",
    "* [FOAF @ Linked Open Vocabularies](https://lov.linkeddata.es/dataset/lov/vocabs/foaf)\n",
    "* Interesting - [foafPub Dataset](https://ebiquity.umbc.edu/resource/html/id/82/)"
   ]
  },
  {
   "cell_type": "code",
   "execution_count": 11,
   "id": "0eca74a7-3719-45e3-a72f-952bd1f9cd3b",
   "metadata": {},
   "outputs": [
    {
     "name": "stdout",
     "output_type": "stream",
     "text": [
      "FOAF ontology loaded successfully\n",
      "FOAF classes:\n",
      "\tClass\n",
      "\tPerson\n",
      "\tPerson\n",
      "\tAgent\n",
      "\tAgent\n",
      "\tPerson\n",
      "\tSpatialThing\n",
      "\tDocument\n",
      "\tOrganization\n",
      "\tProject\n",
      "\tDocument\n",
      "\tOrganization\n",
      "\tGroup\n",
      "\tAgent-3\n",
      "\tProject\n",
      "\tImage\n",
      "\tPersonalProfileDocument\n",
      "\tOnlineAccount\n",
      "\tOnlineGamingAccount\n",
      "\tOnlineEcommerceAccount\n",
      "\tOnlineChatAccount\n",
      "FOAF properties:\n",
      "\tmbox_sha1sum\n",
      "\tgender\n",
      "\tgeekcode\n",
      "\tdnaChecksum\n",
      "\tsha1\n",
      "\ttitle\n",
      "\tnick\n",
      "\tjabberID\n",
      "\taimChatID\n",
      "\ticqChatID\n",
      "\tyahooChatID\n",
      "\tmsnChatID\n",
      "\tname\n",
      "\tfirstName\n",
      "\tgivenname\n",
      "\tsurname\n",
      "\tfamily_name\n",
      "\tplan\n",
      "\taccountName\n",
      "\tbirthday\n",
      "\tmbox\n",
      "\tbased_near\n",
      "\tphone\n",
      "\thomepage\n",
      "\tpage\n",
      "\tweblog\n",
      "\ttipjar\n",
      "\tmade\n",
      "\tmaker\n",
      "\timg\n",
      "\tdepiction\n",
      "\tdepicts\n",
      "\tthumbnail\n",
      "\tmyersBriggs\n",
      "\tworkplaceHomepage\n",
      "\tworkInfoHomepage\n",
      "\tschoolHomepage\n",
      "\tknows\n",
      "\tinterest\n",
      "\ttopic_interest\n",
      "\tpublications\n",
      "\tcurrentProject\n",
      "\tpastProject\n",
      "\tfundedBy\n",
      "\tlogo\n",
      "\ttopic\n",
      "\tprimaryTopic\n",
      "\ttheme\n",
      "\tholdsAccount\n",
      "\taccountServiceHomepage\n",
      "\tmember\n",
      "\tassurance\n",
      "\tsrc_assurance\n",
      "\tterm_status\n",
      "\tdescription\n",
      "\ttitle\n",
      "\tdate\n",
      "\tmembershipClass\n"
     ]
    },
    {
     "name": "stderr",
     "output_type": "stream",
     "text": [
      "* Owlready2 * WARNING: DataProperty http://xmlns.com/foaf/0.1/name belongs to more than one entity types: [owl.DatatypeProperty, rdf-schema.label]; I'm trying to fix it...\n"
     ]
    }
   ],
   "source": [
    "# You can also work with imported ontologies\n",
    "foaf = get_ontology(\"http://xmlns.com/foaf/0.1/\").load()\n",
    "# Load FOAF ontology from web\n",
    "try:\n",
    "    foaf = get_ontology(\"http://xmlns.com/foaf/0.1/\").load()\n",
    "    print(\"FOAF ontology loaded successfully\")\n",
    "\n",
    "    # Explore FOAF classes\n",
    "    print(\"FOAF classes:\")\n",
    "    for cls in foaf.classes():\n",
    "        print(f\"\\t{cls.name}\")\n",
    "\n",
    "    # Explore FOAF properties\n",
    "    print(\"FOAF properties:\")\n",
    "    for prop in foaf.properties():\n",
    "        print(f\"\\t{prop.name}\")\n",
    "\n",
    "except Exception as e:\n",
    "    print(f\"Failed to load FOAF: {e}\")\n",
    "    # Define minimal FOAF classes locally\n",
    "    with onto:\n",
    "\n",
    "        class Person(Thing):\n",
    "            pass\n",
    "\n",
    "        class name(DataProperty):\n",
    "            domain = [Person]\n",
    "            range = [str]"
   ]
  },
  {
   "cell_type": "markdown",
   "id": "7cad8fcf-9370-4c51-a091-a93f14798aa6",
   "metadata": {},
   "source": [
    "### heed that warning \n",
    "  \n",
    "So classes have a 'name', properties have a 'name' and the property named 'name' has a name that is 'name'.  \n",
    "  \n",
    "One reason we see just a list of properties and not class-wise properties (for those coming from an Object Oriented Programming experience) is that we are trying to build a *vocabulary* for the *world*. That means every word is unique and uniquely suited to one thing only. \n",
    "  "
   ]
  },
  {
   "cell_type": "markdown",
   "id": "0a6a81f2-7faa-4b09-a124-1d21e8f2fdde",
   "metadata": {},
   "source": [
    " \n",
    "IMHO - this is also slightly misaligned with how humans \"think\" in language, where we are able to resolve 'context' from a communication (text, audio, video etc.), thus a bit of ambiguity in words actually results in a more expressive, richer language (for e.g. Poetry). This one-thing-for-one-thing thing is a very knowledge 'engineering' thing. I see a lot of effort now in resolving this, but for our 'context' here, let's just mod things to keep 'em unique. "
   ]
  },
  {
   "cell_type": "code",
   "execution_count": 12,
   "id": "0952d42b-9d6f-4e79-92f9-fc1f3b04a67b",
   "metadata": {},
   "outputs": [],
   "source": [
    "# Use FOAF in music ontology\n",
    "onto.imported_ontologies.append(foaf)"
   ]
  },
  {
   "cell_type": "code",
   "execution_count": 13,
   "id": "cde2eec0-b2c7-4ffe-b257-fea8550b4b3a",
   "metadata": {},
   "outputs": [],
   "source": [
    "# Now FOAF classes are available in your ontology context\n",
    "with onto:\n",
    "    # Can directly use FOAF classes\n",
    "    class Musician(foaf.Person):\n",
    "        pass"
   ]
  },
  {
   "cell_type": "code",
   "execution_count": 14,
   "id": "8a1c37cc-c9f6-4c0b-a074-95ed0cc32b82",
   "metadata": {},
   "outputs": [],
   "source": [
    "# Create instances using FOAF classes\n",
    "freddie = onto.Musician(\"FreddieMercury\")\n",
    "freddie.foaf_name = [\"Freddie Mercury\"]  # Use FOAF properties"
   ]
  },
  {
   "cell_type": "code",
   "execution_count": 15,
   "id": "2c2968c0-bcbd-4f13-abb7-5690d15c19ee",
   "metadata": {},
   "outputs": [
    {
     "name": "stdout",
     "output_type": "stream",
     "text": [
      "Musician created: FreddieMercury\n"
     ]
    }
   ],
   "source": [
    "# check if freddie.name is defined, else print 'No Name'\n",
    "print(f\"Musician created: {freddie.name if freddie.name else 'No name'}\")"
   ]
  },
  {
   "cell_type": "code",
   "execution_count": 16,
   "id": "7ac8e12d-c6f2-40a9-a8d8-56e592ed9613",
   "metadata": {},
   "outputs": [
    {
     "data": {
      "text/plain": [
       "[get_ontology(\"http://xmlns.com/foaf/0.1/\")]"
      ]
     },
     "execution_count": 16,
     "metadata": {},
     "output_type": "execute_result"
    }
   ],
   "source": [
    "onto.get_imported_ontologies()"
   ]
  },
  {
   "cell_type": "code",
   "execution_count": 17,
   "id": "d8d56602-3ce8-45c7-89d3-3c5c65e317f4",
   "metadata": {},
   "outputs": [
    {
     "name": "stdout",
     "output_type": "stream",
     "text": [
      "None\n",
      "music.title\n",
      "music.comment\n"
     ]
    }
   ],
   "source": [
    "for p in onto.metadata:\n",
    "    print(p)"
   ]
  },
  {
   "cell_type": "markdown",
   "id": "dae89b34-4ae2-4c08-a4dd-a8d9fc60abc8",
   "metadata": {},
   "source": [
    "## Default World"
   ]
  },
  {
   "cell_type": "markdown",
   "id": "92fd6ca4-a020-4ee9-ac4b-1e8a0de973ba",
   "metadata": {},
   "source": [
    "_(Gruff trailer voice) IN A WORLD..._  \n",
    "  \n",
    "Vocabularies belong to a world.  \n",
    "owlready2 has a 'default' world.  \n",
    "You can add your own 'world' too."
   ]
  },
  {
   "cell_type": "code",
   "execution_count": 18,
   "id": "cbea6f8c-a51f-4b52-b893-afb46a4573fe",
   "metadata": {},
   "outputs": [],
   "source": [
    "# default_world is owlready2's global knowledge base container\n",
    "# It automatically stores ALL loaded ontologies and their instances\n",
    "# Think of it as a single RDF graph containing everything you've loaded"
   ]
  },
  {
   "cell_type": "markdown",
   "id": "f218bfd1-2dcf-4ef9-8dfa-55c7cdc88deb",
   "metadata": {},
   "source": [
    "When you do this:"
   ]
  },
  {
   "cell_type": "code",
   "execution_count": 19,
   "id": "517cac69-9053-4c00-b621-87351bca8fa2",
   "metadata": {},
   "outputs": [],
   "source": [
    "music_onto = get_ontology(\"./rdf_output/music_ontology.rdf\").load()\n",
    "foaf = get_ontology(\"http://xmlns.com/foaf/0.1/\").load()"
   ]
  },
  {
   "cell_type": "markdown",
   "id": "e36aa69c-adad-48db-b61d-f3fa0139ff79",
   "metadata": {},
   "source": [
    "Both ontologies get added to default_world automatically\n",
    "`default_world` now contains:\n",
    "  - All classes from `music_onto` (Song, Artist, Album, etc.)\n",
    "  - All properties from `music_onto` (performedBy, hasGenre, etc.) \n",
    "  - All instances you create (queen, bohemian_rhapsody, etc.)\n",
    "  - All classes/properties from `foaf` (Person, knows, etc.)"
   ]
  },
  {
   "cell_type": "code",
   "execution_count": 20,
   "id": "6e3563bb-f784-4f5c-9a94-39b489e6664d",
   "metadata": {},
   "outputs": [
    {
     "name": "stdout",
     "output_type": "stream",
     "text": [
      "What's in my default_world?\n",
      "Total ontologies loaded: 5\n",
      "Total individuals across all ontologies: 3\n",
      "Total classes across all ontologies: 35\n"
     ]
    }
   ],
   "source": [
    "# Example: default_world contains everything\n",
    "print(\"What's in my default_world?\")\n",
    "print(f\"Total ontologies loaded: {len(default_world.ontologies)}\")\n",
    "print(\n",
    "    f\"Total individuals across all ontologies: {len(list(default_world.individuals()))}\"\n",
    ")\n",
    "print(f\"Total classes across all ontologies: {len(list(default_world.classes()))}\")"
   ]
  },
  {
   "cell_type": "code",
   "execution_count": 21,
   "id": "154a9395-b1be-46fd-b5ec-1b472f2cb947",
   "metadata": {},
   "outputs": [
    {
     "name": "stdout",
     "output_type": "stream",
     "text": [
      "Ontology: http://anonymous/\n",
      "Ontology: http://example.org/music.owl#\n",
      "Ontology: http://xmlns.com/foaf/0.1/\n",
      "Ontology: ./rdf_output/music_ontology.rdf#\n",
      "Ontology: http://example.org/music#\n"
     ]
    }
   ],
   "source": [
    "# You can also access specific ontologies within default_world\n",
    "for o in default_world.ontologies:\n",
    "    print(f\"Ontology: {o}\")"
   ]
  },
  {
   "cell_type": "markdown",
   "id": "6bae91a0-1810-4deb-9ee4-f792d15cef2f",
   "metadata": {},
   "source": [
    "Alternative worlds: You can create separate knowledge bases  "
   ]
  },
  {
   "cell_type": "code",
   "execution_count": 22,
   "id": "41b00fb7-adab-4e42-a2a1-54307b33d814",
   "metadata": {},
   "outputs": [],
   "source": [
    "# custom_world = World()  # Creates isolated knowledge base\n",
    "# with custom_world:\n",
    "#     specific_onto = get_ontology(\"./o02-Music.n3\").load()\n",
    "# custom_world.sparql(query)  # Only searches custom_world, not default_world"
   ]
  },
  {
   "cell_type": "markdown",
   "id": "2a32b0c9-cfdb-497a-9e91-f597e912fafc",
   "metadata": {},
   "source": [
    "_Caution: default_world is global and persistent_  \n",
    "All ontologies you load stay in memory until you explicitly remove them    \n",
    "Use `onto.destroy()` to remove ontologies from `default_world` - super critical to clean up...   "
   ]
  },
  {
   "cell_type": "markdown",
   "id": "25cb9dab-86ca-40ce-8b73-f97d41721c4a",
   "metadata": {},
   "source": [
    "# Loading External RDF/OWL Data"
   ]
  },
  {
   "cell_type": "code",
   "execution_count": 23,
   "id": "aaa79719-2fb4-409a-af67-5fc032abc384",
   "metadata": {},
   "outputs": [],
   "source": [
    "# Load the existing music ontology\n",
    "music_onto = get_ontology(\"./rdf_output/music_ontology.rdf\").load()"
   ]
  },
  {
   "cell_type": "code",
   "execution_count": 24,
   "id": "5358aa7c-6df9-4279-8ff7-06cfc621bd8d",
   "metadata": {},
   "outputs": [
    {
     "name": "stdout",
     "output_type": "stream",
     "text": [
      "Classes in the ontology:\n",
      "  Artist:\t[]\n",
      "  CollaborativeSong:\t[]\n",
      "  Song:\t[]\n",
      "  Award:\t[]\n",
      "  Album:\t[]\n",
      "  Genre:\t[]\n",
      "  Single:\t[]\n",
      "  SuccessfulLabel:\t[]\n",
      "  RecordLabel:\t[]\n",
      "  ExtendedPlay:\t[]\n",
      "  EstablishedArtist:\t[]\n"
     ]
    }
   ],
   "source": [
    "# Explore loaded classes\n",
    "print(\"Classes in the ontology:\")\n",
    "for cls in music_onto.classes():\n",
    "    print(f\"  {cls.name}:\\t{cls.comment}\")"
   ]
  },
  {
   "cell_type": "code",
   "execution_count": 25,
   "id": "75f827ac-191e-412b-81cc-55922612fffc",
   "metadata": {},
   "outputs": [
    {
     "name": "stdout",
     "output_type": "stream",
     "text": [
      "\n",
      "Properties in the ontology:\n",
      "\tpopularityScore: domain=[], range=[<class 'int'>]\n",
      "\tnationality: domain=[], range=[<class 'str'>]\n",
      "\tdescription: domain=[], range=[<class 'str'>]\n",
      "\tlocation: domain=[], range=[<class 'str'>]\n",
      "\tlabelName: domain=[], range=[<class 'str'>]\n",
      "\ttitle: domain=[], range=[<class 'str'>]\n",
      "\tbirthDate: domain=[], range=[<class 'datetime.date'>]\n",
      "\tawardName: domain=[], range=[<class 'str'>]\n",
      "\tcollaborationStrength: domain=[], range=[<class 'int'>]\n",
      "\tname: domain=[], range=[<class 'str'>]\n",
      "\tawardingBody: domain=[], range=[<class 'str'>]\n",
      "\treleaseYear: domain=[], range=[<class 'int'>]\n",
      "\tlabelSuccessRating: domain=[], range=[<class 'int'>]\n",
      "\talbumTitle: domain=[], range=[<class 'str'>]\n",
      "\tyear: domain=[], range=[<class 'int'>]\n",
      "\tduration: domain=[], range=[<class 'int'>]\n",
      "\tgenreName: domain=[], range=[<class 'str'>]\n",
      "\treleaseDate: domain=[], range=[<class 'datetime.date'>]\n",
      "\tcollaboratesWith: domain=[], range=[]\n",
      "\tinfluencedBy: domain=[], range=[]\n",
      "\tperformedBy: domain=[], range=[]\n",
      "\thasGenre: domain=[], range=[]\n",
      "\thasWonAward: domain=[], range=[]\n",
      "\treleasedByLabel: domain=[], range=[]\n",
      "\tsignedTo: domain=[], range=[]\n",
      "\treleasedByArtist: domain=[], range=[]\n",
      "\tcontemporaryOf: domain=[], range=[]\n",
      "\tfeaturedOn: domain=[], range=[]\n",
      "\tisContributor: domain=[], range=[]\n"
     ]
    }
   ],
   "source": [
    "# Explore properties\n",
    "print(\"\\nProperties in the ontology:\")\n",
    "for prop in music_onto.properties():\n",
    "    print(f\"\\t{prop.name}: domain={prop.domain}, range={prop.range}\")"
   ]
  },
  {
   "cell_type": "code",
   "execution_count": 26,
   "id": "12d1ad7e-96ec-4b21-a0ed-b3b24fcc2acf",
   "metadata": {},
   "outputs": [
    {
     "name": "stdout",
     "output_type": "stream",
     "text": [
      "\n",
      "Total classes: 11\n",
      "Total properties: 29\n"
     ]
    }
   ],
   "source": [
    "# Check reasoner-inferred classes\n",
    "print(f\"\\nTotal classes: {len(list(music_onto.classes()))}\")\n",
    "print(f\"Total properties: {len(list(music_onto.properties()))}\")"
   ]
  },
  {
   "cell_type": "markdown",
   "id": "e1aaca4e-fde7-4b9b-9258-c947c2e36309",
   "metadata": {},
   "source": [
    "# Basic Queries"
   ]
  },
  {
   "cell_type": "markdown",
   "id": "15a5bdbe-db32-4a20-a2bf-566165da2d11",
   "metadata": {},
   "source": [
    "owlready2 offers two query approaches.   \n",
    "* Python iteration and comprehensions work well for simple queries.\n",
    "* SPARQL handles complex aggregations that would be harder to maintain in pure Python."
   ]
  },
  {
   "cell_type": "code",
   "execution_count": 27,
   "id": "29f06520-1de9-4639-8c44-57a30f395a08",
   "metadata": {
    "jupyter": {
     "source_hidden": true
    }
   },
   "outputs": [],
   "source": [
    "# Helper function\n",
    "def format_sparql_results(results, query_description=\"\"):\n",
    "    print(f\"\\n{query_description}\")\n",
    "    print(\"=\" * len(query_description))\n",
    "    #\n",
    "    results_list = list(results)\n",
    "    if not results_list:\n",
    "        print(\"No results found.\")\n",
    "        return\n",
    "    #\n",
    "    # Get variable names from first result\n",
    "    if hasattr(results_list[0], \"__dict__\"):\n",
    "        # print('__dict__ found in results')\n",
    "        headers = list(results_list[0].__dict__.keys())\n",
    "    else:\n",
    "        headers = [f\"col_{i}\" for i in range(len(results_list[0]))]\n",
    "    # print ('headers = ',headers)\n",
    "    #\n",
    "    # Format headers\n",
    "    print(\" | \".join(f\"{h:20}\" for h in headers))\n",
    "    print(\"-\" * (23 * len(headers) - 3))\n",
    "\n",
    "    # Format rows\n",
    "    for row in results_list[:10]:  # Limit to first 10 results\n",
    "        formatted_row = []\n",
    "        for item in row:\n",
    "            if item is None:\n",
    "                formatted_row.append(\"None\")\n",
    "            elif hasattr(item, \"split\") and \"#\" in str(item):\n",
    "                # Extract local name from URI\n",
    "                formatted_row.append(str(item).split(\"#\")[-1])\n",
    "            elif hasattr(item, \"split\") and \"/\" in str(item):\n",
    "                # Extract last part of path\n",
    "                formatted_row.append(str(item).split(\"/\")[-1])\n",
    "            else:\n",
    "                formatted_row.append(str(item))\n",
    "        print(\" | \".join(f\"{item:20}\" for item in formatted_row))\n",
    "\n",
    "    if len(results_list) > 10:\n",
    "        print(f\"... and {len(results_list) - 10} more results\")\n",
    "\n",
    "\n",
    "# Usage:\n",
    "# format_sparql_results(results, description)"
   ]
  },
  {
   "cell_type": "markdown",
   "id": "aa8d02ce-3fa0-4810-900c-6c1d3e353909",
   "metadata": {},
   "source": [
    "# Query 1: Find all songs and their performers  \n",
    "...using Python iteration"
   ]
  },
  {
   "cell_type": "code",
   "execution_count": 28,
   "id": "73f85dbb-89db-485f-85d0-01a168670f94",
   "metadata": {},
   "outputs": [
    {
     "name": "stdout",
     "output_type": "stream",
     "text": [
      "Query 1: Songs and performers\n"
     ]
    },
    {
     "data": {
      "text/plain": [
       "['song_song_421 performed by artist_artist_35',\n",
       " 'song_song_421 performed by artist_artist_20',\n",
       " 'song_song_386 performed by artist_artist_20',\n",
       " 'song_song_386 performed by artist_artist_50',\n",
       " 'song_song_541 performed by artist_artist_19',\n",
       " 'song_song_541 performed by artist_artist_56',\n",
       " 'song_song_244 performed by artist_artist_23',\n",
       " 'song_song_244 performed by artist_artist_25',\n",
       " 'song_song_11 performed by artist_artist_90',\n",
       " 'song_song_11 performed by artist_artist_75']"
      ]
     },
     "execution_count": 28,
     "metadata": {},
     "output_type": "execute_result"
    }
   ],
   "source": [
    "print(\"Query 1: Songs and performers\")\n",
    "out = []\n",
    "for song in music_onto.Song.instances():\n",
    "    if hasattr(song, \"performedBy\") and song.performedBy:\n",
    "        for performer in song.performedBy:\n",
    "            out.append(f\"{song.name} performed by {performer.name}\")\n",
    "out[:10]"
   ]
  },
  {
   "cell_type": "markdown",
   "id": "38a58531-0329-4a2a-899d-148c1ab4ea59",
   "metadata": {},
   "source": [
    "# Query 2: Find artists signed to labels  \n",
    "using property filtering"
   ]
  },
  {
   "cell_type": "code",
   "execution_count": 29,
   "id": "26f65694-48de-419f-99ec-fce7500a852a",
   "metadata": {},
   "outputs": [
    {
     "name": "stdout",
     "output_type": "stream",
     "text": [
      "\n",
      "Query 2: Artists and their labels\n"
     ]
    },
    {
     "data": {
      "text/plain": [
       "[]"
      ]
     },
     "execution_count": 29,
     "metadata": {},
     "output_type": "execute_result"
    }
   ],
   "source": [
    "print(\"\\nQuery 2: Artists and their labels\")\n",
    "out = []\n",
    "for artist in music_onto.Artist.instances():\n",
    "    if hasattr(artist, \"signedTo\") and artist.signedTo:\n",
    "        out.append(f\"{artist.name} signed to {artist.signedTo[0].name}\")\n",
    "out[:10]"
   ]
  },
  {
   "cell_type": "markdown",
   "id": "80d59307-a164-4966-8bb2-4a50a34b9b91",
   "metadata": {},
   "source": [
    "## Sidebar - looking deeper into Query 2\n",
    "_skip in the first iteration_  \n",
    "Q2 results are empty!  \n",
    "What's going on?  \n",
    "Let's try to debug this - see what's really going on..."
   ]
  },
  {
   "cell_type": "code",
   "execution_count": 30,
   "id": "cc157c05-2a9a-4264-adf8-6a8ce960aee2",
   "metadata": {},
   "outputs": [
    {
     "name": "stdout",
     "output_type": "stream",
     "text": [
      "1. Artist instances found: 100 and RecordLabel instances found: 0\n"
     ]
    }
   ],
   "source": [
    "# Reason 1: No Artist instances exist\n",
    "artists = list(music_onto.Artist.instances())\n",
    "# quick refresher - what is a label called in our ontology?\n",
    "# check back - we listed all the classes in our ontology...\n",
    "labels = list(music_onto.RecordLabel.instances())\n",
    "print(\n",
    "    f\"1. Artist instances found: {len(artists)} and RecordLabel instances found: {len(labels)}\"\n",
    ")"
   ]
  },
  {
   "cell_type": "markdown",
   "id": "63d4c7d2-d75c-40ce-8484-631e5c238aab",
   "metadata": {},
   "source": [
    "How come we have no RecordLabel associations???  \n",
    "Goes back to the reasoner... when creating this data, we rely on `signed_artists` inverse property...\n",
    "...ah! that's still TODO!"
   ]
  },
  {
   "cell_type": "markdown",
   "id": "86bad685-2a3f-4d99-a12d-0b5552fed1c4",
   "metadata": {},
   "source": [
    "# Query 3: Number of Songs by Genre\n",
    "Use SPARQL for complex aggregation queries"
   ]
  },
  {
   "cell_type": "markdown",
   "id": "8ee4e7eb-581f-4f1f-afa2-409da12a3dda",
   "metadata": {},
   "source": [
    "## Quick primer on SPARQL in `owlready2`"
   ]
  },
  {
   "cell_type": "markdown",
   "id": "194c3eef-280d-44ee-80bf-4f3240e49264",
   "metadata": {},
   "source": [
    "SPARQL queries through default_world search across ALL loaded ontologies  \n",
    "This is why we use: default_world.sparql(query)  \n",
    "Instead of: music_onto.sparql(query) - which may not exist (since we are mixing stuff up now...)"
   ]
  },
  {
   "cell_type": "markdown",
   "id": "b6ce3a11-a860-4c27-b5b4-212dc76b7a20",
   "metadata": {},
   "source": [
    "Why default_world matters for SPARQL:\n",
    "1. SPARQL needs a complete RDF graph to query against\n",
    "2. default_world automatically maintains this graph\n",
    "3. All your loaded data is queryable in one place\n",
    "4. No need to manually merge ontologies for cross-ontology queries"
   ]
  },
  {
   "cell_type": "code",
   "execution_count": 31,
   "id": "5faf33e0-7b10-48e3-98b2-20f7fd4647ab",
   "metadata": {},
   "outputs": [],
   "source": [
    "# SPARQL queries search the entire default_world knowledge base\n",
    "# This query will find instances from ANY loaded ontology\n",
    "sparql_query = \"\"\"\n",
    "PREFIX music: <http://example.org/music#>\n",
    "PREFIX rdf: <http://www.w3.org/1999/02/22-rdf-syntax-ns#>\n",
    "\n",
    "SELECT ?song ?performer WHERE {\n",
    "    ?song rdf:type music:Song .\n",
    "    ?song music:performedBy ?performer .\n",
    "}\n",
    "\"\"\""
   ]
  },
  {
   "cell_type": "code",
   "execution_count": 32,
   "id": "042812bc-58c3-457a-bd2f-969c999bc762",
   "metadata": {},
   "outputs": [],
   "source": [
    "# This searches ALL RDF triples in default_world (from all ontologies)\n",
    "results = default_world.sparql(sparql_query)"
   ]
  },
  {
   "cell_type": "code",
   "execution_count": 33,
   "id": "02745ad8-db72-4ef1-b98c-e525f642008d",
   "metadata": {},
   "outputs": [
    {
     "name": "stdout",
     "output_type": "stream",
     "text": [
      "\n",
      "Working with default_world\n",
      "==========================\n",
      "col_0                | col_1               \n",
      "-------------------------------------------\n",
      "music.song_song_391  | music.artist_artist_36\n",
      "music.song_song_444  | music.artist_artist_43\n",
      "music.song_song_518  | music.artist_artist_76\n",
      "music.song_song_285  | music.artist_artist_55\n",
      "music.song_song_100  | music.artist_artist_76\n",
      "music.song_song_296  | music.artist_artist_80\n",
      "music.song_song_155  | music.artist_artist_13\n",
      "music.song_song_38   | music.artist_artist_29\n",
      "music.song_song_459  | music.artist_artist_89\n",
      "music.song_song_481  | music.artist_artist_0\n",
      "... and 288 more results\n"
     ]
    }
   ],
   "source": [
    "format_sparql_results(results, \"Working with default_world\")"
   ]
  },
  {
   "cell_type": "markdown",
   "id": "38cb4a44-0b55-40ee-ab78-3f92e932d483",
   "metadata": {},
   "source": [
    "## ...let's build the actual query now: count songs by genre"
   ]
  },
  {
   "cell_type": "code",
   "execution_count": 34,
   "id": "a777dc94-f904-4c01-8af5-89ff3e97fdaa",
   "metadata": {},
   "outputs": [
    {
     "name": "stdout",
     "output_type": "stream",
     "text": [
      "Artist:\thttp://example.org/music#Artist\n",
      "CollaborativeSong:\thttp://example.org/music#CollaborativeSong\n",
      "Song:\thttp://example.org/music#Song\n",
      "Award:\thttp://example.org/music#Award\n",
      "Album:\thttp://example.org/music#Album\n",
      "Genre:\thttp://example.org/music#Genre\n",
      "Single:\thttp://example.org/music#Single\n",
      "SuccessfulLabel:\thttp://example.org/music#SuccessfulLabel\n",
      "RecordLabel:\thttp://example.org/music#RecordLabel\n",
      "ExtendedPlay:\thttp://example.org/music#ExtendedPlay\n",
      "EstablishedArtist:\thttp://example.org/music#EstablishedArtist\n"
     ]
    }
   ],
   "source": [
    "# as a quick refresher, let's just list all the properties in our music ontology\n",
    "for cls in music_onto.classes():\n",
    "    print(f\"{cls.name}:\\t{cls.iri}\")"
   ]
  },
  {
   "cell_type": "code",
   "execution_count": 35,
   "id": "0a5cf9cc-9038-4502-82e2-4dc84e0cab12",
   "metadata": {},
   "outputs": [
    {
     "name": "stdout",
     "output_type": "stream",
     "text": [
      "popularityScore:\thttp://example.org/music#popularityScore\n",
      "nationality:\thttp://example.org/music#nationality\n",
      "description:\thttp://example.org/music#description\n",
      "location:\thttp://example.org/music#location\n",
      "labelName:\thttp://example.org/music#labelName\n",
      "title:\thttp://example.org/music#title\n",
      "birthDate:\thttp://example.org/music#birthDate\n",
      "awardName:\thttp://example.org/music#awardName\n",
      "collaborationStrength:\thttp://example.org/music#collaborationStrength\n",
      "name:\thttp://example.org/music#name\n",
      "awardingBody:\thttp://example.org/music#awardingBody\n",
      "releaseYear:\thttp://example.org/music#releaseYear\n",
      "labelSuccessRating:\thttp://example.org/music#labelSuccessRating\n",
      "albumTitle:\thttp://example.org/music#albumTitle\n",
      "year:\thttp://example.org/music#year\n",
      "duration:\thttp://example.org/music#duration\n",
      "genreName:\thttp://example.org/music#genreName\n",
      "releaseDate:\thttp://example.org/music#releaseDate\n",
      "collaboratesWith:\thttp://example.org/music#collaboratesWith\n",
      "influencedBy:\thttp://example.org/music#influencedBy\n",
      "performedBy:\thttp://example.org/music#performedBy\n",
      "hasGenre:\thttp://example.org/music#hasGenre\n",
      "hasWonAward:\thttp://example.org/music#hasWonAward\n",
      "releasedByLabel:\thttp://example.org/music#releasedByLabel\n",
      "signedTo:\thttp://example.org/music#signedTo\n",
      "releasedByArtist:\thttp://example.org/music#releasedByArtist\n",
      "contemporaryOf:\thttp://example.org/music#contemporaryOf\n",
      "featuredOn:\thttp://example.org/music#featuredOn\n",
      "isContributor:\thttp://example.org/music#isContributor\n"
     ]
    }
   ],
   "source": [
    "# as a quick refresher, let's just list all the properties in our music ontology\n",
    "for property in music_onto.properties():\n",
    "    print(f\"{property.name}:\\t{property.iri}\")"
   ]
  },
  {
   "cell_type": "markdown",
   "id": "77863275-4eaa-424c-867a-5ca3a2b30ee8",
   "metadata": {},
   "source": [
    "So classes of interest: `Song` and `Genre`, property that connects them: `hasGenre`"
   ]
  },
  {
   "cell_type": "code",
   "execution_count": 36,
   "id": "4c0064ee-13ea-45f1-9f86-c9a3b52aca92",
   "metadata": {},
   "outputs": [],
   "source": [
    "# we need to define what \"music\" is for SPARQL, so we'll use PREFIX\n",
    "sparql_query = \"\"\"\n",
    "PREFIX music: <http://example.org/music#>\n",
    "SELECT ?genre (COUNT(?song) as ?count) WHERE {\n",
    "    ?song rdf:type music:Song .\n",
    "    ?song music:hasGenre ?genre .\n",
    "}\n",
    "GROUP BY ?genre\n",
    "ORDER BY DESC(?count)\n",
    "\"\"\""
   ]
  },
  {
   "cell_type": "code",
   "execution_count": 37,
   "id": "74714991-666b-4fe0-9b5c-a89b783c4ef1",
   "metadata": {},
   "outputs": [
    {
     "name": "stdout",
     "output_type": "stream",
     "text": [
      "\n",
      "Query 3: Songs by genre (using SPARQL)\n",
      "  Genre: music.genre_genre_4, Songs: 39\n",
      "  Genre: music.genre_genre_0, Songs: 39\n",
      "  Genre: music.genre_genre_9, Songs: 37\n",
      "  Genre: music.genre_genre_13, Songs: 33\n",
      "  Genre: music.genre_genre_6, Songs: 32\n",
      "  Genre: music.genre_genre_12, Songs: 28\n",
      "  Genre: music.genre_genre_10, Songs: 27\n",
      "  Genre: music.genre_genre_1, Songs: 27\n",
      "  Genre: music.genre_genre_7, Songs: 23\n",
      "  Genre: music.genre_genre_14, Songs: 22\n",
      "  Genre: music.genre_genre_11, Songs: 21\n",
      "  Genre: music.genre_genre_8, Songs: 19\n",
      "  Genre: music.genre_genre_3, Songs: 18\n",
      "  Genre: music.genre_genre_2, Songs: 16\n",
      "  Genre: music.genre_genre_5, Songs: 11\n"
     ]
    }
   ],
   "source": [
    "# now we query SPARQL through the default_world\n",
    "print(\"\\nQuery 3: Songs by genre (using SPARQL)\")\n",
    "\n",
    "results = default_world.sparql(sparql_query)\n",
    "for genre, count in results:\n",
    "    print(f\"  Genre: {genre}, Songs: {count}\")"
   ]
  },
  {
   "cell_type": "markdown",
   "id": "3caf9499-df6a-4b56-843e-8bec327a9852",
   "metadata": {},
   "source": [
    "# Query 4: Find collaborative songs  \n",
    "...using list comprehension"
   ]
  },
  {
   "cell_type": "code",
   "execution_count": 38,
   "id": "cdbedb89-c4ad-4ef5-bac5-41ac835ade9f",
   "metadata": {},
   "outputs": [
    {
     "name": "stdout",
     "output_type": "stream",
     "text": [
      "\n",
      "Query 4: Collaborative songs\n"
     ]
    },
    {
     "data": {
      "text/plain": [
       "['  song_song_421: artist_artist_35, artist_artist_20',\n",
       " '  song_song_386: artist_artist_20, artist_artist_50',\n",
       " '  song_song_541: artist_artist_19, artist_artist_56',\n",
       " '  song_song_244: artist_artist_23, artist_artist_25',\n",
       " '  song_song_11: artist_artist_90, artist_artist_75',\n",
       " '  song_song_419: artist_artist_56, artist_artist_58',\n",
       " '  song_song_316: artist_artist_83, artist_artist_22',\n",
       " '  song_song_319: artist_artist_85, artist_artist_77',\n",
       " '  song_song_404: artist_artist_29, artist_artist_84',\n",
       " '  song_song_60: artist_artist_26, artist_artist_57']"
      ]
     },
     "execution_count": 38,
     "metadata": {},
     "output_type": "execute_result"
    }
   ],
   "source": [
    "print(\"\\nQuery 4: Collaborative songs\")\n",
    "collaborative_songs = [\n",
    "    song\n",
    "    for song in music_onto.Song.instances()\n",
    "    if hasattr(song, \"performedBy\") and len(song.performedBy) > 1\n",
    "]\n",
    "\n",
    "out = []\n",
    "for song in collaborative_songs:\n",
    "    performers = [p.name for p in song.performedBy]\n",
    "    out.append(f\"  {song.name}: {', '.join(performers)}\")\n",
    "out[:10]"
   ]
  },
  {
   "cell_type": "markdown",
   "id": "6546eb9b-a208-41c4-bb39-8f4cb68497e6",
   "metadata": {},
   "source": [
    "# Query 5: Albums and track counts \n",
    "...using Python aggregation"
   ]
  },
  {
   "cell_type": "code",
   "execution_count": 39,
   "id": "f7e05baa-8b04-4609-a84d-bb98d38470a2",
   "metadata": {},
   "outputs": [
    {
     "name": "stdout",
     "output_type": "stream",
     "text": [
      "\n",
      "Query 5: Albums and track counts\n",
      "No results found...\n"
     ]
    }
   ],
   "source": [
    "print(\"\\nQuery 5: Albums and track counts\")\n",
    "album_tracks = {}\n",
    "for song in music_onto.Song.instances():\n",
    "    if hasattr(song, \"featuredOn\"):\n",
    "        for album in song.featuredOn:\n",
    "            album_name = album.name if hasattr(album, \"name\") else str(album)\n",
    "            album_tracks[album_name] = album_tracks.get(album_name, 0) + 1\n",
    "\n",
    "if len(album_tracks.items()) > 0:\n",
    "    for album, count in album_tracks.items():\n",
    "        print(f\"{album}: {count} tracks\")\n",
    "else:\n",
    "    print(\"No results found...\")"
   ]
  },
  {
   "cell_type": "markdown",
   "id": "422d4ea4-6bee-452e-9edd-1056997cde45",
   "metadata": {},
   "source": [
    "## Sidebar - looking deeper into Query 5\n",
    "_skip in the first iteration_  \n",
    "Q5 results are empty!  \n",
    "What's going on?  \n",
    "Let's try to debug this - see what's really going on..."
   ]
  },
  {
   "cell_type": "code",
   "execution_count": 40,
   "id": "da502f91-428d-4a6d-a6e7-d1551c6a74bf",
   "metadata": {},
   "outputs": [
    {
     "name": "stdout",
     "output_type": "stream",
     "text": [
      "1. Song instances found: 600 and Album instances found: 100\n"
     ]
    }
   ],
   "source": [
    "# Possible Reason 1: There's no songs or albums\n",
    "songs = list(music_onto.Song.instances())\n",
    "albums = list(music_onto.Album.instances())\n",
    "\n",
    "print(f\"1. Song instances found: {len(songs)} and Album instances found: {len(albums)}\")"
   ]
  },
  {
   "cell_type": "code",
   "execution_count": 41,
   "id": "76572cf5-e0c6-4109-beec-6c6094e1cebc",
   "metadata": {},
   "outputs": [
    {
     "name": "stdout",
     "output_type": "stream",
     "text": [
      "Sample song properties: ['INDIRECT_get_properties', 'differents', 'duration', 'entity_class', 'featuredOn', 'generate_default_name', 'get_equivalent_to', 'get_inverse_properties', 'get_iri', 'get_name', 'get_properties', 'hasGenre', 'iri', 'is_a', 'is_instance_of', 'name', 'namespace', 'performedBy', 'reload', 'set_equivalent_to', 'set_iri', 'set_name', 'storid', 'title']\n"
     ]
    }
   ],
   "source": [
    "# Let's list the properties of a song\n",
    "if songs:\n",
    "    sample_song = songs[0]\n",
    "    song_props = [\n",
    "        attr for attr in dir(sample_song) if not attr.startswith(\"_\")\n",
    "    ]  # omit the internals\n",
    "    print(f\"Sample song properties: {song_props}\")"
   ]
  },
  {
   "cell_type": "code",
   "execution_count": 42,
   "id": "1b8ca6ee-6e60-4dcd-acff-8745911a3225",
   "metadata": {},
   "outputs": [
    {
     "name": "stdout",
     "output_type": "stream",
     "text": [
      "Sample album properties: ['INDIRECT_get_properties', 'albumTitle', 'differents', 'entity_class', 'generate_default_name', 'get_equivalent_to', 'get_inverse_properties', 'get_iri', 'get_name', 'get_properties', 'hasGenre', 'iri', 'is_a', 'is_instance_of', 'name', 'namespace', 'releaseYear', 'reload', 'set_equivalent_to', 'set_iri', 'set_name', 'storid']\n"
     ]
    }
   ],
   "source": [
    "# Similarly, let's list the properties of an album\n",
    "if albums:\n",
    "    sample_album = albums[0]\n",
    "    album_props = [attr for attr in dir(sample_album) if not attr.startswith(\"_\")]\n",
    "    print(f\"Sample album properties: {album_props}\")"
   ]
  },
  {
   "cell_type": "markdown",
   "id": "92f8a77d-2a9b-4454-af6b-4a03b07d16f4",
   "metadata": {},
   "source": [
    "Okay, so Albums and Songs connect using the `featuredOn` property in Songs."
   ]
  },
  {
   "cell_type": "code",
   "execution_count": 43,
   "id": "58fd99cf-ccaf-4c91-bdc3-47b1f7bdfaad",
   "metadata": {},
   "outputs": [
    {
     "name": "stdout",
     "output_type": "stream",
     "text": [
      "2. Songs with 'featuredOn' property: 600\n",
      "3. Songs with non-empty 'featuredOn': 0\n"
     ]
    }
   ],
   "source": [
    "if songs:\n",
    "    # Possible Reason 2: Songs don't have 'featuredOn' property\n",
    "    songs_with_featured_on = [s for s in songs if hasattr(s, \"featuredOn\")]\n",
    "    print(f\"2. Songs with 'featuredOn' property: {len(songs_with_featured_on)}\")\n",
    "\n",
    "    # Possible Reason 3: 'featuredOn' property exists but is empty\n",
    "    songs_with_albums = [s for s in songs_with_featured_on if s.featuredOn]\n",
    "    print(f\"3. Songs with non-empty 'featuredOn': {len(songs_with_albums)}\")"
   ]
  },
  {
   "cell_type": "markdown",
   "id": "92022217-3ece-43ed-9721-168b4cfac0b7",
   "metadata": {},
   "source": [
    "...there we have it, the `featuredOn` property for all songs is empty in our data."
   ]
  },
  {
   "cell_type": "markdown",
   "id": "3fe8ea48-7a5b-4967-a202-b6f99034d7e7",
   "metadata": {},
   "source": [
    "# Creating Music Classes and Properties"
   ]
  },
  {
   "cell_type": "code",
   "execution_count": 44,
   "id": "6e9da2b3-ce48-40b5-832a-17236b6921d5",
   "metadata": {},
   "outputs": [],
   "source": [
    "# Create extended ontology\n",
    "extended_onto = get_ontology(\"http://example.org/music_extended.owl\")"
   ]
  },
  {
   "cell_type": "code",
   "execution_count": 45,
   "id": "53a9f942-abf1-42f6-af6a-bea7b02be4f9",
   "metadata": {},
   "outputs": [],
   "source": [
    "with extended_onto:\n",
    "    # Import base music classes (already a part of music_onto)\n",
    "    class Song(music_onto.Song):\n",
    "        pass\n",
    "\n",
    "    class Album(music_onto.Album):\n",
    "        pass\n",
    "\n",
    "    # Define three new classes\n",
    "    class Playlist(Thing):\n",
    "        comment = [\"A curated collection of songs\"]\n",
    "\n",
    "    class Concert(Thing):\n",
    "        comment = [\"A live music performance event\"]\n",
    "\n",
    "    class MusicVideo(Thing):\n",
    "        comment = [\"A video recording featuring a song\"]"
   ]
  },
  {
   "cell_type": "markdown",
   "id": "1cbfd112-a3a8-447d-86c9-3429514b25a3",
   "metadata": {},
   "source": [
    "## Properties for `Playlist`"
   ]
  },
  {
   "cell_type": "code",
   "execution_count": 46,
   "id": "da827206-0e3f-4625-a2de-0b7eee8103f2",
   "metadata": {},
   "outputs": [],
   "source": [
    "with extended_onto:\n",
    "    # Properties for Playlist\n",
    "    class containsSong(ObjectProperty):\n",
    "        domain = [Playlist]\n",
    "        range = [Song]\n",
    "        comment = [\"Songs included in the playlist\"]\n",
    "\n",
    "    class playlistName(DataProperty):\n",
    "        domain = [Playlist]\n",
    "        range = [str]\n",
    "\n",
    "    class createdBy(ObjectProperty):\n",
    "        domain = [Playlist]\n",
    "        # range = [Person]  # Would need FOAF import, maybe later"
   ]
  },
  {
   "cell_type": "markdown",
   "id": "6386d895-648d-4387-b8e8-1c59d93d2a15",
   "metadata": {},
   "source": [
    "## Properties for `Concert`"
   ]
  },
  {
   "cell_type": "code",
   "execution_count": 47,
   "id": "509c8ace-7ef0-4f9b-b034-eecbfdfe05e6",
   "metadata": {},
   "outputs": [],
   "source": [
    "with extended_onto:\n",
    "    # Properties for Concert\n",
    "    class performsAt(ObjectProperty):\n",
    "        domain = [Artist]\n",
    "        range = [Concert]\n",
    "\n",
    "    # we'll later see that HermIT reasoner doesn't support datetime.date...\n",
    "    # so we'll use datetime.datetime everywhere...\n",
    "    # or better yet - just ISO date strings\n",
    "    # quirky, I know.\n",
    "    class concertDate(DataProperty):\n",
    "        domain = [Concert]\n",
    "        # range = [datetime.datetime]\n",
    "        range = [str]\n",
    "\n",
    "    class venue(DataProperty):\n",
    "        domain = [Concert]\n",
    "        range = [str]"
   ]
  },
  {
   "cell_type": "markdown",
   "id": "72f2d198-273a-4ca0-a03d-987ffa3a846c",
   "metadata": {},
   "source": [
    "## Properties for `MusicVideo`"
   ]
  },
  {
   "cell_type": "code",
   "execution_count": 48,
   "id": "fc0f9e2e-09af-41eb-9af4-4ee9a6f564be",
   "metadata": {},
   "outputs": [],
   "source": [
    "with extended_onto:\n",
    "    # Properties for MusicVideo\n",
    "    class videoFor(ObjectProperty):\n",
    "        domain = [MusicVideo]\n",
    "        range = [Song]\n",
    "        functional = True  # Each video is for exactly one song\n",
    "\n",
    "    class director(DataProperty):\n",
    "        domain = [MusicVideo]\n",
    "        range = [str]\n",
    "\n",
    "    class viewCount(DataProperty):\n",
    "        domain = [MusicVideo]\n",
    "        range = [int]"
   ]
  },
  {
   "cell_type": "markdown",
   "id": "1194a277-1f2c-4caf-a9a7-2213b21a92ef",
   "metadata": {},
   "source": [
    "owlready2's `with onto:` context manager automatically assigns new classes to the ontology.  \n",
    "Property constraints like `functional = True` are set as Python attributes, making OWL semantics transparent."
   ]
  },
  {
   "cell_type": "markdown",
   "id": "a1770555-b905-49b8-9354-1d4b773342d3",
   "metadata": {},
   "source": [
    "# Working with Individuals"
   ]
  },
  {
   "cell_type": "code",
   "execution_count": 49,
   "id": "ceacc675-597c-4002-86b0-21d022665479",
   "metadata": {},
   "outputs": [],
   "source": [
    "# Playlist\n",
    "with extended_onto:\n",
    "    # Create specific instances using constructor syntax\n",
    "    roadtrip_playlist = Playlist(\"RoadTrip2024\")\n",
    "    roadtrip_playlist.playlistName = [\"Road Trip 2024\"]"
   ]
  },
  {
   "cell_type": "code",
   "execution_count": 50,
   "id": "4c8fba7b-c348-4da1-a2cf-1fdbbef83c00",
   "metadata": {},
   "outputs": [],
   "source": [
    "# Concert\n",
    "with extended_onto:\n",
    "    wembley_concert = Concert(\"Wembley1986\")\n",
    "    # wembley_concert.concertDate = [datetime.datetime(1986, 7, 12)]\n",
    "    wembley_concert.concertDate = [\"1986-07-12\"]  # ISO date string\n",
    "    wembley_concert.venue = [\"Wembley Stadium\"]"
   ]
  },
  {
   "cell_type": "code",
   "execution_count": 51,
   "id": "481cbb73-e804-437d-98d7-09ec0103e616",
   "metadata": {},
   "outputs": [],
   "source": [
    "# Music Video\n",
    "with extended_onto:\n",
    "    bohemian_video = MusicVideo(\"BohemianRhapsodyVideo\")\n",
    "    bohemian_video.director = [\"Bruce Gowers\"]\n",
    "    bohemian_video.viewCount = [1500000000]"
   ]
  },
  {
   "cell_type": "code",
   "execution_count": 52,
   "id": "4e176ef9-9c27-4121-b087-812ccfe1e9be",
   "metadata": {},
   "outputs": [],
   "source": [
    "# Connecting the 3\n",
    "with extended_onto:\n",
    "    # Create relationships\n",
    "    queen.performsAt = [wembley_concert]\n",
    "    roadtrip_playlist.containsSong = [bohemian_rhapsody]\n",
    "    bohemian_video.videoFor = [bohemian_rhapsody]"
   ]
  },
  {
   "cell_type": "code",
   "execution_count": 53,
   "id": "8dffd814-b77c-4bc3-a11b-d06b421886f8",
   "metadata": {},
   "outputs": [
    {
     "name": "stdout",
     "output_type": "stream",
     "text": [
      "Created instances:\n",
      "  RoadTrip2024: Playlist\n",
      "  Wembley1986: Concert\n",
      "  BohemianRhapsodyVideo: MusicVideo\n"
     ]
    }
   ],
   "source": [
    "# Print instance details\n",
    "print(\"Created instances:\")\n",
    "for individual in extended_onto.individuals():\n",
    "    print(f\"  {individual.name}: {type(individual).__name__}\")"
   ]
  },
  {
   "cell_type": "code",
   "execution_count": 54,
   "id": "200b798d-9070-46b3-8c8e-d7d1601adb4f",
   "metadata": {},
   "outputs": [
    {
     "name": "stdout",
     "output_type": "stream",
     "text": [
      "music_extended.playlistName\n",
      "music_extended.concertDate\n",
      "music_extended.venue\n",
      "music_extended.director\n",
      "music_extended.viewCount\n",
      "music_extended.containsSong\n",
      "music_extended.createdBy\n",
      "music_extended.performsAt\n",
      "music_extended.videoFor\n"
     ]
    }
   ],
   "source": [
    "for p in extended_onto.properties():\n",
    "    print(p)"
   ]
  },
  {
   "cell_type": "markdown",
   "id": "abd61d05-d091-4ed7-a6b7-82e96e312020",
   "metadata": {},
   "source": [
    "# Possible _Restrictions_ and **Reasoning** for Music Domain"
   ]
  },
  {
   "cell_type": "markdown",
   "id": "5de77e66-082b-438a-98d3-65e9f1d52a8e",
   "metadata": {},
   "source": [
    "## Gather our bearings"
   ]
  },
  {
   "cell_type": "code",
   "execution_count": 55,
   "id": "723a4f6c-a146-468c-afe9-867357dfe558",
   "metadata": {},
   "outputs": [
    {
     "data": {
      "text/plain": [
       "get_ontology(\"http://example.org/music_extended.owl#\")"
      ]
     },
     "execution_count": 55,
     "metadata": {},
     "output_type": "execute_result"
    }
   ],
   "source": [
    "extended_onto.ontology"
   ]
  },
  {
   "cell_type": "code",
   "execution_count": 56,
   "id": "7304ed18-db3f-4c59-aad0-9252f38feb2c",
   "metadata": {},
   "outputs": [
    {
     "data": {
      "text/plain": [
       "[]"
      ]
     },
     "execution_count": 56,
     "metadata": {},
     "output_type": "execute_result"
    }
   ],
   "source": [
    "extended_onto.imported_ontologies"
   ]
  },
  {
   "cell_type": "code",
   "execution_count": 57,
   "id": "7516a17d-a315-49f6-8579-305581f82c0b",
   "metadata": {},
   "outputs": [],
   "source": [
    "for o in extended_onto.imported_ontologies:\n",
    "    print(f\"extended_onto.imported_ontologies: {o}\")"
   ]
  },
  {
   "cell_type": "markdown",
   "id": "6434c02e-b2dd-4ceb-9ee2-5c66660e2bc8",
   "metadata": {},
   "source": [
    "### Ensure music ontology (the RDF we imported) classes are available to `extended_onto`"
   ]
  },
  {
   "cell_type": "code",
   "execution_count": 58,
   "id": "992e92bd-4f1e-476f-824e-ad4274ebe5d7",
   "metadata": {},
   "outputs": [],
   "source": [
    "# Import music ontology into extended ontology for access to classes\n",
    "with extended_onto:\n",
    "    # Make music_onto classes available\n",
    "    if music_onto not in extended_onto.imported_ontologies:\n",
    "        extended_onto.imported_ontologies.append(music_onto)"
   ]
  },
  {
   "cell_type": "code",
   "execution_count": 59,
   "id": "6ec5cd4c-0e92-4693-a40e-2f97f9973925",
   "metadata": {},
   "outputs": [
    {
     "name": "stdout",
     "output_type": "stream",
     "text": [
      "Artist:\thttp://example.org/music#Artist\n",
      "CollaborativeSong:\thttp://example.org/music#CollaborativeSong\n",
      "Song:\thttp://example.org/music#Song\n",
      "Award:\thttp://example.org/music#Award\n",
      "Album:\thttp://example.org/music#Album\n",
      "Genre:\thttp://example.org/music#Genre\n",
      "Single:\thttp://example.org/music#Single\n",
      "SuccessfulLabel:\thttp://example.org/music#SuccessfulLabel\n",
      "RecordLabel:\thttp://example.org/music#RecordLabel\n",
      "ExtendedPlay:\thttp://example.org/music#ExtendedPlay\n",
      "EstablishedArtist:\thttp://example.org/music#EstablishedArtist\n"
     ]
    }
   ],
   "source": [
    "for cls in music_onto.classes():\n",
    "    print(f\"{cls.name}:\\t{cls.iri}\")"
   ]
  },
  {
   "cell_type": "code",
   "execution_count": 60,
   "id": "7efe47c6-31dd-4ceb-8af3-9177bd495e69",
   "metadata": {},
   "outputs": [
    {
     "name": "stdout",
     "output_type": "stream",
     "text": [
      "Song:\thttp://example.org/music_extended.owl#Song\n",
      "Album:\thttp://example.org/music_extended.owl#Album\n",
      "Playlist:\thttp://example.org/music_extended.owl#Playlist\n",
      "Concert:\thttp://example.org/music_extended.owl#Concert\n",
      "MusicVideo:\thttp://example.org/music_extended.owl#MusicVideo\n"
     ]
    }
   ],
   "source": [
    "for cls in extended_onto.classes():\n",
    "    print(f\"{cls.name}:\\t{cls.iri}\")"
   ]
  },
  {
   "cell_type": "markdown",
   "id": "d5270e00-9ebb-4ab5-97f3-1fb50bd8e95c",
   "metadata": {},
   "source": [
    "## Existential Restrictions (**some**)\n",
    "_\"Has at least one relationship of this type\"_"
   ]
  },
  {
   "cell_type": "code",
   "execution_count": 61,
   "id": "4a3eaeec-817d-487d-ae0b-3965a9b1e930",
   "metadata": {},
   "outputs": [],
   "source": [
    "with extended_onto:\n",
    "    # 1. Award-winning artists: Artists who have won some award\n",
    "    class AwardWinningArtist(music_onto.Artist):\n",
    "        comment = [\"Artists who have won at least one award\"]\n",
    "        # equivalent_to: Artist AND hasWonAward some Award\n",
    "        equivalent_to = [\n",
    "            music_onto.Artist & music_onto.hasWonAward.some(music_onto.Award)\n",
    "        ]\n",
    "\n",
    "    # 2. Collaborative artists: Artists who collaborate with some other artist\n",
    "    class CollaborativeArtist(music_onto.Artist):\n",
    "        comment = [\"Artists who collaborate with at least one other artist\"]\n",
    "        # equivalent_to: Artist AND collaboratesWith some Artist\n",
    "        equivalent_to = [\n",
    "            music_onto.Artist & music_onto.collaboratesWith.some(music_onto.Artist)\n",
    "        ]\n",
    "\n",
    "    # 3. Label artists: Artists signed to some record label\n",
    "    class LabelArtist(music_onto.Artist):\n",
    "        comment = [\"Artists signed to at least one record label\"]\n",
    "        # equivalent_to: Artist AND signedTo some RecordLabel\n",
    "        equivalent_to = [\n",
    "            music_onto.Artist & music_onto.signedTo.some(music_onto.RecordLabel)\n",
    "        ]"
   ]
  },
  {
   "cell_type": "markdown",
   "id": "ab3e1581-4492-409d-b4e5-928f89a55522",
   "metadata": {},
   "source": [
    "## Cardinality Restrictions (**exactly, min, max**)\n",
    "_\"Has exactly/at least/at most N relationships\"_  \n",
    "Very much like the One-to-Many, Many-to-One, One-to-One, Many-to-Many cardinality restrictions we see in databases and object-oriented programming\n"
   ]
  },
  {
   "cell_type": "code",
   "execution_count": 62,
   "id": "31dadae8-5734-4af8-9fb8-9cd5b90d752f",
   "metadata": {},
   "outputs": [],
   "source": [
    "with extended_onto:\n",
    "    # 4. Solo songs: Songs performed by exactly one artist\n",
    "    class SoloSong(music_onto.Song):\n",
    "        comment = [\"Songs performed by exactly one artist\"]\n",
    "        # equivalent_to: Song AND performedBy exactly 1 Artist\n",
    "        equivalent_to = [\n",
    "            music_onto.Song & music_onto.performedBy.exactly(1, music_onto.Artist)\n",
    "        ]\n",
    "\n",
    "    # 5. Multi-artist songs: Songs with more than one performer (using min)\n",
    "    class MultiArtistSong(music_onto.Song):\n",
    "        comment = [\"Songs performed by multiple artists\"]\n",
    "        # equivalent_to: Song AND performedBy min 2 Artist\n",
    "        equivalent_to = [\n",
    "            music_onto.Song & music_onto.performedBy.min(2, music_onto.Artist)\n",
    "        ]"
   ]
  },
  {
   "cell_type": "markdown",
   "id": "83a783a8-2ccd-41ac-a725-8b85846b2c3a",
   "metadata": {},
   "source": [
    "## Universal Restrictions (**only**)  \n",
    "_\"All relationships of this type must be to this class\"_"
   ]
  },
  {
   "cell_type": "code",
   "execution_count": 63,
   "id": "5b9d900c-179f-4ccf-af9f-99b506ad813e",
   "metadata": {},
   "outputs": [],
   "source": [
    "# not implemented the inverse relations in the reasoner,\n",
    "# these do not feature in the rdf we imported\n",
    "# so for now we'll just give examples here.\n",
    "with extended_onto:\n",
    "    # 6. Rock-only albums: Albums where all songs are rock genre\n",
    "    # First, create a RockSong class based on genre\n",
    "    class RockSong(music_onto.Song):\n",
    "        comment = [\"Songs with rock genre\"]\n",
    "        # We've not defined \"RockGenre\" etc. either\n",
    "        # RockSong restriction would be defined by \"hasGenre some RockGenre\", but we'll keep it simple\n",
    "        pass\n",
    "\n",
    "    class RockOnlyAlbum(music_onto.Album):\n",
    "        comment = [\"Albums containing only rock songs\"]\n",
    "        # equivalent_to: Album AND featuredOn only RockSong\n",
    "        # Note: We use inverse - albums that only feature rock songs\n",
    "        pass  # Skip this one as featuredOn direction might be complex"
   ]
  },
  {
   "cell_type": "markdown",
   "id": "349b4784-e48e-4da9-b84f-04a81478878e",
   "metadata": {},
   "source": [
    "## Value Restrictions (*hasValue*)\n",
    "_\"Has a specific individual as the relationship target\"_"
   ]
  },
  {
   "cell_type": "code",
   "execution_count": 64,
   "id": "c6c8b31f-f998-4ee4-a820-220beac3552f",
   "metadata": {},
   "outputs": [],
   "source": [
    "# skip for now\n",
    "# with extended_onto:\n",
    "# 7. Genre-specific restrictions using existing Genre instances\n",
    "# We'll need specific genre instances defined, fairly straight forward, let's skip for now"
   ]
  },
  {
   "cell_type": "markdown",
   "id": "366f6965-4039-4a70-91fa-5eb5257baa2b",
   "metadata": {},
   "source": [
    "## Complex Restrictions (combining multiple constraints)"
   ]
  },
  {
   "cell_type": "code",
   "execution_count": 65,
   "id": "017552bd-5c01-43e0-9fa3-9ae0d390c8f1",
   "metadata": {},
   "outputs": [],
   "source": [
    "with extended_onto:\n",
    "    # 8. Established solo artists: Artists with awards AND no collaborations\n",
    "    class EstablishedSoloArtist(music_onto.Artist):\n",
    "        comment = [\"Successful artists who work alone\"]\n",
    "        # equivalent_to: Artist AND hasWonAward some Award AND collaboratesWith exactly 0 Artist\n",
    "        equivalent_to = [\n",
    "            music_onto.Artist\n",
    "            & music_onto.hasWonAward.some(music_onto.Award)\n",
    "            & music_onto.collaboratesWith.exactly(0, music_onto.Artist)\n",
    "        ]\n",
    "\n",
    "    # 9. Popular albums: Albums by award-winning artists with multiple songs\n",
    "    class PopularAlbum(music_onto.Album):\n",
    "        comment = [\"Albums by successful artists with multiple tracks\"]\n",
    "        # This is complex - album released by artist who has awards\n",
    "        # We'll use a simpler version focusing on the album itself\n",
    "        pass  # Skip complex cross-property restrictions for now"
   ]
  },
  {
   "cell_type": "markdown",
   "id": "463dc1c1-ec37-4df0-8145-5551ae6ec847",
   "metadata": {},
   "source": [
    "## Let's test the restrictions now... let the _reasoning_ begin"
   ]
  },
  {
   "cell_type": "markdown",
   "id": "dbff8951-a61f-44bb-a36a-47a4a4469618",
   "metadata": {},
   "source": [
    "### create some more sample data"
   ]
  },
  {
   "cell_type": "code",
   "execution_count": 66,
   "id": "0a77fef9-0a80-4a78-8088-03fbdb2285c8",
   "metadata": {},
   "outputs": [],
   "source": [
    "with extended_onto:\n",
    "    # Create test artists\n",
    "    artist1 = music_onto.Artist(\"TestArtist1\")\n",
    "    artist1.name = [\"Solo Artist\"]\n",
    "\n",
    "    artist2 = music_onto.Artist(\"TestArtist2\")\n",
    "    artist2.name = [\"Collaborative Artist\"]"
   ]
  },
  {
   "cell_type": "code",
   "execution_count": 67,
   "id": "d68a6d8e-597e-4ba8-a9a8-db0cf6aa4813",
   "metadata": {},
   "outputs": [],
   "source": [
    "with extended_onto:\n",
    "    # Create test award\n",
    "    award1 = music_onto.Award(\"TestAward1\")\n",
    "    award1.awardName = [\"Best Artist Award\"]"
   ]
  },
  {
   "cell_type": "code",
   "execution_count": 68,
   "id": "e6dab563-69bf-4b04-8dbe-854ed58f43ab",
   "metadata": {},
   "outputs": [],
   "source": [
    "with extended_onto:\n",
    "    # Create test record label\n",
    "    label1 = music_onto.RecordLabel(\"TestLabel1\")\n",
    "    label1.labelName = [\"Test Records\"]"
   ]
  },
  {
   "cell_type": "code",
   "execution_count": 69,
   "id": "475c4b4f-893e-4f49-a6d5-844f7c769817",
   "metadata": {},
   "outputs": [],
   "source": [
    "with extended_onto:\n",
    "    # Create test songs\n",
    "    solo_song = music_onto.Song(\"SoloSong1\")\n",
    "    solo_song.title = [\"Solo Track\"]\n",
    "    solo_song.performedBy = [artist1]  # Exactly 1 performer -> SoloSong\n",
    "\n",
    "    collab_song = music_onto.Song(\"CollabSong1\")\n",
    "    collab_song.title = [\"Collaboration Track\"]\n",
    "    collab_song.performedBy = [artist1, artist2]  # 2 performers -> MultiArtistSong"
   ]
  },
  {
   "cell_type": "markdown",
   "id": "5c5a6b0d-6be8-4cd0-868c-5ecd72669e67",
   "metadata": {},
   "source": [
    "### Set up relationships to trigger restrictions"
   ]
  },
  {
   "cell_type": "code",
   "execution_count": 70,
   "id": "c4702a29-9ca6-4e7d-981d-057981c28a32",
   "metadata": {},
   "outputs": [],
   "source": [
    "# Make artist1 an award winner (should become AwardWinningArtist)\n",
    "artist1.hasWonAward = [award1]"
   ]
  },
  {
   "cell_type": "code",
   "execution_count": 71,
   "id": "d4e468f3-068b-46d2-ba89-ed23220bedec",
   "metadata": {},
   "outputs": [],
   "source": [
    "# Make artist2 collaborative (should become CollaborativeArtist)\n",
    "artist2.collaboratesWith = [artist1]\n",
    "artist1.collaboratesWith = [artist2]  # Make it bidirectional"
   ]
  },
  {
   "cell_type": "code",
   "execution_count": 72,
   "id": "98729bbe-6ece-4379-8485-d8f80886f95c",
   "metadata": {},
   "outputs": [],
   "source": [
    "# Make artist1 signed to label (should become LabelArtist)\n",
    "artist1.signedTo = [label1]"
   ]
  },
  {
   "cell_type": "code",
   "execution_count": 73,
   "id": "3164dbd2-5397-4601-a2da-c82dcf04d4bb",
   "metadata": {},
   "outputs": [
    {
     "name": "stdout",
     "output_type": "stream",
     "text": [
      "RoadTrip2024 is a ['Playlist']\n",
      "Wembley1986 is a ['Concert']\n",
      "BohemianRhapsodyVideo is a ['MusicVideo']\n",
      "['Solo Artist'] is a ['Artist']\n",
      "['Collaborative Artist'] is a ['Artist']\n",
      "TestAward1 is a ['Award']\n",
      "TestLabel1 is a ['RecordLabel']\n",
      "SoloSong1 is a ['Song']\n",
      "CollabSong1 is a ['Song']\n"
     ]
    }
   ],
   "source": [
    "for individual in extended_onto.individuals():\n",
    "    if hasattr(individual, \"name\") and individual.name:\n",
    "        # individuals may be of more than one type\n",
    "        # or type (the 'is_a' property) may not be defined\n",
    "        current_types = [t.name for t in individual.is_a if hasattr(t, \"name\")]\n",
    "        print(f\"{individual.name} is a {current_types}\")"
   ]
  },
  {
   "cell_type": "markdown",
   "id": "29918b43-d1a1-4451-b5c3-799a51e3c820",
   "metadata": {},
   "source": [
    "### Use one of the bundeled reasoners: HermiT\n",
    "\n",
    "_TODO: Build a full separate workshop on reasoners like HermiT.  \n",
    "This may be confusing (as we are muddling WHAT we want to do - reasoning with ontology, with HOW HermiT works, just more cognitive load and less learning), skip in the first iteration, better to implement a DIY reasoning approach_"
   ]
  },
  {
   "cell_type": "code",
   "execution_count": null,
   "id": "89de4e4d-dd6b-4e00-a98b-9a9378dc8659",
   "metadata": {},
   "outputs": [],
   "source": [
    "with extended_onto:\n",
    "    sync_reasoner_hermit(infer_property_values=True)"
   ]
  },
  {
   "cell_type": "code",
   "execution_count": 75,
   "id": "268d804f-d102-40ea-b939-436e7f9cbd10",
   "metadata": {},
   "outputs": [],
   "source": [
    "restriction_classes = [\n",
    "    \"AwardWinningArtist\",\n",
    "    \"CollaborativeArtist\",\n",
    "    \"LabelArtist\",\n",
    "    \"SoloSong\",\n",
    "    \"MultiArtistSong\",\n",
    "    \"EstablishedSoloArtist\",\n",
    "]"
   ]
  },
  {
   "cell_type": "code",
   "execution_count": 76,
   "id": "ee5f2918-abfa-44e6-8059-59e04d6a9bab",
   "metadata": {},
   "outputs": [
    {
     "name": "stdout",
     "output_type": "stream",
     "text": [
      "RoadTrip2024 is a ['Playlist'] (no restrictions triggered)\n",
      "Wembley1986 is a ['Concert'] (no restrictions triggered)\n",
      "BohemianRhapsodyVideo is a ['MusicVideo'] (no restrictions triggered)\n",
      "['Solo Artist'] is a ['Artist'] (no restrictions triggered)\n",
      "['Collaborative Artist'] is a ['Artist'] (no restrictions triggered)\n",
      "TestAward1 is a ['Award'] (no restrictions triggered)\n",
      "TestLabel1 is a ['RecordLabel'] (no restrictions triggered)\n",
      "SoloSong1 is a ['Song'] (no restrictions triggered)\n",
      "CollabSong1 is a ['Song'] (no restrictions triggered)\n"
     ]
    }
   ],
   "source": [
    "for individual in extended_onto.individuals():\n",
    "    current_types = [t.name for t in individual.is_a if hasattr(t, \"name\")]\n",
    "\n",
    "    # Check if any restriction classes were inferred\n",
    "    restriction_types = [t for t in current_types if t in restriction_classes]\n",
    "\n",
    "    if restriction_types:\n",
    "        print(f\"{individual.name}: {current_types}\")\n",
    "        print(f\"Triggered restrictions: {restriction_types}\")\n",
    "    else:\n",
    "        print(f\"{individual.name} is a {current_types} (no restrictions triggered)\")"
   ]
  },
  {
   "cell_type": "code",
   "execution_count": 77,
   "id": "a94c796e-089b-4eaf-a7f2-f42018f38323",
   "metadata": {},
   "outputs": [
    {
     "name": "stdout",
     "output_type": "stream",
     "text": [
      "\n",
      "Ontology remains consistent\n"
     ]
    }
   ],
   "source": [
    "# Check for inconsistencies\n",
    "inconsistent = list(default_world.inconsistent_classes())\n",
    "if inconsistent:\n",
    "    print(f\"\\nInconsistent classes: {[cls.name for cls in inconsistent]}\")\n",
    "else:\n",
    "    print(\"\\nOntology remains consistent\")"
   ]
  },
  {
   "cell_type": "markdown",
   "id": "927c1603-2761-4da3-8aab-701f41d03fec",
   "metadata": {},
   "source": [
    "### or DIY - no additional reasoner needed  \n",
    "  \n",
    "Here's also why this is important: We get to see how the sausage is made.\n",
    "\n",
    "1. Compare with reasoner results to ensure correctness. \n",
    "2. This is also a fallback option: here we show expected results when reasoner fails/unavailable. In some of the cases the reasoner may not be configured correctly or may not be working, we can do the same thing here instead.  \n",
    "3. DIY helps us easily identify if restrictions are defined correctly\n",
    "4. SHOW and TELL: Demonstrate the logic behind OWL restrictions in familiar Python"
   ]
  },
  {
   "cell_type": "code",
   "execution_count": 78,
   "id": "2ad681bc-86bb-495f-be71-b2bf2bf17007",
   "metadata": {},
   "outputs": [
    {
     "name": "stdout",
     "output_type": "stream",
     "text": [
      "['Solo Artist'] should be: ['AwardWinningArtist', 'CollaborativeArtist', 'LabelArtist']\n",
      "['Collaborative Artist'] should be: ['CollaborativeArtist']\n",
      "SoloSong1 should be: ['SoloSong']\n",
      "CollabSong1 should be: ['MultiArtistSong']\n"
     ]
    }
   ],
   "source": [
    "for individual in extended_onto.individuals():\n",
    "    if not hasattr(individual, \"name\") or not individual.name:\n",
    "        continue\n",
    "\n",
    "    individual_name = individual.name\n",
    "    # manual_types replicates the LOGIC of OWL restrictions in Python code\n",
    "    # Each check below mirrors an OWL restriction definition we created earlier\n",
    "    # This serves as a \"ground truth\" to verify what the reasoner SHOULD infer\n",
    "    manual_types = (\n",
    "        []\n",
    "    )  # List to collect restriction classes this individual should belong to\n",
    "\n",
    "    # Check AwardWinningArtist restriction\n",
    "    # OWL: Artist & hasWonAward.some(Award)\n",
    "    # Python equivalent: \"Is this an Artist AND does it have at least one award?\"\n",
    "    if (\n",
    "        isinstance(individual, music_onto.Artist)\n",
    "        and hasattr(individual, \"hasWonAward\")\n",
    "        and individual.hasWonAward\n",
    "    ):\n",
    "        manual_types.append(\"AwardWinningArtist\")\n",
    "        # What's going on: We manually check the same condition the OWL reasoner would check\n",
    "        # If True, this individual should be classified as AwardWinningArtist\n",
    "\n",
    "    # Check CollaborativeArtist restriction\n",
    "    # OWL: Artist & collaboratesWith.some(Artist)\n",
    "    # Python equivalent: \"Is this an Artist AND does it collaborate with someone?\"\n",
    "    if (\n",
    "        isinstance(individual, music_onto.Artist)\n",
    "        and hasattr(individual, \"collaboratesWith\")\n",
    "        and individual.collaboratesWith\n",
    "    ):\n",
    "        manual_types.append(\"CollaborativeArtist\")\n",
    "        # This checks: \"Does this artist have at least one collaboration relationship?\"\n",
    "\n",
    "    # Check LabelArtist restriction\n",
    "    # OWL: Artist & signedTo.some(RecordLabel)\n",
    "    # Python equivalent: \"Is this an Artist AND is it signed to a label?\"\n",
    "    if (\n",
    "        isinstance(individual, music_onto.Artist)\n",
    "        and hasattr(individual, \"signedTo\")\n",
    "        and individual.signedTo\n",
    "    ):\n",
    "        manual_types.append(\"LabelArtist\")\n",
    "        # We're checking: \"Does this artist have a record label contract?\"\n",
    "\n",
    "    # Check SoloSong restriction\n",
    "    # OWL: Song & performedBy.exactly(1, Artist)\n",
    "    # Python equivalent: \"Is this a Song AND does it have exactly 1 performer?\"\n",
    "    if (\n",
    "        isinstance(individual, music_onto.Song)\n",
    "        and hasattr(individual, \"performedBy\")\n",
    "        and len(individual.performedBy) == 1\n",
    "    ):\n",
    "        manual_types.append(\"SoloSong\")\n",
    "        # Checks cardinality: exactly one performer, no more, no less\n",
    "\n",
    "    # Check MultiArtistSong restriction\n",
    "    # OWL: Song & performedBy.min(2, Artist)\n",
    "    # Python equivalent: \"Is this a Song AND does it have 2+ performers?\"\n",
    "    if (\n",
    "        isinstance(individual, music_onto.Song)\n",
    "        and hasattr(individual, \"performedBy\")\n",
    "        and len(individual.performedBy) >= 2\n",
    "    ):\n",
    "        manual_types.append(\"MultiArtistSong\")\n",
    "        # This checks minimum cardinality: at least 2 performers\n",
    "\n",
    "    if manual_types:\n",
    "        print(f\"{individual_name} should be: {manual_types}\")\n",
    "        # This shows what classes the individual SHOULD belong to based on our manual logic\n",
    "        # If reasoner works correctly, it should infer the same classifications"
   ]
  },
  {
   "cell_type": "markdown",
   "id": "0da04890-3e29-4822-887e-11bae8d26ece",
   "metadata": {},
   "source": [
    "## Ontology driven vs traditional"
   ]
  },
  {
   "cell_type": "markdown",
   "id": "8dd60f99-3518-49f3-bcc2-bc4906f976c5",
   "metadata": {},
   "source": [
    "### Traditional Database Approach \n",
    "In traditional databases, you must EXPLICITLY state every fact:\n",
    "- INSERT INTO artist_types (artist_id, type) VALUES (1, 'AwardWinning')\n",
    "- You have to manually maintain all derived data\n",
    "- If artist wins new award, you must remember to update artist_types table\n",
    "- No automatic inference - everything is manual labor"
   ]
  },
  {
   "cell_type": "markdown",
   "id": "2bc426dc-0a8a-4ab6-bbbf-62e927c1e778",
   "metadata": {},
   "source": [
    "### Ontology driven approach (OWL Semantics here) \n",
    "In OWL, you define LOGICAL RULES (restrictions) and the reasoner applies them automatically:"
   ]
  },
  {
   "cell_type": "markdown",
   "id": "78a5022b-ec06-407f-9c09-a3f39a481492",
   "metadata": {},
   "source": [
    "1. DEFINE RULES (OWL Restrictions):\n",
    "\n",
    "   ```python\n",
    "   class AwardWinningArtist(Artist):\n",
    "       equivalent_to = [Artist & hasWonAward.some(Award)]\n",
    "    ```\n",
    "   This means: \"Any individual that is an Artist AND has won some Award \n",
    "               is AUTOMATICALLY an AwardWinningArtist\""
   ]
  },
  {
   "cell_type": "markdown",
   "id": "ff6dcfbb-a457-4754-8912-111fc92e300f",
   "metadata": {},
   "source": [
    "2. ASSERT FACTS (Instance Data):\n",
    "   ```python\n",
    "   freddie = Artist(\"Freddie\") \n",
    "   grammy = Award(\"Grammy\")\n",
    "   freddie.hasWonAward = [grammy]\n",
    "   ```\n",
    "   We only state the basic facts, not the derived conclusions"
   ]
  },
  {
   "cell_type": "markdown",
   "id": "03ec9e1f-b73d-45a9-8a35-ca12038ce86d",
   "metadata": {},
   "source": [
    "3. REASONER APPLIES LOGIC:\n",
    "   The reasoner reads the restriction rule and checks all individuals:\n",
    "   - Is freddie an Artist? YES\n",
    "   - Does freddie have some Award? YES (has Grammy)\n",
    "   - Therefore: freddie is AUTOMATICALLY classified as AwardWinningArtist\n",
    "   \n",
    "   The reasoner adds this new fact without human intervention:\n",
    "   ```python\n",
    "   freddie.is_a = [Artist, AwardWinningArtist]\n",
    "   ```"
   ]
  },
  {
   "cell_type": "markdown",
   "id": "77accd91-68e2-48cc-88ff-c195002fa342",
   "metadata": {},
   "source": [
    "### Why this \"Intelligent\" (_I prefer \"Automated\"_) approach to data organization is cool "
   ]
  },
  {
   "cell_type": "markdown",
   "id": "7ece7961-c200-471c-b23b-d6cd1f0fda27",
   "metadata": {},
   "source": [
    "1. AUTOMATIC DISCOVERY:\n",
    "   - System discovers new facts from existing data + rules\n",
    "   - No need to manually maintain derived classifications\n",
    "   - As data changes, classifications update automatically"
   ]
  },
  {
   "cell_type": "markdown",
   "id": "cac0e534-1bd7-423c-8466-73f36e491d9d",
   "metadata": {},
   "source": [
    "2. CONSISTENCY MAINTENANCE:\n",
    "   - If artist loses awards, they're automatically reclassified\n",
    "   - If new restriction rules are added, they apply to all existing data\n",
    "   - Impossible to have inconsistent derived data"
   ]
  },
  {
   "cell_type": "markdown",
   "id": "9115b02c-fd50-4226-b7c5-71502ba3ee16",
   "metadata": {},
   "source": [
    "3. LOGICAL INFERENCE:\n",
    "   - Complex multi-step reasoning chains\n",
    "   - If A implies B and B implies C, then A implies C (transitivity)\n",
    "   - Much more powerful than simple database queries"
   ]
  },
  {
   "cell_type": "markdown",
   "id": "0fd53750-298e-429e-8a4f-a5e5baf9b053",
   "metadata": {},
   "source": [
    "4. KNOWLEDGE REUSE:\n",
    "   - Same restriction rules work across different datasets\n",
    "   - Rules encode domain expertise that can be shared\n",
    "   - New data automatically inherits accumulated knowledge"
   ]
  },
  {
   "cell_type": "markdown",
   "id": "8a686091-2695-44c9-8f02-a1faea0e4a74",
   "metadata": {},
   "source": [
    "#### Example Workflow "
   ]
  },
  {
   "cell_type": "markdown",
   "id": "ecdb4a45-a926-4202-a39c-c538d263655b",
   "metadata": {},
   "source": [
    "STEP 1 - Define Rules:\n",
    "```python\n",
    "class CollaborativeArtist(Artist):\n",
    "    equivalent_to = [Artist & collaboratesWith.some(Artist)]\n",
    "```"
   ]
  },
  {
   "cell_type": "markdown",
   "id": "6d48a1f4-63ab-4ca2-8e60-14f0389b3709",
   "metadata": {},
   "source": [
    "STEP 2 - Add Data:\n",
    "```python\n",
    "john = Artist(\"John\")\n",
    "paul = Artist(\"Paul\") \n",
    "john.collaboratesWith = [paul]\n",
    "```"
   ]
  },
  {
   "cell_type": "markdown",
   "id": "c65dedc2-3ff3-4317-8668-9e9a579aa92c",
   "metadata": {},
   "source": [
    "STEP 3 - Run Reasoner:\n",
    "```python\n",
    "sync_reasoner_hermit()\n",
    "# or our homemade, handcrafted DIY reasoner...\n",
    "```"
   ]
  },
  {
   "cell_type": "markdown",
   "id": "a8c958bb-155e-4d5e-b0a1-c028445403a1",
   "metadata": {},
   "source": [
    "STEP 4 - Automatic Results:\n",
    "```python\n",
    "# System automatically infers:\n",
    "john.is_a = [Artist, CollaborativeArtist]\n",
    "# Without any manual classification!\n",
    "```"
   ]
  },
  {
   "cell_type": "markdown",
   "id": "5ff769e5-d9cd-436d-b27d-2de28aefcc5b",
   "metadata": {},
   "source": [
    "### Contrast with Traditional/Manual Approach "
   ]
  },
  {
   "cell_type": "markdown",
   "id": "b290b165-ba29-48d4-b9c3-a95353315257",
   "metadata": {},
   "source": [
    "MANUAL (Traditional):\n",
    "- Add john and paul to artists table\n",
    "- Add collaboration to collaborations table  \n",
    "- Remember to add john to collaborative_artists table\n",
    "- Remember to update if collaborations change\n",
    "- Write application code to maintain consistency"
   ]
  },
  {
   "cell_type": "markdown",
   "id": "209d419b-dfd2-4202-867a-a2d75281a663",
   "metadata": {},
   "source": [
    "AUTOMATIC (OWL):\n",
    "- Define restriction once: CollaborativeArtist = Artist & collaboratesWith.some(Artist)\n",
    "- Add basic facts: john collaboratesWith paul\n",
    "- Reasoner automatically handles all derived classifications\n",
    "- Changes propagate automatically\n",
    "- No custom application logic needed"
   ]
  },
  {
   "cell_type": "markdown",
   "id": "130bef09-650c-4ad7-a4fe-75ba4e0f0f87",
   "metadata": {},
   "source": [
    "So, Ontologies (OWL in our case) enable \"intelligent\" (_\"automated\"_?) data organization - the system can reason\n",
    "about your data using domain knowledge encoded as logical rules, discovering new facts and maintaining consistency without constant human intervention."
   ]
  },
  {
   "cell_type": "markdown",
   "id": "81bbf342-c8c3-45bf-959b-a802c930ea16",
   "metadata": {},
   "source": [
    "# Serializing Music Ontology Data"
   ]
  },
  {
   "cell_type": "code",
   "execution_count": 79,
   "id": "a773a50d-61bb-40c6-a666-26aebf4e77ef",
   "metadata": {},
   "outputs": [],
   "source": [
    "# Save the extended ontology\n",
    "extended_onto.save(file=\"toy_music_extended_owlready.owl\", format=\"rdfxml\")\n",
    "extended_onto.save(file=\"toy_music_extended_owlready.ttl\", format=\"turtle\")"
   ]
  },
  {
   "cell_type": "code",
   "execution_count": 80,
   "id": "6c51103a-70f1-4205-aa26-abee429ed6d2",
   "metadata": {},
   "outputs": [],
   "source": [
    "# Save only new classes (create a focused ontology)\n",
    "focused_onto = get_ontology(\"http://example.org/music_focused.owl\")\n",
    "with focused_onto:\n",
    "    # Import specific classes from the extended ontology\n",
    "    class Playlist(extended_onto.Playlist):\n",
    "        pass\n",
    "\n",
    "    class Concert(extended_onto.Concert):\n",
    "        pass\n",
    "\n",
    "    class MusicVideo(extended_onto.MusicVideo):\n",
    "        pass\n",
    "\n",
    "\n",
    "focused_onto.save(file=\"toy_music_focused_owlready.owl\")"
   ]
  },
  {
   "cell_type": "code",
   "execution_count": 81,
   "id": "54bb07b4-16fa-428e-bd5a-e1ae764644d8",
   "metadata": {},
   "outputs": [
    {
     "name": "stdout",
     "output_type": "stream",
     "text": [
      "Ontology saved in multiple formats:\n",
      "RDF/XML: toy_music_extended_owlready.owl\n",
      "Turtle: toy_music_extended_owlready.ttl\n",
      "Focused: toy_music_focused_owlready.owl\n"
     ]
    }
   ],
   "source": [
    "# Export to different formats\n",
    "print(\"Ontology saved in multiple formats:\")\n",
    "print(f\"RDF/XML: toy_music_extended_owlready.owl\")\n",
    "print(f\"Turtle: toy_music_extended_owlready.ttl\")\n",
    "print(f\"Focused: toy_music_focused_owlready.owl\")"
   ]
  },
  {
   "cell_type": "code",
   "execution_count": 82,
   "id": "9c30932e-2cbc-477c-b1a4-46f4c8513f3e",
   "metadata": {},
   "outputs": [
    {
     "name": "stdout",
     "output_type": "stream",
     "text": [
      "\n",
      "Ontology statistics:\n",
      "Classes: 14\n",
      "Properties: 9\n",
      "Individuals: 9\n"
     ]
    }
   ],
   "source": [
    "# Print ontology statistics\n",
    "print(f\"\\nOntology statistics:\")\n",
    "print(f\"Classes: {len(list(extended_onto.classes()))}\")\n",
    "print(f\"Properties: {len(list(extended_onto.properties()))}\")\n",
    "print(f\"Individuals: {len(list(extended_onto.individuals()))}\")"
   ]
  },
  {
   "cell_type": "code",
   "execution_count": 83,
   "id": "74948ee0-b88e-42b9-9b8a-8cd5323ecb43",
   "metadata": {},
   "outputs": [],
   "source": [
    "# Destroy ontology (clean up remember?, also helpful if the ontology is too big...)\n",
    "# extended_onto.destroy()"
   ]
  },
  {
   "cell_type": "markdown",
   "id": "6c1ad09c-88b2-40a6-8d65-bc97904e631f",
   "metadata": {},
   "source": [
    "Different serialization formats serve different purposes. \n",
    "* Turtle is human-readable for debugging\n",
    "* XML integrates with OWL tools\n",
    "* JSON-LD works with web applications.\n",
    "* Separating new classes helps with modular ontology development."
   ]
  },
  {
   "cell_type": "markdown",
   "id": "906d6fac-2286-473f-9cbc-d25eacc6b486",
   "metadata": {},
   "source": [
    "."
   ]
  }
 ],
 "metadata": {
  "kernelspec": {
   "display_name": "Python 3 (ipykernel)",
   "language": "python",
   "name": "python3"
  },
  "language_info": {
   "codemirror_mode": {
    "name": "ipython",
    "version": 3
   },
   "file_extension": ".py",
   "mimetype": "text/x-python",
   "name": "python",
   "nbconvert_exporter": "python",
   "pygments_lexer": "ipython3",
   "version": "3.11.7"
  }
 },
 "nbformat": 4,
 "nbformat_minor": 5
}
