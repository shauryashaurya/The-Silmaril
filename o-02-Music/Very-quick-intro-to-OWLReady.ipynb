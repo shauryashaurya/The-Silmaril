{
 "cells": [
  {
   "cell_type": "markdown",
   "id": "6a5f12bf-d223-4194-9ce7-fd26857f86b4",
   "metadata": {},
   "source": [
    "# Playing with OWLready (`owlready2`)"
   ]
  },
  {
   "cell_type": "code",
   "execution_count": 4,
   "id": "fc76f0f2-7299-46c1-8c39-760399182e92",
   "metadata": {},
   "outputs": [],
   "source": [
    "# Install owlready2\n",
    "# !pip install owlready2"
   ]
  },
  {
   "cell_type": "code",
   "execution_count": 5,
   "id": "3d5a2b4b-3443-4880-a895-1f3fb6858f58",
   "metadata": {},
   "outputs": [],
   "source": [
    "# Import essential modules\n",
    "from owlready2 import *\n",
    "import datetime"
   ]
  },
  {
   "cell_type": "markdown",
   "id": "4762d7ec-481b-4322-80cb-19c754ae07e3",
   "metadata": {},
   "source": [
    "# Your First OWL Ontology"
   ]
  },
  {
   "cell_type": "code",
   "execution_count": 6,
   "id": "500dd280-13e4-4579-a9b2-649dc1964514",
   "metadata": {},
   "outputs": [],
   "source": [
    "# Create a new ontology\n",
    "onto = get_ontology(\"http://example.org/music.owl\")"
   ]
  },
  {
   "cell_type": "code",
   "execution_count": 39,
   "id": "96d6094a-6958-456a-a515-1a8b9d6efd1c",
   "metadata": {},
   "outputs": [],
   "source": [
    "# Define classes using Python class syntax\n",
    "with onto:\n",
    "    class Song(Thing):\n",
    "        pass\n",
    "    \n",
    "    class Artist(Thing):\n",
    "        pass\n",
    "    \n",
    "    # Define properties as Python properties\n",
    "    class performedBy(ObjectProperty):\n",
    "        domain = [Song]\n",
    "        range = [Artist]\n",
    "    \n",
    "    class title(DataProperty):\n",
    "        domain = [Song]\n",
    "        range = [str]\n",
    "\n",
    "    class title(AnnotationProperty):\n",
    "        pass\n",
    "    \n",
    "    class comment(AnnotationProperty):\n",
    "        pass\n",
    "\n",
    "    "
   ]
  },
  {
   "cell_type": "code",
   "execution_count": 40,
   "id": "13ed25e2-b27c-4743-aab6-a4399b53c756",
   "metadata": {},
   "outputs": [],
   "source": [
    "# Create instances\n",
    "bohemian_rhapsody = Song(\"BohemianRhapsody\")\n",
    "queen = Artist(\"Queen\")"
   ]
  },
  {
   "cell_type": "code",
   "execution_count": 41,
   "id": "94e9f27d-72ab-4282-98ca-58e7f233148b",
   "metadata": {},
   "outputs": [],
   "source": [
    "# Set properties using Python assignment\n",
    "bohemian_rhapsody.title = [\"Bohemian Rhapsody\"]\n",
    "bohemian_rhapsody.performedBy = [queen]"
   ]
  },
  {
   "cell_type": "code",
   "execution_count": 42,
   "id": "53a0ba4b-87e3-4736-ac79-1c835bb924ca",
   "metadata": {},
   "outputs": [
    {
     "name": "stdout",
     "output_type": "stream",
     "text": [
      "Song: Bohemian Rhapsody\n",
      "Performed by: music.Queen\n"
     ]
    }
   ],
   "source": [
    "print(f\"Song: {bohemian_rhapsody.title[0]}\")\n",
    "print(f\"Performed by: {bohemian_rhapsody.performedBy[0]}\")"
   ]
  },
  {
   "cell_type": "code",
   "execution_count": 43,
   "id": "fe38828a-c82f-4acf-9a5c-1322ac8ae511",
   "metadata": {},
   "outputs": [],
   "source": [
    "# dir(onto)"
   ]
  },
  {
   "cell_type": "code",
   "execution_count": 44,
   "id": "a578035a-078c-4eb5-b4b0-5a056610ce2d",
   "metadata": {},
   "outputs": [],
   "source": [
    "# dir(bohemian_rhapsody)"
   ]
  },
  {
   "cell_type": "markdown",
   "id": "09e0335d-8ff7-41a7-8184-d5988fc333bb",
   "metadata": {},
   "source": [
    "# Namespaces"
   ]
  },
  {
   "cell_type": "code",
   "execution_count": null,
   "id": "5c31adce-3686-43f7-8d8a-1c325666c48d",
   "metadata": {},
   "outputs": [],
   "source": [
    "# Set ontology metadata\n",
    "onto.metadata.title = [\"Music Ontology\"]\n",
    "onto.metadata.comment = [\"An ontology for music domain modeling\"]\n",
    "\n",
    "# Access the ontology's namespace\n",
    "print(f\"Ontology IRI: {onto.base_iri}\")\n",
    "print(f\"All classes: {list(onto.classes())}\")\n",
    "print(f\"All properties: {list(onto.properties())}\")"
   ]
  },
  {
   "cell_type": "code",
   "execution_count": 48,
   "id": "22d67848-2e5f-499b-a770-21dbe70bf38e",
   "metadata": {},
   "outputs": [
    {
     "name": "stdout",
     "output_type": "stream",
     "text": [
      "FOAF ontology loaded successfully\n",
      "FOAF classes:\n",
      "  Class\n",
      "  Person\n",
      "  Person\n",
      "  Agent\n",
      "  Agent\n",
      "  Person\n",
      "  SpatialThing\n",
      "  Document\n",
      "  Organization\n",
      "  Project\n",
      "  Document\n",
      "  Organization\n",
      "  Group\n",
      "  Agent-3\n",
      "  Project\n",
      "  Image\n",
      "  PersonalProfileDocument\n",
      "  OnlineAccount\n",
      "  OnlineGamingAccount\n",
      "  OnlineEcommerceAccount\n",
      "  OnlineChatAccount\n",
      "FOAF properties:\n",
      "  mbox_sha1sum\n",
      "  gender\n",
      "  geekcode\n",
      "  dnaChecksum\n",
      "  sha1\n",
      "  title\n",
      "  nick\n",
      "  jabberID\n",
      "  aimChatID\n",
      "  icqChatID\n",
      "  yahooChatID\n",
      "  msnChatID\n",
      "  name\n",
      "  firstName\n",
      "  givenname\n",
      "  surname\n",
      "  family_name\n",
      "  plan\n",
      "  accountName\n",
      "  birthday\n",
      "  mbox\n",
      "  based_near\n",
      "  phone\n",
      "  homepage\n",
      "  page\n",
      "  weblog\n",
      "  tipjar\n",
      "  made\n",
      "  maker\n",
      "  img\n",
      "  depiction\n",
      "  depicts\n",
      "  thumbnail\n",
      "  myersBriggs\n",
      "  workplaceHomepage\n",
      "  workInfoHomepage\n",
      "  schoolHomepage\n",
      "  knows\n",
      "  interest\n",
      "  topic_interest\n",
      "  publications\n",
      "  currentProject\n",
      "  pastProject\n",
      "  fundedBy\n",
      "  logo\n",
      "  topic\n",
      "  primaryTopic\n",
      "  theme\n",
      "  holdsAccount\n",
      "  accountServiceHomepage\n",
      "  member\n",
      "  assurance\n",
      "  src_assurance\n",
      "  term_status\n",
      "  description\n",
      "  title\n",
      "  date\n",
      "  membershipClass\n"
     ]
    },
    {
     "data": {
      "text/plain": [
       "get_ontology(\"http://xmlns.com/foaf/0.1/\")"
      ]
     },
     "execution_count": 48,
     "metadata": {},
     "output_type": "execute_result"
    }
   ],
   "source": [
    "# You can also work with imported ontologies\n",
    "# foaf = get_ontology(\"http://xmlns.com/foaf/0.1/\").load()\n",
    "# Load FOAF ontology from web\n",
    "try:\n",
    "    foaf = get_ontology(\"http://xmlns.com/foaf/0.1/\").load()\n",
    "    print(\"FOAF ontology loaded successfully\")\n",
    "    \n",
    "    # Explore FOAF classes\n",
    "    print(\"FOAF classes:\")\n",
    "    for cls in foaf.classes():\n",
    "        print(f\"  {cls.name}\")\n",
    "    \n",
    "    # Explore FOAF properties  \n",
    "    print(\"FOAF properties:\")\n",
    "    for prop in foaf.properties():\n",
    "        print(f\"  {prop.name}\")\n",
    "        \n",
    "except Exception as e:\n",
    "    print(f\"Failed to load FOAF: {e}\")\n",
    "    # Define minimal FOAF classes locally\n",
    "    with onto:\n",
    "        class Person(Thing): pass\n",
    "        class name(DataProperty): \n",
    "            domain = [Person]\n",
    "            range = [str]\n",
    "foaf"
   ]
  },
  {
   "cell_type": "code",
   "execution_count": null,
   "id": "8cbb6ecb-60bd-4e6a-87c2-630194e6f950",
   "metadata": {},
   "outputs": [],
   "source": [
    "# Use FOAF in music ontology\n",
    "with onto:\n",
    "    # Extend Artist to be a FOAF Person\n",
    "    class Artist(foaf.Person):  # Inherits from FOAF Person\n",
    "        pass\n",
    "    \n",
    "    class bandMember(ObjectProperty):\n",
    "        domain = [Artist] \n",
    "        range = [foaf.Person]  # Can reference any FOAF Person\n",
    "\n",
    "# Create instances using FOAF properties\n",
    "freddie = Artist(\"FreddieMe\")\n",
    "freddie.foaf.name = [\"Freddie Mercury\"]  # Use FOAF name property\n",
    "freddie.name = [\"Freddie Mercury\"]       # Or music ontology name property\n",
    "\n",
    "print(f\"Artist created: {freddie.foaf.name[0]}\")"
   ]
  },
  {
   "cell_type": "code",
   "execution_count": 38,
   "id": "81c2efd5-fc9b-4dc5-af85-6d296f31c8dd",
   "metadata": {},
   "outputs": [
    {
     "data": {
      "text/plain": [
       "['__class__',\n",
       " '__delattr__',\n",
       " '__dict__',\n",
       " '__dir__',\n",
       " '__doc__',\n",
       " '__eq__',\n",
       " '__format__',\n",
       " '__ge__',\n",
       " '__getattr__',\n",
       " '__getattribute__',\n",
       " '__getstate__',\n",
       " '__gt__',\n",
       " '__hash__',\n",
       " '__init__',\n",
       " '__init_subclass__',\n",
       " '__iter__',\n",
       " '__le__',\n",
       " '__lt__',\n",
       " '__module__',\n",
       " '__ne__',\n",
       " '__new__',\n",
       " '__reduce__',\n",
       " '__reduce_ex__',\n",
       " '__repr__',\n",
       " '__setattr__',\n",
       " '__sizeof__',\n",
       " '__str__',\n",
       " '__subclasshook__',\n",
       " '__weakref__',\n",
       " 'namespace',\n",
       " 'storid']"
      ]
     },
     "execution_count": 38,
     "metadata": {},
     "output_type": "execute_result"
    }
   ],
   "source": [
    "for i in onto.metadata:\n",
    "    print(i)\n",
    "dir(onto.metadata)"
   ]
  },
  {
   "cell_type": "markdown",
   "id": "25cb9dab-86ca-40ce-8b73-f97d41721c4a",
   "metadata": {},
   "source": [
    "# Loading External RDF/OWL Data"
   ]
  },
  {
   "cell_type": "code",
   "execution_count": 18,
   "id": "aaa79719-2fb4-409a-af67-5fc032abc384",
   "metadata": {},
   "outputs": [],
   "source": [
    "# Load the existing music ontology\n",
    "music_onto = get_ontology(\"./rdf_output/music_ontology.rdf\").load()"
   ]
  },
  {
   "cell_type": "code",
   "execution_count": 19,
   "id": "5358aa7c-6df9-4279-8ff7-06cfc621bd8d",
   "metadata": {},
   "outputs": [
    {
     "name": "stdout",
     "output_type": "stream",
     "text": [
      "Classes in the ontology:\n",
      "  Artist: ['A person or group who creates or performs music']\n",
      "  CollaborativeSong: ['A song performed by multiple artists']\n",
      "  Song: ['A musical composition']\n",
      "  Award: ['A recognition given for musical achievement']\n",
      "  Album: ['A collection of songs released together']\n",
      "  Genre: ['A category or style of music']\n",
      "  Single: ['A song released as a standalone track or as a primary track from an album']\n",
      "  SuccessfulLabel: ['A record label with multiple award-winning artists']\n",
      "  RecordLabel: ['A company that manages the production, distribution, and promotion of music']\n",
      "  ExtendedPlay: ['A musical recording that contains more music than a single but is shorter than an album']\n",
      "  EstablishedArtist: ['An artist with multiple albums and awards']\n"
     ]
    }
   ],
   "source": [
    "# Explore loaded classes\n",
    "print(\"Classes in the ontology:\")\n",
    "for cls in music_onto.classes():\n",
    "    print(f\"  {cls.name}: {cls.comment}\")"
   ]
  },
  {
   "cell_type": "code",
   "execution_count": 20,
   "id": "75f827ac-191e-412b-81cc-55922612fffc",
   "metadata": {},
   "outputs": [
    {
     "name": "stdout",
     "output_type": "stream",
     "text": [
      "\n",
      "Properties in the ontology:\n",
      "  popularityScore: domain=[], range=[<class 'int'>]\n",
      "  nationality: domain=[], range=[<class 'str'>]\n",
      "  description: domain=[], range=[<class 'str'>]\n",
      "  location: domain=[], range=[<class 'str'>]\n",
      "  labelName: domain=[], range=[<class 'str'>]\n",
      "  title: domain=[], range=[<class 'str'>]\n",
      "  birthDate: domain=[], range=[<class 'datetime.date'>]\n",
      "  awardName: domain=[], range=[<class 'str'>]\n",
      "  collaborationStrength: domain=[], range=[<class 'int'>]\n",
      "  name: domain=[], range=[<class 'str'>]\n",
      "  awardingBody: domain=[], range=[<class 'str'>]\n",
      "  releaseYear: domain=[], range=[<class 'int'>]\n",
      "  labelSuccessRating: domain=[], range=[<class 'int'>]\n",
      "  albumTitle: domain=[], range=[<class 'str'>]\n",
      "  year: domain=[], range=[<class 'int'>]\n",
      "  duration: domain=[], range=[<class 'int'>]\n",
      "  genreName: domain=[], range=[<class 'str'>]\n",
      "  releaseDate: domain=[], range=[<class 'datetime.date'>]\n",
      "  collaboratesWith: domain=[], range=[]\n",
      "  influencedBy: domain=[], range=[]\n",
      "  performedBy: domain=[], range=[]\n",
      "  hasGenre: domain=[], range=[]\n",
      "  hasWonAward: domain=[], range=[]\n",
      "  releasedByLabel: domain=[], range=[]\n",
      "  signedTo: domain=[], range=[]\n",
      "  releasedByArtist: domain=[], range=[]\n",
      "  contemporaryOf: domain=[], range=[]\n",
      "  featuredOn: domain=[], range=[]\n",
      "  isContributor: domain=[], range=[]\n"
     ]
    }
   ],
   "source": [
    "# Explore properties\n",
    "print(\"\\nProperties in the ontology:\")\n",
    "for prop in music_onto.properties():\n",
    "    print(f\"  {prop.name}: domain={prop.domain}, range={prop.range}\")"
   ]
  },
  {
   "cell_type": "code",
   "execution_count": 21,
   "id": "12d1ad7e-96ec-4b21-a0ed-b3b24fcc2acf",
   "metadata": {},
   "outputs": [
    {
     "name": "stdout",
     "output_type": "stream",
     "text": [
      "\n",
      "Total classes: 11\n",
      "Total properties: 29\n"
     ]
    }
   ],
   "source": [
    "# Check reasoner-inferred classes\n",
    "print(f\"\\nTotal classes: {len(list(music_onto.classes()))}\")\n",
    "print(f\"Total properties: {len(list(music_onto.properties()))}\")"
   ]
  },
  {
   "cell_type": "markdown",
   "id": "e1aaca4e-fde7-4b9b-9258-c947c2e36309",
   "metadata": {},
   "source": [
    "# Basic Queries"
   ]
  },
  {
   "cell_type": "markdown",
   "id": "15a5bdbe-db32-4a20-a2bf-566165da2d11",
   "metadata": {},
   "source": [
    "owlready2 offers two query approaches.   \n",
    "* Python iteration and comprehensions work well for simple queries.\n",
    "* SPARQL handles complex aggregations that would be harder to maintain in pure Python."
   ]
  },
  {
   "cell_type": "code",
   "execution_count": 22,
   "id": "29f06520-1de9-4639-8c44-57a30f395a08",
   "metadata": {},
   "outputs": [],
   "source": [
    "# Helper function\n",
    "def format_sparql_results(results, query_description = \"\"):\n",
    "    print(f\"\\n{query_description}\")\n",
    "    print(\"=\" * len(query_description))\n",
    "    # \n",
    "    results_list = list(results)\n",
    "    if not results_list:\n",
    "        print(\"No results found.\")\n",
    "        return\n",
    "    # \n",
    "    # Get variable names from first result\n",
    "    if hasattr(results_list[0], '__dict__'):\n",
    "        # print('__dict__ found in results')\n",
    "        headers = list(results_list[0].__dict__.keys())\n",
    "    else:\n",
    "        headers = [f\"col_{i}\" for i in range(len(results_list[0]))]\n",
    "    # print ('headers = ',headers)\n",
    "    # \n",
    "    # Format headers\n",
    "    print(\" | \".join(f\"{h:20}\" for h in headers))\n",
    "    print(\"-\" * (23 * len(headers) - 3))\n",
    "    \n",
    "    # Format rows\n",
    "    for row in results_list[:10]:  # Limit to first 10 results\n",
    "        formatted_row = []\n",
    "        for item in row:\n",
    "            if item is None:\n",
    "                formatted_row.append(\"None\")\n",
    "            elif hasattr(item, 'split') and '#' in str(item):\n",
    "                # Extract local name from URI\n",
    "                formatted_row.append(str(item).split('#')[-1])\n",
    "            elif hasattr(item, 'split') and '/' in str(item):\n",
    "                # Extract last part of path\n",
    "                formatted_row.append(str(item).split('/')[-1])\n",
    "            else:\n",
    "                formatted_row.append(str(item))\n",
    "        print(\" | \".join(f\"{item:20}\" for item in formatted_row))\n",
    "    \n",
    "    if len(results_list) > 10:\n",
    "        print(f\"... and {len(results_list) - 10} more results\")\n",
    "\n",
    "\n",
    "# Usage:\n",
    "# format_sparql_results(results, description)"
   ]
  },
  {
   "cell_type": "code",
   "execution_count": 27,
   "id": "84c256f4-123a-4bd2-8246-bb8a34cd3595",
   "metadata": {},
   "outputs": [
    {
     "name": "stdout",
     "output_type": "stream",
     "text": [
      "Query 1: Songs and performers\n"
     ]
    },
    {
     "data": {
      "text/plain": [
       "['song_song_421 performed by artist_artist_35',\n",
       " 'song_song_421 performed by artist_artist_20',\n",
       " 'song_song_386 performed by artist_artist_20',\n",
       " 'song_song_386 performed by artist_artist_50',\n",
       " 'song_song_541 performed by artist_artist_19',\n",
       " 'song_song_541 performed by artist_artist_56',\n",
       " 'song_song_244 performed by artist_artist_23',\n",
       " 'song_song_244 performed by artist_artist_25',\n",
       " 'song_song_11 performed by artist_artist_90',\n",
       " 'song_song_11 performed by artist_artist_75']"
      ]
     },
     "execution_count": 27,
     "metadata": {},
     "output_type": "execute_result"
    }
   ],
   "source": [
    "# Query 1: Find all songs and their performers using Python iteration\n",
    "print(\"Query 1: Songs and performers\")\n",
    "out = []\n",
    "for song in music_onto.Song.instances():\n",
    "    if hasattr(song, 'performedBy') and song.performedBy:\n",
    "        for performer in song.performedBy:\n",
    "            out.append(f\"{song.name} performed by {performer.name}\")\n",
    "out[:10]"
   ]
  },
  {
   "cell_type": "code",
   "execution_count": 28,
   "id": "06b8d4f6-7bfa-47da-b0c1-c56d85410cb4",
   "metadata": {},
   "outputs": [
    {
     "name": "stdout",
     "output_type": "stream",
     "text": [
      "\n",
      "Query 2: Artists and their labels\n"
     ]
    },
    {
     "data": {
      "text/plain": [
       "[]"
      ]
     },
     "execution_count": 28,
     "metadata": {},
     "output_type": "execute_result"
    }
   ],
   "source": [
    "# Query 2: Find artists signed to labels using property filtering\n",
    "print(\"\\nQuery 2: Artists and their labels\")\n",
    "out = []\n",
    "for artist in music_onto.Artist.instances():\n",
    "    if hasattr(artist, 'signedTo') and artist.signedTo:\n",
    "        out.append(f\"{artist.name} signed to {artist.signedTo[0].name}\")\n",
    "out[:10]"
   ]
  },
  {
   "cell_type": "code",
   "execution_count": null,
   "id": "bb57cf01-4781-409e-b563-4b3a0c8aef5b",
   "metadata": {},
   "outputs": [],
   "source": [
    "# Query 3: Use SPARQL for complex aggregation queries\n",
    "print(\"\\nQuery 3: Songs by genre (using SPARQL)\")\n",
    "sparql_query = \"\"\"\n",
    "SELECT ?genre (COUNT(?song) as ?count) WHERE {\n",
    "    ?song rdf:type music:Song .\n",
    "    ?song music:hasGenre ?genre .\n",
    "}\n",
    "GROUP BY ?genre\n",
    "ORDER BY DESC(?count)\n",
    "\"\"\"\n",
    "# owlready2 supports SPARQL through the default_world\n",
    "results = default_world.sparql(sparql_query)\n",
    "for genre, count in results:\n",
    "    print(f\"  Genre: {genre}, Songs: {count}\")"
   ]
  },
  {
   "cell_type": "code",
   "execution_count": 32,
   "id": "d53f8498-d80e-4a06-b6e1-a586c6635ef7",
   "metadata": {},
   "outputs": [
    {
     "name": "stdout",
     "output_type": "stream",
     "text": [
      "\n",
      "Query 4: Collaborative songs\n"
     ]
    },
    {
     "data": {
      "text/plain": [
       "['  song_song_421: artist_artist_35, artist_artist_20',\n",
       " '  song_song_386: artist_artist_20, artist_artist_50',\n",
       " '  song_song_541: artist_artist_19, artist_artist_56',\n",
       " '  song_song_244: artist_artist_23, artist_artist_25',\n",
       " '  song_song_11: artist_artist_90, artist_artist_75',\n",
       " '  song_song_419: artist_artist_56, artist_artist_58',\n",
       " '  song_song_316: artist_artist_83, artist_artist_22',\n",
       " '  song_song_319: artist_artist_85, artist_artist_77',\n",
       " '  song_song_404: artist_artist_29, artist_artist_84',\n",
       " '  song_song_60: artist_artist_26, artist_artist_57']"
      ]
     },
     "execution_count": 32,
     "metadata": {},
     "output_type": "execute_result"
    }
   ],
   "source": [
    "# Query 4: Find collaborative songs using list comprehension\n",
    "print(\"\\nQuery 4: Collaborative songs\")\n",
    "collaborative_songs = [song for song in music_onto.Song.instances() \n",
    "                      if hasattr(song, 'performedBy') and len(song.performedBy) > 1]\n",
    "out = []\n",
    "for song in collaborative_songs:\n",
    "    performers = [p.name for p in song.performedBy]\n",
    "    out.append(f\"  {song.name}: {', '.join(performers)}\")\n",
    "out[:10]"
   ]
  },
  {
   "cell_type": "code",
   "execution_count": 33,
   "id": "950f928c-50a4-4f4f-b538-8dcbefc95ceb",
   "metadata": {},
   "outputs": [
    {
     "name": "stdout",
     "output_type": "stream",
     "text": [
      "\n",
      "Query 5: Albums and track counts\n"
     ]
    }
   ],
   "source": [
    "# Query 5: Albums and track counts using Python aggregation\n",
    "print(\"\\nQuery 5: Albums and track counts\")\n",
    "album_tracks = {}\n",
    "for song in music_onto.Song.instances():\n",
    "    if hasattr(song, 'featuredOn'):\n",
    "        for album in song.featuredOn:\n",
    "            album_name = album.name if hasattr(album, 'name') else str(album)\n",
    "            album_tracks[album_name] = album_tracks.get(album_name, 0) + 1\n",
    "\n",
    "for album, count in album_tracks.items():\n",
    "    print(f\"  {album}: {count} tracks\")"
   ]
  },
  {
   "cell_type": "markdown",
   "id": "3fe8ea48-7a5b-4967-a202-b6f99034d7e7",
   "metadata": {},
   "source": [
    "# Creating Core Music Classes and Properties"
   ]
  },
  {
   "cell_type": "code",
   "execution_count": 24,
   "id": "500bddf4-5ca9-4d0b-be58-58fbb754dbe0",
   "metadata": {},
   "outputs": [],
   "source": [
    "# Create a new graph for our ontology extension\n",
    "g = Graph()\n",
    "music = Namespace(\"http://example.org/music#\")\n",
    "g.bind(\"music\", music)"
   ]
  },
  {
   "cell_type": "markdown",
   "id": "8cad2a12-bed7-479a-9665-20d5e0869afa",
   "metadata": {},
   "source": [
    "## Define core classes"
   ]
  },
  {
   "cell_type": "code",
   "execution_count": 25,
   "id": "64f4b79c-6bfd-4799-99b1-6fd29703fe6b",
   "metadata": {},
   "outputs": [
    {
     "data": {
      "text/plain": [
       "<Graph identifier=N44d6198f23be46d0b85b7647484f08cb (<class 'rdflib.graph.Graph'>)>"
      ]
     },
     "execution_count": 25,
     "metadata": {},
     "output_type": "execute_result"
    }
   ],
   "source": [
    "g.add((music.Playlist, RDF.type, OWL.Class))\n",
    "g.add((music.Playlist, RDFS.label, Literal(\"Playlist\")))"
   ]
  },
  {
   "cell_type": "code",
   "execution_count": 26,
   "id": "c821a4b2-cdf5-4b26-b683-e2badefc7103",
   "metadata": {},
   "outputs": [
    {
     "data": {
      "text/plain": [
       "<Graph identifier=N44d6198f23be46d0b85b7647484f08cb (<class 'rdflib.graph.Graph'>)>"
      ]
     },
     "execution_count": 26,
     "metadata": {},
     "output_type": "execute_result"
    }
   ],
   "source": [
    "g.add((music.Concert, RDF.type, OWL.Class))\n",
    "g.add((music.Concert, RDFS.label, Literal(\"Concert\")))"
   ]
  },
  {
   "cell_type": "code",
   "execution_count": 27,
   "id": "083be630-0606-4a54-9a89-ae1486076924",
   "metadata": {},
   "outputs": [
    {
     "data": {
      "text/plain": [
       "<Graph identifier=N44d6198f23be46d0b85b7647484f08cb (<class 'rdflib.graph.Graph'>)>"
      ]
     },
     "execution_count": 27,
     "metadata": {},
     "output_type": "execute_result"
    }
   ],
   "source": [
    "g.add((music.MusicVideo, RDF.type, OWL.Class))\n",
    "g.add((music.MusicVideo, RDFS.label, Literal(\"Music Video\")))"
   ]
  },
  {
   "cell_type": "markdown",
   "id": "2af51db3-ffc5-4ddb-a67e-779ecb20f76a",
   "metadata": {},
   "source": [
    "## Define some properties for Playlist"
   ]
  },
  {
   "cell_type": "code",
   "execution_count": 28,
   "id": "33272a9f-ef2c-4bf8-b2ae-d0b155a24430",
   "metadata": {},
   "outputs": [
    {
     "data": {
      "text/plain": [
       "<Graph identifier=N44d6198f23be46d0b85b7647484f08cb (<class 'rdflib.graph.Graph'>)>"
      ]
     },
     "execution_count": 28,
     "metadata": {},
     "output_type": "execute_result"
    }
   ],
   "source": [
    "g.add((music.containsSong, RDF.type, OWL.ObjectProperty))\n",
    "g.add((music.containsSong, RDFS.domain, music.Playlist))\n",
    "g.add((music.containsSong, RDFS.range, music.Song))"
   ]
  },
  {
   "cell_type": "code",
   "execution_count": 29,
   "id": "266a104b-d944-4c16-8287-c1f639bd169c",
   "metadata": {},
   "outputs": [
    {
     "data": {
      "text/plain": [
       "<Graph identifier=N44d6198f23be46d0b85b7647484f08cb (<class 'rdflib.graph.Graph'>)>"
      ]
     },
     "execution_count": 29,
     "metadata": {},
     "output_type": "execute_result"
    }
   ],
   "source": [
    "g.add((music.playlistName, RDF.type, OWL.DatatypeProperty))\n",
    "g.add((music.playlistName, RDFS.domain, music.Playlist))\n",
    "g.add((music.playlistName, RDFS.range, XSD.string))"
   ]
  },
  {
   "cell_type": "code",
   "execution_count": 30,
   "id": "5f6efb3e-e685-4e23-aef9-b0ae94ae259d",
   "metadata": {},
   "outputs": [
    {
     "data": {
      "text/plain": [
       "<Graph identifier=N44d6198f23be46d0b85b7647484f08cb (<class 'rdflib.graph.Graph'>)>"
      ]
     },
     "execution_count": 30,
     "metadata": {},
     "output_type": "execute_result"
    }
   ],
   "source": [
    "g.add((music.createdBy, RDF.type, OWL.ObjectProperty))\n",
    "g.add((music.createdBy, RDFS.domain, music.Playlist))\n",
    "g.add((music.createdBy, RDFS.range, FOAF.Person))"
   ]
  },
  {
   "cell_type": "code",
   "execution_count": 31,
   "id": "7daba829-0376-4c6e-b8e7-28e6ba0f3291",
   "metadata": {},
   "outputs": [
    {
     "data": {
      "text/plain": [
       "<Graph identifier=N44d6198f23be46d0b85b7647484f08cb (<class 'rdflib.graph.Graph'>)>"
      ]
     },
     "execution_count": 31,
     "metadata": {},
     "output_type": "execute_result"
    }
   ],
   "source": [
    "# Define properties for Concert\n",
    "g.add((music.performsAt, RDF.type, OWL.ObjectProperty))\n",
    "g.add((music.performsAt, RDFS.domain, music.Artist))\n",
    "g.add((music.performsAt, RDFS.range, music.Concert))"
   ]
  },
  {
   "cell_type": "code",
   "execution_count": 32,
   "id": "c27da4be-0d9d-4c31-afc4-d01ae44884ee",
   "metadata": {},
   "outputs": [
    {
     "data": {
      "text/plain": [
       "<Graph identifier=N44d6198f23be46d0b85b7647484f08cb (<class 'rdflib.graph.Graph'>)>"
      ]
     },
     "execution_count": 32,
     "metadata": {},
     "output_type": "execute_result"
    }
   ],
   "source": [
    "g.add((music.concertDate, RDF.type, OWL.DatatypeProperty))\n",
    "g.add((music.concertDate, RDFS.domain, music.Concert))\n",
    "g.add((music.concertDate, RDFS.range, XSD.date))"
   ]
  },
  {
   "cell_type": "code",
   "execution_count": 33,
   "id": "0bd6735e-eea9-4665-ac62-2b35b04d3085",
   "metadata": {},
   "outputs": [
    {
     "data": {
      "text/plain": [
       "<Graph identifier=N44d6198f23be46d0b85b7647484f08cb (<class 'rdflib.graph.Graph'>)>"
      ]
     },
     "execution_count": 33,
     "metadata": {},
     "output_type": "execute_result"
    }
   ],
   "source": [
    "g.add((music.venue, RDF.type, OWL.DatatypeProperty))\n",
    "g.add((music.venue, RDFS.domain, music.Concert))\n",
    "g.add((music.venue, RDFS.range, XSD.string))"
   ]
  },
  {
   "cell_type": "markdown",
   "id": "7ef970c5-76e4-45fb-a3e5-0ccbce797ddd",
   "metadata": {},
   "source": [
    "## Define some properties for MusicVideo"
   ]
  },
  {
   "cell_type": "code",
   "execution_count": 34,
   "id": "101bf8bb-35bb-4e09-9893-9a2db40d5f04",
   "metadata": {},
   "outputs": [
    {
     "data": {
      "text/plain": [
       "<Graph identifier=N44d6198f23be46d0b85b7647484f08cb (<class 'rdflib.graph.Graph'>)>"
      ]
     },
     "execution_count": 34,
     "metadata": {},
     "output_type": "execute_result"
    }
   ],
   "source": [
    "g.add((music.videoFor, RDF.type, OWL.ObjectProperty))\n",
    "g.add((music.videoFor, RDFS.domain, music.MusicVideo))\n",
    "g.add((music.videoFor, RDFS.range, music.Song))"
   ]
  },
  {
   "cell_type": "code",
   "execution_count": 35,
   "id": "e64249c0-4156-4553-b616-7985ec89e55a",
   "metadata": {},
   "outputs": [
    {
     "data": {
      "text/plain": [
       "<Graph identifier=N44d6198f23be46d0b85b7647484f08cb (<class 'rdflib.graph.Graph'>)>"
      ]
     },
     "execution_count": 35,
     "metadata": {},
     "output_type": "execute_result"
    }
   ],
   "source": [
    "g.add((music.director, RDF.type, OWL.DatatypeProperty))\n",
    "g.add((music.director, RDFS.domain, music.MusicVideo))\n",
    "g.add((music.director, RDFS.range, XSD.string))"
   ]
  },
  {
   "cell_type": "code",
   "execution_count": 36,
   "id": "466d8e20-18c8-4503-8449-85ea1fb6ba83",
   "metadata": {},
   "outputs": [
    {
     "data": {
      "text/plain": [
       "<Graph identifier=N44d6198f23be46d0b85b7647484f08cb (<class 'rdflib.graph.Graph'>)>"
      ]
     },
     "execution_count": 36,
     "metadata": {},
     "output_type": "execute_result"
    }
   ],
   "source": [
    "g.add((music.viewCount, RDF.type, OWL.DatatypeProperty))\n",
    "g.add((music.viewCount, RDFS.domain, music.MusicVideo))\n",
    "g.add((music.viewCount, RDFS.range, XSD.int))"
   ]
  },
  {
   "cell_type": "markdown",
   "id": "a1770555-b905-49b8-9354-1d4b773342d3",
   "metadata": {},
   "source": [
    "# Working with Individuals"
   ]
  },
  {
   "cell_type": "code",
   "execution_count": 37,
   "id": "649c42f0-28df-463f-86fe-758f256ab5be",
   "metadata": {},
   "outputs": [],
   "source": [
    "# Create specific instances\n",
    "my_playlist = URIRef(\"http://example.org/playlist/roadtrip2024\")\n",
    "queen_concert = URIRef(\"http://example.org/concert/wembley1986\")\n",
    "bohemian_video = URIRef(\"http://example.org/video/bohemian_rhapsody\")"
   ]
  },
  {
   "cell_type": "code",
   "execution_count": 38,
   "id": "60582b24-7189-4474-ae42-0ebd4b5569d8",
   "metadata": {},
   "outputs": [
    {
     "data": {
      "text/plain": [
       "<Graph identifier=N44d6198f23be46d0b85b7647484f08cb (<class 'rdflib.graph.Graph'>)>"
      ]
     },
     "execution_count": 38,
     "metadata": {},
     "output_type": "execute_result"
    }
   ],
   "source": [
    "# Add instance data for playlist\n",
    "g.add((my_playlist, RDF.type, music.Playlist))\n",
    "g.add((my_playlist, music.playlistName, Literal(\"Road Trip 2024\")))\n",
    "g.add((my_playlist, music.containsSong, music.BohemianRhapsody))"
   ]
  },
  {
   "cell_type": "code",
   "execution_count": 39,
   "id": "fa7e5761-66a8-4ac0-bed2-97de34d33010",
   "metadata": {},
   "outputs": [
    {
     "data": {
      "text/plain": [
       "<Graph identifier=N44d6198f23be46d0b85b7647484f08cb (<class 'rdflib.graph.Graph'>)>"
      ]
     },
     "execution_count": 39,
     "metadata": {},
     "output_type": "execute_result"
    }
   ],
   "source": [
    "# Add instance data for concert\n",
    "g.add((queen_concert, RDF.type, music.Concert))\n",
    "g.add((queen_concert, music.concertDate, Literal(\"1986-07-12\", datatype=XSD.date)))\n",
    "g.add((queen_concert, music.venue, Literal(\"Wembley Stadium\")))\n",
    "g.add((music.Queen, music.performsAt, queen_concert))"
   ]
  },
  {
   "cell_type": "code",
   "execution_count": 40,
   "id": "f5392618-a876-4c6b-8a4c-2b2315b961de",
   "metadata": {},
   "outputs": [
    {
     "data": {
      "text/plain": [
       "<Graph identifier=N44d6198f23be46d0b85b7647484f08cb (<class 'rdflib.graph.Graph'>)>"
      ]
     },
     "execution_count": 40,
     "metadata": {},
     "output_type": "execute_result"
    }
   ],
   "source": [
    "# Add instance data for music video\n",
    "g.add((bohemian_video, RDF.type, music.MusicVideo))\n",
    "g.add((bohemian_video, music.videoFor, music.BohemianRhapsody))\n",
    "g.add((bohemian_video, music.director, Literal(\"Bruce Gowers\")))\n",
    "g.add((bohemian_video, music.viewCount, Literal(1500000000, datatype=XSD.int)))"
   ]
  },
  {
   "cell_type": "markdown",
   "id": "abd61d05-d091-4ed7-a6b7-82e96e312020",
   "metadata": {},
   "source": [
    "# Possible Restrictions for Music Domain"
   ]
  },
  {
   "cell_type": "code",
   "execution_count": 41,
   "id": "a5b9698f-d969-4bf1-ae7d-ed166a061258",
   "metadata": {},
   "outputs": [],
   "source": [
    "# Create restriction: albums that contain rock songs\n",
    "rock_album_restriction = BNode()"
   ]
  },
  {
   "cell_type": "code",
   "execution_count": 42,
   "id": "71d450b7-04b6-417d-a0ec-66c35a37b18a",
   "metadata": {},
   "outputs": [
    {
     "data": {
      "text/plain": [
       "<Graph identifier=N44d6198f23be46d0b85b7647484f08cb (<class 'rdflib.graph.Graph'>)>"
      ]
     },
     "execution_count": 42,
     "metadata": {},
     "output_type": "execute_result"
    }
   ],
   "source": [
    "g.add((rock_album_restriction, RDF.type, OWL.Restriction))\n",
    "g.add((rock_album_restriction, OWL.onProperty, music.features))\n",
    "g.add((rock_album_restriction, OWL.someValuesFrom, music.RockSong))"
   ]
  },
  {
   "cell_type": "code",
   "execution_count": 43,
   "id": "4565504f-51ff-4576-a801-adce3d1e8eff",
   "metadata": {},
   "outputs": [
    {
     "data": {
      "text/plain": [
       "<Graph identifier=N44d6198f23be46d0b85b7647484f08cb (<class 'rdflib.graph.Graph'>)>"
      ]
     },
     "execution_count": 43,
     "metadata": {},
     "output_type": "execute_result"
    }
   ],
   "source": [
    "# Define RockAlbum as albums with rock content\n",
    "g.add((music.RockAlbum, RDF.type, OWL.Class))\n",
    "g.add((music.RockAlbum, RDFS.subClassOf, music.Album))\n",
    "g.add((music.RockAlbum, RDFS.subClassOf, rock_album_restriction))"
   ]
  },
  {
   "cell_type": "code",
   "execution_count": 44,
   "id": "3e40a14b-53d2-4426-8f69-5746df88f371",
   "metadata": {},
   "outputs": [
    {
     "data": {
      "text/plain": [
       "<Graph identifier=N44d6198f23be46d0b85b7647484f08cb (<class 'rdflib.graph.Graph'>)>"
      ]
     },
     "execution_count": 44,
     "metadata": {},
     "output_type": "execute_result"
    }
   ],
   "source": [
    "# Create cardinality restriction: singles have exactly one song\n",
    "single_restriction = BNode()\n",
    "g.add((single_restriction, RDF.type, OWL.Restriction))\n",
    "g.add((single_restriction, OWL.onProperty, music.features))\n",
    "g.add((single_restriction, OWL.cardinality, Literal(1, datatype=XSD.nonNegativeInteger)))"
   ]
  },
  {
   "cell_type": "code",
   "execution_count": 45,
   "id": "301159c8-cf88-44e1-ba0d-ac9fb6220428",
   "metadata": {},
   "outputs": [
    {
     "data": {
      "text/plain": [
       "<Graph identifier=N44d6198f23be46d0b85b7647484f08cb (<class 'rdflib.graph.Graph'>)>"
      ]
     },
     "execution_count": 45,
     "metadata": {},
     "output_type": "execute_result"
    }
   ],
   "source": [
    "g.add((music.Single, RDFS.subClassOf, single_restriction))"
   ]
  },
  {
   "cell_type": "code",
   "execution_count": 46,
   "id": "d4423e93-822c-48a6-b3c6-f1d460f4f752",
   "metadata": {},
   "outputs": [
    {
     "data": {
      "text/plain": [
       "<Graph identifier=N44d6198f23be46d0b85b7647484f08cb (<class 'rdflib.graph.Graph'>)>"
      ]
     },
     "execution_count": 46,
     "metadata": {},
     "output_type": "execute_result"
    }
   ],
   "source": [
    "# Create domain/range restriction for award relationships\n",
    "g.add((music.hasWonAward, RDFS.domain, music.Artist))\n",
    "g.add((music.hasWonAward, RDFS.range, music.Award))"
   ]
  },
  {
   "cell_type": "markdown",
   "id": "55cd79ef-e9dc-4d0d-a13a-251357375c60",
   "metadata": {},
   "source": [
    "# Basic Inference with Music Data"
   ]
  },
  {
   "cell_type": "code",
   "execution_count": 47,
   "id": "240a8d41-a41f-455c-98b6-dc4dfe987720",
   "metadata": {},
   "outputs": [],
   "source": [
    "# rdflib has limited built-in OWL reasoning\n",
    "# We can implement simple RDFS inference manually\n",
    "\n",
    "def apply_rdfs_inference(graph):\n",
    "    \"\"\"Apply basic RDFS subclass inference\"\"\"\n",
    "    inferred = Graph()\n",
    "    inferred += graph  # Copy original\n",
    "    \n",
    "    # Apply subclass transitivity\n",
    "    changed = True\n",
    "    while changed:\n",
    "        changed = False\n",
    "        for s, p, o in inferred.triples((None, RDFS.subClassOf, None)):\n",
    "            for s2, p2, o2 in inferred.triples((None, RDFS.subClassOf, s)):\n",
    "                triple = (s2, RDFS.subClassOf, o)\n",
    "                if triple not in inferred:\n",
    "                    inferred.add(triple)\n",
    "                    changed = True\n",
    "    \n",
    "    # Apply type inference from subclasses\n",
    "    for individual, rdf_type, cls in inferred.triples((None, RDF.type, None)):\n",
    "        for subcls, subclass_of, supercls in inferred.triples((cls, RDFS.subClassOf, None)):\n",
    "            triple = (individual, RDF.type, supercls)\n",
    "            if triple not in inferred:\n",
    "                inferred.add(triple)\n",
    "    \n",
    "    return inferred"
   ]
  },
  {
   "cell_type": "code",
   "execution_count": 48,
   "id": "5156dc0c-52f0-4911-9d31-7e9e73d72f57",
   "metadata": {},
   "outputs": [],
   "source": [
    "# Apply inference\n",
    "g_inferred = apply_rdfs_inference(g)"
   ]
  },
  {
   "cell_type": "code",
   "execution_count": 49,
   "id": "dfe78196-2cdb-4082-acb8-9f6e8fec4f9a",
   "metadata": {},
   "outputs": [],
   "source": [
    "# Query with inference\n",
    "query = \"\"\"\n",
    "SELECT ?individual ?type WHERE {\n",
    "    ?individual rdf:type ?type .\n",
    "    ?type rdfs:subClassOf music:Album .\n",
    "}\n",
    "\"\"\""
   ]
  },
  {
   "cell_type": "code",
   "execution_count": 50,
   "id": "66b9e740-04f1-4782-a5a6-0d7ccb9ed8b5",
   "metadata": {},
   "outputs": [
    {
     "name": "stdout",
     "output_type": "stream",
     "text": [
      "Individuals that are albums (including subtypes):\n"
     ]
    }
   ],
   "source": [
    "results = g_inferred.query(query, initNs={\"music\": music, \"rdf\": RDF, \"rdfs\": RDFS})\n",
    "print(\"Individuals that are albums (including subtypes):\")\n",
    "for row in results:\n",
    "    print(f\"  {row.individual} is a {row.type}\")"
   ]
  },
  {
   "cell_type": "markdown",
   "id": "81bbf342-c8c3-45bf-959b-a802c930ea16",
   "metadata": {},
   "source": [
    "# Serializing Music Ontology Data"
   ]
  },
  {
   "cell_type": "code",
   "execution_count": 51,
   "id": "72ef4e56-2a43-4a96-a5ec-2e0dee4575cf",
   "metadata": {},
   "outputs": [
    {
     "data": {
      "text/plain": [
       "<Graph identifier=N44d6198f23be46d0b85b7647484f08cb (<class 'rdflib.graph.Graph'>)>"
      ]
     },
     "execution_count": 51,
     "metadata": {},
     "output_type": "execute_result"
    }
   ],
   "source": [
    "# Serialize in different formats for different use cases\n",
    "g.serialize(destination=\"toy_music.ttl\", format=\"turtle\")\n",
    "g.serialize(destination=\"toy_music.owl\", format=\"xml\")\n",
    "g.serialize(destination=\"toy_music.jsonld\", format=\"json-ld\")"
   ]
  },
  {
   "cell_type": "code",
   "execution_count": 52,
   "id": "0921a030-1a0f-40fd-bbac-f2a4dc39fb2b",
   "metadata": {},
   "outputs": [
    {
     "name": "stdout",
     "output_type": "stream",
     "text": [
      "Turtle serialization:\n",
      "@prefix foaf: <http://xmlns.com/foaf/0.1/> .\n",
      "@prefix music: <http://example.org/music#> .\n",
      "@prefix owl: <http://www.w3.org/2002/07/owl#> .\n",
      "@prefix rdfs: <http://www.w3.org/2000/01/rdf-schema#> .\n",
      "@prefix xsd: <http://www.w3.org/2001/XMLSchema#> .\n",
      "\n",
      "music:Queen music:performsAt <http://example.org/concert/wembley1986> .\n",
      "\n",
      "music:RockAlbum a owl:Class ;\n",
      "    rdfs:subClassOf [ a owl:Restriction ;\n",
      "            owl:onProperty music:features ;\n",
      "            owl:someValuesFrom music:RockSong ],\n",
      "        music:Album .\n",
      "\n",
      "music:Single rdfs:subClassOf [ a owl:Restriction ;\n",
      "            owl:cardinality \"1\"^^xsd:nonNegativeInteger ;\n",
      "            owl:onProperty music:features ] .\n",
      "\n",
      "music:concertDate a owl:DatatypeProperty ;\n",
      "    rdfs:domain music:Concert ;\n",
      "    rdfs:range xsd:date .\n",
      "\n",
      "music:containsSong a owl:ObjectProperty ;\n",
      "    rdfs:domain music:Playlist ;\n",
      "    rdfs:range music:Song .\n",
      "\n",
      "music:createdBy a owl:ObjectProperty ;\n",
      "    rdfs:domain music:Playlist ;\n",
      "    rdfs:range foaf:Person .\n",
      "\n",
      "music:director a owl:DatatypeProperty ;\n",
      "    rdfs:domain music:MusicVideo ;\n",
      "    rdfs:range xsd:string .\n",
      "\n",
      "music:hasWonAward rdfs:domain music:Artist ;\n",
      "    rdfs:range music:Award .\n",
      "\n",
      "music:performsAt a owl:ObjectProperty ;\n",
      "    rdfs:domain music:Artist ;\n",
      "    rdfs:range music:Concert .\n",
      "\n",
      "music:playlistName a owl:DatatypeProperty ;\n",
      "    rdfs:domain music:Playlist ;\n",
      "    rdfs:range xsd:string .\n",
      "\n",
      "music:venue a owl:DatatypeProperty ;\n",
      "    rdfs:domain music:Concert ;\n",
      "    rdfs:range xsd:string .\n",
      "\n",
      "music:videoFor a owl:ObjectProperty ;\n",
      "    rdfs:domain music:MusicVideo ;\n",
      "    rdfs:range music:Song .\n",
      "\n",
      "music:viewCount a owl:DatatypeProperty ;\n",
      "    rdfs:domain music:MusicVideo ;\n",
      "    rdfs:range xsd:int .\n",
      "\n",
      "<http://example.org/playlist/roadtrip2024> a music:Playlist ;\n",
      "    music:containsSong music:BohemianRhapsody ;\n",
      "    music:playlistName \"Road Trip 2024\" .\n",
      "\n",
      "<http://example.org/video/bohemian_rhapsody> a music:MusicVideo ;\n",
      "    music:director \"Bruce Gowers\" ;\n",
      "    music:videoFor music:BohemianRhapsody ;\n",
      "    music:viewCount \"1500000000\"^^xsd:int .\n",
      "\n",
      "<http://example.org/concert/wembley1986> a music:Concert ;\n",
      "    music:concertDate \"1986-07-12\"^^xsd:date ;\n",
      "    music:venue \"Wembley Stadium\" .\n",
      "\n",
      "music:Concert a owl:Class ;\n",
      "    rdfs:label \"Concert\" .\n",
      "\n",
      "music:MusicVideo a owl:Class ;\n",
      "    rdfs:label \"Music Video\" .\n",
      "\n",
      "music:Playlist a owl:Class ;\n",
      "    rdfs:label \"Playlist\" .\n",
      "\n",
      "\n"
     ]
    }
   ],
   "source": [
    "# Print turtle format (most human-readable)\n",
    "print(\"Turtle serialization:\")\n",
    "print(g.serialize(format=\"turtle\"))"
   ]
  },
  {
   "cell_type": "code",
   "execution_count": 53,
   "id": "1518417b-a9e5-4ddc-ad97-94bb289063c8",
   "metadata": {},
   "outputs": [],
   "source": [
    "# Save only the new classes we created\n",
    "new_classes_graph = Graph()\n",
    "new_classes_graph.bind(\"music\", music)"
   ]
  },
  {
   "cell_type": "code",
   "execution_count": 54,
   "id": "a9128067-ec60-4340-8910-75e18e7b77a2",
   "metadata": {},
   "outputs": [],
   "source": [
    "for s, p, o in g.triples((None, RDF.type, OWL.Class)):\n",
    "    if str(s).startswith(\"http://example.org/music#\"):\n",
    "        # Add all triples about this class\n",
    "        for s2, p2, o2 in g.triples((s, None, None)):\n",
    "            new_classes_graph.add((s2, p2, o2))"
   ]
  },
  {
   "cell_type": "code",
   "execution_count": 55,
   "id": "2e5b68ea-6ba0-4643-8b9d-38a6b2c9c131",
   "metadata": {},
   "outputs": [
    {
     "data": {
      "text/plain": [
       "<Graph identifier=N5d0e54eab3784e9db47b7b134f64c6fa (<class 'rdflib.graph.Graph'>)>"
      ]
     },
     "execution_count": 55,
     "metadata": {},
     "output_type": "execute_result"
    }
   ],
   "source": [
    "new_classes_graph.serialize(destination=\"toy_new_music_classes.ttl\", format=\"turtle\")"
   ]
  },
  {
   "cell_type": "markdown",
   "id": "6c1ad09c-88b2-40a6-8d65-bc97904e631f",
   "metadata": {},
   "source": [
    "Different serialization formats serve different purposes. \n",
    "* Turtle is human-readable for debugging\n",
    "* XML integrates with OWL tools\n",
    "* JSON-LD works with web applications.\n",
    "* Separating new classes helps with modular ontology development."
   ]
  },
  {
   "cell_type": "markdown",
   "id": "906d6fac-2286-473f-9cbc-d25eacc6b486",
   "metadata": {},
   "source": [
    "."
   ]
  }
 ],
 "metadata": {
  "kernelspec": {
   "display_name": "Python 3 (ipykernel)",
   "language": "python",
   "name": "python3"
  },
  "language_info": {
   "codemirror_mode": {
    "name": "ipython",
    "version": 3
   },
   "file_extension": ".py",
   "mimetype": "text/x-python",
   "name": "python",
   "nbconvert_exporter": "python",
   "pygments_lexer": "ipython3",
   "version": "3.11.7"
  }
 },
 "nbformat": 4,
 "nbformat_minor": 5
}
