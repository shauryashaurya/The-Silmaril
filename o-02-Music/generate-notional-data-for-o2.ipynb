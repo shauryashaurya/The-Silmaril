{
 "cells": [
  {
   "cell_type": "markdown",
   "id": "1ea13cec-4c9b-4470-b559-16fd1ed1d732",
   "metadata": {},
   "source": [
    "# Ontology #2: Music Domain    "
   ]
  },
  {
   "cell_type": "markdown",
   "id": "5bea46b5-d8d5-4812-a946-fb21695e4b2f",
   "metadata": {},
   "source": [
    "## Data generation approach  \n",
    "   "
   ]
  },
  {
   "cell_type": "markdown",
   "id": "9b0e026c-0500-44b4-aaea-ea53bcb4b40e",
   "metadata": {},
   "source": [
    "### Main Classes    \n",
    "    \n",
    "1. **Genre**      \n",
    "2. **RecordLabel**      \n",
    "3. **Award**      \n",
    "4. **Artist**      \n",
    "5. **Album**      \n",
    "6. **Song**      \n",
    "   - References: Artist(s), Album, RecordLabel (via Artist), multiple Genres, Award(s), etc.    \n",
    "    \n",
    "### Generation Order & Rationale    \n",
    "    \n",
    "1. **Genre**      \n",
    "   - Foundational list (e.g., “Rock,” “Pop,” “Jazz”).      \n",
    "   - Other classes (Songs, Albums) will reference these genres.    \n",
    "    \n",
    "2. **RecordLabel**      \n",
    "   - Independent entities. Artists can be “signedTo” a label.      \n",
    "   - Must exist before we generate Artists who might link to them.    \n",
    "    \n",
    "3. **Award**      \n",
    "   - Also an independent list (e.g., “Grammy Award”).      \n",
    "   - Songs can reference these if they “haveWonAward.”      \n",
    "    \n",
    "4. **Artist**      \n",
    "   - Some artists will reference a `RecordLabelID` if they’re signed to a label.      \n",
    "   - So we create the labels first, then the artists can pick from them.    \n",
    "    \n",
    "5. **Album**      \n",
    "   - References the `Artist` (via “performedBy,” “featuredOn,” or for “album artist,” etc.)      \n",
    "   - Also references one or multiple `Genre` IDs.      \n",
    "   - So the `Artist` and `Genre` must exist first.    \n",
    "    \n",
    "6. **Song**      \n",
    "   - The most dependent entity: references `Artist`(s), possibly an `AlbumID`, `GenreID`(s), `AwardID`(s).      \n",
    "   - Because it can have multiple relationships (artistIDs, albumID, awards, etc.), all those must exist prior.   "
   ]
  },
  {
   "cell_type": "markdown",
   "id": "b2577c88-746b-4454-8b52-017e1a0e705f",
   "metadata": {},
   "source": [
    "## Implementation"
   ]
  },
  {
   "cell_type": "code",
   "execution_count": 1,
   "id": "6e7eb68e-3b93-4725-82d4-50f0aab846ff",
   "metadata": {},
   "outputs": [],
   "source": [
    "import random\n",
    "import pandas as pd\n",
    "from faker import Faker"
   ]
  },
  {
   "cell_type": "code",
   "execution_count": 2,
   "id": "502ffda3-5521-4b3a-bd4c-257dca5902c4",
   "metadata": {},
   "outputs": [],
   "source": [
    "data_path = \"./data/\""
   ]
  },
  {
   "cell_type": "code",
   "execution_count": 3,
   "id": "e0add317-644b-4301-ad1c-52db010a15a6",
   "metadata": {},
   "outputs": [],
   "source": [
    "fake = Faker()"
   ]
  },
  {
   "cell_type": "code",
   "execution_count": 4,
   "id": "bfa18316-de79-4f13-889c-f5f4fc1c4475",
   "metadata": {},
   "outputs": [],
   "source": [
    "# Predefined genre info\n",
    "GENRE_OPTIONS = [\n",
    "    {\"name\": \"Rock\", \"description\": \"Characterized by a strong beat and typically guitar-based\"},\n",
    "    {\"name\": \"Pop\", \"description\": \"Popular music, often catchy and mainstream\"},\n",
    "    {\"name\": \"Hip Hop\", \"description\": \"Rhythmic music featuring rap and urban culture\"},\n",
    "    {\"name\": \"Jazz\", \"description\": \"Originated from African-American communities, improvisation-based\"},\n",
    "    {\"name\": \"Classical\", \"description\": \"Rooted in the tradition of Western culture (symphonies, operas)\"},\n",
    "    {\"name\": \"R&B\", \"description\": \"Rhythm and Blues, soulful vocals and strong backbeat\"},\n",
    "    {\"name\": \"Electronic\", \"description\": \"Synthesizer-driven, EDM, house, techno, etc.\"},\n",
    "    {\"name\": \"Country\", \"description\": \"Southern US origins, storytelling, guitar and banjo\"},\n",
    "    {\"name\": \"Reggae\", \"description\": \"Jamaican origin, syncopated rhythms, offbeat accents\"},\n",
    "    {\"name\": \"Latin\", \"description\": \"Spanish/Portuguese language, salsa, bachata, reggaeton\"},\n",
    "    {\"name\": \"Metal\", \"description\": \"Heavier rock with distorted guitars and aggressive vocals\"},\n",
    "    {\"name\": \"Blues\", \"description\": \"African-American origin, soulful, 'blue' notes and chord progressions\"},\n",
    "    {\"name\": \"Funk\", \"description\": \"Strong rhythmic groove, syncopated bass lines\"},\n",
    "    {\"name\": \"Soul\", \"description\": \"Combines elements of gospel and R&B\"},\n",
    "    {\"name\": \"Folk\", \"description\": \"Traditional, storytelling focus, acoustic instruments\"}\n",
    "]"
   ]
  },
  {
   "cell_type": "code",
   "execution_count": 5,
   "id": "79110b75-a983-46ff-9d81-d1c1b212a319",
   "metadata": {},
   "outputs": [],
   "source": [
    "# Predefined awarding bodies\n",
    "AWARDING_BODIES = [\n",
    "    \"Recording Academy\",\n",
    "    \"Billboard\",\n",
    "    \"American Music Association\",\n",
    "    \"MTV\",\n",
    "    \"British Phonographic Industry\",\n",
    "    \"Canadian Academy of Recording Arts and Sciences\"\n",
    "]"
   ]
  },
  {
   "cell_type": "code",
   "execution_count": 6,
   "id": "6dd90256-5e0f-48b9-9d73-c6fd2d6e8e2e",
   "metadata": {},
   "outputs": [],
   "source": [
    "# Predefined award sets\n",
    "AWARD_NAMES = [\n",
    "    \"Grammy Award for Song of the Year\",\n",
    "    \"Grammy Award for Record of the Year\",\n",
    "    \"Billboard Music Award\",\n",
    "    \"American Music Award\",\n",
    "    \"MTV Video Music Award\",\n",
    "    \"Brit Award\",\n",
    "    \"Juno Award\",\n",
    "    \"Country Music Association Award\",\n",
    "    \"Soul Train Music Award\"\n",
    "]"
   ]
  },
  {
   "cell_type": "code",
   "execution_count": 7,
   "id": "4612d3f1-4e38-48be-b73f-b9afc879f3b8",
   "metadata": {},
   "outputs": [],
   "source": [
    "# 1. Configuration\n",
    "NUM_SONGS = 600\n",
    "NUM_ARTISTS = 100\n",
    "NUM_ALBUMS = 100\n",
    "NUM_LABELS = 25\n",
    "NUM_GENRES = 15 # defined above\n",
    "NUM_AWARDS = 30 # defined above\n",
    "\n",
    "# Optional: seed for reproducibility\n",
    "# random.seed(42)\n",
    "# Faker.seed(42)"
   ]
  },
  {
   "cell_type": "code",
   "execution_count": 8,
   "id": "439982c8-37b4-487e-ac61-b4a60071580d",
   "metadata": {},
   "outputs": [],
   "source": [
    "# 2. Generate Entities"
   ]
  },
  {
   "cell_type": "code",
   "execution_count": 9,
   "id": "d8cb4b03-9c4e-460d-aba1-8c4995fe18bf",
   "metadata": {},
   "outputs": [],
   "source": [
    "# a) Genres\n",
    "genres = []\n",
    "for i in range(NUM_GENRES):\n",
    "    # If we have fewer than 15, repeat from GENRE_OPTIONS randomly\n",
    "    genre_info = random.choice(GENRE_OPTIONS)\n",
    "    genres.append({\n",
    "        \"id\": f\"genre_{i}\",\n",
    "        \"name\": genre_info[\"name\"],\n",
    "        \"description\": genre_info[\"description\"]\n",
    "    })"
   ]
  },
  {
   "cell_type": "code",
   "execution_count": 10,
   "id": "f345c830-f974-47a9-89f4-327b2fbbed82",
   "metadata": {},
   "outputs": [],
   "source": [
    "# b) Record Labels\n",
    "labels = []\n",
    "for i in range(NUM_LABELS):\n",
    "    labels.append({\n",
    "        \"id\": f\"label_{i}\",\n",
    "        \"labelName\": fake.company(),\n",
    "        \"location\": fake.city()\n",
    "    })"
   ]
  },
  {
   "cell_type": "code",
   "execution_count": 11,
   "id": "e4a0d3c0-32fa-4ccd-8381-5e1836408769",
   "metadata": {},
   "outputs": [],
   "source": [
    "# c) Awards\n",
    "awards = []\n",
    "for i in range(NUM_AWARDS):\n",
    "    awards.append({\n",
    "        \"id\": f\"award_{i}\",\n",
    "        \"awardName\": random.choice(AWARD_NAMES),\n",
    "        \"year\": random.randint(1990, 2023),\n",
    "        \"awardingBody\": random.choice(AWARDING_BODIES)\n",
    "    })"
   ]
  },
  {
   "cell_type": "code",
   "execution_count": 12,
   "id": "f90dc2cb-7c45-4a08-9176-44ba891d4b5a",
   "metadata": {},
   "outputs": [],
   "source": [
    "# d) Artists\n",
    "artists = []\n",
    "for i in range(NUM_ARTISTS):\n",
    "    # ~50% chance the artist is signed to a label\n",
    "    maybe_label = random.choice(labels)[\"id\"] if random.random() < 0.5 else None\n",
    "    artists.append({\n",
    "        \"id\": f\"artist_{i}\",\n",
    "        \"name\": fake.name(),\n",
    "        \"birthDate\": fake.date_of_birth(minimum_age=18, maximum_age=70).isoformat(),\n",
    "        \"nationality\": fake.country(),\n",
    "        \"labelID\": maybe_label  # can be None\n",
    "    })"
   ]
  },
  {
   "cell_type": "code",
   "execution_count": 13,
   "id": "4be7c623-ab14-4f56-bfb2-7cd4b687672c",
   "metadata": {},
   "outputs": [],
   "source": [
    "# e) Albums\n",
    "albums = []\n",
    "for i in range(NUM_ALBUMS):\n",
    "    # multiple genres possible: choose 1-2 random\n",
    "    album_genres = random.sample(genres, k=random.randint(1, 2))\n",
    "    albums.append({\n",
    "        \"id\": f\"album_{i}\",\n",
    "        \"title\": f\"{fake.catch_phrase()} Album {i}\",\n",
    "        \"releaseYear\": random.randint(1980, 2023),\n",
    "        # store genre IDs\n",
    "        \"genreIDs\": [g[\"id\"] for g in album_genres]\n",
    "    })"
   ]
  },
  {
   "cell_type": "code",
   "execution_count": 14,
   "id": "e23d6b70-d56c-4eaf-aa5b-eba5dfb85720",
   "metadata": {},
   "outputs": [],
   "source": [
    "# 3. Generate Songs\n",
    "songs = []\n",
    "for i in range(NUM_SONGS):\n",
    "    # each song has 1-2 performing artists\n",
    "    assigned_artists = random.sample(artists, k=random.randint(1,2))\n",
    "    # maybe the song is on an album, or maybe it's a single\n",
    "    if random.random() < 0.8:\n",
    "        # 80% chance the song is on some album\n",
    "        album_obj = random.choice(albums)\n",
    "        albumID = album_obj[\"id\"]\n",
    "        albumGenres = album_obj[\"genreIDs\"]\n",
    "    else:\n",
    "        albumID = None\n",
    "        albumGenres = []\n",
    "\n",
    "    # choose 1 or 2 genres, possibly from the album's genres, or random\n",
    "    possible_genres = albumGenres or [g[\"id\"] for g in genres]  # if album has genres, use those first\n",
    "    chosen_genres = random.sample(possible_genres, k=random.randint(1, min(2, len(possible_genres))))\n",
    "\n",
    "    # ~10% chance the song has an award\n",
    "    assigned_awards = []\n",
    "    if random.random() < 0.1:\n",
    "        assigned_awards = random.sample(awards, k=1)\n",
    "\n",
    "    # random duration 120-420s (2-7 minutes)\n",
    "    duration_sec = random.randint(120, 420)\n",
    "\n",
    "    # random release date from 1980 to current\n",
    "    release_date = fake.date_between(start_date='-43y', end_date='today')\n",
    "\n",
    "    songs.append({\n",
    "        \"id\": f\"song_{i}\",\n",
    "        \"title\": f\"{fake.catch_phrase()} Song {i}\",\n",
    "        \"duration\": duration_sec,\n",
    "        \"releaseDate\": release_date.isoformat(),\n",
    "        \"artistIDs\": [a[\"id\"] for a in assigned_artists],\n",
    "        \"albumID\": albumID,\n",
    "        \"genreIDs\": chosen_genres,\n",
    "        \"awardIDs\": [aw[\"id\"] for aw in assigned_awards]\n",
    "    })"
   ]
  },
  {
   "cell_type": "code",
   "execution_count": 15,
   "id": "aa84d8ff-13e3-4e99-8b64-08245ba7c6b3",
   "metadata": {},
   "outputs": [
    {
     "name": "stdout",
     "output_type": "stream",
     "text": [
      "Entities Generated:\n",
      "  Genres: 15\n",
      "  Record Labels: 25\n",
      "  Awards: 30\n",
      "  Artists: 100\n",
      "  Albums: 100\n",
      "  Songs: 600\n"
     ]
    }
   ],
   "source": [
    "# -------------------------\n",
    "# 4. Summary and Sample Prints\n",
    "# -------------------------\n",
    "print(\"Entities Generated:\")\n",
    "print(\"  Genres:\", len(genres))\n",
    "print(\"  Record Labels:\", len(labels))\n",
    "print(\"  Awards:\", len(awards))\n",
    "print(\"  Artists:\", len(artists))\n",
    "print(\"  Albums:\", len(albums))\n",
    "print(\"  Songs:\", len(songs))"
   ]
  },
  {
   "cell_type": "code",
   "execution_count": 16,
   "id": "7065a2a9-fee2-406e-845a-2c365ee2bf87",
   "metadata": {},
   "outputs": [
    {
     "name": "stdout",
     "output_type": "stream",
     "text": [
      "\n",
      "Sample Genre: {'id': 'genre_0', 'name': 'Funk', 'description': 'Strong rhythmic groove, syncopated bass lines'}\n",
      "Sample Record Label: {'id': 'label_0', 'labelName': 'Kelly, Taylor and Fletcher', 'location': 'Ortizchester'}\n",
      "Sample Award: {'id': 'award_0', 'awardName': 'Grammy Award for Record of the Year', 'year': 2002, 'awardingBody': 'British Phonographic Industry'}\n",
      "Sample Artist: {'id': 'artist_0', 'name': 'George Rivera', 'birthDate': '1997-05-15', 'nationality': 'Saint Vincent and the Grenadines', 'labelID': None}\n",
      "Sample Album: {'id': 'album_0', 'title': 'Reverse-engineered human-resource paradigm Album 0', 'releaseYear': 2004, 'genreIDs': ['genre_8', 'genre_10']}\n",
      "Sample Song: {'id': 'song_0', 'title': 'Re-engineered analyzing benchmark Song 0', 'duration': 402, 'releaseDate': '1983-10-03', 'artistIDs': ['artist_97', 'artist_91'], 'albumID': 'album_94', 'genreIDs': ['genre_3', 'genre_4'], 'awardIDs': []}\n"
     ]
    }
   ],
   "source": [
    "print(\"\\nSample Genre:\", genres[0])\n",
    "print(\"Sample Record Label:\", labels[0])\n",
    "print(\"Sample Award:\", awards[0])\n",
    "print(\"Sample Artist:\", artists[0])\n",
    "print(\"Sample Album:\", albums[0])\n",
    "print(\"Sample Song:\", songs[0])"
   ]
  },
  {
   "cell_type": "code",
   "execution_count": 17,
   "id": "201047b5-0d0b-483f-a9fa-059f7ab9b4d4",
   "metadata": {},
   "outputs": [],
   "source": [
    "# persist the data\n",
    "pd.DataFrame(genres).to_csv(data_path+\"genres.csv\", encoding = \"utf-8\", escapechar = \"\\\\\", index=False)\n",
    "pd.DataFrame(labels).to_csv(data_path+\"labels.csv\", encoding = \"utf-8\", escapechar = \"\\\\\", index=False)\n",
    "pd.DataFrame(awards).to_csv(data_path+\"awards.csv\", encoding = \"utf-8\", escapechar = \"\\\\\", index=False)\n",
    "pd.DataFrame(artists).to_csv(data_path+\"artists.csv\", encoding = \"utf-8\", escapechar = \"\\\\\", index=False)\n",
    "pd.DataFrame(albums).to_csv(data_path+\"albums.csv\", encoding = \"utf-8\", escapechar = \"\\\\\", index=False)\n",
    "pd.DataFrame(songs).to_csv(data_path+\"songs.csv\", encoding = \"utf-8\", escapechar = \"\\\\\", index=False)"
   ]
  }
 ],
 "metadata": {
  "kernelspec": {
   "display_name": "Python 3 (ipykernel)",
   "language": "python",
   "name": "python3"
  },
  "language_info": {
   "codemirror_mode": {
    "name": "ipython",
    "version": 3
   },
   "file_extension": ".py",
   "mimetype": "text/x-python",
   "name": "python",
   "nbconvert_exporter": "python",
   "pygments_lexer": "ipython3",
   "version": "3.11.7"
  }
 },
 "nbformat": 4,
 "nbformat_minor": 5
}
