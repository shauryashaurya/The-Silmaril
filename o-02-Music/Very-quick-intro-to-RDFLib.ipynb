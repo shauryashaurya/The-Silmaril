{
 "cells": [
  {
   "cell_type": "markdown",
   "id": "6a5f12bf-d223-4194-9ce7-fd26857f86b4",
   "metadata": {},
   "source": [
    "# Playing with RDFlib"
   ]
  },
  {
   "cell_type": "code",
   "execution_count": 1,
   "id": "d38d8d41-ebe6-45bc-9507-07c83b682bcb",
   "metadata": {},
   "outputs": [],
   "source": [
    "# Install rdflib\n",
    "# !pip install rdflib"
   ]
  },
  {
   "cell_type": "code",
   "execution_count": 2,
   "id": "32a51895-5f8a-453a-bb4d-45ee7cef04ce",
   "metadata": {},
   "outputs": [],
   "source": [
    "# Import essential modules\n",
    "import rdflib\n",
    "from rdflib import Graph, Literal, BNode, Namespace, RDF, URIRef\n",
    "from rdflib.namespace import FOAF, RDFS, OWL, XSD"
   ]
  },
  {
   "cell_type": "markdown",
   "id": "4762d7ec-481b-4322-80cb-19c754ae07e3",
   "metadata": {},
   "source": [
    "# Your First RDF Graph"
   ]
  },
  {
   "cell_type": "code",
   "execution_count": 3,
   "id": "cf1995f5-9fd0-4565-bf16-a4e07dbc5d36",
   "metadata": {},
   "outputs": [
    {
     "name": "stdout",
     "output_type": "stream",
     "text": [
      "http://example.org/music#BohemianRhapsody http://example.org/music#title Bohemian Rhapsody\n",
      "http://example.org/music#BohemianRhapsody http://www.w3.org/1999/02/22-rdf-syntax-ns#type http://example.org/music#Song\n",
      "http://example.org/music#BohemianRhapsody http://example.org/music#performedBy http://example.org/music#Queen\n"
     ]
    }
   ],
   "source": [
    "# Initialize a new graph\n",
    "g = Graph()\n",
    "\n",
    "# Create music resources\n",
    "song = URIRef(\"http://example.org/music#BohemianRhapsody\")\n",
    "artist = URIRef(\"http://example.org/music#Queen\")\n",
    "title = Literal(\"Bohemian Rhapsody\")\n",
    "\n",
    "# Add triples about the song\n",
    "g.add((song, RDF.type, URIRef(\"http://example.org/music#Song\")))\n",
    "g.add((song, URIRef(\"http://example.org/music#title\"), title))\n",
    "g.add((song, URIRef(\"http://example.org/music#performedBy\"), artist))\n",
    "\n",
    "# Print the triples\n",
    "for s, p, o in g:\n",
    "    print(f\"{s} {p} {o}\")"
   ]
  },
  {
   "cell_type": "code",
   "execution_count": 4,
   "id": "fe38828a-c82f-4acf-9a5c-1322ac8ae511",
   "metadata": {},
   "outputs": [
    {
     "data": {
      "text/plain": [
       "['_Graph__identifier',\n",
       " '_Graph__namespace_manager',\n",
       " '_Graph__store',\n",
       " '__abstractmethods__',\n",
       " '__add__',\n",
       " '__and__',\n",
       " '__annotations__',\n",
       " '__class__',\n",
       " '__cmp__',\n",
       " '__contains__',\n",
       " '__delattr__',\n",
       " '__dict__',\n",
       " '__dir__',\n",
       " '__doc__',\n",
       " '__eq__',\n",
       " '__format__',\n",
       " '__ge__',\n",
       " '__getattribute__',\n",
       " '__getitem__',\n",
       " '__getstate__',\n",
       " '__gt__',\n",
       " '__hash__',\n",
       " '__iadd__',\n",
       " '__init__',\n",
       " '__init_subclass__',\n",
       " '__isub__',\n",
       " '__iter__',\n",
       " '__le__',\n",
       " '__len__',\n",
       " '__lt__',\n",
       " '__module__',\n",
       " '__mul__',\n",
       " '__ne__',\n",
       " '__new__',\n",
       " '__or__',\n",
       " '__reduce__',\n",
       " '__reduce_ex__',\n",
       " '__repr__',\n",
       " '__setattr__',\n",
       " '__sizeof__',\n",
       " '__slots__',\n",
       " '__str__',\n",
       " '__sub__',\n",
       " '__subclasshook__',\n",
       " '__weakref__',\n",
       " '__xor__',\n",
       " '_abc_impl',\n",
       " '_bind_namespaces',\n",
       " '_process_skolem_tuples',\n",
       " 'absolutize',\n",
       " 'add',\n",
       " 'addN',\n",
       " 'all_nodes',\n",
       " 'base',\n",
       " 'bind',\n",
       " 'cbd',\n",
       " 'close',\n",
       " 'collection',\n",
       " 'commit',\n",
       " 'compute_qname',\n",
       " 'connected',\n",
       " 'context_aware',\n",
       " 'de_skolemize',\n",
       " 'default_union',\n",
       " 'destroy',\n",
       " 'formula_aware',\n",
       " 'identifier',\n",
       " 'isomorphic',\n",
       " 'items',\n",
       " 'n3',\n",
       " 'namespace_manager',\n",
       " 'namespaces',\n",
       " 'objects',\n",
       " 'open',\n",
       " 'parse',\n",
       " 'predicate_objects',\n",
       " 'predicates',\n",
       " 'print',\n",
       " 'qname',\n",
       " 'query',\n",
       " 'remove',\n",
       " 'resource',\n",
       " 'rollback',\n",
       " 'serialize',\n",
       " 'set',\n",
       " 'skolemize',\n",
       " 'store',\n",
       " 'subject_objects',\n",
       " 'subject_predicates',\n",
       " 'subjects',\n",
       " 'toPython',\n",
       " 'transitiveClosure',\n",
       " 'transitive_objects',\n",
       " 'transitive_subjects',\n",
       " 'triples',\n",
       " 'triples_choices',\n",
       " 'update',\n",
       " 'value']"
      ]
     },
     "execution_count": 4,
     "metadata": {},
     "output_type": "execute_result"
    }
   ],
   "source": [
    "dir(g)"
   ]
  },
  {
   "cell_type": "markdown",
   "id": "09e0335d-8ff7-41a7-8184-d5988fc333bb",
   "metadata": {},
   "source": [
    "# Namespaces"
   ]
  },
  {
   "cell_type": "code",
   "execution_count": 5,
   "id": "efbac5b2-29b6-412e-90ef-6ae71dcbe89e",
   "metadata": {},
   "outputs": [
    {
     "data": {
      "text/plain": [
       "<Graph identifier=N78dc08ff94eb428ab17dfa9cec59d543 (<class 'rdflib.graph.Graph'>)>"
      ]
     },
     "execution_count": 5,
     "metadata": {},
     "output_type": "execute_result"
    }
   ],
   "source": [
    "# Define music namespace from the ontology\n",
    "music = Namespace(\"http://example.org/music#\")\n",
    "g.bind(\"music\", music)  # Bind prefix for cleaner serialization\n",
    "\n",
    "# Use the namespace for cleaner code\n",
    "g.add((music.BohemianRhapsody, RDF.type, music.Song))\n",
    "g.add((music.BohemianRhapsody, music.duration, Literal(355, datatype=XSD.int)))\n",
    "g.add((music.Queen, RDF.type, music.Artist))\n",
    "g.add((music.Queen, music.name, Literal(\"Queen\")))"
   ]
  },
  {
   "cell_type": "code",
   "execution_count": 6,
   "id": "c86f4335-33ae-4160-8b33-d0db5f9311d9",
   "metadata": {},
   "outputs": [
    {
     "data": {
      "text/plain": [
       "['__add__',\n",
       " '__class__',\n",
       " '__contains__',\n",
       " '__delattr__',\n",
       " '__dict__',\n",
       " '__dir__',\n",
       " '__doc__',\n",
       " '__eq__',\n",
       " '__format__',\n",
       " '__ge__',\n",
       " '__getattr__',\n",
       " '__getattribute__',\n",
       " '__getitem__',\n",
       " '__getnewargs__',\n",
       " '__getstate__',\n",
       " '__gt__',\n",
       " '__hash__',\n",
       " '__init__',\n",
       " '__init_subclass__',\n",
       " '__iter__',\n",
       " '__le__',\n",
       " '__len__',\n",
       " '__lt__',\n",
       " '__mod__',\n",
       " '__module__',\n",
       " '__mul__',\n",
       " '__ne__',\n",
       " '__new__',\n",
       " '__reduce__',\n",
       " '__reduce_ex__',\n",
       " '__repr__',\n",
       " '__rmod__',\n",
       " '__rmul__',\n",
       " '__setattr__',\n",
       " '__sizeof__',\n",
       " '__str__',\n",
       " '__subclasshook__',\n",
       " '__weakref__',\n",
       " 'capitalize',\n",
       " 'casefold',\n",
       " 'center',\n",
       " 'count',\n",
       " 'encode',\n",
       " 'endswith',\n",
       " 'expandtabs',\n",
       " 'find',\n",
       " 'format',\n",
       " 'format_map',\n",
       " 'index',\n",
       " 'isalnum',\n",
       " 'isalpha',\n",
       " 'isascii',\n",
       " 'isdecimal',\n",
       " 'isdigit',\n",
       " 'isidentifier',\n",
       " 'islower',\n",
       " 'isnumeric',\n",
       " 'isprintable',\n",
       " 'isspace',\n",
       " 'istitle',\n",
       " 'isupper',\n",
       " 'join',\n",
       " 'ljust',\n",
       " 'lower',\n",
       " 'lstrip',\n",
       " 'maketrans',\n",
       " 'partition',\n",
       " 'removeprefix',\n",
       " 'removesuffix',\n",
       " 'replace',\n",
       " 'rfind',\n",
       " 'rindex',\n",
       " 'rjust',\n",
       " 'rpartition',\n",
       " 'rsplit',\n",
       " 'rstrip',\n",
       " 'split',\n",
       " 'splitlines',\n",
       " 'startswith',\n",
       " 'strip',\n",
       " 'swapcase',\n",
       " 'term',\n",
       " 'title',\n",
       " 'translate',\n",
       " 'upper',\n",
       " 'zfill']"
      ]
     },
     "execution_count": 6,
     "metadata": {},
     "output_type": "execute_result"
    }
   ],
   "source": [
    "dir(music)"
   ]
  },
  {
   "cell_type": "markdown",
   "id": "25cb9dab-86ca-40ce-8b73-f97d41721c4a",
   "metadata": {},
   "source": [
    "# Loading External RDF/OWL Data"
   ]
  },
  {
   "cell_type": "code",
   "execution_count": 7,
   "id": "fb7d8d1f-b0bb-4a73-9e77-47cbedb26c0b",
   "metadata": {},
   "outputs": [
    {
     "data": {
      "text/plain": [
       "<Graph identifier=Nbbf3ec7a75a04118bb6aa4f88b56afb7 (<class 'rdflib.graph.Graph'>)>"
      ]
     },
     "execution_count": 7,
     "metadata": {},
     "output_type": "execute_result"
    }
   ],
   "source": [
    "# Load the music ontology\n",
    "g = Graph()\n",
    "g.parse(\"./rdf_output/music_ontology.rdf\", format=\"xml\")"
   ]
  },
  {
   "cell_type": "code",
   "execution_count": 8,
   "id": "4eaad085-8397-4cdb-aa37-b567a3ddb484",
   "metadata": {},
   "outputs": [],
   "source": [
    "# Check what classes are defined\n",
    "classes_query = \"\"\"\n",
    "SELECT DISTINCT ?class WHERE {\n",
    "    ?class rdf:type owl:Class .\n",
    "}\n",
    "\"\"\""
   ]
  },
  {
   "cell_type": "code",
   "execution_count": 9,
   "id": "9552a86d-7a66-403e-8c4f-c3aa7b0bee36",
   "metadata": {},
   "outputs": [
    {
     "name": "stdout",
     "output_type": "stream",
     "text": [
      "Classes in the ontology:\n",
      "(rdflib.term.URIRef('http://example.org/music#Album'),)\n",
      "(rdflib.term.URIRef('http://example.org/music#Genre'),)\n",
      "(rdflib.term.URIRef('http://example.org/music#Award'),)\n",
      "(rdflib.term.URIRef('http://example.org/music#Single'),)\n",
      "(rdflib.term.URIRef('http://example.org/music#CollaborativeSong'),)\n",
      "(rdflib.term.URIRef('http://example.org/music#Artist'),)\n",
      "(rdflib.term.URIRef('http://example.org/music#Song'),)\n",
      "(rdflib.term.URIRef('http://example.org/music#SuccessfulLabel'),)\n",
      "(rdflib.term.URIRef('http://example.org/music#ExtendedPlay'),)\n",
      "(rdflib.term.URIRef('http://example.org/music#EstablishedArtist'),)\n",
      "(rdflib.term.URIRef('http://example.org/music#RecordLabel'),)\n"
     ]
    }
   ],
   "source": [
    "results = g.query(classes_query, initNs={\"rdf\": RDF, \"owl\": OWL})\n",
    "print(\"Classes in the ontology:\")\n",
    "for row in results:\n",
    "    print(row)"
   ]
  },
  {
   "cell_type": "code",
   "execution_count": 10,
   "id": "3b54b4b2-ffee-4ea3-a997-788bb9d7f0ae",
   "metadata": {},
   "outputs": [
    {
     "name": "stdout",
     "output_type": "stream",
     "text": [
      "Total statements in ontology: 17031\n"
     ]
    }
   ],
   "source": [
    "print(f\"Total statements in ontology: {len(g)}\")"
   ]
  },
  {
   "cell_type": "code",
   "execution_count": 11,
   "id": "8dd69c70-10ee-4b16-b868-111ae1a77a44",
   "metadata": {},
   "outputs": [],
   "source": [
    "# dir(results)"
   ]
  },
  {
   "cell_type": "markdown",
   "id": "e1aaca4e-fde7-4b9b-9258-c947c2e36309",
   "metadata": {},
   "source": [
    "# Basic SPARQL Queries"
   ]
  },
  {
   "cell_type": "code",
   "execution_count": 12,
   "id": "531a2456-b9d9-40ea-a50b-0ca43bc24587",
   "metadata": {},
   "outputs": [],
   "source": [
    "music = Namespace(\"http://example.org/music#\")"
   ]
  },
  {
   "cell_type": "markdown",
   "id": "188f667e-8864-453f-854c-ca06d1392a2c",
   "metadata": {},
   "source": [
    "## Query 1: Find all songs and their performers"
   ]
  },
  {
   "cell_type": "code",
   "execution_count": 13,
   "id": "5cca33c1-400a-4d39-b44d-cacbd5fbaf54",
   "metadata": {},
   "outputs": [],
   "source": [
    "query1 = \"\"\"\n",
    "SELECT ?song ?performer WHERE {\n",
    "    ?song rdf:type music:Song .\n",
    "    ?song music:performedBy ?performer .\n",
    "}\n",
    "\"\"\"\n",
    "# SPARQL works by pattern matching against RDF triples\n",
    "# ?song and ?performer are variables that get bound to actual URIs\n",
    "# The period (.) separates triple patterns that must all match"
   ]
  },
  {
   "cell_type": "code",
   "execution_count": 14,
   "id": "7cfc7bbf-ba2e-4976-9a77-75083e8c36a1",
   "metadata": {},
   "outputs": [
    {
     "name": "stdout",
     "output_type": "stream",
     "text": [
      "298\n"
     ]
    }
   ],
   "source": [
    "results = g.query(query1, initNs={\"music\": music, \"rdf\": RDF})\n",
    "\n",
    "# for row in results:\n",
    "#     print(f\"  {row}\")\n",
    "\n",
    "print(len(results))"
   ]
  },
  {
   "cell_type": "markdown",
   "id": "a90d6909-fc64-493f-a2f0-dc365f03af67",
   "metadata": {},
   "source": [
    "## Query 2: Find artists signed to record labels"
   ]
  },
  {
   "cell_type": "code",
   "execution_count": 15,
   "id": "1cced730-5ec1-45da-a007-810be3457873",
   "metadata": {},
   "outputs": [],
   "source": [
    "query2 = \"\"\"\n",
    "SELECT ?artist ?label WHERE {\n",
    "    ?artist rdf:type music:Artist .\n",
    "    ?artist music:signedTo ?label .\n",
    "    ?label rdf:type music:RecordLabel .\n",
    "}\n",
    "\"\"\"\n",
    "# This demonstrates joining across multiple classes\n",
    "# All three patterns must match for the same ?artist and ?label"
   ]
  },
  {
   "cell_type": "code",
   "execution_count": 16,
   "id": "55f2c7d5-8a7f-4177-b0b0-a8973895043f",
   "metadata": {},
   "outputs": [
    {
     "name": "stdout",
     "output_type": "stream",
     "text": [
      "0\n"
     ]
    }
   ],
   "source": [
    "# This data is broken in the RDF, so no results...\n",
    "results = g.query(query2, initNs={\"music\": music, \"rdf\": RDF})\n",
    "\n",
    "for row in results:\n",
    "    print(f\"  {row}\")\n",
    "\n",
    "print(len(results))"
   ]
  },
  {
   "cell_type": "markdown",
   "id": "80535e28-c569-476e-ae29-9e2c3e478ad6",
   "metadata": {},
   "source": [
    "## Query 3: Count songs by genre"
   ]
  },
  {
   "cell_type": "code",
   "execution_count": 17,
   "id": "e48592d5-5ccc-43ec-9bf2-27c1ac73f25d",
   "metadata": {},
   "outputs": [],
   "source": [
    "query3 = \"\"\"\n",
    "SELECT ?genre (COUNT(?song) as ?count) WHERE {\n",
    "    ?song rdf:type music:Song .\n",
    "    ?song music:hasGenre ?genre .\n",
    "    ?genre rdf:type music:Genre .\n",
    "}\n",
    "GROUP BY ?genre\n",
    "ORDER BY DESC(?count)\n",
    "\"\"\"\n",
    "# GROUP BY aggregates results, COUNT tallies matches\n",
    "# ORDER BY sorts results, DESC means descending order"
   ]
  },
  {
   "cell_type": "code",
   "execution_count": 18,
   "id": "58e499c0-46b0-4349-85df-5718f9cb641e",
   "metadata": {},
   "outputs": [
    {
     "name": "stdout",
     "output_type": "stream",
     "text": [
      "  (rdflib.term.URIRef('http://example.org/music/genre_genre_0'), rdflib.term.Literal('39', datatype=rdflib.term.URIRef('http://www.w3.org/2001/XMLSchema#integer')))\n",
      "  (rdflib.term.URIRef('http://example.org/music/genre_genre_4'), rdflib.term.Literal('39', datatype=rdflib.term.URIRef('http://www.w3.org/2001/XMLSchema#integer')))\n",
      "  (rdflib.term.URIRef('http://example.org/music/genre_genre_9'), rdflib.term.Literal('37', datatype=rdflib.term.URIRef('http://www.w3.org/2001/XMLSchema#integer')))\n",
      "  (rdflib.term.URIRef('http://example.org/music/genre_genre_13'), rdflib.term.Literal('33', datatype=rdflib.term.URIRef('http://www.w3.org/2001/XMLSchema#integer')))\n",
      "  (rdflib.term.URIRef('http://example.org/music/genre_genre_6'), rdflib.term.Literal('32', datatype=rdflib.term.URIRef('http://www.w3.org/2001/XMLSchema#integer')))\n",
      "  (rdflib.term.URIRef('http://example.org/music/genre_genre_12'), rdflib.term.Literal('28', datatype=rdflib.term.URIRef('http://www.w3.org/2001/XMLSchema#integer')))\n",
      "  (rdflib.term.URIRef('http://example.org/music/genre_genre_10'), rdflib.term.Literal('27', datatype=rdflib.term.URIRef('http://www.w3.org/2001/XMLSchema#integer')))\n",
      "  (rdflib.term.URIRef('http://example.org/music/genre_genre_1'), rdflib.term.Literal('27', datatype=rdflib.term.URIRef('http://www.w3.org/2001/XMLSchema#integer')))\n",
      "  (rdflib.term.URIRef('http://example.org/music/genre_genre_7'), rdflib.term.Literal('23', datatype=rdflib.term.URIRef('http://www.w3.org/2001/XMLSchema#integer')))\n",
      "  (rdflib.term.URIRef('http://example.org/music/genre_genre_14'), rdflib.term.Literal('22', datatype=rdflib.term.URIRef('http://www.w3.org/2001/XMLSchema#integer')))\n",
      "  (rdflib.term.URIRef('http://example.org/music/genre_genre_11'), rdflib.term.Literal('21', datatype=rdflib.term.URIRef('http://www.w3.org/2001/XMLSchema#integer')))\n",
      "  (rdflib.term.URIRef('http://example.org/music/genre_genre_8'), rdflib.term.Literal('19', datatype=rdflib.term.URIRef('http://www.w3.org/2001/XMLSchema#integer')))\n",
      "  (rdflib.term.URIRef('http://example.org/music/genre_genre_3'), rdflib.term.Literal('18', datatype=rdflib.term.URIRef('http://www.w3.org/2001/XMLSchema#integer')))\n",
      "  (rdflib.term.URIRef('http://example.org/music/genre_genre_2'), rdflib.term.Literal('16', datatype=rdflib.term.URIRef('http://www.w3.org/2001/XMLSchema#integer')))\n",
      "  (rdflib.term.URIRef('http://example.org/music/genre_genre_5'), rdflib.term.Literal('11', datatype=rdflib.term.URIRef('http://www.w3.org/2001/XMLSchema#integer')))\n",
      "15\n"
     ]
    }
   ],
   "source": [
    "results = g.query(query3, initNs={\"music\": music, \"rdf\": RDF})\n",
    "\n",
    "for row in results:\n",
    "    print(f\"  {row}\")\n",
    "\n",
    "print(len(results))"
   ]
  },
  {
   "cell_type": "markdown",
   "id": "4604f0c8-937d-408f-b7f6-f54f3a3e1ed9",
   "metadata": {},
   "source": [
    "## Query 4: Find collaborative songs (multiple performers)"
   ]
  },
  {
   "cell_type": "code",
   "execution_count": 19,
   "id": "8ea89036-0133-4e3d-97d7-7736ecc700dc",
   "metadata": {},
   "outputs": [],
   "source": [
    "query4 = \"\"\"\n",
    "SELECT ?song (COUNT(?performer) as ?performer_count) WHERE {\n",
    "    ?song rdf:type music:Song .\n",
    "    ?song music:performedBy ?performer .\n",
    "}\n",
    "GROUP BY ?song\n",
    "HAVING (COUNT(?performer) > 1)\n",
    "\"\"\"\n",
    "# HAVING filters grouped results (like WHERE but for aggregated data)\n",
    "# This finds songs with more than one performer"
   ]
  },
  {
   "cell_type": "code",
   "execution_count": 20,
   "id": "032c4850-9a53-4384-9451-1054234bded3",
   "metadata": {},
   "outputs": [
    {
     "name": "stdout",
     "output_type": "stream",
     "text": [
      "0\n"
     ]
    }
   ],
   "source": [
    "# I think this data is broken too...\n",
    "results = g.query(query4, initNs={\"music\": music, \"rdf\": RDF})\n",
    "\n",
    "for row in results:\n",
    "    print(f\"  {row}\")\n",
    "\n",
    "print(len(results))"
   ]
  },
  {
   "cell_type": "markdown",
   "id": "da25a21e-2a13-4eb8-bf7a-61fd3de66567",
   "metadata": {},
   "source": [
    "## Query 5: Find albums and their total track count"
   ]
  },
  {
   "cell_type": "code",
   "execution_count": 21,
   "id": "e4321c9e-a40a-4e8d-ae4b-c329bf4d1d07",
   "metadata": {},
   "outputs": [],
   "source": [
    "query5 = \"\"\"\n",
    "SELECT ?album (COUNT(?song) as ?track_count) WHERE {\n",
    "    ?album rdf:type music:Album .\n",
    "    ?song music:featuredOn ?album .\n",
    "}\n",
    "GROUP BY ?album\n",
    "\"\"\"\n",
    "# This counts how many songs appear on each album\n",
    "# Demonstrates inverse relationships (songs featured on albums)"
   ]
  },
  {
   "cell_type": "code",
   "execution_count": 22,
   "id": "95bb50d1-5190-40a8-883f-f1cea1d3408f",
   "metadata": {},
   "outputs": [
    {
     "name": "stdout",
     "output_type": "stream",
     "text": [
      "0\n"
     ]
    }
   ],
   "source": [
    "results = g.query(query5, initNs={\"music\": music, \"rdf\": RDF})\n",
    "\n",
    "for row in results:\n",
    "    print(f\"  {row}\")\n",
    "\n",
    "print(len(results))"
   ]
  },
  {
   "cell_type": "markdown",
   "id": "3fe8ea48-7a5b-4967-a202-b6f99034d7e7",
   "metadata": {},
   "source": [
    "# Creating Core Music Classes and Properties"
   ]
  },
  {
   "cell_type": "code",
   "execution_count": 23,
   "id": "500bddf4-5ca9-4d0b-be58-58fbb754dbe0",
   "metadata": {},
   "outputs": [],
   "source": [
    "# Create a new graph for our ontology extension\n",
    "g = Graph()\n",
    "music = Namespace(\"http://example.org/music#\")\n",
    "g.bind(\"music\", music)"
   ]
  },
  {
   "cell_type": "markdown",
   "id": "8cad2a12-bed7-479a-9665-20d5e0869afa",
   "metadata": {},
   "source": [
    "## Define core classes"
   ]
  },
  {
   "cell_type": "code",
   "execution_count": 24,
   "id": "64f4b79c-6bfd-4799-99b1-6fd29703fe6b",
   "metadata": {},
   "outputs": [
    {
     "data": {
      "text/plain": [
       "<Graph identifier=Nb8cdabc6a805462bacd6c9670d52ccc0 (<class 'rdflib.graph.Graph'>)>"
      ]
     },
     "execution_count": 24,
     "metadata": {},
     "output_type": "execute_result"
    }
   ],
   "source": [
    "g.add((music.Playlist, RDF.type, OWL.Class))\n",
    "g.add((music.Playlist, RDFS.label, Literal(\"Playlist\")))"
   ]
  },
  {
   "cell_type": "code",
   "execution_count": 25,
   "id": "c821a4b2-cdf5-4b26-b683-e2badefc7103",
   "metadata": {},
   "outputs": [
    {
     "data": {
      "text/plain": [
       "<Graph identifier=Nb8cdabc6a805462bacd6c9670d52ccc0 (<class 'rdflib.graph.Graph'>)>"
      ]
     },
     "execution_count": 25,
     "metadata": {},
     "output_type": "execute_result"
    }
   ],
   "source": [
    "g.add((music.Concert, RDF.type, OWL.Class))\n",
    "g.add((music.Concert, RDFS.label, Literal(\"Concert\")))"
   ]
  },
  {
   "cell_type": "code",
   "execution_count": 26,
   "id": "083be630-0606-4a54-9a89-ae1486076924",
   "metadata": {},
   "outputs": [
    {
     "data": {
      "text/plain": [
       "<Graph identifier=Nb8cdabc6a805462bacd6c9670d52ccc0 (<class 'rdflib.graph.Graph'>)>"
      ]
     },
     "execution_count": 26,
     "metadata": {},
     "output_type": "execute_result"
    }
   ],
   "source": [
    "g.add((music.MusicVideo, RDF.type, OWL.Class))\n",
    "g.add((music.MusicVideo, RDFS.label, Literal(\"Music Video\")))"
   ]
  },
  {
   "cell_type": "markdown",
   "id": "2af51db3-ffc5-4ddb-a67e-779ecb20f76a",
   "metadata": {},
   "source": [
    "## Define some properties for Playlist"
   ]
  },
  {
   "cell_type": "code",
   "execution_count": 27,
   "id": "33272a9f-ef2c-4bf8-b2ae-d0b155a24430",
   "metadata": {},
   "outputs": [
    {
     "data": {
      "text/plain": [
       "<Graph identifier=Nb8cdabc6a805462bacd6c9670d52ccc0 (<class 'rdflib.graph.Graph'>)>"
      ]
     },
     "execution_count": 27,
     "metadata": {},
     "output_type": "execute_result"
    }
   ],
   "source": [
    "g.add((music.containsSong, RDF.type, OWL.ObjectProperty))\n",
    "g.add((music.containsSong, RDFS.domain, music.Playlist))\n",
    "g.add((music.containsSong, RDFS.range, music.Song))"
   ]
  },
  {
   "cell_type": "code",
   "execution_count": 28,
   "id": "266a104b-d944-4c16-8287-c1f639bd169c",
   "metadata": {},
   "outputs": [
    {
     "data": {
      "text/plain": [
       "<Graph identifier=Nb8cdabc6a805462bacd6c9670d52ccc0 (<class 'rdflib.graph.Graph'>)>"
      ]
     },
     "execution_count": 28,
     "metadata": {},
     "output_type": "execute_result"
    }
   ],
   "source": [
    "g.add((music.playlistName, RDF.type, OWL.DatatypeProperty))\n",
    "g.add((music.playlistName, RDFS.domain, music.Playlist))\n",
    "g.add((music.playlistName, RDFS.range, XSD.string))"
   ]
  },
  {
   "cell_type": "code",
   "execution_count": 29,
   "id": "5f6efb3e-e685-4e23-aef9-b0ae94ae259d",
   "metadata": {},
   "outputs": [
    {
     "data": {
      "text/plain": [
       "<Graph identifier=Nb8cdabc6a805462bacd6c9670d52ccc0 (<class 'rdflib.graph.Graph'>)>"
      ]
     },
     "execution_count": 29,
     "metadata": {},
     "output_type": "execute_result"
    }
   ],
   "source": [
    "g.add((music.createdBy, RDF.type, OWL.ObjectProperty))\n",
    "g.add((music.createdBy, RDFS.domain, music.Playlist))\n",
    "g.add((music.createdBy, RDFS.range, FOAF.Person))"
   ]
  },
  {
   "cell_type": "code",
   "execution_count": 30,
   "id": "7daba829-0376-4c6e-b8e7-28e6ba0f3291",
   "metadata": {},
   "outputs": [
    {
     "data": {
      "text/plain": [
       "<Graph identifier=Nb8cdabc6a805462bacd6c9670d52ccc0 (<class 'rdflib.graph.Graph'>)>"
      ]
     },
     "execution_count": 30,
     "metadata": {},
     "output_type": "execute_result"
    }
   ],
   "source": [
    "# Define properties for Concert\n",
    "g.add((music.performsAt, RDF.type, OWL.ObjectProperty))\n",
    "g.add((music.performsAt, RDFS.domain, music.Artist))\n",
    "g.add((music.performsAt, RDFS.range, music.Concert))"
   ]
  },
  {
   "cell_type": "code",
   "execution_count": 31,
   "id": "c27da4be-0d9d-4c31-afc4-d01ae44884ee",
   "metadata": {},
   "outputs": [
    {
     "data": {
      "text/plain": [
       "<Graph identifier=Nb8cdabc6a805462bacd6c9670d52ccc0 (<class 'rdflib.graph.Graph'>)>"
      ]
     },
     "execution_count": 31,
     "metadata": {},
     "output_type": "execute_result"
    }
   ],
   "source": [
    "g.add((music.concertDate, RDF.type, OWL.DatatypeProperty))\n",
    "g.add((music.concertDate, RDFS.domain, music.Concert))\n",
    "g.add((music.concertDate, RDFS.range, XSD.date))"
   ]
  },
  {
   "cell_type": "code",
   "execution_count": 32,
   "id": "0bd6735e-eea9-4665-ac62-2b35b04d3085",
   "metadata": {},
   "outputs": [
    {
     "data": {
      "text/plain": [
       "<Graph identifier=Nb8cdabc6a805462bacd6c9670d52ccc0 (<class 'rdflib.graph.Graph'>)>"
      ]
     },
     "execution_count": 32,
     "metadata": {},
     "output_type": "execute_result"
    }
   ],
   "source": [
    "g.add((music.venue, RDF.type, OWL.DatatypeProperty))\n",
    "g.add((music.venue, RDFS.domain, music.Concert))\n",
    "g.add((music.venue, RDFS.range, XSD.string))"
   ]
  },
  {
   "cell_type": "markdown",
   "id": "7ef970c5-76e4-45fb-a3e5-0ccbce797ddd",
   "metadata": {},
   "source": [
    "## Define some properties for MusicVideo"
   ]
  },
  {
   "cell_type": "code",
   "execution_count": 33,
   "id": "101bf8bb-35bb-4e09-9893-9a2db40d5f04",
   "metadata": {},
   "outputs": [
    {
     "data": {
      "text/plain": [
       "<Graph identifier=Nb8cdabc6a805462bacd6c9670d52ccc0 (<class 'rdflib.graph.Graph'>)>"
      ]
     },
     "execution_count": 33,
     "metadata": {},
     "output_type": "execute_result"
    }
   ],
   "source": [
    "g.add((music.videoFor, RDF.type, OWL.ObjectProperty))\n",
    "g.add((music.videoFor, RDFS.domain, music.MusicVideo))\n",
    "g.add((music.videoFor, RDFS.range, music.Song))"
   ]
  },
  {
   "cell_type": "code",
   "execution_count": 34,
   "id": "e64249c0-4156-4553-b616-7985ec89e55a",
   "metadata": {},
   "outputs": [
    {
     "data": {
      "text/plain": [
       "<Graph identifier=Nb8cdabc6a805462bacd6c9670d52ccc0 (<class 'rdflib.graph.Graph'>)>"
      ]
     },
     "execution_count": 34,
     "metadata": {},
     "output_type": "execute_result"
    }
   ],
   "source": [
    "g.add((music.director, RDF.type, OWL.DatatypeProperty))\n",
    "g.add((music.director, RDFS.domain, music.MusicVideo))\n",
    "g.add((music.director, RDFS.range, XSD.string))"
   ]
  },
  {
   "cell_type": "code",
   "execution_count": 35,
   "id": "466d8e20-18c8-4503-8449-85ea1fb6ba83",
   "metadata": {},
   "outputs": [
    {
     "data": {
      "text/plain": [
       "<Graph identifier=Nb8cdabc6a805462bacd6c9670d52ccc0 (<class 'rdflib.graph.Graph'>)>"
      ]
     },
     "execution_count": 35,
     "metadata": {},
     "output_type": "execute_result"
    }
   ],
   "source": [
    "g.add((music.viewCount, RDF.type, OWL.DatatypeProperty))\n",
    "g.add((music.viewCount, RDFS.domain, music.MusicVideo))\n",
    "g.add((music.viewCount, RDFS.range, XSD.int))"
   ]
  },
  {
   "cell_type": "markdown",
   "id": "a1770555-b905-49b8-9354-1d4b773342d3",
   "metadata": {},
   "source": [
    "# Working with Individuals"
   ]
  },
  {
   "cell_type": "code",
   "execution_count": 36,
   "id": "649c42f0-28df-463f-86fe-758f256ab5be",
   "metadata": {},
   "outputs": [],
   "source": [
    "# Create specific instances\n",
    "my_playlist = URIRef(\"http://example.org/playlist/roadtrip2024\")\n",
    "queen_concert = URIRef(\"http://example.org/concert/wembley1986\")\n",
    "bohemian_video = URIRef(\"http://example.org/video/bohemian_rhapsody\")"
   ]
  },
  {
   "cell_type": "code",
   "execution_count": 37,
   "id": "60582b24-7189-4474-ae42-0ebd4b5569d8",
   "metadata": {},
   "outputs": [
    {
     "data": {
      "text/plain": [
       "<Graph identifier=Nb8cdabc6a805462bacd6c9670d52ccc0 (<class 'rdflib.graph.Graph'>)>"
      ]
     },
     "execution_count": 37,
     "metadata": {},
     "output_type": "execute_result"
    }
   ],
   "source": [
    "# Add instance data for playlist\n",
    "g.add((my_playlist, RDF.type, music.Playlist))\n",
    "g.add((my_playlist, music.playlistName, Literal(\"Road Trip 2024\")))\n",
    "g.add((my_playlist, music.containsSong, music.BohemianRhapsody))"
   ]
  },
  {
   "cell_type": "code",
   "execution_count": 38,
   "id": "fa7e5761-66a8-4ac0-bed2-97de34d33010",
   "metadata": {},
   "outputs": [
    {
     "data": {
      "text/plain": [
       "<Graph identifier=Nb8cdabc6a805462bacd6c9670d52ccc0 (<class 'rdflib.graph.Graph'>)>"
      ]
     },
     "execution_count": 38,
     "metadata": {},
     "output_type": "execute_result"
    }
   ],
   "source": [
    "# Add instance data for concert\n",
    "g.add((queen_concert, RDF.type, music.Concert))\n",
    "g.add((queen_concert, music.concertDate, Literal(\"1986-07-12\", datatype=XSD.date)))\n",
    "g.add((queen_concert, music.venue, Literal(\"Wembley Stadium\")))\n",
    "g.add((music.Queen, music.performsAt, queen_concert))"
   ]
  },
  {
   "cell_type": "code",
   "execution_count": 39,
   "id": "f5392618-a876-4c6b-8a4c-2b2315b961de",
   "metadata": {},
   "outputs": [
    {
     "data": {
      "text/plain": [
       "<Graph identifier=Nb8cdabc6a805462bacd6c9670d52ccc0 (<class 'rdflib.graph.Graph'>)>"
      ]
     },
     "execution_count": 39,
     "metadata": {},
     "output_type": "execute_result"
    }
   ],
   "source": [
    "# Add instance data for music video\n",
    "g.add((bohemian_video, RDF.type, music.MusicVideo))\n",
    "g.add((bohemian_video, music.videoFor, music.BohemianRhapsody))\n",
    "g.add((bohemian_video, music.director, Literal(\"Bruce Gowers\")))\n",
    "g.add((bohemian_video, music.viewCount, Literal(1500000000, datatype=XSD.int)))"
   ]
  },
  {
   "cell_type": "markdown",
   "id": "abd61d05-d091-4ed7-a6b7-82e96e312020",
   "metadata": {},
   "source": [
    "# Possible Restrictions for Music Domain"
   ]
  },
  {
   "cell_type": "code",
   "execution_count": 40,
   "id": "a5b9698f-d969-4bf1-ae7d-ed166a061258",
   "metadata": {},
   "outputs": [],
   "source": [
    "# Create restriction: albums that contain rock songs\n",
    "rock_album_restriction = BNode()"
   ]
  },
  {
   "cell_type": "code",
   "execution_count": 41,
   "id": "71d450b7-04b6-417d-a0ec-66c35a37b18a",
   "metadata": {},
   "outputs": [
    {
     "data": {
      "text/plain": [
       "<Graph identifier=Nb8cdabc6a805462bacd6c9670d52ccc0 (<class 'rdflib.graph.Graph'>)>"
      ]
     },
     "execution_count": 41,
     "metadata": {},
     "output_type": "execute_result"
    }
   ],
   "source": [
    "g.add((rock_album_restriction, RDF.type, OWL.Restriction))\n",
    "g.add((rock_album_restriction, OWL.onProperty, music.features))\n",
    "g.add((rock_album_restriction, OWL.someValuesFrom, music.RockSong))"
   ]
  },
  {
   "cell_type": "code",
   "execution_count": 42,
   "id": "4565504f-51ff-4576-a801-adce3d1e8eff",
   "metadata": {},
   "outputs": [
    {
     "data": {
      "text/plain": [
       "<Graph identifier=Nb8cdabc6a805462bacd6c9670d52ccc0 (<class 'rdflib.graph.Graph'>)>"
      ]
     },
     "execution_count": 42,
     "metadata": {},
     "output_type": "execute_result"
    }
   ],
   "source": [
    "# Define RockAlbum as albums with rock content\n",
    "g.add((music.RockAlbum, RDF.type, OWL.Class))\n",
    "g.add((music.RockAlbum, RDFS.subClassOf, music.Album))\n",
    "g.add((music.RockAlbum, RDFS.subClassOf, rock_album_restriction))"
   ]
  },
  {
   "cell_type": "code",
   "execution_count": 43,
   "id": "3e40a14b-53d2-4426-8f69-5746df88f371",
   "metadata": {},
   "outputs": [
    {
     "data": {
      "text/plain": [
       "<Graph identifier=Nb8cdabc6a805462bacd6c9670d52ccc0 (<class 'rdflib.graph.Graph'>)>"
      ]
     },
     "execution_count": 43,
     "metadata": {},
     "output_type": "execute_result"
    }
   ],
   "source": [
    "# Create cardinality restriction: singles have exactly one song\n",
    "single_restriction = BNode()\n",
    "g.add((single_restriction, RDF.type, OWL.Restriction))\n",
    "g.add((single_restriction, OWL.onProperty, music.features))\n",
    "g.add((single_restriction, OWL.cardinality, Literal(1, datatype=XSD.nonNegativeInteger)))"
   ]
  },
  {
   "cell_type": "code",
   "execution_count": 44,
   "id": "301159c8-cf88-44e1-ba0d-ac9fb6220428",
   "metadata": {},
   "outputs": [
    {
     "data": {
      "text/plain": [
       "<Graph identifier=Nb8cdabc6a805462bacd6c9670d52ccc0 (<class 'rdflib.graph.Graph'>)>"
      ]
     },
     "execution_count": 44,
     "metadata": {},
     "output_type": "execute_result"
    }
   ],
   "source": [
    "g.add((music.Single, RDFS.subClassOf, single_restriction))"
   ]
  },
  {
   "cell_type": "code",
   "execution_count": 45,
   "id": "d4423e93-822c-48a6-b3c6-f1d460f4f752",
   "metadata": {},
   "outputs": [
    {
     "data": {
      "text/plain": [
       "<Graph identifier=Nb8cdabc6a805462bacd6c9670d52ccc0 (<class 'rdflib.graph.Graph'>)>"
      ]
     },
     "execution_count": 45,
     "metadata": {},
     "output_type": "execute_result"
    }
   ],
   "source": [
    "# Create domain/range restriction for award relationships\n",
    "g.add((music.hasWonAward, RDFS.domain, music.Artist))\n",
    "g.add((music.hasWonAward, RDFS.range, music.Award))"
   ]
  },
  {
   "cell_type": "markdown",
   "id": "55cd79ef-e9dc-4d0d-a13a-251357375c60",
   "metadata": {},
   "source": [
    "# Basic Inference with Music Data"
   ]
  },
  {
   "cell_type": "code",
   "execution_count": 46,
   "id": "240a8d41-a41f-455c-98b6-dc4dfe987720",
   "metadata": {},
   "outputs": [],
   "source": [
    "# rdflib has limited built-in OWL reasoning\n",
    "# We can implement simple RDFS inference manually\n",
    "\n",
    "def apply_rdfs_inference(graph):\n",
    "    \"\"\"Apply basic RDFS subclass inference\"\"\"\n",
    "    inferred = Graph()\n",
    "    inferred += graph  # Copy original\n",
    "    \n",
    "    # Apply subclass transitivity\n",
    "    changed = True\n",
    "    while changed:\n",
    "        changed = False\n",
    "        for s, p, o in inferred.triples((None, RDFS.subClassOf, None)):\n",
    "            for s2, p2, o2 in inferred.triples((None, RDFS.subClassOf, s)):\n",
    "                triple = (s2, RDFS.subClassOf, o)\n",
    "                if triple not in inferred:\n",
    "                    inferred.add(triple)\n",
    "                    changed = True\n",
    "    \n",
    "    # Apply type inference from subclasses\n",
    "    for individual, rdf_type, cls in inferred.triples((None, RDF.type, None)):\n",
    "        for subcls, subclass_of, supercls in inferred.triples((cls, RDFS.subClassOf, None)):\n",
    "            triple = (individual, RDF.type, supercls)\n",
    "            if triple not in inferred:\n",
    "                inferred.add(triple)\n",
    "    \n",
    "    return inferred"
   ]
  },
  {
   "cell_type": "code",
   "execution_count": 47,
   "id": "5156dc0c-52f0-4911-9d31-7e9e73d72f57",
   "metadata": {},
   "outputs": [],
   "source": [
    "# Apply inference\n",
    "g_inferred = apply_rdfs_inference(g)"
   ]
  },
  {
   "cell_type": "code",
   "execution_count": 48,
   "id": "dfe78196-2cdb-4082-acb8-9f6e8fec4f9a",
   "metadata": {},
   "outputs": [],
   "source": [
    "# Query with inference\n",
    "query = \"\"\"\n",
    "SELECT ?individual ?type WHERE {\n",
    "    ?individual rdf:type ?type .\n",
    "    ?type rdfs:subClassOf music:Album .\n",
    "}\n",
    "\"\"\""
   ]
  },
  {
   "cell_type": "code",
   "execution_count": 49,
   "id": "66b9e740-04f1-4782-a5a6-0d7ccb9ed8b5",
   "metadata": {},
   "outputs": [
    {
     "name": "stdout",
     "output_type": "stream",
     "text": [
      "Individuals that are albums (including subtypes):\n"
     ]
    }
   ],
   "source": [
    "results = g_inferred.query(query, initNs={\"music\": music, \"rdf\": RDF, \"rdfs\": RDFS})\n",
    "print(\"Individuals that are albums (including subtypes):\")\n",
    "for row in results:\n",
    "    print(f\"  {row.individual} is a {row.type}\")"
   ]
  },
  {
   "cell_type": "markdown",
   "id": "81bbf342-c8c3-45bf-959b-a802c930ea16",
   "metadata": {},
   "source": [
    "# Serializing Music Ontology Data"
   ]
  },
  {
   "cell_type": "code",
   "execution_count": 50,
   "id": "72ef4e56-2a43-4a96-a5ec-2e0dee4575cf",
   "metadata": {},
   "outputs": [
    {
     "data": {
      "text/plain": [
       "<Graph identifier=Nb8cdabc6a805462bacd6c9670d52ccc0 (<class 'rdflib.graph.Graph'>)>"
      ]
     },
     "execution_count": 50,
     "metadata": {},
     "output_type": "execute_result"
    }
   ],
   "source": [
    "# Serialize in different formats for different use cases\n",
    "g.serialize(destination=\"toy_music.ttl\", format=\"turtle\")\n",
    "g.serialize(destination=\"toy_music.owl\", format=\"xml\")\n",
    "g.serialize(destination=\"toy_music.jsonld\", format=\"json-ld\")"
   ]
  },
  {
   "cell_type": "code",
   "execution_count": 51,
   "id": "0921a030-1a0f-40fd-bbac-f2a4dc39fb2b",
   "metadata": {},
   "outputs": [
    {
     "name": "stdout",
     "output_type": "stream",
     "text": [
      "Turtle serialization:\n",
      "@prefix foaf: <http://xmlns.com/foaf/0.1/> .\n",
      "@prefix music: <http://example.org/music#> .\n",
      "@prefix owl: <http://www.w3.org/2002/07/owl#> .\n",
      "@prefix rdfs: <http://www.w3.org/2000/01/rdf-schema#> .\n",
      "@prefix xsd: <http://www.w3.org/2001/XMLSchema#> .\n",
      "\n",
      "music:Queen music:performsAt <http://example.org/concert/wembley1986> .\n",
      "\n",
      "music:RockAlbum a owl:Class ;\n",
      "    rdfs:subClassOf [ a owl:Restriction ;\n",
      "            owl:onProperty music:features ;\n",
      "            owl:someValuesFrom music:RockSong ],\n",
      "        music:Album .\n",
      "\n",
      "music:Single rdfs:subClassOf [ a owl:Restriction ;\n",
      "            owl:cardinality \"1\"^^xsd:nonNegativeInteger ;\n",
      "            owl:onProperty music:features ] .\n",
      "\n",
      "music:concertDate a owl:DatatypeProperty ;\n",
      "    rdfs:domain music:Concert ;\n",
      "    rdfs:range xsd:date .\n",
      "\n",
      "music:containsSong a owl:ObjectProperty ;\n",
      "    rdfs:domain music:Playlist ;\n",
      "    rdfs:range music:Song .\n",
      "\n",
      "music:createdBy a owl:ObjectProperty ;\n",
      "    rdfs:domain music:Playlist ;\n",
      "    rdfs:range foaf:Person .\n",
      "\n",
      "music:director a owl:DatatypeProperty ;\n",
      "    rdfs:domain music:MusicVideo ;\n",
      "    rdfs:range xsd:string .\n",
      "\n",
      "music:hasWonAward rdfs:domain music:Artist ;\n",
      "    rdfs:range music:Award .\n",
      "\n",
      "music:performsAt a owl:ObjectProperty ;\n",
      "    rdfs:domain music:Artist ;\n",
      "    rdfs:range music:Concert .\n",
      "\n",
      "music:playlistName a owl:DatatypeProperty ;\n",
      "    rdfs:domain music:Playlist ;\n",
      "    rdfs:range xsd:string .\n",
      "\n",
      "music:venue a owl:DatatypeProperty ;\n",
      "    rdfs:domain music:Concert ;\n",
      "    rdfs:range xsd:string .\n",
      "\n",
      "music:videoFor a owl:ObjectProperty ;\n",
      "    rdfs:domain music:MusicVideo ;\n",
      "    rdfs:range music:Song .\n",
      "\n",
      "music:viewCount a owl:DatatypeProperty ;\n",
      "    rdfs:domain music:MusicVideo ;\n",
      "    rdfs:range xsd:int .\n",
      "\n",
      "<http://example.org/playlist/roadtrip2024> a music:Playlist ;\n",
      "    music:containsSong music:BohemianRhapsody ;\n",
      "    music:playlistName \"Road Trip 2024\" .\n",
      "\n",
      "<http://example.org/video/bohemian_rhapsody> a music:MusicVideo ;\n",
      "    music:director \"Bruce Gowers\" ;\n",
      "    music:videoFor music:BohemianRhapsody ;\n",
      "    music:viewCount \"1500000000\"^^xsd:int .\n",
      "\n",
      "<http://example.org/concert/wembley1986> a music:Concert ;\n",
      "    music:concertDate \"1986-07-12\"^^xsd:date ;\n",
      "    music:venue \"Wembley Stadium\" .\n",
      "\n",
      "music:Concert a owl:Class ;\n",
      "    rdfs:label \"Concert\" .\n",
      "\n",
      "music:MusicVideo a owl:Class ;\n",
      "    rdfs:label \"Music Video\" .\n",
      "\n",
      "music:Playlist a owl:Class ;\n",
      "    rdfs:label \"Playlist\" .\n",
      "\n",
      "\n"
     ]
    }
   ],
   "source": [
    "# Print turtle format (most human-readable)\n",
    "print(\"Turtle serialization:\")\n",
    "print(g.serialize(format=\"turtle\"))"
   ]
  },
  {
   "cell_type": "code",
   "execution_count": 52,
   "id": "1518417b-a9e5-4ddc-ad97-94bb289063c8",
   "metadata": {},
   "outputs": [],
   "source": [
    "# Save only the new classes we created\n",
    "new_classes_graph = Graph()\n",
    "new_classes_graph.bind(\"music\", music)"
   ]
  },
  {
   "cell_type": "code",
   "execution_count": 53,
   "id": "a9128067-ec60-4340-8910-75e18e7b77a2",
   "metadata": {},
   "outputs": [],
   "source": [
    "for s, p, o in g.triples((None, RDF.type, OWL.Class)):\n",
    "    if str(s).startswith(\"http://example.org/music#\"):\n",
    "        # Add all triples about this class\n",
    "        for s2, p2, o2 in g.triples((s, None, None)):\n",
    "            new_classes_graph.add((s2, p2, o2))"
   ]
  },
  {
   "cell_type": "code",
   "execution_count": 54,
   "id": "2e5b68ea-6ba0-4643-8b9d-38a6b2c9c131",
   "metadata": {},
   "outputs": [
    {
     "data": {
      "text/plain": [
       "<Graph identifier=Nb8980dd43a4c42d184aa3fb9b20a271a (<class 'rdflib.graph.Graph'>)>"
      ]
     },
     "execution_count": 54,
     "metadata": {},
     "output_type": "execute_result"
    }
   ],
   "source": [
    "new_classes_graph.serialize(destination=\"toy_new_music_classes.ttl\", format=\"turtle\")"
   ]
  },
  {
   "cell_type": "markdown",
   "id": "6c1ad09c-88b2-40a6-8d65-bc97904e631f",
   "metadata": {},
   "source": [
    "Different serialization formats serve different purposes. \n",
    "* Turtle is human-readable for debugging\n",
    "* XML integrates with OWL tools\n",
    "* JSON-LD works with web applications.\n",
    "* Separating new classes helps with modular ontology development."
   ]
  },
  {
   "cell_type": "markdown",
   "id": "906d6fac-2286-473f-9cbc-d25eacc6b486",
   "metadata": {},
   "source": [
    "."
   ]
  }
 ],
 "metadata": {
  "kernelspec": {
   "display_name": "Python 3 (ipykernel)",
   "language": "python",
   "name": "python3"
  },
  "language_info": {
   "codemirror_mode": {
    "name": "ipython",
    "version": 3
   },
   "file_extension": ".py",
   "mimetype": "text/x-python",
   "name": "python",
   "nbconvert_exporter": "python",
   "pygments_lexer": "ipython3",
   "version": "3.11.7"
  }
 },
 "nbformat": 4,
 "nbformat_minor": 5
}
