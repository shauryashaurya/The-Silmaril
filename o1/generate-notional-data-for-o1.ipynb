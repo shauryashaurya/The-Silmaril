{
 "cells": [
  {
   "cell_type": "code",
   "execution_count": 1,
   "id": "6e7eb68e-3b93-4725-82d4-50f0aab846ff",
   "metadata": {},
   "outputs": [],
   "source": [
    "import random\n",
    "import pandas as pd\n",
    "from faker import Faker"
   ]
  },
  {
   "cell_type": "code",
   "execution_count": 2,
   "id": "502ffda3-5521-4b3a-bd4c-257dca5902c4",
   "metadata": {},
   "outputs": [],
   "source": [
    "data_path = \"./data/\""
   ]
  },
  {
   "cell_type": "code",
   "execution_count": 3,
   "id": "e0add317-644b-4301-ad1c-52db010a15a6",
   "metadata": {},
   "outputs": [],
   "source": [
    "fake = Faker()"
   ]
  },
  {
   "cell_type": "code",
   "execution_count": 4,
   "id": "67934dc9-7f5f-4fc3-ae37-001b632f2c0d",
   "metadata": {},
   "outputs": [],
   "source": [
    "# Predefined genre list for variety\n",
    "GENRES = [\"Action\", \"Comedy\", \"Drama\", \"Thriller\", \"Sci-Fi\", \"Horror\", \"Romance\", \"Documentary\"]"
   ]
  },
  {
   "cell_type": "code",
   "execution_count": 5,
   "id": "17261dfe-6ae4-4dcb-b8a0-b95b5d301782",
   "metadata": {},
   "outputs": [],
   "source": [
    "# We decide how many of each entity to create:\n",
    "num_movies = 500\n",
    "num_actors = 75\n",
    "num_directors = 35\n",
    "num_characters = 750  # Some extra to let multiple actors share or have unique characters"
   ]
  },
  {
   "cell_type": "code",
   "execution_count": 6,
   "id": "dc58e7c4-4328-4eae-871a-fba3ae13fbc8",
   "metadata": {},
   "outputs": [],
   "source": [
    "# 1. Generate Directors\n",
    "directors_list = []\n",
    "for i in range(num_directors):\n",
    "    directors_list.append({\n",
    "        \"id\": f\"director_{i}\",\n",
    "        \"name\": fake.name(),\n",
    "        \"birthDate\": fake.date_of_birth().isoformat()\n",
    "    })\n",
    "directors = pd.DataFrame(directors_list)"
   ]
  },
  {
   "cell_type": "code",
   "execution_count": 7,
   "id": "6fd701e0-cfa0-43d5-886e-32b55c064099",
   "metadata": {},
   "outputs": [],
   "source": [
    "# 2. Generate Actors\n",
    "actors_list = []\n",
    "for i in range(num_actors):\n",
    "    actors_list.append({\n",
    "        \"id\": f\"actor_{i}\",\n",
    "        \"name\": fake.name(),\n",
    "        \"birthDate\": fake.date_of_birth().isoformat()\n",
    "    })\n",
    "actors = pd.DataFrame(actors_list)"
   ]
  },
  {
   "cell_type": "code",
   "execution_count": 8,
   "id": "edd4dd62-253c-4063-b0a0-878b0fa26375",
   "metadata": {},
   "outputs": [],
   "source": [
    "# 3. Generate Characters\n",
    "characters_list = []\n",
    "for i in range(num_characters):\n",
    "    characters_list.append({\n",
    "        \"id\": f\"char_{i}\",\n",
    "        \"name\": fake.first_name()  # or full name, but let's just do first name for \"character\"\n",
    "    })\n",
    "characters = pd.DataFrame(characters_list)"
   ]
  },
  {
   "cell_type": "code",
   "execution_count": 9,
   "id": "f8c473b0-1d97-464b-a185-759e8baf6877",
   "metadata": {},
   "outputs": [],
   "source": [
    "# 4. Generate Movies\n",
    "movies_list = []\n",
    "for i in range(num_movies):\n",
    "    # Randomly choose a director for the movie\n",
    "    director = random.choice(directors_list)\n",
    "    # Randomly choose some actors (2 to 7 actors)\n",
    "    movie_actors = random.sample(actors_list, k=random.randint(2, 7))\n",
    "    # For each actor in that set, randomly choose or create a character\n",
    "    # We'll pick from the characters list for simplicity\n",
    "    assigned_characters = random.sample(characters_list, k=len(movie_actors))\n",
    "\n",
    "    # Create relationships: (actor -> character)\n",
    "    actor_character_pairs = []\n",
    "    for actor_obj, char_obj in zip(movie_actors, assigned_characters):\n",
    "        actor_character_pairs.append({\n",
    "            \"actorID\": actor_obj[\"id\"],\n",
    "            \"characterID\": char_obj[\"id\"]\n",
    "        })\n",
    "\n",
    "    # Randomly assign 1 or 2 or 3 genres\n",
    "    movie_genres = random.sample(GENRES, k=random.randint(1, 3))\n",
    "\n",
    "    movies_list.append({\n",
    "        \"id\": f\"movie_{i}\",\n",
    "        \"title\": f\"Movie {i} - {fake.catch_phrase()}\",\n",
    "        \"releaseYear\": random.randint(1980, 2023),\n",
    "        \"duration\": random.randint(80, 180),\n",
    "        \"rating\": round(random.uniform(4.0, 9.9), 1),\n",
    "        \"directorID\": director[\"id\"],\n",
    "        \"actorCharacterPairs\": actor_character_pairs,\n",
    "        \"genres\": movie_genres\n",
    "    })\n",
    "movies = pd.DataFrame(movies_list)"
   ]
  },
  {
   "cell_type": "code",
   "execution_count": 10,
   "id": "fbb56d2d-04a7-47a7-9592-83c1fe39c0f0",
   "metadata": {},
   "outputs": [],
   "source": [
    "# Now we have four lists: directors, actors, characters, movies\n",
    "# This is our 'fake' dataset that hydrates the ontology."
   ]
  },
  {
   "cell_type": "code",
   "execution_count": 11,
   "id": "cc2a6696-29ad-4285-9ed8-61f1953769a4",
   "metadata": {},
   "outputs": [
    {
     "name": "stdout",
     "output_type": "stream",
     "text": [
      "Sample Director: {'id': 'director_0', 'name': 'Carl Reyes', 'birthDate': '2005-04-04'}\n",
      "Sample Actor: {'id': 'actor_0', 'name': 'Richard Patterson', 'birthDate': '1947-05-11'}\n",
      "Sample Character: {'id': 'char_0', 'name': 'Mary'}\n",
      "Sample Movie: {'id': 'movie_0', 'title': 'Movie 0 - Progressive bifurcated strategy', 'releaseYear': 1982, 'duration': 112, 'rating': 7.6, 'directorID': 'director_4', 'actorCharacterPairs': [{'actorID': 'actor_4', 'characterID': 'char_174'}, {'actorID': 'actor_36', 'characterID': 'char_57'}, {'actorID': 'actor_70', 'characterID': 'char_490'}], 'genres': ['Horror', 'Action', 'Documentary']}\n"
     ]
    }
   ],
   "source": [
    "# For demonstration, let's print out a few example entries\n",
    "print(\"Sample Director:\", directors_list[0])\n",
    "print(\"Sample Actor:\", actors_list[0])\n",
    "print(\"Sample Character:\", characters_list[0])\n",
    "print(\"Sample Movie:\", movies_list[0])"
   ]
  },
  {
   "cell_type": "code",
   "execution_count": 12,
   "id": "1ccebb07-8b79-4a45-96c9-527c0c230666",
   "metadata": {},
   "outputs": [
    {
     "data": {
      "text/html": [
       "<div>\n",
       "<style scoped>\n",
       "    .dataframe tbody tr th:only-of-type {\n",
       "        vertical-align: middle;\n",
       "    }\n",
       "\n",
       "    .dataframe tbody tr th {\n",
       "        vertical-align: top;\n",
       "    }\n",
       "\n",
       "    .dataframe thead th {\n",
       "        text-align: right;\n",
       "    }\n",
       "</style>\n",
       "<table border=\"1\" class=\"dataframe\">\n",
       "  <thead>\n",
       "    <tr style=\"text-align: right;\">\n",
       "      <th></th>\n",
       "      <th>id</th>\n",
       "      <th>name</th>\n",
       "      <th>birthDate</th>\n",
       "    </tr>\n",
       "  </thead>\n",
       "  <tbody>\n",
       "    <tr>\n",
       "      <th>0</th>\n",
       "      <td>director_0</td>\n",
       "      <td>Carl Reyes</td>\n",
       "      <td>2005-04-04</td>\n",
       "    </tr>\n",
       "    <tr>\n",
       "      <th>1</th>\n",
       "      <td>director_1</td>\n",
       "      <td>Jamie Daugherty</td>\n",
       "      <td>1976-12-13</td>\n",
       "    </tr>\n",
       "    <tr>\n",
       "      <th>2</th>\n",
       "      <td>director_2</td>\n",
       "      <td>Douglas Ballard</td>\n",
       "      <td>1941-09-13</td>\n",
       "    </tr>\n",
       "    <tr>\n",
       "      <th>3</th>\n",
       "      <td>director_3</td>\n",
       "      <td>Lisa Howard</td>\n",
       "      <td>1989-09-13</td>\n",
       "    </tr>\n",
       "    <tr>\n",
       "      <th>4</th>\n",
       "      <td>director_4</td>\n",
       "      <td>Shelby Miller</td>\n",
       "      <td>1948-05-29</td>\n",
       "    </tr>\n",
       "  </tbody>\n",
       "</table>\n",
       "</div>"
      ],
      "text/plain": [
       "           id             name   birthDate\n",
       "0  director_0       Carl Reyes  2005-04-04\n",
       "1  director_1  Jamie Daugherty  1976-12-13\n",
       "2  director_2  Douglas Ballard  1941-09-13\n",
       "3  director_3      Lisa Howard  1989-09-13\n",
       "4  director_4    Shelby Miller  1948-05-29"
      ]
     },
     "execution_count": 12,
     "metadata": {},
     "output_type": "execute_result"
    }
   ],
   "source": [
    "directors.head()"
   ]
  },
  {
   "cell_type": "code",
   "execution_count": 13,
   "id": "d6ffe641-2351-4ef2-97da-b8a42b66d91e",
   "metadata": {},
   "outputs": [
    {
     "data": {
      "text/html": [
       "<div>\n",
       "<style scoped>\n",
       "    .dataframe tbody tr th:only-of-type {\n",
       "        vertical-align: middle;\n",
       "    }\n",
       "\n",
       "    .dataframe tbody tr th {\n",
       "        vertical-align: top;\n",
       "    }\n",
       "\n",
       "    .dataframe thead th {\n",
       "        text-align: right;\n",
       "    }\n",
       "</style>\n",
       "<table border=\"1\" class=\"dataframe\">\n",
       "  <thead>\n",
       "    <tr style=\"text-align: right;\">\n",
       "      <th></th>\n",
       "      <th>id</th>\n",
       "      <th>name</th>\n",
       "      <th>birthDate</th>\n",
       "    </tr>\n",
       "  </thead>\n",
       "  <tbody>\n",
       "    <tr>\n",
       "      <th>0</th>\n",
       "      <td>actor_0</td>\n",
       "      <td>Richard Patterson</td>\n",
       "      <td>1947-05-11</td>\n",
       "    </tr>\n",
       "    <tr>\n",
       "      <th>1</th>\n",
       "      <td>actor_1</td>\n",
       "      <td>Cynthia Tucker</td>\n",
       "      <td>2020-02-21</td>\n",
       "    </tr>\n",
       "    <tr>\n",
       "      <th>2</th>\n",
       "      <td>actor_2</td>\n",
       "      <td>Kevin Miller</td>\n",
       "      <td>1949-06-08</td>\n",
       "    </tr>\n",
       "    <tr>\n",
       "      <th>3</th>\n",
       "      <td>actor_3</td>\n",
       "      <td>David Olson</td>\n",
       "      <td>1913-04-12</td>\n",
       "    </tr>\n",
       "    <tr>\n",
       "      <th>4</th>\n",
       "      <td>actor_4</td>\n",
       "      <td>Claire Schultz</td>\n",
       "      <td>1983-10-08</td>\n",
       "    </tr>\n",
       "  </tbody>\n",
       "</table>\n",
       "</div>"
      ],
      "text/plain": [
       "        id               name   birthDate\n",
       "0  actor_0  Richard Patterson  1947-05-11\n",
       "1  actor_1     Cynthia Tucker  2020-02-21\n",
       "2  actor_2       Kevin Miller  1949-06-08\n",
       "3  actor_3        David Olson  1913-04-12\n",
       "4  actor_4     Claire Schultz  1983-10-08"
      ]
     },
     "execution_count": 13,
     "metadata": {},
     "output_type": "execute_result"
    }
   ],
   "source": [
    "actors.head()"
   ]
  },
  {
   "cell_type": "code",
   "execution_count": 14,
   "id": "065b0c92-2766-40e8-a02a-0e3f66515a41",
   "metadata": {},
   "outputs": [
    {
     "data": {
      "text/html": [
       "<div>\n",
       "<style scoped>\n",
       "    .dataframe tbody tr th:only-of-type {\n",
       "        vertical-align: middle;\n",
       "    }\n",
       "\n",
       "    .dataframe tbody tr th {\n",
       "        vertical-align: top;\n",
       "    }\n",
       "\n",
       "    .dataframe thead th {\n",
       "        text-align: right;\n",
       "    }\n",
       "</style>\n",
       "<table border=\"1\" class=\"dataframe\">\n",
       "  <thead>\n",
       "    <tr style=\"text-align: right;\">\n",
       "      <th></th>\n",
       "      <th>id</th>\n",
       "      <th>name</th>\n",
       "    </tr>\n",
       "  </thead>\n",
       "  <tbody>\n",
       "    <tr>\n",
       "      <th>0</th>\n",
       "      <td>char_0</td>\n",
       "      <td>Mary</td>\n",
       "    </tr>\n",
       "    <tr>\n",
       "      <th>1</th>\n",
       "      <td>char_1</td>\n",
       "      <td>Aaron</td>\n",
       "    </tr>\n",
       "    <tr>\n",
       "      <th>2</th>\n",
       "      <td>char_2</td>\n",
       "      <td>Elijah</td>\n",
       "    </tr>\n",
       "    <tr>\n",
       "      <th>3</th>\n",
       "      <td>char_3</td>\n",
       "      <td>Robin</td>\n",
       "    </tr>\n",
       "    <tr>\n",
       "      <th>4</th>\n",
       "      <td>char_4</td>\n",
       "      <td>Anthony</td>\n",
       "    </tr>\n",
       "  </tbody>\n",
       "</table>\n",
       "</div>"
      ],
      "text/plain": [
       "       id     name\n",
       "0  char_0     Mary\n",
       "1  char_1    Aaron\n",
       "2  char_2   Elijah\n",
       "3  char_3    Robin\n",
       "4  char_4  Anthony"
      ]
     },
     "execution_count": 14,
     "metadata": {},
     "output_type": "execute_result"
    }
   ],
   "source": [
    "characters.head()"
   ]
  },
  {
   "cell_type": "code",
   "execution_count": 15,
   "id": "93617057-f202-4768-81bb-59a92eeae00c",
   "metadata": {},
   "outputs": [
    {
     "data": {
      "text/html": [
       "<div>\n",
       "<style scoped>\n",
       "    .dataframe tbody tr th:only-of-type {\n",
       "        vertical-align: middle;\n",
       "    }\n",
       "\n",
       "    .dataframe tbody tr th {\n",
       "        vertical-align: top;\n",
       "    }\n",
       "\n",
       "    .dataframe thead th {\n",
       "        text-align: right;\n",
       "    }\n",
       "</style>\n",
       "<table border=\"1\" class=\"dataframe\">\n",
       "  <thead>\n",
       "    <tr style=\"text-align: right;\">\n",
       "      <th></th>\n",
       "      <th>id</th>\n",
       "      <th>title</th>\n",
       "      <th>releaseYear</th>\n",
       "      <th>duration</th>\n",
       "      <th>rating</th>\n",
       "      <th>directorID</th>\n",
       "      <th>actorCharacterPairs</th>\n",
       "      <th>genres</th>\n",
       "    </tr>\n",
       "  </thead>\n",
       "  <tbody>\n",
       "    <tr>\n",
       "      <th>0</th>\n",
       "      <td>movie_0</td>\n",
       "      <td>Movie 0 - Progressive bifurcated strategy</td>\n",
       "      <td>1982</td>\n",
       "      <td>112</td>\n",
       "      <td>7.6</td>\n",
       "      <td>director_4</td>\n",
       "      <td>[{'actorID': 'actor_4', 'characterID': 'char_1...</td>\n",
       "      <td>[Horror, Action, Documentary]</td>\n",
       "    </tr>\n",
       "    <tr>\n",
       "      <th>1</th>\n",
       "      <td>movie_1</td>\n",
       "      <td>Movie 1 - Inverse mission-critical middleware</td>\n",
       "      <td>1994</td>\n",
       "      <td>177</td>\n",
       "      <td>8.3</td>\n",
       "      <td>director_14</td>\n",
       "      <td>[{'actorID': 'actor_37', 'characterID': 'char_...</td>\n",
       "      <td>[Comedy, Horror]</td>\n",
       "    </tr>\n",
       "    <tr>\n",
       "      <th>2</th>\n",
       "      <td>movie_2</td>\n",
       "      <td>Movie 2 - Business-focused secondary portal</td>\n",
       "      <td>2004</td>\n",
       "      <td>129</td>\n",
       "      <td>9.8</td>\n",
       "      <td>director_22</td>\n",
       "      <td>[{'actorID': 'actor_11', 'characterID': 'char_...</td>\n",
       "      <td>[Documentary, Romance]</td>\n",
       "    </tr>\n",
       "    <tr>\n",
       "      <th>3</th>\n",
       "      <td>movie_3</td>\n",
       "      <td>Movie 3 - Streamlined asymmetric productivity</td>\n",
       "      <td>2017</td>\n",
       "      <td>171</td>\n",
       "      <td>5.1</td>\n",
       "      <td>director_29</td>\n",
       "      <td>[{'actorID': 'actor_25', 'characterID': 'char_...</td>\n",
       "      <td>[Comedy]</td>\n",
       "    </tr>\n",
       "    <tr>\n",
       "      <th>4</th>\n",
       "      <td>movie_4</td>\n",
       "      <td>Movie 4 - Virtual exuding product</td>\n",
       "      <td>2023</td>\n",
       "      <td>172</td>\n",
       "      <td>7.1</td>\n",
       "      <td>director_12</td>\n",
       "      <td>[{'actorID': 'actor_62', 'characterID': 'char_...</td>\n",
       "      <td>[Drama, Romance, Sci-Fi]</td>\n",
       "    </tr>\n",
       "  </tbody>\n",
       "</table>\n",
       "</div>"
      ],
      "text/plain": [
       "        id                                          title  releaseYear  \\\n",
       "0  movie_0      Movie 0 - Progressive bifurcated strategy         1982   \n",
       "1  movie_1  Movie 1 - Inverse mission-critical middleware         1994   \n",
       "2  movie_2    Movie 2 - Business-focused secondary portal         2004   \n",
       "3  movie_3  Movie 3 - Streamlined asymmetric productivity         2017   \n",
       "4  movie_4              Movie 4 - Virtual exuding product         2023   \n",
       "\n",
       "   duration  rating   directorID  \\\n",
       "0       112     7.6   director_4   \n",
       "1       177     8.3  director_14   \n",
       "2       129     9.8  director_22   \n",
       "3       171     5.1  director_29   \n",
       "4       172     7.1  director_12   \n",
       "\n",
       "                                 actorCharacterPairs  \\\n",
       "0  [{'actorID': 'actor_4', 'characterID': 'char_1...   \n",
       "1  [{'actorID': 'actor_37', 'characterID': 'char_...   \n",
       "2  [{'actorID': 'actor_11', 'characterID': 'char_...   \n",
       "3  [{'actorID': 'actor_25', 'characterID': 'char_...   \n",
       "4  [{'actorID': 'actor_62', 'characterID': 'char_...   \n",
       "\n",
       "                          genres  \n",
       "0  [Horror, Action, Documentary]  \n",
       "1               [Comedy, Horror]  \n",
       "2         [Documentary, Romance]  \n",
       "3                       [Comedy]  \n",
       "4       [Drama, Romance, Sci-Fi]  "
      ]
     },
     "execution_count": 15,
     "metadata": {},
     "output_type": "execute_result"
    }
   ],
   "source": [
    "movies.head()"
   ]
  },
  {
   "cell_type": "code",
   "execution_count": 16,
   "id": "201047b5-0d0b-483f-a9fa-059f7ab9b4d4",
   "metadata": {},
   "outputs": [],
   "source": [
    "# persist the data\n",
    "directors.to_csv(data_path+\"directors.csv\", encoding = \"utf-8\", escapechar = \"\\\\\", index=False)\n",
    "actors.to_csv(data_path+\"actors.csv\", encoding = \"utf-8\", escapechar = \"\\\\\", index=False)\n",
    "characters.to_csv(data_path+\"characters.csv\", encoding = \"utf-8\", escapechar = \"\\\\\", index=False)\n",
    "movies.to_csv(data_path+\"movies.csv\", encoding = \"utf-8\", escapechar = \"\\\\\", index=False)"
   ]
  }
 ],
 "metadata": {
  "kernelspec": {
   "display_name": "Python 3 (ipykernel)",
   "language": "python",
   "name": "python3"
  },
  "language_info": {
   "codemirror_mode": {
    "name": "ipython",
    "version": 3
   },
   "file_extension": ".py",
   "mimetype": "text/x-python",
   "name": "python",
   "nbconvert_exporter": "python",
   "pygments_lexer": "ipython3",
   "version": "3.11.7"
  }
 },
 "nbformat": 4,
 "nbformat_minor": 5
}
