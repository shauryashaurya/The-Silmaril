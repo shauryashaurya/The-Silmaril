{
 "cells": [
  {
   "cell_type": "code",
   "execution_count": 1,
   "id": "6e7eb68e-3b93-4725-82d4-50f0aab846ff",
   "metadata": {},
   "outputs": [],
   "source": [
    "import random\n",
    "import pandas as pd\n",
    "from faker import Faker\n",
    "from datetime import timedelta, datetime  # Import datetime"
   ]
  },
  {
   "cell_type": "code",
   "execution_count": 2,
   "id": "502ffda3-5521-4b3a-bd4c-257dca5902c4",
   "metadata": {},
   "outputs": [],
   "source": [
    "data_path = \"./data/\""
   ]
  },
  {
   "cell_type": "code",
   "execution_count": 3,
   "id": "e0add317-644b-4301-ad1c-52db010a15a6",
   "metadata": {},
   "outputs": [],
   "source": [
    "fake = Faker()"
   ]
  },
  {
   "cell_type": "code",
   "execution_count": 4,
   "id": "95c9b9c0-a2e0-4c06-b5d3-765c8e226600",
   "metadata": {},
   "outputs": [],
   "source": [
    "# Configuration\n",
    "NUM_POLICYHOLDERS = 600\n",
    "NUM_INSURERS = 10\n",
    "NUM_UNDERWRITERS = 20\n",
    "NUM_AGENTS = 20\n",
    "NUM_COVERAGES = 15\n",
    "NUM_POLICIES = 1200\n",
    "NUM_CLAIMS = 800"
   ]
  },
  {
   "cell_type": "code",
   "execution_count": 5,
   "id": "585d2fe3-5bde-4121-a9f7-9419d989dfd9",
   "metadata": {},
   "outputs": [],
   "source": [
    "# 1. Generate PolicyHolders\n",
    "policyholders = []\n",
    "for i in range(NUM_POLICYHOLDERS):\n",
    "    policyholders.append({\n",
    "        \"id\": f\"holder_{i}\",\n",
    "        \"name\": fake.name(),\n",
    "        \"dateOfBirth\": fake.date_of_birth(minimum_age=18, maximum_age=85).isoformat(),\n",
    "        \"address\": fake.address().replace(\"\\n\", \", \"),\n",
    "        \"phoneNumber\": fake.phone_number()\n",
    "    })"
   ]
  },
  {
   "cell_type": "code",
   "execution_count": 6,
   "id": "2b951a6e-a873-4f48-a65a-42dce30dccb0",
   "metadata": {},
   "outputs": [],
   "source": [
    "# 2. Generate Insurers\n",
    "insurers = []\n",
    "for i in range(NUM_INSURERS):\n",
    "    insurers.append({\n",
    "        \"id\": f\"insurer_{i}\",\n",
    "        \"insurerName\": fake.company() + \" Insurance\",\n",
    "        \"headquartersLocation\": fake.city(),\n",
    "        \"industryRating\": round(random.uniform(2.0, 5.0), 1)  # 2.0 to 5.0 scale\n",
    "    })"
   ]
  },
  {
   "cell_type": "code",
   "execution_count": 7,
   "id": "e54987c8-78ff-49ef-8a37-13d6a5222ac4",
   "metadata": {},
   "outputs": [],
   "source": [
    "# 3. Generate Underwriters\n",
    "underwriters = []\n",
    "for i in range(NUM_UNDERWRITERS):\n",
    "    underwriters.append({\n",
    "        \"id\": f\"underwriter_{i}\",\n",
    "        \"name\": fake.name(),\n",
    "        \"licenseID\": f\"UW-{random.randint(1000, 9999)}\",\n",
    "        \"experienceYears\": random.randint(1, 30)\n",
    "    })"
   ]
  },
  {
   "cell_type": "code",
   "execution_count": 8,
   "id": "d7589beb-722d-4f50-8115-d19a78624740",
   "metadata": {},
   "outputs": [],
   "source": [
    "# 4. Generate Agents\n",
    "agents = []\n",
    "for i in range(NUM_AGENTS):\n",
    "    agents.append({\n",
    "        \"id\": f\"agent_{i}\",\n",
    "        \"name\": fake.name(),\n",
    "        \"agencyName\": fake.company() + \" Agency\",\n",
    "        \"agentLicense\": f\"AG-{random.randint(1000, 9999)}\"\n",
    "    })"
   ]
  },
  {
   "cell_type": "code",
   "execution_count": 9,
   "id": "c6d8134f-3ee1-41ce-a424-e74567ca0ccc",
   "metadata": {},
   "outputs": [],
   "source": [
    "# 5. Generate Coverage types\n",
    "possible_coverages = [\n",
    "    {\"coverageName\": \"Liability Coverage\", \"limitRange\": (10000, 500000), \"deductibleRange\": (100, 1000)},\n",
    "    {\"coverageName\": \"Collision Coverage\", \"limitRange\": (5000, 100000), \"deductibleRange\": (250, 2000)},\n",
    "    {\"coverageName\": \"Comprehensive Coverage\", \"limitRange\": (5000, 200000), \"deductibleRange\": (250, 2000)},\n",
    "    {\"coverageName\": \"Fire Coverage\", \"limitRange\": (10000, 300000), \"deductibleRange\": (500, 5000)},\n",
    "    {\"coverageName\": \"Flood Coverage\", \"limitRange\": (20000, 400000), \"deductibleRange\": (500, 5000)},\n",
    "    {\"coverageName\": \"Personal Property\", \"limitRange\": (5000, 100000), \"deductibleRange\": (250, 2000)},\n",
    "    {\"coverageName\": \"Bodily Injury Liability\", \"limitRange\": (20000, 500000), \"deductibleRange\": (0, 500)},\n",
    "    {\"coverageName\": \"Property Damage Liability\", \"limitRange\": (10000, 300000), \"deductibleRange\": (0, 500)},\n",
    "    {\"coverageName\": \"Uninsured Motorist\", \"limitRange\": (10000, 200000), \"deductibleRange\": (0, 500)},\n",
    "    {\"coverageName\": \"Underinsured Motorist\", \"limitRange\": (10000, 200000), \"deductibleRange\": (0, 500)},\n",
    "    {\"coverageName\": \"Theft Coverage\", \"limitRange\": (5000, 150000), \"deductibleRange\": (500, 3000)},\n",
    "    {\"coverageName\": \"Vandalism Coverage\", \"limitRange\": (5000, 100000), \"deductibleRange\": (250, 2000)},\n",
    "    {\"coverageName\": \"Wind/Hail Coverage\", \"limitRange\": (20000, 300000), \"deductibleRange\": (500, 5000)},\n",
    "    {\"coverageName\": \"Personal Injury Protection\", \"limitRange\": (5000, 50000), \"deductibleRange\": (0, 500)},\n",
    "    {\"coverageName\": \"Loss of Use\", \"limitRange\": (1000, 20000), \"deductibleRange\": (0, 250)},\n",
    "]\n",
    "\n",
    "coverages = []\n",
    "for i in range(NUM_COVERAGES):\n",
    "    template = random.choice(possible_coverages)\n",
    "    limitVal = random.randint(*template[\"limitRange\"])\n",
    "    dedVal = random.randint(*template[\"deductibleRange\"])\n",
    "    coverages.append({\n",
    "        \"id\": f\"coverage_{i}\",\n",
    "        \"coverageName\": template[\"coverageName\"],\n",
    "        \"coverageLimit\": float(limitVal),\n",
    "        \"deductible\": float(dedVal)\n",
    "    })"
   ]
  },
  {
   "cell_type": "code",
   "execution_count": 10,
   "id": "5a971a32-209c-4eac-b436-c58da70aeeb2",
   "metadata": {},
   "outputs": [],
   "source": [
    "# 6. Generate Policies\n",
    "policies = []\n",
    "policy_types = [\"Auto\", \"Home\", \"Condo\", \"Renter\", \"Landlord\", \"Umbrella\"]\n",
    "status_options = [\"Active\", \"Lapsed\", \"Cancelled\", \"Expired\"]\n",
    "for i in range(NUM_POLICIES):\n",
    "    p_holder = random.choice(policyholders)\n",
    "    p_insurer = random.choice(insurers)\n",
    "    p_underwriter = random.choice(underwriters)\n",
    "    p_agent = random.choice(agents)\n",
    "\n",
    "    start_date = fake.date_between(start_date='-3y', end_date='today')\n",
    "    # end_date might be after start_date by up to 3 years\n",
    "    end_date = start_date + timedelta(days=random.randint(30, 3 * 365))\n",
    "\n",
    "    # pick some coverage lines (1 to 4)\n",
    "    num_covers = random.randint(1, 4)\n",
    "    chosen_coverages = random.sample(coverages, k=num_covers)\n",
    "    coverage_ids = [c[\"id\"] for c in chosen_coverages]\n",
    "\n",
    "    policy_data = {\n",
    "        \"id\": f\"policy_{i}\",\n",
    "        \"policyNumber\": f\"PN-{random.randint(1000, 9999)}-{i}\",\n",
    "        \"policyType\": random.choice(policy_types),\n",
    "        \"startDate\": start_date.isoformat(),\n",
    "        \"endDate\": end_date.isoformat(),\n",
    "        \"premiumAmount\": round(random.uniform(200.0, 2000.0), 2),\n",
    "        \"status\": random.choice(status_options),\n",
    "        \"policyHolderID\": p_holder[\"id\"],\n",
    "        \"insurerID\": p_insurer[\"id\"],\n",
    "        \"underwriterID\": p_underwriter[\"id\"],\n",
    "        \"coverageIDs\": coverage_ids,  # simplistic approach\n",
    "        \"agentID\": p_agent[\"id\"]\n",
    "    }\n",
    "    policies.append(policy_data)"
   ]
  },
  {
   "cell_type": "code",
   "execution_count": 11,
   "id": "f128dff6-00d7-4d30-a563-4c998cd56723",
   "metadata": {},
   "outputs": [],
   "source": [
    "# 7. Generate Claims\n",
    "claims = []\n",
    "claim_types = [\"Accident\", \"Fire\", \"Theft\", \"Water Damage\", \"Liability\", \"Weather\", \"Vandalism\"]\n",
    "for i in range(NUM_CLAIMS):\n",
    "    claim_id = f\"claim_{i}\"\n",
    "    pol = random.choice(policies)\n",
    "    if pol[\"status\"] not in [\"Active\", \"Lapsed\"]:\n",
    "        # It's possible to claim on Lapsed or even Cancelled, but let's bias towards active\n",
    "        if random.random() < 0.4:\n",
    "            pol = random.choice(policies)\n",
    "\n",
    "    # pick the policyholder who is associated with that policy\n",
    "    holder_id = pol[\"policyHolderID\"]\n",
    "    # pick the insurer from the policy\n",
    "    ins_id = pol[\"insurerID\"]\n",
    "\n",
    "    # Corrected date comparison here:  Use datetime.fromisoformat()\n",
    "    c_date = fake.date_between(start_date=datetime.fromisoformat(pol[\"startDate\"]), end_date=datetime.fromisoformat(pol[\"endDate\"]))\n",
    "    claim_type = random.choice(claim_types)\n",
    "    amount_claimed = round(random.uniform(500.0, 30000.0), 2)\n",
    "    # settlement might be zero or partial\n",
    "    amount_settled = round(amount_claimed * random.uniform(0, 1.0), 2)\n",
    "\n",
    "    claim_status = random.choice([\"Open\", \"Pending Review\", \"Settled\", \"Denied\"])\n",
    "    # if it's \"Settled\", ensure amountSettled > 0\n",
    "    if claim_status == \"Settled\" and amount_settled == 0:\n",
    "        amount_settled = round(amount_claimed * random.uniform(0.3, 1.0), 2)\n",
    "\n",
    "    claims.append({\n",
    "        \"id\": claim_id,\n",
    "        \"claimNumber\": f\"CL-{random.randint(10000, 99999)}\",\n",
    "        \"claimDate\": c_date.isoformat(),\n",
    "        \"claimType\": claim_type,\n",
    "        \"amountClaimed\": amount_claimed,\n",
    "        \"amountSettled\": amount_settled,\n",
    "        \"status\": claim_status,\n",
    "        \"policyID\": pol[\"id\"],\n",
    "        \"policyHolderID\": holder_id,\n",
    "        \"insurerID\": ins_id\n",
    "    })"
   ]
  },
  {
   "cell_type": "code",
   "execution_count": 12,
   "id": "95f1ec8a-5468-4953-829a-ca26f3865836",
   "metadata": {},
   "outputs": [
    {
     "name": "stdout",
     "output_type": "stream",
     "text": [
      "Number of PolicyHolders: 600\n",
      "Number of Insurers: 10\n",
      "Number of Underwriters: 20\n",
      "Number of Agents: 20\n",
      "Number of Coverages: 15\n",
      "Number of Policies: 1200\n",
      "Number of Claims: 800 \n",
      "\n"
     ]
    }
   ],
   "source": [
    "# Summaries\n",
    "print(\"Number of PolicyHolders:\", len(policyholders))\n",
    "print(\"Number of Insurers:\", len(insurers))\n",
    "print(\"Number of Underwriters:\", len(underwriters))\n",
    "print(\"Number of Agents:\", len(agents))\n",
    "print(\"Number of Coverages:\", len(coverages))\n",
    "print(\"Number of Policies:\", len(policies))\n",
    "print(\"Number of Claims:\", len(claims), \"\\n\")"
   ]
  },
  {
   "cell_type": "code",
   "execution_count": 13,
   "id": "97bfca22-a5f6-46d0-b270-ba5bb25cddf4",
   "metadata": {},
   "outputs": [
    {
     "name": "stdout",
     "output_type": "stream",
     "text": [
      "Sample PolicyHolder: {'id': 'holder_0', 'name': 'Richard Gonzales', 'dateOfBirth': '2001-10-09', 'address': '4805 Porter Lodge Apt. 121, Thomasberg, CT 16719', 'phoneNumber': '(585)238-6800'}\n",
      "Sample Insurer: {'id': 'insurer_0', 'insurerName': 'Schneider-Hicks Insurance', 'headquartersLocation': 'Port Ronaldton', 'industryRating': 4.6}\n",
      "Sample Underwriter: {'id': 'underwriter_0', 'name': 'Michael Wyatt', 'licenseID': 'UW-2150', 'experienceYears': 20}\n",
      "Sample Agent: {'id': 'agent_0', 'name': 'Karen Gomez', 'agencyName': 'Spencer-Garcia Agency', 'agentLicense': 'AG-6313'}\n",
      "Sample Coverage: {'id': 'coverage_0', 'coverageName': 'Personal Injury Protection', 'coverageLimit': 20779.0, 'deductible': 171.0}\n",
      "Sample Policy: {'id': 'policy_0', 'policyNumber': 'PN-5216-0', 'policyType': 'Auto', 'startDate': '2022-06-21', 'endDate': '2023-11-23', 'premiumAmount': 278.33, 'status': 'Active', 'policyHolderID': 'holder_194', 'insurerID': 'insurer_5', 'underwriterID': 'underwriter_10', 'coverageIDs': ['coverage_8', 'coverage_10'], 'agentID': 'agent_14'}\n",
      "Sample Claim: {'id': 'claim_0', 'claimNumber': 'CL-40997', 'claimDate': '2023-08-12', 'claimType': 'Liability', 'amountClaimed': 7773.44, 'amountSettled': 4198.12, 'status': 'Pending Review', 'policyID': 'policy_880', 'policyHolderID': 'holder_337', 'insurerID': 'insurer_2'}\n"
     ]
    }
   ],
   "source": [
    "# Print samples\n",
    "print(\"Sample PolicyHolder:\", policyholders[0])\n",
    "print(\"Sample Insurer:\", insurers[0])\n",
    "print(\"Sample Underwriter:\", underwriters[0])\n",
    "print(\"Sample Agent:\", agents[0])\n",
    "print(\"Sample Coverage:\", coverages[0])\n",
    "print(\"Sample Policy:\", policies[0])\n",
    "print(\"Sample Claim:\", claims[0])"
   ]
  },
  {
   "cell_type": "code",
   "execution_count": 14,
   "id": "201047b5-0d0b-483f-a9fa-059f7ab9b4d4",
   "metadata": {},
   "outputs": [],
   "source": [
    "# persist the data\n",
    "pd.DataFrame(policyholders).to_csv(data_path+\"policyholders.csv\", encoding = \"utf-8\", escapechar = \"\\\"\", index=False)\n",
    "pd.DataFrame(insurers).to_csv(data_path+\"insurers.csv\", encoding = \"utf-8\", escapechar = \"\\\"\", index=False)\n",
    "pd.DataFrame(underwriters).to_csv(data_path+\"underwriters.csv\", encoding = \"utf-8\", escapechar = \"\\\"\", index=False)\n",
    "pd.DataFrame(agents).to_csv(data_path+\"agents.csv\", encoding = \"utf-8\", escapechar = \"\\\"\", index=False)\n",
    "pd.DataFrame(coverages).to_csv(data_path+\"coverages.csv\", encoding = \"utf-8\", escapechar = \"\\\"\", index=False)\n",
    "pd.DataFrame(policies).to_csv(data_path+\"policies.csv\", encoding = \"utf-8\", escapechar = \"\\\"\", index=False)\n",
    "pd.DataFrame(claims).to_csv(data_path+\"claims.csv\", encoding = \"utf-8\", escapechar = \"\\\"\", index=False)"
   ]
  },
  {
   "cell_type": "code",
   "execution_count": null,
   "id": "a759fcab-6e1c-4401-981e-6e840ee42db8",
   "metadata": {},
   "outputs": [],
   "source": []
  },
  {
   "cell_type": "code",
   "execution_count": null,
   "id": "e515a630-3524-4567-902e-6e6958d4bc27",
   "metadata": {},
   "outputs": [],
   "source": []
  }
 ],
 "metadata": {
  "kernelspec": {
   "display_name": "Python 3 (ipykernel)",
   "language": "python",
   "name": "python3"
  },
  "language_info": {
   "codemirror_mode": {
    "name": "ipython",
    "version": 3
   },
   "file_extension": ".py",
   "mimetype": "text/x-python",
   "name": "python",
   "nbconvert_exporter": "python",
   "pygments_lexer": "ipython3",
   "version": "3.11.7"
  }
 },
 "nbformat": 4,
 "nbformat_minor": 5
}
