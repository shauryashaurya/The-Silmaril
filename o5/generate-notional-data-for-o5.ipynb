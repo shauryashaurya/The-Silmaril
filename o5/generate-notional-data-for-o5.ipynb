{
 "cells": [
  {
   "cell_type": "code",
   "execution_count": 1,
   "id": "6e7eb68e-3b93-4725-82d4-50f0aab846ff",
   "metadata": {},
   "outputs": [],
   "source": [
    "import random\n",
    "import pandas as pd\n",
    "from faker import Faker\n",
    "from datetime import timedelta, datetime  # Import datetime"
   ]
  },
  {
   "cell_type": "code",
   "execution_count": 2,
   "id": "502ffda3-5521-4b3a-bd4c-257dca5902c4",
   "metadata": {},
   "outputs": [],
   "source": [
    "data_path = \"./data/\""
   ]
  },
  {
   "cell_type": "code",
   "execution_count": 3,
   "id": "e0add317-644b-4301-ad1c-52db010a15a6",
   "metadata": {},
   "outputs": [],
   "source": [
    "fake = Faker()"
   ]
  },
  {
   "cell_type": "code",
   "execution_count": 4,
   "id": "9308e620-0ea6-4028-bfcd-4026bd6b76ce",
   "metadata": {},
   "outputs": [],
   "source": [
    "# Configuration\n",
    "NUM_CLIENTS = 50  # Example value\n",
    "NUM_COMPANIES = 20\n",
    "NUM_SUPPLIERS = 30\n",
    "NUM_SUBCONTRACTORS = 40\n",
    "NUM_MATERIALS = 100\n",
    "NUM_PROJECTS = 60\n",
    "NUM_TASKS = 150\n",
    "NUM_PURCHASEORDERS = 100\n",
    "NUM_INVOICES = 80"
   ]
  },
  {
   "cell_type": "code",
   "execution_count": 5,
   "id": "82bf2e16-6dde-4f6a-af0f-8acd30ab817e",
   "metadata": {},
   "outputs": [],
   "source": [
    "# 1. Generate Clients\n",
    "clients = []\n",
    "for i in range(NUM_CLIENTS):\n",
    "    clients.append({\n",
    "        \"id\": f\"client_{i}\",\n",
    "        \"name\": fake.company() + \" (Client)\",\n",
    "        \"contactInfo\": fake.phone_number()\n",
    "    })"
   ]
  },
  {
   "cell_type": "code",
   "execution_count": 6,
   "id": "96df6eb5-ee0f-465c-adef-13cf8a63e5fc",
   "metadata": {},
   "outputs": [],
   "source": [
    "# 2. Generate Construction Companies\n",
    "companies = []\n",
    "for i in range(NUM_COMPANIES):\n",
    "    companies.append({\n",
    "        \"id\": f\"company_{i}\",\n",
    "        \"companyName\": fake.company() + \" Construction\",\n",
    "        \"licenseNumber\": f\"LIC-{random.randint(10000, 99999)}\",\n",
    "        \"location\": fake.city()\n",
    "    })"
   ]
  },
  {
   "cell_type": "code",
   "execution_count": 7,
   "id": "46003df7-f0ef-4dfc-a92c-3e2abd7c4222",
   "metadata": {},
   "outputs": [],
   "source": [
    "# 3. Generate Suppliers\n",
    "suppliers = []\n",
    "for i in range(NUM_SUPPLIERS):\n",
    "    suppliers.append({\n",
    "        \"id\": f\"supplier_{i}\",\n",
    "        \"supplierName\": fake.company() + \" Supplies\",\n",
    "        \"location\": fake.city(),\n",
    "        \"rating\": round(random.uniform(1.0, 5.0), 1)\n",
    "    })"
   ]
  },
  {
   "cell_type": "code",
   "execution_count": 8,
   "id": "994470d9-5c42-439b-b728-d749c47ba55d",
   "metadata": {},
   "outputs": [],
   "source": [
    "# 4. Generate SubContractors\n",
    "specialties = [\"Electrical\", \"Plumbing\", \"HVAC\", \"Roofing\", \"Carpentry\", \"Masonry\", \"Painting\", \"Flooring\"]\n",
    "subContractors = []\n",
    "for i in range(NUM_SUBCONTRACTORS):\n",
    "    subContractors.append({\n",
    "        \"id\": f\"subcontractor_{i}\",\n",
    "        \"subContractorName\": fake.company() + \" \" + random.choice(specialties),\n",
    "        \"specialty\": random.choice(specialties),\n",
    "        \"licenseNumber\": f\"SUB-{random.randint(10000, 99999)}\"\n",
    "    })"
   ]
  },
  {
   "cell_type": "code",
   "execution_count": 9,
   "id": "c6f29197-e53d-48ab-8702-b10790eb0dea",
   "metadata": {},
   "outputs": [],
   "source": [
    "# 5. Generate Materials\n",
    "material_types = [\"Lumber\", \"Cement\", \"Steel Rebar\", \"Bricks\", \"Tiles\", \"Glass\", \"Insulation\", \"Pipe\", \"Wiring\", \"Drywall\", \"Concrete Blocks\"]\n",
    "materials = []\n",
    "for i in range(NUM_MATERIALS):\n",
    "    mat_type = random.choice(material_types)\n",
    "    materials.append({\n",
    "        \"id\": f\"material_{i}\",\n",
    "        \"materialName\": mat_type,\n",
    "        \"unitCost\": round(random.uniform(1.0, 500.0), 2)\n",
    "    })"
   ]
  },
  {
   "cell_type": "code",
   "execution_count": 10,
   "id": "7e8b753e-ed69-41f0-808f-889f259e7c34",
   "metadata": {},
   "outputs": [],
   "source": [
    "# 6. Generate Projects\n",
    "project_statuses = [\"Planning\", \"In Progress\", \"On Hold\", \"Completed\", \"Cancelled\"]\n",
    "projects = []\n",
    "for i in range(NUM_PROJECTS):\n",
    "    p_client = random.choice(clients)\n",
    "    p_company = random.choice(companies)\n",
    "    start_date = fake.date_between(start_date='-3y', end_date='today')\n",
    "    end_date = start_date + timedelta(days=random.randint(60, 730))  # up to 2 years from start\n",
    "    proj_status = random.choice(project_statuses)\n",
    "    projects.append({\n",
    "        \"id\": f\"project_{i}\",\n",
    "        \"projectName\": f\"Project_{i}_{fake.word()}\",\n",
    "        \"location\": fake.city(),\n",
    "        \"startDate\": start_date.isoformat(),\n",
    "        \"endDate\": end_date.isoformat(),\n",
    "        \"totalBudget\": round(random.uniform(100000, 3000000), 2),\n",
    "        \"status\": proj_status,\n",
    "        \"clientID\": p_client[\"id\"],\n",
    "        \"companyID\": p_company[\"id\"]\n",
    "    })"
   ]
  },
  {
   "cell_type": "code",
   "execution_count": 11,
   "id": "04f7fc0f-812e-4a06-b9bf-b05339db02cb",
   "metadata": {},
   "outputs": [],
   "source": [
    "# 7. Generate Tasks\n",
    "tasks = []\n",
    "for i in range(NUM_TASKS):\n",
    "    t_project = random.choice(projects)\n",
    "    # Corrected: Convert start and end dates to datetime objects\n",
    "    t_start = fake.date_between(start_date=datetime.fromisoformat(t_project[\"startDate\"]), end_date=datetime.fromisoformat(t_project[\"endDate\"]))\n",
    "    # end date is after start date, but not beyond project end date\n",
    "    t_end = t_start + timedelta(days=random.randint(1, 90))\n",
    "    if t_end > datetime.fromisoformat(t_project[\"endDate\"]).date(): #Corrected Comparison with task end date and project end date\n",
    "        t_end = fake.date_between(start_date=t_start, end_date=datetime.fromisoformat(t_project[\"endDate\"]))\n",
    "\n",
    "    t_status = random.choice([\"Not Started\", \"In Progress\", \"Completed\", \"Blocked\"])\n",
    "    cost_est = round(random.uniform(1000, 50000), 2)\n",
    "\n",
    "    # assigned to either a sub or the main construction company\n",
    "    assigned_entity_type = random.choice([\"sub\", \"main\"])\n",
    "    if assigned_entity_type == \"sub\":\n",
    "        assignedID = random.choice(subContractors)[\"id\"]\n",
    "    else:\n",
    "        assignedID = t_project[\"companyID\"]\n",
    "\n",
    "    # random sample of 0-3 materials used\n",
    "    num_mats = random.randint(0, 3)\n",
    "    used_material_ids = []\n",
    "    if num_mats > 0:\n",
    "        used_material_ids = [random.choice(materials)[\"id\"] for _ in range(num_mats)]\n",
    "\n",
    "    tasks.append({\n",
    "        \"id\": f\"task_{i}\",\n",
    "        \"taskName\": f\"Task_{i}_{fake.word()}\",\n",
    "        \"startDate\": t_start.isoformat(),\n",
    "        \"endDate\": t_end.isoformat(),\n",
    "        \"status\": t_status,\n",
    "        \"costEstimate\": cost_est,\n",
    "        \"projectID\": t_project[\"id\"],\n",
    "        \"assignedTo\": assignedID,\n",
    "        \"materialIDs\": used_material_ids\n",
    "    })"
   ]
  },
  {
   "cell_type": "code",
   "execution_count": 12,
   "id": "5f60a7cd-2235-4c7b-acbd-b048459aa0ac",
   "metadata": {},
   "outputs": [],
   "source": [
    "# 8. Generate PurchaseOrders\n",
    "purchaseOrders = []\n",
    "for i in range(NUM_PURCHASEORDERS):\n",
    "    po_num = f\"PO-{random.randint(10000, 99999)}\"\n",
    "    po_project = random.choice(projects)\n",
    "    po_supplier = random.choice(suppliers)\n",
    "    # Corrected: Convert start and end dates to datetime objects\n",
    "    po_date = fake.date_between(start_date=datetime.fromisoformat(po_project[\"startDate\"]), end_date=datetime.fromisoformat(po_project[\"endDate\"]))\n",
    "    total_cost = round(random.uniform(500.0, 50000.0), 2)\n",
    "    purchaseOrders.append({\n",
    "        \"id\": f\"po_{i}\",\n",
    "        \"orderNumber\": po_num,\n",
    "        \"orderDate\": po_date.isoformat(),\n",
    "        \"totalCost\": total_cost,\n",
    "        \"supplierID\": po_supplier[\"id\"],\n",
    "        \"projectID\": po_project[\"id\"]\n",
    "    })"
   ]
  },
  {
   "cell_type": "code",
   "execution_count": 13,
   "id": "8a027573-51ef-4769-a8e6-1c4de2dce657",
   "metadata": {},
   "outputs": [],
   "source": [
    "# 9. Generate Invoices\n",
    "invoices = []\n",
    "for i in range(NUM_INVOICES):\n",
    "    inv_num = f\"INV-{random.randint(10000, 99999)}\"\n",
    "    inv_date = fake.date_between(start_date='-2y', end_date='today')\n",
    "    inv_amount = round(random.uniform(1000.0, 50000.0), 2)\n",
    "    inv_status = random.choice([\"Open\", \"Paid\", \"Overdue\", \"Cancelled\"])\n",
    "    # invoicer can be a SubContractor or a Supplier\n",
    "    invoicer_type = random.choice([\"sub\", \"sup\"])\n",
    "    if invoicer_type == \"sub\":\n",
    "        invoicerID = random.choice(subContractors)[\"id\"]\n",
    "    else:\n",
    "        invoicerID = random.choice(suppliers)[\"id\"]\n",
    "    # invoicedTo: pick random construction company\n",
    "    to_company = random.choice(companies)[\"id\"]\n",
    "\n",
    "    invoices.append({\n",
    "        \"id\": f\"invoice_{i}\",\n",
    "        \"invoiceNumber\": inv_num,\n",
    "        \"invoiceDate\": inv_date.isoformat(),\n",
    "        \"amount\": inv_amount,\n",
    "        \"status\": inv_status,\n",
    "        \"invoicedByID\": invoicerID,\n",
    "        \"invoicedToID\": to_company\n",
    "    })"
   ]
  },
  {
   "cell_type": "code",
   "execution_count": 14,
   "id": "ed6f6f8b-725c-4b14-be30-0fb8b96bebca",
   "metadata": {},
   "outputs": [
    {
     "name": "stdout",
     "output_type": "stream",
     "text": [
      "Number of Clients: 50\n",
      "Number of Construction Companies: 20\n",
      "Number of Suppliers: 30\n",
      "Number of SubContractors: 40\n",
      "Number of Materials: 100\n",
      "Number of Projects: 60\n",
      "Number of Tasks: 150\n",
      "Number of PurchaseOrders: 100\n",
      "Number of Invoices: 80 \n",
      "\n"
     ]
    }
   ],
   "source": [
    "# Summaries\n",
    "print(\"Number of Clients:\", len(clients))\n",
    "print(\"Number of Construction Companies:\", len(companies))\n",
    "print(\"Number of Suppliers:\", len(suppliers))\n",
    "print(\"Number of SubContractors:\", len(subContractors))\n",
    "print(\"Number of Materials:\", len(materials))\n",
    "print(\"Number of Projects:\", len(projects))\n",
    "print(\"Number of Tasks:\", len(tasks))\n",
    "print(\"Number of PurchaseOrders:\", len(purchaseOrders))\n",
    "print(\"Number of Invoices:\", len(invoices), \"\\n\")"
   ]
  },
  {
   "cell_type": "code",
   "execution_count": 15,
   "id": "7c4c05d0-405f-4f0e-9e9d-51f4cfaf8eb8",
   "metadata": {},
   "outputs": [
    {
     "name": "stdout",
     "output_type": "stream",
     "text": [
      "Sample Client: {'id': 'client_0', 'name': 'Peterson, Washington and Phelps (Client)', 'contactInfo': '+1-789-402-3301x3894'}\n",
      "Sample ConstructionCompany: {'id': 'company_0', 'companyName': 'Perez-Jackson Construction', 'licenseNumber': 'LIC-40699', 'location': 'Amandaville'}\n",
      "Sample Supplier: {'id': 'supplier_0', 'supplierName': 'Morales, Sherman and Singh Supplies', 'location': 'North Alexandraton', 'rating': 2.8}\n",
      "Sample SubContractor: {'id': 'subcontractor_0', 'subContractorName': 'Miles-Lee Roofing', 'specialty': 'Painting', 'licenseNumber': 'SUB-44283'}\n",
      "Sample Material: {'id': 'material_0', 'materialName': 'Tiles', 'unitCost': 53.37}\n",
      "Sample Project: {'id': 'project_0', 'projectName': 'Project_0_key', 'location': 'North Jose', 'startDate': '2022-11-26', 'endDate': '2024-07-17', 'totalBudget': 2298196.28, 'status': 'Planning', 'clientID': 'client_44', 'companyID': 'company_6'}\n",
      "Sample Task: {'id': 'task_0', 'taskName': 'Task_0_stock', 'startDate': '2022-12-19', 'endDate': '2023-01-23', 'status': 'Not Started', 'costEstimate': 4968.07, 'projectID': 'project_12', 'assignedTo': 'company_14', 'materialIDs': ['material_43', 'material_57', 'material_94']}\n",
      "Sample PurchaseOrder: {'id': 'po_0', 'orderNumber': 'PO-79057', 'orderDate': '2022-12-06', 'totalCost': 2048.81, 'supplierID': 'supplier_28', 'projectID': 'project_14'}\n",
      "Sample Invoice: {'id': 'invoice_0', 'invoiceNumber': 'INV-68753', 'invoiceDate': '2023-09-22', 'amount': 16468.73, 'status': 'Open', 'invoicedByID': 'subcontractor_34', 'invoicedToID': 'company_6'}\n"
     ]
    }
   ],
   "source": [
    "# Print a few samples\n",
    "print(\"Sample Client:\", clients[0])\n",
    "print(\"Sample ConstructionCompany:\", companies[0])\n",
    "print(\"Sample Supplier:\", suppliers[0])\n",
    "print(\"Sample SubContractor:\", subContractors[0])\n",
    "print(\"Sample Material:\", materials[0])\n",
    "print(\"Sample Project:\", projects[0])\n",
    "print(\"Sample Task:\", tasks[0])\n",
    "print(\"Sample PurchaseOrder:\", purchaseOrders[0] if purchaseOrders else None)\n",
    "print(\"Sample Invoice:\", invoices[0] if invoices else None)"
   ]
  },
  {
   "cell_type": "code",
   "execution_count": 16,
   "id": "201047b5-0d0b-483f-a9fa-059f7ab9b4d4",
   "metadata": {},
   "outputs": [],
   "source": [
    "# persist the data\n",
    "pd.DataFrame(clients).to_csv(data_path+\"clients.csv\", encoding = \"utf-8\", escapechar = \"\\\"\", index=False)\n",
    "pd.DataFrame(companies).to_csv(data_path+\"companies.csv\", encoding = \"utf-8\", escapechar = \"\\\"\", index=False)\n",
    "pd.DataFrame(suppliers).to_csv(data_path+\"suppliers.csv\", encoding = \"utf-8\", escapechar = \"\\\"\", index=False)\n",
    "pd.DataFrame(subContractors).to_csv(data_path+\"subContractors.csv\", encoding = \"utf-8\", escapechar = \"\\\"\", index=False)\n",
    "pd.DataFrame(materials).to_csv(data_path+\"materials.csv\", encoding = \"utf-8\", escapechar = \"\\\"\", index=False)\n",
    "pd.DataFrame(projects).to_csv(data_path+\"projects.csv\", encoding = \"utf-8\", escapechar = \"\\\"\", index=False)\n",
    "pd.DataFrame(purchaseOrders).to_csv(data_path+\"purchaseOrders.csv\", encoding = \"utf-8\", escapechar = \"\\\"\", index=False)\n",
    "pd.DataFrame(invoices).to_csv(data_path+\"invoices.csv\", encoding = \"utf-8\", escapechar = \"\\\"\", index=False)"
   ]
  },
  {
   "cell_type": "code",
   "execution_count": null,
   "id": "eca3e6b4-c9a7-4e8a-98ac-c9a55759b2c9",
   "metadata": {},
   "outputs": [],
   "source": []
  }
 ],
 "metadata": {
  "kernelspec": {
   "display_name": "Python 3 (ipykernel)",
   "language": "python",
   "name": "python3"
  },
  "language_info": {
   "codemirror_mode": {
    "name": "ipython",
    "version": 3
   },
   "file_extension": ".py",
   "mimetype": "text/x-python",
   "name": "python",
   "nbconvert_exporter": "python",
   "pygments_lexer": "ipython3",
   "version": "3.11.7"
  }
 },
 "nbformat": 4,
 "nbformat_minor": 5
}
