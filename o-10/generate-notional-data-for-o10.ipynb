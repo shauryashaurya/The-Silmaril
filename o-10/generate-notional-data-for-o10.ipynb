{
 "cells": [
  {
   "cell_type": "code",
   "execution_count": 1,
   "id": "6e7eb68e-3b93-4725-82d4-50f0aab846ff",
   "metadata": {},
   "outputs": [],
   "source": [
    "import random\n",
    "import pandas as pd\n",
    "from faker import Faker\n",
    "from datetime import timedelta, datetime  # Import datetime"
   ]
  },
  {
   "cell_type": "code",
   "execution_count": 2,
   "id": "502ffda3-5521-4b3a-bd4c-257dca5902c4",
   "metadata": {},
   "outputs": [],
   "source": [
    "data_path = \"./data/\""
   ]
  },
  {
   "cell_type": "code",
   "execution_count": 3,
   "id": "e0add317-644b-4301-ad1c-52db010a15a6",
   "metadata": {},
   "outputs": [],
   "source": [
    "fake = Faker()"
   ]
  },
  {
   "cell_type": "code",
   "execution_count": 4,
   "id": "969b5397-09a0-4548-ad75-e38d4602e380",
   "metadata": {},
   "outputs": [],
   "source": [
    "# Some advanced configurations\n",
    "NUM_WORKSTREAMS = 200\n",
    "NUM_PEOPLE = 1000         # labor\n",
    "NUM_EQUIP_TYPES = 30\n",
    "NUM_MAT_TYPES = 30\n",
    "NUM_TASKS = 2000"
   ]
  },
  {
   "cell_type": "code",
   "execution_count": 5,
   "id": "94938c79-fde1-4e02-85fe-f580f4bdf0b0",
   "metadata": {},
   "outputs": [],
   "source": [
    "# We'll define 35 skill types for labor\n",
    "LABOR_SKILLS = [\n",
    "    \"CivilEngineer\", \"Electrician\", \"Carpenter\", \"Plumber\", \"HVACTech\", \"SteelWorker\", \n",
    "    \"ConcreteSpecialist\", \"SitePlanner\", \"InsulationWorker\", \"Rigger\", \"Painter\",\n",
    "    \"Mason\", \"IronWorker\", \"WeldingTech\", \"Surveyor\", \"SafetyEngineer\", \"ProjectManager\",\n",
    "    \"StructuralEngineer\", \"GeotechEngineer\", \"NetworkEngineer\", \"SysAdmin\", \"SecurityTech\",\n",
    "    \"CableInstaller\", \"CraneOperator\", \"DataCenterArchitect\", \"InstrumentationTech\",\n",
    "    \"HeatVentEngineer\", \"FireProtectionTech\", \"LandscapeTech\", \"ElectricPanelInstaller\",\n",
    "    \"PowerDistEngineer\", \"CoolingSystemTech\", \"RoboticsTech\", \"ITIntegrationTech\", \"BackupSysEngineer\"\n",
    "]\n",
    "\n",
    "# We'll define 30 equipment types\n",
    "EQUIPMENT_TYPES = [\n",
    "    \"Crane\", \"Excavator\", \"ConcreteMixer\", \"Generator\", \"Forklift\", \"Bulldozer\", \"DumpTruck\", \n",
    "    \"BoomLift\", \"ScissorLift\", \"WeldingMachine\", \"AirCompressor\", \"HydraulicPress\", \"TowerCrane\",\n",
    "    \"RoadRoller\", \"PileDriver\", \"CrawlerLoader\", \"Graders\", \"Trenchers\", \"Pumps\", \"Drills\",\n",
    "    \"MobileScaffolding\", \"DirectionalDrill\", \"ConcretePump\", \"PowerSaw\", \"JackHammer\",\n",
    "    \"LaserLevel\", \"GroundPenetradar\", \"DronesSurvey\", \"CablePuller\", \"PortableLifts\"\n",
    "]\n",
    "\n",
    "# We'll define 30 material types\n",
    "MATERIAL_TYPES = [\n",
    "    \"Concrete\", \"SteelBeam\", \"Rebar\", \"ElectricCable\", \"Ducting\", \"FiberOptics\", \"NetworkingRack\",\n",
    "    \"HVACDuct\", \"InsulationPanels\", \"GlassPanels\", \"Bricks\", \"Asphalt\", \"Sand\", \"Gravel\", \"Lumber\",\n",
    "    \"RoofingSheets\", \"PlasticPipes\", \"CopperTubing\", \"WiringHarness\", \"ServerChassis\", \n",
    "    \"CoolingPipes\", \"RaisedFloorPanels\", \"FireProofing\", \"EpoxyCoat\", \"SecuritySensors\",\n",
    "    \"DoorFrames\", \"MetalDoors\", \"AccessPanels\", \"FiberPatchCords\", \"DataCabinets\"\n",
    "]"
   ]
  },
  {
   "cell_type": "code",
   "execution_count": 6,
   "id": "5b6f5403-b093-4dd3-8284-7b87139e8166",
   "metadata": {},
   "outputs": [],
   "source": [
    "# 1) Create a single \"MegaProject\" or a few\n",
    "mega_project = {\n",
    "    \"id\": \"proj_0\",\n",
    "    \"projectID\": \"MEGA-DATACENTER\",\n",
    "    \"projectName\": \"Mega DataCenter Construction\",\n",
    "    \"overallBudget\": random.uniform(10_000_000, 500_000_000),\n",
    "    \"startDate\": fake.date_time_between(start_date='-1y', end_date='-6m').isoformat(),\n",
    "    \"plannedEndDate\": (datetime.now() + timedelta(days=365)).isoformat(),\n",
    "    \"actualEndDate\": None  # not completed yet\n",
    "}"
   ]
  },
  {
   "cell_type": "code",
   "execution_count": 7,
   "id": "4a9220d3-4d17-4906-9c32-05ffe4606307",
   "metadata": {},
   "outputs": [],
   "source": [
    "# 2) Generate 200 WorkStreams for this project\n",
    "workstreams = []\n",
    "proj_start_dt = datetime.fromisoformat(mega_project[\"startDate\"])\n",
    "for i in range(NUM_WORKSTREAMS):\n",
    "    ws_start = proj_start_dt + timedelta(days=random.randint(0,180))\n",
    "    ws_end = ws_start + timedelta(days=random.randint(60, 180))\n",
    "    ws_budget = round(random.uniform(500_000, 5_000_000), 2)\n",
    "\n",
    "    workstreams.append({\n",
    "        \"id\": f\"ws_{i}\",\n",
    "        \"workStreamID\": f\"WS-{1000 + i}\",\n",
    "        \"name\": f\"Workstream_{i}_{fake.word().title()}\",\n",
    "        \"description\": fake.sentence(nb_words=8),\n",
    "        \"startDate\": ws_start.isoformat(),\n",
    "        \"endDate\": ws_end.isoformat(),\n",
    "        \"budgetAllocated\": ws_budget,\n",
    "        \"projectID\": mega_project[\"id\"]\n",
    "    })"
   ]
  },
  {
   "cell_type": "code",
   "execution_count": 8,
   "id": "a83501bd-d734-4099-a779-66479b8e7d96",
   "metadata": {},
   "outputs": [],
   "source": [
    "# 3) Generate Suppliers (30 or 40 random suppliers)\n",
    "NUM_SUPPLIERS = 40\n",
    "suppliers = []\n",
    "for i in range(NUM_SUPPLIERS):\n",
    "    suppliers.append({\n",
    "        \"id\": f\"sup_{i}\",\n",
    "        \"supplierID\": f\"SUP-{1000 + i}\",\n",
    "        \"supplierName\": fake.company() + \" Supplies\",\n",
    "        \"location\": fake.city()\n",
    "    })"
   ]
  },
  {
   "cell_type": "code",
   "execution_count": 9,
   "id": "02296823-faca-42b8-9821-c87e2ab18059",
   "metadata": {},
   "outputs": [],
   "source": [
    "# 4) Generate People (Labor) - 1000 employees\n",
    "people = []\n",
    "for i in range(NUM_PEOPLE):\n",
    "    skill = random.choice(LABOR_SKILLS)\n",
    "    hr_rate = round(random.uniform(10, 100), 2)\n",
    "    people.append({\n",
    "        \"id\": f\"person_{i}\",\n",
    "        \"personID\": f\"EMP-{5000 + i}\",\n",
    "        \"name\": fake.name(),\n",
    "        \"skillType\": skill,\n",
    "        \"hourlyRate\": hr_rate\n",
    "    })"
   ]
  },
  {
   "cell_type": "code",
   "execution_count": 10,
   "id": "e8814133-ca59-451a-bcba-2325fd08ee8e",
   "metadata": {},
   "outputs": [],
   "source": [
    "# 5) Generate Equipment (30 distinct resource types)\n",
    "equipment_list = []\n",
    "for i in range(len(EQUIPMENT_TYPES)):\n",
    "    eq_type = EQUIPMENT_TYPES[i]\n",
    "    daily_cost = round(random.uniform(100, 2000), 2)\n",
    "    equipment_list.append({\n",
    "        \"id\": f\"equip_{i}\",\n",
    "        \"equipmentID\": f\"EQ-{1000 + i}\",\n",
    "        \"equipmentName\": eq_type + f\"_{i}\",\n",
    "        \"equipmentType\": eq_type,\n",
    "        \"dailyRentalCost\": daily_cost,\n",
    "        \"capacityOrSpecs\": f\"{eq_type} spec details\"\n",
    "    })"
   ]
  },
  {
   "cell_type": "code",
   "execution_count": 11,
   "id": "deab9049-6a65-457c-851a-06ec632b584b",
   "metadata": {},
   "outputs": [],
   "source": [
    "# 6) Generate Materials (30 distinct material types)\n",
    "material_list = []\n",
    "for i in range(len(MATERIAL_TYPES)):\n",
    "    mat_type = MATERIAL_TYPES[i]\n",
    "    cost_unit = round(random.uniform(1, 500), 2)\n",
    "    # link to random suppliers\n",
    "    sup = random.choice(suppliers)\n",
    "    mat_name = mat_type + f\"_{i}\"\n",
    "    material_list.append({\n",
    "        \"id\": f\"mat_{i}\",\n",
    "        \"materialID\": f\"MAT-{1000 + i}\",\n",
    "        \"materialName\": mat_name,\n",
    "        \"materialType\": mat_type,\n",
    "        \"unitCost\": cost_unit,\n",
    "        \"quantityOnHand\": random.randint(100, 100000),\n",
    "        \"supplierID\": sup[\"id\"]\n",
    "    })\n",
    "\n",
    "# Optionally unify them all as a single Resource concept\n",
    "# We'll keep them separate for clarity, but we can unify if needed."
   ]
  },
  {
   "cell_type": "code",
   "execution_count": 12,
   "id": "129e27b3-1cb9-4308-9870-7dd5ae7b62ff",
   "metadata": {},
   "outputs": [],
   "source": [
    "# 7) Generate 2000 Tasks\n",
    "#   Each references a WorkStream, has random start/end, random cost\n",
    "tasks = []\n",
    "all_task_ids = []\n",
    "workstreams_sorted = sorted(workstreams, key=lambda x: x[\"startDate\"])\n",
    "for i in range(NUM_TASKS):\n",
    "    ws = random.choice(workstreams_sorted)\n",
    "    ws_start_dt = datetime.fromisoformat(ws[\"startDate\"])\n",
    "    # random offset after ws start\n",
    "    offset_days = random.randint(0, 60)\n",
    "    t_start = ws_start_dt + timedelta(days=offset_days)\n",
    "    duration = random.randint(5, 60)\n",
    "    t_end = t_start + timedelta(days=duration)\n",
    "    cost_est = round(random.uniform(50_000, 1_000_000), 2)\n",
    "\n",
    "    tasks.append({\n",
    "        \"id\": f\"task_{i}\",\n",
    "        \"taskID\": f\"TK-{10000 + i}\",\n",
    "        \"taskName\": f\"Task_{i}_{fake.bs().title()}\",\n",
    "        \"startDate\": t_start.isoformat(),\n",
    "        \"endDate\": t_end.isoformat(),\n",
    "        \"durationDays\": duration,\n",
    "        \"costEstimate\": cost_est,\n",
    "        \"actualCost\": 0.0,  # assume 0 or we can randomize partial\n",
    "        \"isCritical\": False,\n",
    "        \"milestoneFlag\": (random.random() < 0.05),  # 5% chance it's a milestone\n",
    "        \"workStreamID\": ws[\"id\"]\n",
    "    })\n",
    "    all_task_ids.append(f\"task_{i}\")"
   ]
  },
  {
   "cell_type": "code",
   "execution_count": 13,
   "id": "0795ada5-dbfe-42a5-805d-a2661e6fab07",
   "metadata": {},
   "outputs": [],
   "source": [
    "# 8) Assign Dependencies\n",
    "# We'll pick tasks that start earlier as potential dependencies\n",
    "tasks_sorted = sorted(tasks, key=lambda x: x[\"startDate\"])\n",
    "for idx, tsk in enumerate(tasks_sorted):\n",
    "    # find possible tasks that end before tsk.start\n",
    "    tsk_start = datetime.fromisoformat(tsk[\"startDate\"])\n",
    "    possible_deps = []\n",
    "    for j in range(idx):\n",
    "        candidate = tasks_sorted[j]\n",
    "        candidate_end = datetime.fromisoformat(candidate[\"endDate\"])\n",
    "        if candidate_end <= tsk_start:\n",
    "            possible_deps.append(candidate[\"id\"])\n",
    "\n",
    "    # pick up to 3\n",
    "    num_deps = random.randint(0, min(3, len(possible_deps)))\n",
    "    chosen_deps = random.sample(possible_deps, k=num_deps) if possible_deps else []\n",
    "    tsk[\"dependsOnIDs\"] = chosen_deps"
   ]
  },
  {
   "cell_type": "code",
   "execution_count": 14,
   "id": "203d918a-b476-4be7-b1dc-2020a43682db",
   "metadata": {},
   "outputs": [],
   "source": [
    "# 9) Assign Resources to Each Task\n",
    "# We'll pick 1-8 random \"people\" (labor), 0-2 equipment, 0-3 materials\n",
    "for tsk in tasks:\n",
    "    # labor\n",
    "    labor_count = random.randint(1, 8)\n",
    "    chosen_people = random.sample(people, k=labor_count)\n",
    "    tsk[\"laborIDs\"] = [p[\"id\"] for p in chosen_people]\n",
    "\n",
    "    # equipment\n",
    "    equip_count = random.randint(0, 2)\n",
    "    chosen_equip = random.sample(equipment_list, k=equip_count)\n",
    "    tsk[\"equipmentIDs\"] = [e[\"id\"] for e in chosen_equip]\n",
    "\n",
    "    # materials\n",
    "    mat_count = random.randint(0, 3)\n",
    "    chosen_mat = random.sample(material_list, k=mat_count)\n",
    "    tsk[\"materialIDs\"] = [m[\"id\"] for m in chosen_mat]"
   ]
  },
  {
   "cell_type": "code",
   "execution_count": 15,
   "id": "19ad55a1-219e-4cff-b787-cd9cb0a65c1e",
   "metadata": {},
   "outputs": [],
   "source": [
    "# 10) Compute a simplistic \"longest path\" to mark isCritical\n",
    "# We'll do a topological approach + DFS for the longest chain\n",
    "\n",
    "from collections import defaultdict\n",
    "\n",
    "children_map = defaultdict(list)\n",
    "task_map = {}\n",
    "for t in tasks:\n",
    "    task_map[t[\"id\"]] = t\n",
    "for t in tasks:\n",
    "    for dep_id in t[\"dependsOnIDs\"]:\n",
    "        children_map[dep_id].append(t[\"id\"])\n",
    "\n",
    "dist_cache = {}  # store (dist, chain)\n",
    "\n",
    "def dfs_longest(task_id):\n",
    "    if task_id in dist_cache:\n",
    "        return dist_cache[task_id]\n",
    "    ch_list = children_map[task_id]\n",
    "    if not ch_list:\n",
    "        dist_cache[task_id] = (0, [task_id])\n",
    "        return (0, [task_id])\n",
    "    max_dist = -1\n",
    "    best_chain = []\n",
    "    for c_id in ch_list:\n",
    "        d, chain = dfs_longest(c_id)\n",
    "        if d > max_dist:\n",
    "            max_dist = d\n",
    "            best_chain = chain\n",
    "    dist_cache[task_id] = (1 + max_dist, [task_id] + best_chain)\n",
    "    return dist_cache[task_id]\n",
    "\n",
    "# tasks with no dependencies are \"roots\"\n",
    "roots = [t for t in tasks if len(t[\"dependsOnIDs\"]) == 0]\n",
    "\n",
    "for r in roots:\n",
    "    dfs_longest(r[\"id\"])\n",
    "\n",
    "# find global max\n",
    "global_dist = -1\n",
    "global_chain = []\n",
    "for k, (dist, chain) in dist_cache.items():\n",
    "    if dist > global_dist:\n",
    "        global_dist = dist\n",
    "        global_chain = chain\n",
    "\n",
    "# Mark those tasks in global_chain as isCritical\n",
    "for tid in global_chain:\n",
    "    task_map[tid][\"isCritical\"] = True"
   ]
  },
  {
   "cell_type": "code",
   "execution_count": 16,
   "id": "509d4bcb-2f65-4603-a01f-bd23a67367bb",
   "metadata": {},
   "outputs": [
    {
     "name": "stdout",
     "output_type": "stream",
     "text": [
      "\n",
      "--- Data Generation Complete ---\n",
      "Project: 1 (MegaProject)\n",
      "Workstreams: 200\n",
      "Suppliers: 40\n",
      "People (Labor): 1000\n",
      "Equipment Resources: 30\n",
      "Material Resources: 30\n",
      "Tasks: 2000 \n",
      "\n"
     ]
    }
   ],
   "source": [
    "# Summaries\n",
    "print(\"\\n--- Data Generation Complete ---\")\n",
    "print(\"Project: 1 (MegaProject)\")\n",
    "print(\"Workstreams:\", len(workstreams))\n",
    "print(\"Suppliers:\", len(suppliers))\n",
    "print(\"People (Labor):\", len(people))\n",
    "print(\"Equipment Resources:\", len(equipment_list))\n",
    "print(\"Material Resources:\", len(material_list))\n",
    "print(\"Tasks:\", len(tasks), \"\\n\")"
   ]
  },
  {
   "cell_type": "code",
   "execution_count": 17,
   "id": "94cd27cc-6415-4666-a68d-c1f0fd41580c",
   "metadata": {},
   "outputs": [
    {
     "name": "stdout",
     "output_type": "stream",
     "text": [
      "Sample WorkStream: {'id': 'ws_0', 'workStreamID': 'WS-1000', 'name': 'Workstream_0_Admit', 'description': 'Growth share national story stuff house cold its federal.', 'startDate': '2024-05-20T21:54:27', 'endDate': '2024-10-27T21:54:27', 'budgetAllocated': 3007086.15, 'projectID': 'proj_0'}\n",
      "Sample Supplier: {'id': 'sup_0', 'supplierID': 'SUP-1000', 'supplierName': 'Thomas-Wright Supplies', 'location': 'East Louis'}\n",
      "Sample Person (Labor): {'id': 'person_0', 'personID': 'EMP-5000', 'name': 'Andrea Gilbert', 'skillType': 'LandscapeTech', 'hourlyRate': 87.61}\n",
      "Sample Equipment: {'id': 'equip_0', 'equipmentID': 'EQ-1000', 'equipmentName': 'Crane_0', 'equipmentType': 'Crane', 'dailyRentalCost': 1557.6, 'capacityOrSpecs': 'Crane spec details'}\n",
      "Sample Material: {'id': 'mat_0', 'materialID': 'MAT-1000', 'materialName': 'Concrete_0', 'materialType': 'Concrete', 'unitCost': 220.19, 'quantityOnHand': 97953, 'supplierID': 'sup_37'}\n",
      "\n",
      "Sample Task with references:\n",
      " {'id': 'task_0', 'taskID': 'TK-10000', 'taskName': 'Task_0_Monetize Granular Technologies', 'startDate': '2024-08-17T21:54:27', 'endDate': '2024-09-02T21:54:27', 'durationDays': 16, 'costEstimate': 256780.9, 'actualCost': 0.0, 'isCritical': False, 'milestoneFlag': False, 'workStreamID': 'ws_183', 'dependsOnIDs': ['task_634'], 'laborIDs': ['person_228', 'person_633'], 'equipmentIDs': ['equip_10', 'equip_24'], 'materialIDs': []}\n"
     ]
    }
   ],
   "source": [
    "# Show some samples\n",
    "print(\"Sample WorkStream:\", workstreams[0])\n",
    "print(\"Sample Supplier:\", suppliers[0])\n",
    "print(\"Sample Person (Labor):\", people[0])\n",
    "print(\"Sample Equipment:\", equipment_list[0])\n",
    "print(\"Sample Material:\", material_list[0])\n",
    "print(\"\\nSample Task with references:\\n\", tasks[0])"
   ]
  },
  {
   "cell_type": "code",
   "execution_count": 19,
   "id": "201047b5-0d0b-483f-a9fa-059f7ab9b4d4",
   "metadata": {},
   "outputs": [],
   "source": [
    "# persist the data\n",
    "pd.DataFrame(workstreams).to_csv(data_path+\"workstreams.csv\", encoding = \"utf-8\", escapechar = \"\\\"\", index=False)\n",
    "pd.DataFrame(suppliers).to_csv(data_path+\"suppliers.csv\", encoding = \"utf-8\", escapechar = \"\\\"\", index=False)\n",
    "pd.DataFrame(people).to_csv(data_path+\"people.csv\", encoding = \"utf-8\", escapechar = \"\\\"\", index=False)\n",
    "pd.DataFrame(equipment_list).to_csv(data_path+\"equipment_list.csv\", encoding = \"utf-8\", escapechar = \"\\\"\", index=False)\n",
    "pd.DataFrame(material_list).to_csv(data_path+\"material_list.csv\", encoding = \"utf-8\", escapechar = \"\\\"\", index=False)\n",
    "pd.DataFrame(tasks).to_csv(data_path+\"tasks.csv\", encoding = \"utf-8\", escapechar = \"\\\"\", index=False)"
   ]
  },
  {
   "cell_type": "code",
   "execution_count": null,
   "id": "eca3e6b4-c9a7-4e8a-98ac-c9a55759b2c9",
   "metadata": {},
   "outputs": [],
   "source": []
  }
 ],
 "metadata": {
  "kernelspec": {
   "display_name": "Python 3 (ipykernel)",
   "language": "python",
   "name": "python3"
  },
  "language_info": {
   "codemirror_mode": {
    "name": "ipython",
    "version": 3
   },
   "file_extension": ".py",
   "mimetype": "text/x-python",
   "name": "python",
   "nbconvert_exporter": "python",
   "pygments_lexer": "ipython3",
   "version": "3.11.7"
  }
 },
 "nbformat": 4,
 "nbformat_minor": 5
}
