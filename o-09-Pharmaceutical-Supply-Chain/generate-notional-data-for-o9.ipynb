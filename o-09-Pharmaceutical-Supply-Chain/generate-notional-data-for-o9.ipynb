{
 "cells": [
  {
   "cell_type": "code",
   "execution_count": 16,
   "id": "6e7eb68e-3b93-4725-82d4-50f0aab846ff",
   "metadata": {},
   "outputs": [],
   "source": [
    "import random\n",
    "from faker import Faker\n",
    "from datetime import timedelta, datetime  # Import datetime\n",
    "import pandas as pd"
   ]
  },
  {
   "cell_type": "code",
   "execution_count": 2,
   "id": "502ffda3-5521-4b3a-bd4c-257dca5902c4",
   "metadata": {},
   "outputs": [],
   "source": [
    "data_path = \"./data/\""
   ]
  },
  {
   "cell_type": "code",
   "execution_count": 3,
   "id": "e0add317-644b-4301-ad1c-52db010a15a6",
   "metadata": {},
   "outputs": [],
   "source": [
    "fake = Faker()"
   ]
  },
  {
   "cell_type": "code",
   "execution_count": 4,
   "id": "1eea6576-6966-4d13-a4eb-c1d7a9e32936",
   "metadata": {},
   "outputs": [],
   "source": [
    "# Configuration\n",
    "NUM_MANUFACTURERS = 10\n",
    "NUM_DISTRIBUTORS = 15\n",
    "NUM_PHARMACIES = 20\n",
    "NUM_PRODUCTS = 30\n",
    "NUM_BATCHES = 40\n",
    "NUM_SHIPMENTS = 50\n",
    "NUM_PRESCRIPTIONS = 60\n",
    "NUM_APPROVALS = 25\n",
    "\n",
    "# Suppose we have a separate \"clinical\" list of rxNormCodes for matching\n",
    "rxNormPool = [\"1049630\", \"860975\", \"314076\", \"228933\"]  # minimal example"
   ]
  },
  {
   "cell_type": "code",
   "execution_count": 5,
   "id": "e96633d1-8034-4f4c-a64b-236e5556c91c",
   "metadata": {},
   "outputs": [],
   "source": [
    "# 1 Generate PharmaManufacturer\n",
    "manufacturers = []\n",
    "for i in range(NUM_MANUFACTURERS):\n",
    "    manufacturers.append({\n",
    "        \"id\": f\"mfg_{i}\",\n",
    "        \"manufacturerName\": fake.company() + \" Pharma\",\n",
    "        \"location\": fake.city(),\n",
    "        \"licenseNumber\": f\"MFG-{random.randint(10000,99999)}\"\n",
    "    })"
   ]
  },
  {
   "cell_type": "code",
   "execution_count": 6,
   "id": "850e7f25-d0eb-4d64-916b-73e4e108bd2b",
   "metadata": {},
   "outputs": [],
   "source": [
    "# 2 Generate Distributors\n",
    "distributors = []\n",
    "for i in range(NUM_DISTRIBUTORS):\n",
    "    distributors.append({\n",
    "        \"id\": f\"dist_{i}\",\n",
    "        \"distributorName\": fake.company() + \" Distribution\",\n",
    "        \"location\": fake.city(),\n",
    "        \"distributorID\": f\"DIST-{random.randint(10000,99999)}\"\n",
    "    })"
   ]
  },
  {
   "cell_type": "code",
   "execution_count": 7,
   "id": "7b1caecb-9ce7-4b3b-9063-e58583ce0b3e",
   "metadata": {},
   "outputs": [],
   "source": [
    "# 3 Generate PharmacyOrHospital\n",
    "facilityTypes = [\"RetailPharmacy\", \"HospitalPharmacy\"]\n",
    "pharmacies = []\n",
    "for i in range(NUM_PHARMACIES):\n",
    "    pharmacies.append({\n",
    "        \"id\": f\"ph_{i}\",\n",
    "        \"facilityName\": fake.company() + \" \" + random.choice([\"Pharmacy\", \"Hospital\"]),\n",
    "        \"facilityType\": random.choice(facilityTypes),\n",
    "        \"location\": fake.city()\n",
    "    })"
   ]
  },
  {
   "cell_type": "code",
   "execution_count": 8,
   "id": "500b88e6-7b18-465d-88a3-b2cbf82a29aa",
   "metadata": {},
   "outputs": [],
   "source": [
    "# 4 Generate MedicationProduct\n",
    "# We'll pick random brand/generic combos, plus random rxNormCode\n",
    "forms = [\"Tablet\", \"Capsule\", \"Solution\"]\n",
    "products = []\n",
    "for i in range(NUM_PRODUCTS):\n",
    "    brand = fake.word().title()\n",
    "    generic = fake.word().lower()\n",
    "    rxc = random.choice(rxNormPool)\n",
    "    strength_val = f\"{random.randint(5,500)}mg\"\n",
    "    products.append({\n",
    "        \"id\": f\"prod_{i}\",\n",
    "        \"internalProductCode\": f\"INT-{random.randint(1000,9999)}\",\n",
    "        \"brandName\": brand,\n",
    "        \"genericName\": generic,\n",
    "        \"strength\": strength_val,\n",
    "        \"form\": random.choice(forms),\n",
    "        \"rxNormCode\": rxc\n",
    "    })"
   ]
  },
  {
   "cell_type": "code",
   "execution_count": 9,
   "id": "ef19b29f-8acb-4f17-996d-02e4c8c9f694",
   "metadata": {},
   "outputs": [],
   "source": [
    "# 5 Generate BatchOrLot\n",
    "batches = []\n",
    "for i in range(NUM_BATCHES):\n",
    "    prod = random.choice(products)\n",
    "    batchNum = f\"LOT-{random.randint(10000,99999)}\"\n",
    "    expiry = fake.date_between(start_date='+30d', end_date='+730d')  # 1-2 yrs from now\n",
    "    qtyProd = random.randint(1000, 50000)\n",
    "    batches.append({\n",
    "        \"id\": f\"batch_{i}\",\n",
    "        \"batchNumber\": batchNum,\n",
    "        \"expiryDate\": expiry.isoformat(),\n",
    "        \"quantityProduced\": qtyProd,\n",
    "        \"productID\": prod[\"id\"]   # references product\n",
    "    })"
   ]
  },
  {
   "cell_type": "code",
   "execution_count": 10,
   "id": "a6d2a61e-f9fd-480a-a7ae-a16fe531dc58",
   "metadata": {},
   "outputs": [],
   "source": [
    "# 6 Generate Shipments\n",
    "# fromEntity can be manufacturer or distributor\n",
    "# toEntity can be distributor or pharmacy\n",
    "# We'll define a function to pick fromEntity, toEntity with constraints\n",
    "shipments = []\n",
    "def pick_from_to():\n",
    "    \"\"\"Pick from manufacturer or distributor -> to distributor or pharmacy/hospital.\"\"\"\n",
    "    from_opts = manufacturers + distributors\n",
    "    to_opts = distributors + pharmacies\n",
    "    f = random.choice(from_opts)\n",
    "    t = random.choice(to_opts)\n",
    "    # ensure we don't pick same type if from is a distributor => to cannot be same distributor\n",
    "    # but for simplicity, we just ensure they differ in ID\n",
    "    while t[\"id\"] == f[\"id\"]:\n",
    "        t = random.choice(to_opts)\n",
    "    return f, t\n",
    "\n",
    "for i in range(NUM_SHIPMENTS):\n",
    "    sID = f\"SHP-{random.randint(10000,99999)}\"\n",
    "    ship_dt = fake.date_time_between(start_date='-1y', end_date='now')\n",
    "    recv_dt = ship_dt + timedelta(days=random.randint(2, 20))\n",
    "    fromEnt, toEnt = pick_from_to()\n",
    "    # pick some random batches to include\n",
    "    included_batches = random.sample(batches, k=random.randint(1,3))\n",
    "\n",
    "    shipments.append({\n",
    "        \"id\": f\"ship_{i}\",\n",
    "        \"shipmentID\": sID,\n",
    "        \"shipDate\": ship_dt.isoformat(),\n",
    "        \"receiveDate\": recv_dt.isoformat(),\n",
    "        \"fromEntityID\": fromEnt[\"id\"],\n",
    "        \"toEntityID\": toEnt[\"id\"],\n",
    "        \"batchIDs\": [b[\"id\"] for b in included_batches]\n",
    "    })"
   ]
  },
  {
   "cell_type": "code",
   "execution_count": 11,
   "id": "83e4bdad-b5f3-47d4-9bdb-199dbf9f5ec4",
   "metadata": {},
   "outputs": [],
   "source": [
    "# 7 Generate Prescription\n",
    "# references a product. We won't store patient data in detail, just a minimal script\n",
    "prescriptions = []\n",
    "for i in range(NUM_PRESCRIPTIONS):\n",
    "    pID = f\"RX-{random.randint(10000,99999)}\"\n",
    "    pd = fake.date_between(start_date='-6m', end_date='today')\n",
    "    qty = random.randint(10, 90)\n",
    "    pr = random.choice(products)\n",
    "    prescriptions.append({\n",
    "        \"id\": f\"rx_{i}\",\n",
    "        \"prescriptionID\": pID,\n",
    "        \"prescribedDate\": pd.isoformat(),\n",
    "        \"quantity\": qty,\n",
    "        \"productID\": pr[\"id\"]  # references product\n",
    "    })"
   ]
  },
  {
   "cell_type": "code",
   "execution_count": 12,
   "id": "4ed0473e-ab4d-4f80-923c-a081c8318b55",
   "metadata": {},
   "outputs": [],
   "source": [
    "# 8 Generate RegulatoryApproval\n",
    "# references a product. If in \"USA,\" must have an FDA approval, etc. We'll skip location logic for brevity\n",
    "agencies = [\"FDA\", \"EMA\", \"MHRA\"]  # US, Europe, UK agencies\n",
    "approvals = []\n",
    "for i in range(NUM_APPROVALS):\n",
    "    product_ref = random.choice(products)\n",
    "    appID = f\"APP-{random.randint(10000,99999)}\"\n",
    "    agency = random.choice(agencies)\n",
    "    approvalDate = fake.date_between(start_date='-3y', end_date='-1m')  # some time in last 3 years\n",
    "    approvals.append({\n",
    "        \"id\": f\"approval_{i}\",\n",
    "        \"approvalID\": appID,\n",
    "        \"agencyName\": agency,\n",
    "        \"approvalDate\": approvalDate.isoformat(),\n",
    "        \"productID\": product_ref[\"id\"]\n",
    "    })"
   ]
  },
  {
   "cell_type": "code",
   "execution_count": 13,
   "id": "d9c5c8b0-6196-4867-a0fb-8041d03d099b",
   "metadata": {},
   "outputs": [
    {
     "name": "stdout",
     "output_type": "stream",
     "text": [
      "\n",
      "Generated Entities:\n",
      " Manufacturers: 10\n",
      " Distributors: 15\n",
      " Pharmacies/Hospitals: 20\n",
      " Products: 30\n",
      " Batches: 40\n",
      " Shipments: 50\n",
      " Prescriptions: 60\n",
      " Approvals: 25\n"
     ]
    }
   ],
   "source": [
    "# Summaries\n",
    "print(\"\\nGenerated Entities:\")\n",
    "print(\" Manufacturers:\", len(manufacturers))\n",
    "print(\" Distributors:\", len(distributors))\n",
    "print(\" Pharmacies/Hospitals:\", len(pharmacies))\n",
    "print(\" Products:\", len(products))\n",
    "print(\" Batches:\", len(batches))\n",
    "print(\" Shipments:\", len(shipments))\n",
    "print(\" Prescriptions:\", len(prescriptions))\n",
    "print(\" Approvals:\", len(approvals))"
   ]
  },
  {
   "cell_type": "code",
   "execution_count": 14,
   "id": "f20b2f12-8274-468a-986d-6f07ff678566",
   "metadata": {},
   "outputs": [
    {
     "name": "stdout",
     "output_type": "stream",
     "text": [
      "\n",
      "Sample Manufacturer: {'id': 'mfg_0', 'manufacturerName': 'Thomas PLC Pharma', 'location': 'West Sierraside', 'licenseNumber': 'MFG-96545'}\n",
      "Sample Distributor: {'id': 'dist_0', 'distributorName': 'Spence-Washington Distribution', 'location': 'Gabriellestad', 'distributorID': 'DIST-34612'}\n",
      "Sample Pharmacy/Hospital: {'id': 'ph_0', 'facilityName': 'Peterson-Dyer Hospital', 'facilityType': 'HospitalPharmacy', 'location': 'West Jose'}\n",
      "Sample Product: {'id': 'prod_0', 'internalProductCode': 'INT-6655', 'brandName': 'Computer', 'genericName': 'down', 'strength': '135mg', 'form': 'Tablet', 'rxNormCode': '860975'}\n",
      "Sample Batch: {'id': 'batch_0', 'batchNumber': 'LOT-93721', 'expiryDate': '2025-05-20', 'quantityProduced': 24524, 'productID': 'prod_26'}\n",
      "Sample Shipment: {'id': 'ship_0', 'shipmentID': 'SHP-96123', 'shipDate': '2024-12-14T16:47:59', 'receiveDate': '2025-01-03T16:47:59', 'fromEntityID': 'dist_7', 'toEntityID': 'ph_4', 'batchIDs': ['batch_10', 'batch_7']}\n",
      "Sample Prescription: {'id': 'rx_0', 'prescriptionID': 'RX-16192', 'prescribedDate': '2025-02-19', 'quantity': 40, 'productID': 'prod_24'}\n",
      "Sample Approval: {'id': 'approval_0', 'approvalID': 'APP-41670', 'agencyName': 'MHRA', 'approvalDate': '2025-02-17', 'productID': 'prod_19'}\n"
     ]
    }
   ],
   "source": [
    "# Show sample data\n",
    "print(\"\\nSample Manufacturer:\", manufacturers[0])\n",
    "print(\"Sample Distributor:\", distributors[0])\n",
    "print(\"Sample Pharmacy/Hospital:\", pharmacies[0])\n",
    "print(\"Sample Product:\", products[0])\n",
    "print(\"Sample Batch:\", batches[0])\n",
    "print(\"Sample Shipment:\", shipments[0])\n",
    "print(\"Sample Prescription:\", prescriptions[0])\n",
    "print(\"Sample Approval:\", approvals[0])"
   ]
  },
  {
   "cell_type": "code",
   "execution_count": 17,
   "id": "201047b5-0d0b-483f-a9fa-059f7ab9b4d4",
   "metadata": {},
   "outputs": [],
   "source": [
    "# persist the data\n",
    "pd.DataFrame(manufacturers).to_csv(data_path+\"manufacturers.csv\", encoding = \"utf-8\", escapechar = \"\\\"\", index=False)\n",
    "pd.DataFrame(distributors).to_csv(data_path+\"distributors.csv\", encoding = \"utf-8\", escapechar = \"\\\"\", index=False)\n",
    "pd.DataFrame(pharmacies).to_csv(data_path+\"pharmacies.csv\", encoding = \"utf-8\", escapechar = \"\\\"\", index=False)\n",
    "pd.DataFrame(products).to_csv(data_path+\"products.csv\", encoding = \"utf-8\", escapechar = \"\\\"\", index=False)\n",
    "pd.DataFrame(batches).to_csv(data_path+\"batches.csv\", encoding = \"utf-8\", escapechar = \"\\\"\", index=False)\n",
    "pd.DataFrame(shipments).to_csv(data_path+\"shipments.csv\", encoding = \"utf-8\", escapechar = \"\\\"\", index=False)\n",
    "pd.DataFrame(prescriptions).to_csv(data_path+\"prescriptions.csv\", encoding = \"utf-8\", escapechar = \"\\\"\", index=False)\n",
    "pd.DataFrame(approvals).to_csv(data_path+\"approvals.csv\", encoding = \"utf-8\", escapechar = \"\\\"\", index=False)"
   ]
  },
  {
   "cell_type": "code",
   "execution_count": null,
   "id": "eca3e6b4-c9a7-4e8a-98ac-c9a55759b2c9",
   "metadata": {},
   "outputs": [],
   "source": []
  }
 ],
 "metadata": {
  "kernelspec": {
   "display_name": "Python 3 (ipykernel)",
   "language": "python",
   "name": "python3"
  },
  "language_info": {
   "codemirror_mode": {
    "name": "ipython",
    "version": 3
   },
   "file_extension": ".py",
   "mimetype": "text/x-python",
   "name": "python",
   "nbconvert_exporter": "python",
   "pygments_lexer": "ipython3",
   "version": "3.11.7"
  }
 },
 "nbformat": 4,
 "nbformat_minor": 5
}
