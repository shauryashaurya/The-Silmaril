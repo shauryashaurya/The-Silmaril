{
 "cells": [
  {
   "cell_type": "markdown",
   "id": "602c42c4-a3be-4bf4-82cb-42a24f8548b8",
   "metadata": {
    "editable": true,
    "slideshow": {
     "slide_type": "slide"
    },
    "tags": []
   },
   "source": [
    "# Continuing from our N3 Ontology...  \n",
    "\n",
    "Let's build the same-ish thing in **OWL, RDF and Turtle** - these are various formats for represnting Ontologies."
   ]
  },
  {
   "cell_type": "markdown",
   "id": "04ac5ac9-e3f7-4a59-94eb-2d1012ee3071",
   "metadata": {},
   "source": [
    "To review:"
   ]
  },
  {
   "attachments": {},
   "cell_type": "markdown",
   "id": "9d8073bf-248a-4035-9566-9482696843bf",
   "metadata": {
    "editable": true,
    "slideshow": {
     "slide_type": "slide"
    },
    "tags": []
   },
   "source": [
    "# WHAT\n",
    "\n",
    "1. **What are the “things” (nouns) we care about?**\n",
    "   * e.g. *Movie*, *Actor*, *Director*, *Character*, *Genre*\n",
    "\n",
    "2. **What are their relationships to each other (verbs)?**\n",
    "   * *directed by, acted in, plays, belongs to, has title, has release date*\n",
    "\n",
    "3. **What data (literals) do we need?**\n",
    "   * *title (string), releaseDate (date), birthDate (date), runtime (integer)*\n",
    "\n",
    "4. **What constraints make sense?**\n",
    "   * Every Movie must have at least one Director.\n",
    "   * A Character must be played by exactly one Actor."
   ]
  },
  {
   "cell_type": "markdown",
   "id": "42af2a02-b363-4c39-be91-32d80dacfd73",
   "metadata": {},
   "source": [
    "# Just OWL first"
   ]
  },
  {
   "cell_type": "markdown",
   "id": "747a99be-aedb-4d58-b4ab-18d2aa1fb871",
   "metadata": {
    "editable": true,
    "slideshow": {
     "slide_type": "slide"
    },
    "tags": []
   },
   "source": [
    "## Ontology concepts:\n",
    "\n",
    "* **Classes** (`owl:Class`): types of things.\n",
    "* **ObjectProperties** (`owl:ObjectProperty`): links between individuals.\n",
    "* **DatatypeProperties** (`owl:DatatypeProperty`): links to literal values.\n",
    "* **Restrictions** (`owl:Restriction`): e.g. cardinality or value constraints.\n",
    "* **Inverse properties** (`owl:inverseOf`): auto-generate reverse links.\n",
    "* **Rules** (in N3) using the `log:` vocabulary for simple inference."
   ]
  },
  {
   "cell_type": "markdown",
   "id": "743b506c-30c3-4728-ab07-7e9b7aa975c1",
   "metadata": {
    "editable": true,
    "slideshow": {
     "slide_type": "slide"
    },
    "tags": []
   },
   "source": [
    "# Our first lines of code  "
   ]
  },
  {
   "cell_type": "markdown",
   "id": "15eaa154-b6e2-4fe0-9dbf-21df8aaf4b71",
   "metadata": {},
   "source": [
    "### Prefix Declarations\n",
    "\n",
    "```\n",
    "Prefix(:=<http://example.org/movies#>)\n",
    "Prefix(owl:=<http://www.w3.org/2002/07/owl#>)\n",
    "```\n",
    "\n",
    "Map a short label to a long IRI so you can write `:Movie` instead of the full `<http://…#Movie>`.\n"
   ]
  },
  {
   "cell_type": "markdown",
   "id": "e6a5f313-a084-4a7f-9c44-b34c2607ec81",
   "metadata": {},
   "source": [
    "### Ontology Declaration\n",
    "\n",
    "```\n",
    "Ontology(<http://example.org/movies> …)\n",
    "```\n",
    "\n",
    "Gives the ontology its own IRI (its identifier)."
   ]
  },
  {
   "cell_type": "markdown",
   "id": "34359de4-ce1e-4913-9658-a34c6ee77d4d",
   "metadata": {
    "jp-MarkdownHeadingCollapsed": true
   },
   "source": [
    "### Class and Property Declarations\n",
    "\n",
    "* `Declaration(Class(\\:Movie))`  introduces `:Movie` as a class.\n",
    "* `AnnotationAssertion(rdfs\\:label \\:Movie \"Movie\")`  adds a human-readable label.\n",
    "* `Declaration(ObjectProperty(\\:directedBy))`  introduces `:directedBy` as an object property.\n",
    "* `ObjectPropertyDomain(\\:directedBy \\:Movie)`  restricts the subject of `:directedBy` to instances of `:Movie`.\n",
    "* `ObjectPropertyRange(\\:directedBy \\:Director)`  restricts the object of `:directedBy` to instances of `:Director`."
   ]
  },
  {
   "cell_type": "markdown",
   "id": "47d047ec-6283-4ef6-9d41-1b965898e4e5",
   "metadata": {},
   "source": [
    "### Datatype Properties\n",
    "\n",
    "Analogous to object properties but link to literals:\n",
    "\n",
    "```\n",
    "Declaration(DatatypeProperty(:releaseDate))\n",
    "DatatypePropertyRange(:releaseDate xsd:date)\n",
    "```"
   ]
  },
  {
   "cell_type": "markdown",
   "id": "0cea664d-682e-410b-9126-e20d4e7b9b7e",
   "metadata": {},
   "source": [
    "### Inverse Properties\n",
    "\n",
    "```\n",
    "ObjectPropertyInverseOf(:directs :directedBy)\n",
    "```\n",
    "\n",
    "Declares `:directs` as the inverse of `:directedBy`."
   ]
  },
  {
   "cell_type": "markdown",
   "id": "51c3ad37-e6a7-4ad8-a9c8-cac4f0566da8",
   "metadata": {},
   "source": [
    "### Class Restrictions\n",
    "\n",
    "```\n",
    "SubClassOf(\n",
    "  :Movie\n",
    "  ObjectMinCardinality(1 :directedBy :Director)\n",
    ")\n",
    "```\n",
    "\n",
    "Says every `:Movie` must have at least one `:directedBy` link to a `:Director`."
   ]
  },
  {
   "cell_type": "markdown",
   "id": "d940b243-c28e-4c68-9c1e-2d7ee9a5fcb6",
   "metadata": {},
   "source": [
    "# Output"
   ]
  },
  {
   "cell_type": "markdown",
   "id": "6d491fb5-80bd-450f-a950-c342f91b6cd1",
   "metadata": {},
   "source": [
    "```owl\n",
    "Prefix(:=<http://example.org/movies#>)\n",
    "Prefix(owl:=<http://www.w3.org/2002/07/owl#>)\n",
    "Prefix(rdfs:=<http://www.w3.org/2000/01/rdf-schema#>)\n",
    "Prefix(xsd:=<http://www.w3.org/2001/XMLSchema#>)\n",
    "\n",
    "Ontology(<http://example.org/movies>\n",
    "\n",
    "  ### Classes ###\n",
    "  Declaration(Class(:Movie))\n",
    "  AnnotationAssertion(rdfs:label :Movie \"Movie\")\n",
    "\n",
    "  Declaration(Class(:Actor))\n",
    "  AnnotationAssertion(rdfs:label :Actor \"Actor\")\n",
    "\n",
    "  Declaration(Class(:Director))\n",
    "  AnnotationAssertion(rdfs:label :Director \"Director\")\n",
    "\n",
    "  Declaration(Class(:Character))\n",
    "  AnnotationAssertion(rdfs:label :Character \"Character\")\n",
    "\n",
    "  Declaration(Class(:Genre))\n",
    "  AnnotationAssertion(rdfs:label :Genre \"Genre\")\n",
    "\n",
    "  ### Object Properties ###\n",
    "  Declaration(ObjectProperty(:directedBy))\n",
    "  AnnotationAssertion(rdfs:label :directedBy \"directed by\")\n",
    "  ObjectPropertyDomain(:directedBy :Movie)\n",
    "  ObjectPropertyRange(:directedBy :Director)\n",
    "\n",
    "  Declaration(ObjectProperty(:directs))\n",
    "  ObjectPropertyInverseOf(:directs :directedBy)\n",
    "  ObjectPropertyDomain(:directs :Director)\n",
    "  ObjectPropertyRange(:directs :Movie)\n",
    "\n",
    "  Declaration(ObjectProperty(:actedIn))\n",
    "  AnnotationAssertion(rdfs:label :actedIn \"acted in\")\n",
    "  ObjectPropertyDomain(:actedIn :Actor)\n",
    "  ObjectPropertyRange(:actedIn :Movie)\n",
    "\n",
    "  Declaration(ObjectProperty(:characterPlayedBy))\n",
    "  Declaration(ObjectProperty(:playsCharacter))\n",
    "  AnnotationAssertion(rdfs:label :playsCharacter \"plays character\")\n",
    "  ObjectPropertyInverseOf(:playsCharacter :characterPlayedBy)\n",
    "  ObjectPropertyDomain(:playsCharacter :Actor)\n",
    "  ObjectPropertyRange(:playsCharacter :Character)\n",
    "\n",
    "  ### Datatype Properties ###\n",
    "  Declaration(DatatypeProperty(:title))\n",
    "  AnnotationAssertion(rdfs:label :title \"title\")\n",
    "  DatatypePropertyDomain(:title :Movie)\n",
    "  DatatypePropertyRange(:title xsd:string)\n",
    "\n",
    "  Declaration(DatatypeProperty(:releaseDate))\n",
    "  AnnotationAssertion(rdfs:label :releaseDate \"release date\")\n",
    "  DatatypePropertyDomain(:releaseDate :Movie)\n",
    "  DatatypePropertyRange(:releaseDate xsd:date)\n",
    "\n",
    "  ### Class Restrictions ###\n",
    "  SubClassOf(\n",
    "    :Movie\n",
    "    ObjectMinCardinality(1 :directedBy :Director)\n",
    "  )\n",
    "\n",
    "  SubClassOf(\n",
    "    :Character\n",
    "    ObjectExactCardinality(1 :characterPlayedBy :Actor)\n",
    "  )\n",
    "\n",
    ")\n",
    "```"
   ]
  },
  {
   "cell_type": "markdown",
   "id": "ad9025bc-0252-49bb-a64e-d97173a9b83f",
   "metadata": {},
   "source": [
    "# RDF, OWL and Turtle  \n",
    "This is where it gets interesting"
   ]
  },
  {
   "cell_type": "markdown",
   "id": "2f45e01c-5099-45a0-a5ff-d5b45e1d81b2",
   "metadata": {},
   "source": [
    "* **RDF** is the underlying data model: triples of the form *subject–predicate–object*.\n",
    "* **RDFS** (RDF Schema) is an extension vocabulary on top of RDF that provides basic ontology constructs:\n",
    "    * `rdfs:Class`, `rdfs:subClassOf`, `rdfs:label`, etc.\n",
    "    * It lets you define simple hierarchies and metadata about your terms.\n",
    "* **OWL** (Web Ontology Language) is built on RDF/RDFS and adds richer modelling features:\n",
    "    * Classes, properties, and highly expressive constraints (cardinalities, boolean class constructors, property characteristics, etc.).\n",
    "    * Terms live in the `owl:` namespace, e.g. `owl:Class`, `owl:ObjectProperty`, `owl:Restriction`.\n",
    "* **Turtle** is merely a **syntax** for writing down RDF graphs (including RDFS- or OWL-based ontologies) in a compact, human-readable form.\n",
    "    * It defines how to express prefixes, triples, blank nodes, literals, collections, etc."
   ]
  },
  {
   "cell_type": "markdown",
   "id": "986c0bb2-81c0-4256-826e-5bd33abb51b9",
   "metadata": {},
   "source": [
    "## Core data model (`rdf:`)\n",
    "\n",
    "Use RDF terms when you’re just expressing the basic fact-triple structure or need the fundamental “typing” mechanism:\n",
    "\n",
    "* **`rdf:type`**\n",
    "  – “This thing is an instance of that class.”\n",
    "* **`rdf:Property`**\n",
    "  – If you need to declare a generic property (before you decide if it’s an object vs. datatype property).\n",
    "* **Containers & collections** (`rdf:List`, `rdf:first`, `rdf:rest`)\n",
    "  – Only when you need ordered or grouped lists.\n",
    "\n",
    "**Intuition:** “we just need to say A → B → C in RDF.”"
   ]
  },
  {
   "cell_type": "markdown",
   "id": "22e855e6-a435-492c-aafc-1c01a1574c33",
   "metadata": {},
   "source": [
    "## Basic schema‐level terms (`rdfs:`)\n",
    "\n",
    "Use RDFS to give structure and human‐friendly metadata:\n",
    "\n",
    "* **`rdfs:Class`**\n",
    "  – Define a category of things.\n",
    "* **`rdfs:subClassOf`**\n",
    "  – Build simple hierarchies (e.g. `:ActionMovie` ⊆ `:Movie`).\n",
    "* **`rdfs:domain`** / **`rdfs:range`**\n",
    "  – Roughly constrain which subjects/objects a property can take.\n",
    "* **`rdfs:label`** / **`rdfs:comment`**\n",
    "  – Add a readable name or description.\n",
    "\n",
    "**Intuition:** “we want minimal typing and basic hierarchies, plus labels so people know what my terms mean.”"
   ]
  },
  {
   "cell_type": "markdown",
   "id": "00911fe9-bf66-4cf3-9ba7-2ff1f7a36da4",
   "metadata": {},
   "source": [
    "## Rich ontology features (`owl:`)\n",
    "\n",
    "Reach for OWL when you need expressive constraints and formal semantics:\n",
    "\n",
    "* **`owl:Class`** vs. `rdfs:Class`\n",
    "  – OWL classes participate in richer modeling (boolean combinations, disjointness).\n",
    "* **`owl:ObjectProperty`** / **`owl:DatatypeProperty`**\n",
    "  – Clearly distinguish links to resources vs. literals.\n",
    "* **Property characteristics**\n",
    "  – `owl:FunctionalProperty`, `owl:InverseFunctionalProperty`, `owl:TransitiveProperty`, etc.\n",
    "* **Restrictions & cardinalities**\n",
    "  – `owl:onProperty`, `owl:minCardinality`, `owl:allValuesFrom`, …\n",
    "* **Inverse & symmetric properties**\n",
    "  – `owl:inverseOf`, `owl:SymmetricProperty`\n",
    "* **Class constructors**\n",
    "  – `owl:unionOf`, `owl:intersectionOf`, `owl:complementOf`\n",
    "* **Assertions about individuals** (in OWL DL/RDF you often declare individuals of classes, sameAs, differentFrom, etc.)\n",
    "\n",
    "**Intuition:** “we need full logical rigor—exact counts, complex class definitions, property rules—so a reasoner can validate and infer over my model.”"
   ]
  },
  {
   "cell_type": "markdown",
   "id": "c50b8ad0-2b1c-4c0a-aa31-11e790803ca3",
   "metadata": {},
   "source": [
    "## decision flow\n",
    "\n",
    "1. **Just facts & typing?** → use **`rdf:`**\n",
    "2. **Simple schema & labels?** → add **`rdfs:`**\n",
    "3. **Formal constraints & inference?** → use **`owl:`**"
   ]
  },
  {
   "cell_type": "markdown",
   "id": "a0e2bf06-5276-4847-93b2-a6d4189495c1",
   "metadata": {},
   "source": [
    "# Building the Ontology (just like before...)"
   ]
  },
  {
   "cell_type": "markdown",
   "id": "eead210c-3b4b-4099-8f9b-450daf768ce3",
   "metadata": {},
   "source": [
    "##  Prefixes\n",
    "\n",
    "At the top of a Turtle file you bind prefixes to IRIs so you can write `:` instead of the full IRI:\n",
    "\n",
    "```turtle\n",
    "@prefix :     <http://example.org/movies#> .\n",
    "@prefix owl:  <http://www.w3.org/2002/07/owl#> .\n",
    "@prefix rdfs: <http://www.w3.org/2000/01/rdf-schema#> .\n",
    "@prefix xsd:  <http://www.w3.org/2001/XMLSchema#> .\n",
    "```\n",
    "\n",
    "* **`@prefix name: <IRI> .`** declares a namespace."
   ]
  },
  {
   "cell_type": "markdown",
   "id": "1502a128-97c4-4ceb-85a1-a6ca1e90b6a1",
   "metadata": {},
   "source": [
    "##  Declaring Classes\n",
    "\n",
    "A class is an individual of `owl:Class`. We give it a label for readability:\n",
    "\n",
    "```turtle\n",
    ":Movie    a owl:Class ;\n",
    "    rdfs:label \"Movie\" .\n",
    "\n",
    ":Actor    a owl:Class ;\n",
    "    rdfs:label \"Actor\" .\n",
    "```\n",
    "\n",
    "* **`subject predicate object .`** is the core triple form.\n",
    "* **`a`** is shorthand for `rdf:type`.\n",
    "* **`;`** continues more predicates on the same subject."
   ]
  },
  {
   "cell_type": "markdown",
   "id": "be97c07c-9cae-4a85-90f0-ae285b9e8981",
   "metadata": {},
   "source": [
    "##  Object and Datatype Properties\n",
    "\n",
    "We declare each property, its domain and range:\n",
    "\n",
    "```turtle\n",
    ":directedBy\n",
    "    a       owl:ObjectProperty ;\n",
    "    rdfs:domain :Movie ;\n",
    "    rdfs:range  :Director ;\n",
    "    rdfs:label  \"directed by\" .\n",
    "\n",
    ":releaseDate\n",
    "    a       owl:DatatypeProperty ;\n",
    "    rdfs:domain :Movie ;\n",
    "    rdfs:range  xsd:date ;\n",
    "    rdfs:label  \"release date\" .\n",
    "```\n",
    "\n",
    "* **`owl:ObjectProperty`** vs **`owl:DatatypeProperty`**\n",
    "* **`rdfs:domain`** limits subjects; **`rdfs:range`** limits objects."
   ]
  },
  {
   "cell_type": "markdown",
   "id": "4618fe2a-d3cd-40a8-ab5a-e741de82a312",
   "metadata": {},
   "source": [
    "##  Inverse Properties\n",
    "\n",
    "Use `owl:inverseOf` to link two properties as inverses:\n",
    "\n",
    "```turtle\n",
    ":directs\n",
    "    a               owl:ObjectProperty ;\n",
    "    owl:inverseOf   :directedBy ;\n",
    "    rdfs:domain     :Director ;\n",
    "    rdfs:range      :Movie ;\n",
    "    rdfs:label      \"directs\" .\n",
    "```\n",
    "\n",
    "* Inference engines will know that if `:d directs :m` then `:m directedBy :d`."
   ]
  },
  {
   "cell_type": "markdown",
   "id": "f1703d85-1ef7-43bc-8279-0f65667c28fa",
   "metadata": {},
   "source": [
    "##  Restrictions via Blank Nodes\n",
    "\n",
    "To constrain a class, attach an anonymous restriction node with `rdfs:subClassOf`:\n",
    "\n",
    "```turtle\n",
    ":Movie\n",
    "    rdfs:subClassOf [\n",
    "        a                 owl:Restriction ;\n",
    "        owl:onProperty    :directedBy ;\n",
    "        owl:minCardinality \"1\"^^xsd:nonNegativeInteger\n",
    "    ] .\n",
    "```\n",
    "\n",
    "* **`[ … ]`** denotes a blank (anonymous) node.\n",
    "* **`owl:onProperty`** picks the property being restricted.\n",
    "* **`owl:minCardinality`, `owl:maxCardinality`, `owl:cardinality`, `owl:someValuesFrom`, `owl:allValuesFrom`** are the main restriction types.\n",
    "* Literals like `\"1\"^^xsd:nonNegativeInteger` use `^^` to type the value."
   ]
  },
  {
   "cell_type": "markdown",
   "id": "50076ea0-673e-4e1e-ac35-4f6f06a221ff",
   "metadata": {},
   "source": [
    "##  Complete Turtle Ontology\n",
    "\n",
    "```turtle\n",
    "@prefix :     <http://example.org/movies#> .\n",
    "@prefix owl:  <http://www.w3.org/2002/07/owl#> .\n",
    "@prefix rdfs: <http://www.w3.org/2000/01/rdf-schema#> .\n",
    "@prefix xsd:  <http://www.w3.org/2001/XMLSchema#> .\n",
    "\n",
    "# Classes\n",
    ":Movie\n",
    "    a           owl:Class ;\n",
    "    rdfs:label  \"Movie\" ;\n",
    "    rdfs:subClassOf [\n",
    "        a                 owl:Restriction ;\n",
    "        owl:onProperty    :directedBy ;\n",
    "        owl:minCardinality \"1\"^^xsd:nonNegativeInteger\n",
    "    ] .\n",
    "\n",
    ":Actor\n",
    "    a           owl:Class ;\n",
    "    rdfs:label  \"Actor\" .\n",
    "\n",
    ":Director\n",
    "    a           owl:Class ;\n",
    "    rdfs:label  \"Director\" .\n",
    "\n",
    ":Character\n",
    "    a           owl:Class ;\n",
    "    rdfs:label  \"Character\" ;\n",
    "    rdfs:subClassOf [\n",
    "        a               owl:Restriction ;\n",
    "        owl:onProperty  :characterPlayedBy ;\n",
    "        owl:cardinality \"1\"^^xsd:nonNegativeInteger\n",
    "    ] .\n",
    "\n",
    ":Genre\n",
    "    a           owl:Class ;\n",
    "    rdfs:label  \"Genre\" .\n",
    "\n",
    "# Object Properties\n",
    ":directedBy\n",
    "    a           owl:ObjectProperty ;\n",
    "    rdfs:domain :Movie ;\n",
    "    rdfs:range  :Director ;\n",
    "    rdfs:label  \"directed by\" .\n",
    "\n",
    ":directs\n",
    "    a               owl:ObjectProperty ;\n",
    "    owl:inverseOf   :directedBy ;\n",
    "    rdfs:domain     :Director ;\n",
    "    rdfs:range      :Movie ;\n",
    "    rdfs:label      \"directs\" .\n",
    "\n",
    ":actedIn\n",
    "    a           owl:ObjectProperty ;\n",
    "    rdfs:domain :Actor ;\n",
    "    rdfs:range  :Movie ;\n",
    "    rdfs:label  \"acted in\" .\n",
    "\n",
    ":characterPlayedBy\n",
    "    a           owl:ObjectProperty ;\n",
    "    rdfs:domain :Character ;\n",
    "    rdfs:range  :Actor .\n",
    "\n",
    ":playsCharacter\n",
    "    a               owl:ObjectProperty ;\n",
    "    owl:inverseOf   :characterPlayedBy ;\n",
    "    rdfs:domain     :Actor ;\n",
    "    rdfs:range      :Character ;\n",
    "    rdfs:label      \"plays character\" .\n",
    "\n",
    "# Datatype Properties\n",
    ":title\n",
    "    a           owl:DatatypeProperty ;\n",
    "    rdfs:domain :Movie ;\n",
    "    rdfs:range  xsd:string ;\n",
    "    rdfs:label  \"title\" .\n",
    "\n",
    ":releaseDate\n",
    "    a           owl:DatatypeProperty ;\n",
    "    rdfs:domain :Movie ;\n",
    "    rdfs:range  xsd:date ;\n",
    "    rdfs:label  \"release date\" .\n",
    "```"
   ]
  },
  {
   "cell_type": "code",
   "execution_count": null,
   "id": "b7076906-aaff-44c3-af95-8f9816cf25ab",
   "metadata": {
    "editable": true,
    "slideshow": {
     "slide_type": ""
    },
    "tags": []
   },
   "outputs": [],
   "source": []
  }
 ],
 "metadata": {
  "kernelspec": {
   "display_name": "Python 3 (ipykernel)",
   "language": "python",
   "name": "python3"
  },
  "language_info": {
   "codemirror_mode": {
    "name": "ipython",
    "version": 3
   },
   "file_extension": ".py",
   "mimetype": "text/x-python",
   "name": "python",
   "nbconvert_exporter": "python",
   "pygments_lexer": "ipython3",
   "version": "3.11.7"
  }
 },
 "nbformat": 4,
 "nbformat_minor": 5
}
