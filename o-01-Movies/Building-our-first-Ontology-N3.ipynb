{
 "cells": [
  {
   "cell_type": "markdown",
   "id": "602c42c4-a3be-4bf4-82cb-42a24f8548b8",
   "metadata": {
    "editable": true,
    "slideshow": {
     "slide_type": ""
    },
    "tags": []
   },
   "source": [
    "# Building an Ontology"
   ]
  },
  {
   "attachments": {},
   "cell_type": "markdown",
   "id": "9d8073bf-248a-4035-9566-9482696843bf",
   "metadata": {
    "editable": true,
    "slideshow": {
     "slide_type": "slide"
    },
    "tags": []
   },
   "source": [
    "# WHAT\n",
    "\n",
    "1. **What are the “things” (nouns) we care about?**\n",
    "   * e.g. *Movie*, *Actor*, *Director*, *Character*, *Genre*\n",
    "\n",
    "2. **What are their relationships to each other (verbs)?**\n",
    "   * *directed by, acted in, plays, belongs to, has title, has release date*\n",
    "\n",
    "3. **What data (literals) do we need?**\n",
    "   * *title (string), releaseDate (date), birthDate (date), runtime (integer)*\n",
    "\n",
    "4. **What constraints make sense?**\n",
    "   * Every Movie must have at least one Director.\n",
    "   * A Character must be played by exactly one Actor."
   ]
  },
  {
   "cell_type": "markdown",
   "id": "747a99be-aedb-4d58-b4ab-18d2aa1fb871",
   "metadata": {
    "editable": true,
    "slideshow": {
     "slide_type": "slide"
    },
    "tags": []
   },
   "source": [
    "## Ontology concepts:\n",
    "\n",
    "* **Classes** (`owl:Class`): types of things.\n",
    "* **ObjectProperties** (`owl:ObjectProperty`): links between individuals.\n",
    "* **DatatypeProperties** (`owl:DatatypeProperty`): links to literal values.\n",
    "* **Restrictions** (`owl:Restriction`): e.g. cardinality or value constraints.\n",
    "* **Inverse properties** (`owl:inverseOf`): auto-generate reverse links.\n",
    "* **Rules** (in N3) using the `log:` vocabulary for simple inference."
   ]
  },
  {
   "cell_type": "markdown",
   "id": "743b506c-30c3-4728-ab07-7e9b7aa975c1",
   "metadata": {
    "editable": true,
    "slideshow": {
     "slide_type": "slide"
    },
    "tags": []
   },
   "source": [
    "# Our first lines of code  \n",
    "_just a sample, so we know how to write things..._"
   ]
  },
  {
   "cell_type": "markdown",
   "id": "f306350d-38b4-43e2-9bc2-7aaa18779a7d",
   "metadata": {
    "editable": true,
    "slideshow": {
     "slide_type": "slide"
    },
    "tags": []
   },
   "source": [
    "This is N3 (Notation 3) format of specifying an ontology.  \n",
    "  \n",
    "* **`@prefix`** declares namespaces. These are just like `import` statements in Python:\n",
    "    * you are creating a space for your code and\n",
    "    * you are including a component or a module (or all the classes, properties and methods of the component into your code).\n",
    "* **`a`** is shorthand for `rdf:type`.\n",
    "* **`;`** chains multiple predicates on the same subject.\n",
    "* **`.`** ends a statement."
   ]
  },
  {
   "cell_type": "markdown",
   "id": "657570e0-7de9-4cd0-b9d8-77c205e55aa1",
   "metadata": {
    "editable": true,
    "slideshow": {
     "slide_type": "slide"
    },
    "tags": []
   },
   "source": [
    "```n3\n",
    "@prefix :    <http://example.org/movies#> .\n",
    "@prefix owl: <http://www.w3.org/2002/07/owl#> .\n",
    "@prefix rdfs:<http://www.w3.org/2000/01/rdf-schema#> .\n",
    "@prefix xsd: <http://www.w3.org/2001/XMLSchema#> .\n",
    "\n",
    "# A simple triple:\n",
    ":Movie a owl:Class ;\n",
    "       rdfs:label \"Movie\" .\n",
    "\n",
    "# A property:\n",
    ":directedBy a owl:ObjectProperty ;\n",
    "    rdfs:domain :Movie ;\n",
    "    rdfs:range :Director ;\n",
    "    rdfs:label \"directed by\" .\n",
    "```"
   ]
  },
  {
   "attachments": {},
   "cell_type": "markdown",
   "id": "78484d97-21c1-4f4d-89c5-b3beab8cf1fd",
   "metadata": {
    "editable": true,
    "slideshow": {
     "slide_type": "slide"
    },
    "tags": []
   },
   "source": [
    "# Define the core classes\n",
    "\n",
    "```n3\n",
    ":Movie    a owl:Class ; rdfs:label \"Movie\" .\n",
    ":Actor    a owl:Class ; rdfs:label \"Actor\" .\n",
    ":Director a owl:Class ; rdfs:label \"Director\" .\n",
    ":Character a owl:Class ; rdfs:label \"Character\" .\n",
    ":Genre    a owl:Class ; rdfs:label \"Genre\" .\n",
    "```"
   ]
  },
  {
   "cell_type": "markdown",
   "id": "a022fde3-198d-48f6-821e-b2d66a615df0",
   "metadata": {
    "editable": true,
    "slideshow": {
     "slide_type": "slide"
    },
    "tags": []
   },
   "source": [
    "# Define Key Properties  \n",
    "\n",
    "```n3\n",
    ":directedBy    a owl:ObjectProperty ;\n",
    "    rdfs:domain :Movie ;\n",
    "    rdfs:range  :Director ;\n",
    "    rdfs:label  \"directed by\" .\n",
    "\n",
    ":actedIn       a owl:ObjectProperty ;\n",
    "    rdfs:domain :Actor ;\n",
    "    rdfs:range  :Movie ;\n",
    "    rdfs:label  \"acted in\" .\n",
    "\n",
    ":title         a owl:DatatypeProperty ;\n",
    "    rdfs:domain :Movie ;\n",
    "    rdfs:range  xsd:string ;\n",
    "    rdfs:label  \"title\" .\n",
    "\n",
    ":releaseDate   a owl:DatatypeProperty ;\n",
    "    rdfs:domain :Movie ;\n",
    "    rdfs:range  xsd:date ;\n",
    "    rdfs:label  \"release date\" .\n",
    "```"
   ]
  },
  {
   "cell_type": "markdown",
   "id": "275396a5-df7e-497f-9292-2e8465f1cbed",
   "metadata": {
    "editable": true,
    "slideshow": {
     "slide_type": "slide"
    },
    "tags": []
   },
   "source": [
    "Different from OOP/relational - note that we are trying to create a _vocabulary_ for our world, in this all the properties have unique names, because each concept means something very specific. This gives us a chance to build a reasoning engine down the road."
   ]
  },
  {
   "cell_type": "markdown",
   "id": "ce14abe0-24b9-42f5-9c09-b3324cf9be80",
   "metadata": {
    "editable": true,
    "slideshow": {
     "slide_type": ""
    },
    "tags": []
   },
   "source": [
    "# Add Inverse Properties\n",
    "\n",
    "```n3\n",
    ":directs       a owl:ObjectProperty ;\n",
    "    owl:inverseOf :directedBy ; #suggestions - active voice, present tense \"directing\"\n",
    "    rdfs:domain   :Director ;\n",
    "    rdfs:range    :Movie ;\n",
    "    rdfs:label    \"directs\" .\n",
    "\n",
    ":playsCharacter a owl:ObjectProperty ;\n",
    "    owl:inverseOf :characterPlayedBy ;\n",
    "    rdfs:domain   :Actor ;\n",
    "    rdfs:range    :Character ;\n",
    "    rdfs:label    \"plays character\" .\n",
    "```"
   ]
  },
  {
   "cell_type": "markdown",
   "id": "6c653352-7740-49ee-b439-99bb2df4bb4b",
   "metadata": {
    "editable": true,
    "slideshow": {
     "slide_type": ""
    },
    "tags": []
   },
   "source": [
    "# Introduce Restrictions"
   ]
  },
  {
   "cell_type": "markdown",
   "id": "0913bcc9-9316-4ca4-941b-4069274e675b",
   "metadata": {
    "editable": true,
    "slideshow": {
     "slide_type": ""
    },
    "tags": []
   },
   "source": [
    "## **Restrictions in N3**"
   ]
  },
  {
   "cell_type": "markdown",
   "id": "6e69bca9-e8cd-458e-8625-747104db946a",
   "metadata": {
    "editable": true,
    "slideshow": {
     "slide_type": ""
    },
    "tags": []
   },
   "source": [
    "In N3, we attach constraints to a class via an anonymous `owl:Restriction` node inside an `rdfs:subClassOf`.\n",
    "\n",
    "```n3\n",
    ":MyClass\n",
    "  rdfs:subClassOf [\n",
    "    a owl:Restriction ;\n",
    "    owl:onProperty   :someProperty ;\n",
    "    <restriction>    <value> \n",
    "  ] .\n",
    "```"
   ]
  },
  {
   "cell_type": "markdown",
   "id": "716667ec-10c8-4b0a-ba13-16f2b8f2443a",
   "metadata": {
    "editable": true,
    "slideshow": {
     "slide_type": ""
    },
    "tags": []
   },
   "source": [
    "* `owl:onProperty` – the property being constrained.\n",
    "* `<restriction>` – one of the restriction types below.\n",
    "* `<value>` – a literal (for cardinalities) or a class (for value restrictions)."
   ]
  },
  {
   "cell_type": "markdown",
   "id": "4b05f88b-a822-444b-afe4-49e11322cfc4",
   "metadata": {
    "editable": true,
    "slideshow": {
     "slide_type": ""
    },
    "tags": []
   },
   "source": [
    "## Basic Restriction Types\n",
    "\n",
    "| Restriction          | Purpose                              | Example                                          |\n",
    "| -------------------- | ------------------------------------ | ------------------------------------------------ |\n",
    "| `owl:minCardinality` | At least *n* values for the property | `owl:minCardinality \"1\"^^xsd:nonNegativeInteger` |\n",
    "| `owl:maxCardinality` | At most *n* values                   | `owl:maxCardinality \"3\"^^xsd:nonNegativeInteger` |\n",
    "| `owl:cardinality`    | Exactly *n* values                   | `owl:cardinality \"1\"^^xsd:nonNegativeInteger`    |\n",
    "| `owl:someValuesFrom` | At least one value of a given class  | `owl:someValuesFrom :Director`                   |\n",
    "| `owl:allValuesFrom`  | All values must be of a given class  | `owl:allValuesFrom :Genre`                       |\n"
   ]
  },
  {
   "cell_type": "markdown",
   "id": "b321641d-4adc-41e1-9a8d-840a970a1e4c",
   "metadata": {
    "editable": true,
    "slideshow": {
     "slide_type": ""
    },
    "tags": []
   },
   "source": [
    "### **Typed Literals in N3**\n",
    "\n",
    "A literal in N3 can carry an explicit datatype. The general form is:\n",
    "\n",
    "```n3\n",
    "\"<lexical form>\"^^<datatypeIRI>\n",
    "```"
   ]
  },
  {
   "cell_type": "markdown",
   "id": "04428c66-aa0d-4209-a1c1-a73c3c937768",
   "metadata": {
    "editable": true,
    "slideshow": {
     "slide_type": ""
    },
    "tags": []
   },
   "source": [
    "* **`\"<lexical form>\"`**\n",
    "  The string of characters representing the value (e.g. `\"1\"`, `\"2025-07-07\"`).\n",
    "* **`^^`**\n",
    "  Separator indicating the literal is typed.\n",
    "* **`<datatypeIRI>`**\n",
    "  The IRI of the datatype, usually via a prefix like `xsd:`.\n",
    "\n",
    "By default, an untyped literal without `^^` is `xsd:string`."
   ]
  },
  {
   "cell_type": "markdown",
   "id": "7c8c925e-f292-4e42-b8cd-dd81dac01520",
   "metadata": {
    "editable": true,
    "slideshow": {
     "slide_type": ""
    },
    "tags": []
   },
   "source": [
    "#### Examples\n",
    "\n",
    "| Literal                       | Meaning                                              |\n",
    "| ----------------------------- | ---------------------------------------------------- |\n",
    "| `\"1\"^^xsd:integer`            | The integer value 1                                  |\n",
    "| `\"1\"^^xsd:nonNegativeInteger` | The non-negative integer value 1                     |\n",
    "| `\"3.14\"^^xsd:decimal`         | The decimal value 3.14                               |\n",
    "| `\"true\"^^xsd:boolean`         | The Boolean value true                               |\n",
    "| `\"2025-07-07\"^^xsd:date`      | The date July 7, 2025                                |\n",
    "| `\"Movie\"`                     | A plain string (equivalent to `\"Movie\"^^xsd:string`) |\n",
    "| `\"Film\"@en`                   | A language-tagged string in English                  |\n"
   ]
  },
  {
   "cell_type": "markdown",
   "id": "7cbcf798-fcab-45c9-952b-baaad2a23c71",
   "metadata": {
    "editable": true,
    "slideshow": {
     "slide_type": ""
    },
    "tags": []
   },
   "source": [
    "...so when we jot\n",
    "\n",
    "```n3\n",
    "owl:cardinality   \"1\"^^xsd:nonNegativeInteger\n",
    "```\n",
    "\n",
    "we are trying to specify a constraint that the property will have exactly one value (the number 1 indicates one value)."
   ]
  },
  {
   "attachments": {},
   "cell_type": "markdown",
   "id": "835a3433-6543-4398-b8c3-d30be7dfdf8b",
   "metadata": {
    "editable": true,
    "slideshow": {
     "slide_type": ""
    },
    "tags": []
   },
   "source": [
    "### Restrictions for our Movie Ontology\n",
    "\n",
    "Use `owl:Restriction` to enforce domain rules:\n",
    "\n",
    "```n3\n",
    "# Every Movie must have at least one Director\n",
    ":Movie rdfs:subClassOf [\n",
    "    a owl:Restriction ;\n",
    "    owl:onProperty :directedBy ;\n",
    "    owl:minCardinality \"1\"^^xsd:nonNegativeInteger\n",
    "] .\n",
    "\n",
    "# A Character is played by exactly one Actor\n",
    ":Character rdfs:subClassOf [\n",
    "    a owl:Restriction ;\n",
    "    owl:onProperty :characterPlayedBy ;\n",
    "    owl:cardinality \"1\"^^xsd:nonNegativeInteger\n",
    "] .\n",
    "```"
   ]
  },
  {
   "cell_type": "markdown",
   "id": "b0b716af-a145-4a47-9773-f2b9b0715a02",
   "metadata": {
    "editable": true,
    "slideshow": {
     "slide_type": ""
    },
    "tags": []
   },
   "source": [
    "# Simple Reasoning Rules in N3"
   ]
  },
  {
   "cell_type": "markdown",
   "id": "81db0b76-8a6f-42b6-97e1-75b223183eba",
   "metadata": {
    "editable": true,
    "slideshow": {
     "slide_type": ""
    },
    "tags": []
   },
   "source": [
    "#### Reasoning Rules in N3"
   ]
  },
  {
   "cell_type": "markdown",
   "id": "0da26bc3-7e69-485f-ab23-8aedda1fcaaa",
   "metadata": {
    "editable": true,
    "slideshow": {
     "slide_type": ""
    },
    "tags": []
   },
   "source": [
    "##### Declare the log namespace\n",
    "  ```n3\n",
    "  @prefix log: <http://www.w3.org/2000/10/swap/log#> .\n",
    "  ```"
   ]
  },
  {
   "cell_type": "markdown",
   "id": "0f934fc8-04f1-416a-a255-da01ca6e5606",
   "metadata": {
    "editable": true,
    "slideshow": {
     "slide_type": ""
    },
    "tags": []
   },
   "source": [
    "#### Sidebar: SWAP = Semantic Web Application Platform\n",
    "**The log namespace**  \n",
    "Here _log_ is short for _logic_ not _logging_ - don't ask. \n",
    "\n",
    "* **IRI**: `http://www.w3.org/2000/10/swap/log#` ([w3.org][1]) - (Internationalized Resource Identifier is a uniform way to name or “identify” resources on the Web, unlike URL or URI, this allows for Unicode chars, everything in an ontology can have it's own unique IRI, we borrow some standard ones from the web, so that our language remains consistent across ontologies)\n",
    "\n",
    "In our case for e.g., we use `www.example.com` to provide a domain (this is more of a convention than anything else).  \n",
    "So `:Movie` has an IRI `<http://example.org/movies#Movie>` and `:Actor` has an IRI `<http://example.org/movies#Actor>` and so on..."
   ]
  },
  {
   "cell_type": "markdown",
   "id": "0ac4499b-e033-41f5-a7e9-62dc06df2523",
   "metadata": {
    "editable": true,
    "slideshow": {
     "slide_type": ""
    },
    "tags": []
   },
   "source": [
    "* **Purpose**: defines built-in predicates and functions used by CWM for rule-based reasoning in N3, e.g.:\n",
    "  * `log:implies` – logical implication between graphs\n",
    "  * `log:conclusion` – derive all conclusions of a formula\n",
    "  * `log:includes` / `log:notIncludes` – test formula containment\n",
    "  * `log:uri`, `log:semantics`, etc."
   ]
  },
  {
   "cell_type": "markdown",
   "id": "76747d11-b1b8-4440-93ea-ad7fdd02813e",
   "metadata": {
    "editable": true,
    "slideshow": {
     "slide_type": ""
    },
    "tags": []
   },
   "source": [
    "##### Rule structure\n",
    "  ```n3\n",
    "  { <antecedent graph> } \n",
    "    log:implies \n",
    "  { <consequent graph> } .\n",
    "  ```"
   ]
  },
  {
   "cell_type": "markdown",
   "id": "a89769b5-4f95-4b35-9d7c-4c1fdfd6b913",
   "metadata": {
    "editable": true,
    "slideshow": {
     "slide_type": ""
    },
    "tags": []
   },
   "source": [
    "##### Variables\n",
    "  * Prefixed with `?`, e.g. `?actor`, `?movie`."
   ]
  },
  {
   "cell_type": "markdown",
   "id": "3cc22c46-6853-4ab4-afd7-f00268d3116e",
   "metadata": {
    "editable": true,
    "slideshow": {
     "slide_type": ""
    },
    "tags": []
   },
   "source": [
    "##### Graphs\n",
    "  * Curly braces `{ … }` enclose triple patterns.\n",
    "  * Antecedent is “if”; consequent is “then”."
   ]
  },
  {
   "cell_type": "markdown",
   "id": "d2cade26-effc-417f-8423-667a5a7621c7",
   "metadata": {
    "editable": true,
    "slideshow": {
     "slide_type": ""
    },
    "tags": []
   },
   "source": [
    "##### Inference\n",
    "  * A reasoner matches the antecedent patterns and asserts the consequent triples.\n",
    "```n3\n",
    "{ ?actor :actedIn ?movie }\n",
    "  log:implies\n",
    "{ ?movie :hasActor ?actor } .\n",
    "```"
   ]
  },
  {
   "cell_type": "markdown",
   "id": "f34f709e-5dd4-4971-ac14-054a53713a03",
   "metadata": {
    "editable": true,
    "slideshow": {
     "slide_type": ""
    },
    "tags": []
   },
   "source": [
    "#### Now let's write a rule for our Movies N3\n",
    "\n",
    "```n3\n",
    "@prefix log: <http://www.w3.org/2000/10/swap/log#> .\n",
    "\n",
    "# If an Actor actsIn a Movie, then that Movie has that Actor\n",
    "{ ?actor :actedIn ?movie . }\n",
    "  log:implies\n",
    "{ ?movie :hasActor ?actor . } .\n",
    "```"
   ]
  },
  {
   "cell_type": "markdown",
   "id": "37590cea-7c3e-49bb-9ae9-afc998883907",
   "metadata": {
    "editable": true,
    "slideshow": {
     "slide_type": ""
    },
    "tags": []
   },
   "source": [
    "# All in all...  \n",
    "here's what we've built."
   ]
  },
  {
   "cell_type": "markdown",
   "id": "d1f9e098-d884-4eda-aab9-bc9ef9461fe0",
   "metadata": {},
   "source": [
    "1. Namespace declarations (IRIs etc.)\n",
    "2. Ontology header\n",
    "3. Class definitions\n",
    "4. Object and datatype properties (with domains, ranges, labels)\n",
    "5. Inverse property declarations\n",
    "6. SubClassOf + Restrictions\n",
    "7. N3 inference rules"
   ]
  },
  {
   "cell_type": "markdown",
   "id": "4a692d7a-3746-487f-b674-493f3b3ffef2",
   "metadata": {
    "editable": true,
    "slideshow": {
     "slide_type": ""
    },
    "tags": []
   },
   "source": [
    "See [o01-Movies.n3](./o01-Movies.n3) for one that I created..."
   ]
  }
 ],
 "metadata": {
  "kernelspec": {
   "display_name": "Python 3 (ipykernel)",
   "language": "python",
   "name": "python3"
  },
  "language_info": {
   "codemirror_mode": {
    "name": "ipython",
    "version": 3
   },
   "file_extension": ".py",
   "mimetype": "text/x-python",
   "name": "python",
   "nbconvert_exporter": "python",
   "pygments_lexer": "ipython3",
   "version": "3.11.7"
  }
 },
 "nbformat": 4,
 "nbformat_minor": 5
}
