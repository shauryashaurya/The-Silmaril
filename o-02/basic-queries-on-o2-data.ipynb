{
 "cells": [
  {
   "cell_type": "markdown",
   "id": "5cd32ee8-c339-47fa-8c03-6eddc099fac5",
   "metadata": {},
   "source": [
    "# Queries on Ontology #2"
   ]
  },
  {
   "cell_type": "markdown",
   "id": "993f9eea-1f00-4bda-919e-d777717e4c6a",
   "metadata": {},
   "source": [
    "## Setup"
   ]
  },
  {
   "cell_type": "code",
   "execution_count": 1,
   "id": "3ac98741-9ba1-4f2d-8e2b-f33db401aac9",
   "metadata": {},
   "outputs": [],
   "source": [
    "# initialize findspark\n",
    "import findspark\n",
    "findspark.init()"
   ]
  },
  {
   "cell_type": "code",
   "execution_count": 2,
   "id": "0e164a61-27dc-44e1-b189-23075875e7f2",
   "metadata": {},
   "outputs": [
    {
     "data": {
      "text/plain": [
       "'3.5.4'"
      ]
     },
     "execution_count": 2,
     "metadata": {},
     "output_type": "execute_result"
    }
   ],
   "source": [
    "# import pyspark\n",
    "import pyspark\n",
    "from pyspark.sql import SparkSession\n",
    "pyspark.__version__"
   ]
  },
  {
   "cell_type": "code",
   "execution_count": 3,
   "id": "bf8020f5-81ab-48e7-84fc-d4698365a5fa",
   "metadata": {},
   "outputs": [],
   "source": [
    "# Create a spark session\n",
    "\n",
    "spark = (\n",
    "    SparkSession.builder.master(\"local[1]\")\n",
    "    .appName(\"Analyzing Movielens Data\")\n",
    "    .getOrCreate()\n",
    ")"
   ]
  },
  {
   "cell_type": "code",
   "execution_count": 4,
   "id": "a32eb78f-5f54-4e76-b314-b83627e3b2e6",
   "metadata": {},
   "outputs": [],
   "source": [
    "from pyspark.sql.types import *"
   ]
  },
  {
   "cell_type": "code",
   "execution_count": 5,
   "id": "99641fd1-9eac-4966-94da-6059d3edd171",
   "metadata": {},
   "outputs": [],
   "source": [
    "# import sparkSQL functions\n",
    "import pyspark.sql.functions as F"
   ]
  },
  {
   "cell_type": "markdown",
   "id": "99b9092c-fd47-4250-8cd3-254b850d89a0",
   "metadata": {},
   "source": [
    "## Define Schema and Load Data"
   ]
  },
  {
   "cell_type": "code",
   "execution_count": 6,
   "id": "a1ba0f1b-e307-49eb-b47b-5846435c1170",
   "metadata": {},
   "outputs": [],
   "source": [
    "data_path = \"./data/\""
   ]
  },
  {
   "cell_type": "markdown",
   "id": "ccda89ba-c7a3-418a-b9e3-fd06137b0308",
   "metadata": {},
   "source": [
    "### Schema: songs"
   ]
  },
  {
   "cell_type": "code",
   "execution_count": 7,
   "id": "00a01434-42f1-4a0d-a26a-0d780419f790",
   "metadata": {},
   "outputs": [],
   "source": [
    "# load artistIDs, genreIDs, awardIDs as Strings and the convert into arrays later\n",
    "# this is because the CSV format does not support arrays\n",
    "schema_songs = StructType(\n",
    "    [\n",
    "        StructField(\"id\", StringType(), False),\n",
    "        StructField(\"title\", StringType(), False),\n",
    "        StructField(\"duration\", IntegerType(), True),\n",
    "        StructField(\"releaseDate\", StringType(), True),\n",
    "        StructField(\"artistIDs\", StringType(), True),\n",
    "        StructField(\"albumID\", StringType(), True),\n",
    "        StructField(\"genreIDs\", StringType(), True),\n",
    "        StructField(\"awardIDs\", StringType(), True),\n",
    "    ]\n",
    ")"
   ]
  },
  {
   "cell_type": "markdown",
   "id": "69dfaa67-87e5-42b4-ac71-165c39c9a1a2",
   "metadata": {},
   "source": [
    "### Load Data: songs"
   ]
  },
  {
   "cell_type": "code",
   "execution_count": 8,
   "id": "ec4ef693-b6e8-4fbd-aadd-990e70d6b3fd",
   "metadata": {},
   "outputs": [],
   "source": [
    "songs = (\n",
    "    spark.read.format(\"csv\")\n",
    "    .option(\"encoding\", \"UTF-8\")\n",
    "    .option(\"header\", True)\n",
    "    .option(\"sep\", \",\")\n",
    "    .option(\"escape\", '\"')\n",
    "    .schema(schema_songs)\n",
    "    .load(data_path+\"songs.csv\")\n",
    ")"
   ]
  },
  {
   "cell_type": "code",
   "execution_count": 9,
   "id": "16d9b292-da25-41a4-b29c-7f2031821659",
   "metadata": {},
   "outputs": [
    {
     "name": "stdout",
     "output_type": "stream",
     "text": [
      "+-------+--------------------+--------+-----------+--------------------+--------+--------------------+------------+\n",
      "|     id|               title|duration|releaseDate|           artistIDs| albumID|            genreIDs|    awardIDs|\n",
      "+-------+--------------------+--------+-----------+--------------------+--------+--------------------+------------+\n",
      "| song_0|Re-engineered ana...|     402| 1983-10-03|['artist_97', 'ar...|album_94|['genre_3', 'genr...|          []|\n",
      "| song_1|Extended user-fac...|     405| 1994-11-25|['artist_19', 'ar...|album_93|         ['genre_4']|          []|\n",
      "| song_2|Realigned dedicat...|     419| 2000-06-25|       ['artist_38']|    NULL|         ['genre_9']|          []|\n",
      "| song_3|Versatile object-...|     391| 1999-06-09|['artist_36', 'ar...|album_80|         ['genre_9']|          []|\n",
      "| song_4|Object-based stab...|     404| 2022-08-26|       ['artist_78']|album_35|['genre_8', 'genr...|          []|\n",
      "| song_5|Quality-focused t...|     146| 1999-02-04|['artist_30', 'ar...|album_30|        ['genre_13']|          []|\n",
      "| song_6|Front-line impact...|     348| 1985-06-04|       ['artist_69']|album_83|         ['genre_9']|['award_18']|\n",
      "| song_7|Customer-focused ...|     359| 1999-12-08|       ['artist_35']|album_19|         ['genre_3']|          []|\n",
      "| song_8|Public-key human-...|     246| 2024-02-26|['artist_75', 'ar...|    NULL|['genre_6', 'genr...|          []|\n",
      "| song_9|Sharable holistic...|     387| 2005-10-18|       ['artist_54']| album_0|['genre_10', 'gen...|          []|\n",
      "|song_10|Open-architected ...|     307| 2007-03-12|       ['artist_88']|album_48|         ['genre_0']|          []|\n",
      "|song_11|Reactive attitude...|     286| 2009-04-14|['artist_90', 'ar...|album_99|        ['genre_13']|          []|\n",
      "|song_12|Configurable 24/7...|     193| 2021-09-15|['artist_24', 'ar...|    NULL|         ['genre_2']|          []|\n",
      "|song_13|Distributed zero ...|     224| 1990-03-22|['artist_55', 'ar...|album_30|         ['genre_2']|          []|\n",
      "|song_14|Front-line 3rdgen...|     389| 1997-09-16|['artist_60', 'ar...|album_29|        ['genre_12']|          []|\n",
      "|song_15|Focused coherent ...|     326| 2002-03-08|['artist_67', 'ar...|album_18|        ['genre_14']|          []|\n",
      "|song_16|Open-source conte...|     265| 1996-12-27|       ['artist_96']|album_80|         ['genre_9']|          []|\n",
      "|song_17|Realigned actuati...|     310| 2008-02-24|       ['artist_38']|    NULL|['genre_12', 'gen...|          []|\n",
      "|song_18|Future-proofed co...|     368| 2020-06-15|       ['artist_64']|album_16|        ['genre_13']|          []|\n",
      "|song_19|Cross-group clear...|     188| 1990-06-25|['artist_46', 'ar...|    NULL|['genre_5', 'genr...|          []|\n",
      "+-------+--------------------+--------+-----------+--------------------+--------+--------------------+------------+\n",
      "only showing top 20 rows\n",
      "\n"
     ]
    }
   ],
   "source": [
    "# before: artistIDs, genreIDs, awardIDs are strings\n",
    "songs.show()"
   ]
  },
  {
   "cell_type": "code",
   "execution_count": 10,
   "id": "09221b2a-bb85-4633-a696-c146295bd3ac",
   "metadata": {},
   "outputs": [],
   "source": [
    "# convert artistIDs, genreIDs, awardIDs into arrays\n",
    "# once you remove the surrounding double quotes, which was addressed by specifying \" as the escape char during file load\n",
    "# the Array encoded as string is a fully qualified json object, so we can use from_json() to hack this. \n",
    "# smart eh?\n",
    "\n",
    "songs = songs.withColumn(\"artistIDs\", F.from_json(\"artistIDs\", ArrayType(StringType()))) \\\n",
    ".withColumn(\"genreIDs\", F.from_json(\"genreIDs\", ArrayType(StringType()))) \\\n",
    ".withColumn(\"awardIDs\", F.from_json(\"awardIDs\", ArrayType(StringType())))"
   ]
  },
  {
   "cell_type": "code",
   "execution_count": 11,
   "id": "d99ab396-3fd2-4587-95bd-83662c0f168e",
   "metadata": {},
   "outputs": [
    {
     "name": "stdout",
     "output_type": "stream",
     "text": [
      "+-------+--------------------+--------+-----------+--------------------+--------+-------------------+----------+\n",
      "|     id|               title|duration|releaseDate|           artistIDs| albumID|           genreIDs|  awardIDs|\n",
      "+-------+--------------------+--------+-----------+--------------------+--------+-------------------+----------+\n",
      "| song_0|Re-engineered ana...|     402| 1983-10-03|[artist_97, artis...|album_94| [genre_3, genre_4]|        []|\n",
      "| song_1|Extended user-fac...|     405| 1994-11-25|[artist_19, artis...|album_93|          [genre_4]|        []|\n",
      "| song_2|Realigned dedicat...|     419| 2000-06-25|         [artist_38]|    NULL|          [genre_9]|        []|\n",
      "| song_3|Versatile object-...|     391| 1999-06-09|[artist_36, artis...|album_80|          [genre_9]|        []|\n",
      "| song_4|Object-based stab...|     404| 2022-08-26|         [artist_78]|album_35| [genre_8, genre_9]|        []|\n",
      "| song_5|Quality-focused t...|     146| 1999-02-04|[artist_30, artis...|album_30|         [genre_13]|        []|\n",
      "| song_6|Front-line impact...|     348| 1985-06-04|         [artist_69]|album_83|          [genre_9]|[award_18]|\n",
      "| song_7|Customer-focused ...|     359| 1999-12-08|         [artist_35]|album_19|          [genre_3]|        []|\n",
      "| song_8|Public-key human-...|     246| 2024-02-26|[artist_75, artis...|    NULL| [genre_6, genre_9]|        []|\n",
      "| song_9|Sharable holistic...|     387| 2005-10-18|         [artist_54]| album_0|[genre_10, genre_8]|        []|\n",
      "|song_10|Open-architected ...|     307| 2007-03-12|         [artist_88]|album_48|          [genre_0]|        []|\n",
      "|song_11|Reactive attitude...|     286| 2009-04-14|[artist_90, artis...|album_99|         [genre_13]|        []|\n",
      "|song_12|Configurable 24/7...|     193| 2021-09-15|[artist_24, artis...|    NULL|          [genre_2]|        []|\n",
      "|song_13|Distributed zero ...|     224| 1990-03-22|[artist_55, artis...|album_30|          [genre_2]|        []|\n",
      "|song_14|Front-line 3rdgen...|     389| 1997-09-16|[artist_60, artis...|album_29|         [genre_12]|        []|\n",
      "|song_15|Focused coherent ...|     326| 2002-03-08|[artist_67, artis...|album_18|         [genre_14]|        []|\n",
      "|song_16|Open-source conte...|     265| 1996-12-27|         [artist_96]|album_80|          [genre_9]|        []|\n",
      "|song_17|Realigned actuati...|     310| 2008-02-24|         [artist_38]|    NULL|[genre_12, genre_2]|        []|\n",
      "|song_18|Future-proofed co...|     368| 2020-06-15|         [artist_64]|album_16|         [genre_13]|        []|\n",
      "|song_19|Cross-group clear...|     188| 1990-06-25|[artist_46, artis...|    NULL| [genre_5, genre_3]|        []|\n",
      "+-------+--------------------+--------+-----------+--------------------+--------+-------------------+----------+\n",
      "only showing top 20 rows\n",
      "\n"
     ]
    }
   ],
   "source": [
    "# after: artistIDs, genreIDs, awardIDs are arrays.\n",
    "# Molto Bene!\n",
    "songs.show()"
   ]
  },
  {
   "cell_type": "markdown",
   "id": "68ec34e2-4374-41e0-a534-888dd2365eaf",
   "metadata": {},
   "source": [
    "### Schema: artists"
   ]
  },
  {
   "cell_type": "code",
   "execution_count": 12,
   "id": "ca0ce972-c05c-4329-ad5d-1618eb7b5e15",
   "metadata": {},
   "outputs": [],
   "source": [
    "#\n",
    "schema_artists = StructType(\n",
    "    [\n",
    "        StructField(\"id\", StringType(), False),\n",
    "        StructField(\"name\", StringType(), False),\n",
    "        StructField(\"birthDate\", StringType(), True),\n",
    "        StructField(\"nationality\", StringType(), True),\n",
    "        StructField(\"labelID\", StringType(), True)\n",
    "    ]\n",
    ")"
   ]
  },
  {
   "cell_type": "markdown",
   "id": "eb653859-0c54-4671-910f-453e6560f5d6",
   "metadata": {},
   "source": [
    "### Load Data: artists"
   ]
  },
  {
   "cell_type": "code",
   "execution_count": 13,
   "id": "e875e790-8bd4-469c-8234-4d3b13eac329",
   "metadata": {},
   "outputs": [],
   "source": [
    "artists = (\n",
    "    spark.read.format(\"csv\")\n",
    "    .option(\"encoding\", \"UTF-8\")\n",
    "    .option(\"header\", True)\n",
    "    .option(\"sep\", \",\")\n",
    "    .option(\"escape\", '\"')\n",
    "    .schema(schema_artists)\n",
    "    .load(data_path+\"artists.csv\")\n",
    ")"
   ]
  },
  {
   "cell_type": "markdown",
   "id": "61443bd6-23c8-4c2b-b40b-4c708c6e590b",
   "metadata": {},
   "source": [
    "### Schema: albums"
   ]
  },
  {
   "cell_type": "code",
   "execution_count": 14,
   "id": "65f8d196-98c2-44d9-b7ce-556411a1800d",
   "metadata": {},
   "outputs": [],
   "source": [
    "#\n",
    "schema_albums = StructType(\n",
    "    [\n",
    "        StructField(\"id\", StringType(), False),\n",
    "        StructField(\"title\", StringType(), False),\n",
    "        StructField(\"releaseYear\", IntegerType(), True),\n",
    "        StructField(\"genreIDs\", StringType(), True)\n",
    "    ]\n",
    ")"
   ]
  },
  {
   "cell_type": "markdown",
   "id": "b700df02-1862-48b7-ac1f-570067f2a138",
   "metadata": {},
   "source": [
    "### Load Data: albums"
   ]
  },
  {
   "cell_type": "code",
   "execution_count": 15,
   "id": "b77d8684-7ca6-464f-af90-b53ed5c6114e",
   "metadata": {},
   "outputs": [],
   "source": [
    "albums = (\n",
    "    spark.read.format(\"csv\")\n",
    "    .option(\"encoding\", \"UTF-8\")\n",
    "    .option(\"header\", True)\n",
    "    .option(\"sep\", \",\")\n",
    "    .option(\"escape\", '\"')\n",
    "    .schema(schema_albums)\n",
    "    .load(data_path+\"albums.csv\")\n",
    ")"
   ]
  },
  {
   "cell_type": "markdown",
   "id": "3df80250-62f7-4a5c-97da-aeb507706916",
   "metadata": {},
   "source": [
    "### Schema: labels"
   ]
  },
  {
   "cell_type": "code",
   "execution_count": 16,
   "id": "14523ba2-1b18-4782-9a61-95324294cc72",
   "metadata": {},
   "outputs": [],
   "source": [
    "#\n",
    "schema_labels = StructType(\n",
    "    [\n",
    "        StructField(\"id\", StringType(), False),\n",
    "        StructField(\"labelName\", StringType(), False),\n",
    "        StructField(\"location\", StringType(), True)\n",
    "    ]\n",
    ")"
   ]
  },
  {
   "cell_type": "markdown",
   "id": "4bbd2a55-8c64-4f0d-8eb8-ee592cb44f1a",
   "metadata": {},
   "source": [
    "### Load Data: labels"
   ]
  },
  {
   "cell_type": "code",
   "execution_count": 17,
   "id": "5936b6ef-1355-44d7-8fc3-52b0d230573b",
   "metadata": {},
   "outputs": [],
   "source": [
    "labels = (\n",
    "    spark.read.format(\"csv\")\n",
    "    .option(\"encoding\", \"UTF-8\")\n",
    "    .option(\"header\", True)\n",
    "    .option(\"sep\", \",\")\n",
    "    .option(\"escape\", '\"')\n",
    "    .schema(schema_labels)\n",
    "    .load(data_path+\"labels.csv\")\n",
    ")"
   ]
  },
  {
   "cell_type": "markdown",
   "id": "9a472fa2-00cc-4eb2-990c-62303ed58c4f",
   "metadata": {},
   "source": [
    "### Schema: genres"
   ]
  },
  {
   "cell_type": "code",
   "execution_count": 18,
   "id": "c9025d9a-fbe0-499a-a068-af17d3b4f75c",
   "metadata": {},
   "outputs": [],
   "source": [
    "#\n",
    "schema_genres = StructType(\n",
    "    [\n",
    "        StructField(\"id\", StringType(), False),\n",
    "        StructField(\"name\", StringType(), False),\n",
    "        StructField(\"description\", StringType(), True)\n",
    "    ]\n",
    ")"
   ]
  },
  {
   "cell_type": "markdown",
   "id": "625170d5-7c12-460b-bdaa-c628768037b9",
   "metadata": {},
   "source": [
    "### Load Data: genres"
   ]
  },
  {
   "cell_type": "code",
   "execution_count": 19,
   "id": "dcc04eaa-6462-4ee7-8650-18a6a9976cfb",
   "metadata": {},
   "outputs": [],
   "source": [
    "genres = (\n",
    "    spark.read.format(\"csv\")\n",
    "    .option(\"encoding\", \"UTF-8\")\n",
    "    .option(\"header\", True)\n",
    "    .option(\"sep\", \",\")\n",
    "    .option(\"escape\", '\"')\n",
    "    .schema(schema_genres)\n",
    "    .load(data_path+\"genres.csv\")\n",
    ")"
   ]
  },
  {
   "cell_type": "markdown",
   "id": "32495045-660c-46f5-901c-ae65632b01b6",
   "metadata": {},
   "source": [
    "### Schema: awards"
   ]
  },
  {
   "cell_type": "code",
   "execution_count": 20,
   "id": "9abd1606-ab23-402c-b573-4c7e491d07a5",
   "metadata": {},
   "outputs": [],
   "source": [
    "#\n",
    "schema_awards = StructType(\n",
    "    [\n",
    "        StructField(\"id\", StringType(), False),\n",
    "        StructField(\"awardName\", StringType(), False),\n",
    "        StructField(\"year\", IntegerType(), True),\n",
    "        StructField(\"awardingBody\", StringType(), True)\n",
    "    ]\n",
    ")"
   ]
  },
  {
   "cell_type": "markdown",
   "id": "f3b3431b-bb3e-4141-9841-24fe4c604101",
   "metadata": {},
   "source": [
    "### Load Data: awards"
   ]
  },
  {
   "cell_type": "code",
   "execution_count": 21,
   "id": "003d893a-c9d2-4363-9215-7b6a99f94a37",
   "metadata": {},
   "outputs": [],
   "source": [
    "awards = (\n",
    "    spark.read.format(\"csv\")\n",
    "    .option(\"encoding\", \"UTF-8\")\n",
    "    .option(\"header\", True)\n",
    "    .option(\"sep\", \",\")\n",
    "    .option(\"escape\", '\"')\n",
    "    .schema(schema_awards)\n",
    "    .load(data_path+\"awards.csv\")\n",
    ")"
   ]
  },
  {
   "cell_type": "markdown",
   "id": "564191bc-8945-413f-a066-7a13b61440e6",
   "metadata": {},
   "source": [
    "## Asking Questions"
   ]
  },
  {
   "cell_type": "markdown",
   "id": "a82f6881-8c6a-401e-bbbb-6e5db840df34",
   "metadata": {},
   "source": [
    "Here are a few questions we can now as from this ontology:\n",
    "1. Find songs by genre\n",
    "1. List artists by label location\n",
    "1. Filter albums by release year\n",
    "1. Discover songs with awards in certain years\n",
    "1. Check which artists perform a given song\n",
    "1. Find songs on a given album\n",
    "1. List songs by a given artist\n",
    "1. Aggregate how many songs each label’s artists have performed\n",
    "1. Calculate average song duration by genre\n",
    "1. Find artists without a label"
   ]
  },
  {
   "cell_type": "code",
   "execution_count": null,
   "id": "85e90413-884b-4518-9001-ba14d560930c",
   "metadata": {},
   "outputs": [],
   "source": []
  },
  {
   "cell_type": "code",
   "execution_count": null,
   "id": "a06ce261-e31c-4391-a21e-8381a4303e58",
   "metadata": {},
   "outputs": [],
   "source": []
  },
  {
   "cell_type": "code",
   "execution_count": null,
   "id": "d94d69ed-4949-4a9b-b940-10bd71803ede",
   "metadata": {},
   "outputs": [],
   "source": []
  },
  {
   "cell_type": "code",
   "execution_count": null,
   "id": "ed663128-59b2-44c0-9c1b-5ad539059759",
   "metadata": {},
   "outputs": [],
   "source": []
  },
  {
   "cell_type": "code",
   "execution_count": null,
   "id": "9eba5bce-8563-4ab3-939d-6ab944579339",
   "metadata": {},
   "outputs": [],
   "source": []
  },
  {
   "cell_type": "code",
   "execution_count": null,
   "id": "338c8175-d4d3-488d-b436-e587c0f83f1e",
   "metadata": {},
   "outputs": [],
   "source": []
  },
  {
   "cell_type": "code",
   "execution_count": null,
   "id": "b9b0aeb0-727c-4986-b52f-0ef4da1be6c5",
   "metadata": {},
   "outputs": [],
   "source": []
  },
  {
   "cell_type": "code",
   "execution_count": null,
   "id": "1f87922d-5bc9-4a98-8e85-e77f4f83cc6f",
   "metadata": {},
   "outputs": [],
   "source": []
  },
  {
   "cell_type": "code",
   "execution_count": null,
   "id": "e65f94e1-7f91-4342-9d32-75b6f09c5d6f",
   "metadata": {},
   "outputs": [],
   "source": []
  },
  {
   "cell_type": "code",
   "execution_count": null,
   "id": "f01d8ed5-f32c-4e4e-818c-990b0bac1e38",
   "metadata": {},
   "outputs": [],
   "source": []
  },
  {
   "cell_type": "code",
   "execution_count": null,
   "id": "2d1b4dfa-1f5e-4858-9f58-2be49bf34b67",
   "metadata": {},
   "outputs": [],
   "source": []
  },
  {
   "cell_type": "code",
   "execution_count": null,
   "id": "6d51a0d7-7ba8-4d6d-a2e6-610d86bb4f2a",
   "metadata": {},
   "outputs": [],
   "source": []
  },
  {
   "cell_type": "code",
   "execution_count": null,
   "id": "6e189953-e57f-48ce-a2cc-bb1b6bd6434a",
   "metadata": {},
   "outputs": [],
   "source": []
  },
  {
   "cell_type": "code",
   "execution_count": null,
   "id": "cf73419d-c0b2-4177-bdd5-1723656df8e3",
   "metadata": {},
   "outputs": [],
   "source": []
  },
  {
   "cell_type": "code",
   "execution_count": null,
   "id": "54ddd6c4-2d69-4f29-9eb5-c9d3f1afbac1",
   "metadata": {},
   "outputs": [],
   "source": []
  },
  {
   "cell_type": "code",
   "execution_count": null,
   "id": "2c49acf4-a5b4-4d5d-82ce-c500f448713c",
   "metadata": {},
   "outputs": [],
   "source": []
  },
  {
   "cell_type": "code",
   "execution_count": null,
   "id": "a1002104-80f4-44ff-b49c-5af7ae5efbae",
   "metadata": {},
   "outputs": [],
   "source": []
  },
  {
   "cell_type": "code",
   "execution_count": null,
   "id": "dfc78e4e-b087-41d0-bfd5-a874b43b6936",
   "metadata": {},
   "outputs": [],
   "source": []
  },
  {
   "cell_type": "code",
   "execution_count": null,
   "id": "3ae5c840-2778-4b0b-b72f-768ddd5602d2",
   "metadata": {},
   "outputs": [],
   "source": []
  },
  {
   "cell_type": "code",
   "execution_count": null,
   "id": "955c598c-ae68-490f-9f62-a37f249d3346",
   "metadata": {},
   "outputs": [],
   "source": []
  },
  {
   "cell_type": "code",
   "execution_count": null,
   "id": "c28e18c6-fd3b-483d-a4e3-c9e3dd6424fc",
   "metadata": {},
   "outputs": [],
   "source": []
  },
  {
   "cell_type": "code",
   "execution_count": null,
   "id": "31215f37-30a6-4cf3-895e-a64393f27fec",
   "metadata": {},
   "outputs": [],
   "source": []
  },
  {
   "cell_type": "code",
   "execution_count": 23,
   "id": "e01d8ddb-c4f0-4976-96b1-ccfb46753e6d",
   "metadata": {},
   "outputs": [],
   "source": [
    "# # clear cache\n",
    "spark.catalog.clearCache()\n",
    "# # stop spark\n",
    "spark.stop()"
   ]
  },
  {
   "cell_type": "code",
   "execution_count": null,
   "id": "ff86f7d9-19b1-41ba-8f81-af3afdcdb157",
   "metadata": {},
   "outputs": [],
   "source": []
  }
 ],
 "metadata": {
  "kernelspec": {
   "display_name": "Python 3 (ipykernel)",
   "language": "python",
   "name": "python3"
  },
  "language_info": {
   "codemirror_mode": {
    "name": "ipython",
    "version": 3
   },
   "file_extension": ".py",
   "mimetype": "text/x-python",
   "name": "python",
   "nbconvert_exporter": "python",
   "pygments_lexer": "ipython3",
   "version": "3.11.7"
  }
 },
 "nbformat": 4,
 "nbformat_minor": 5
}
