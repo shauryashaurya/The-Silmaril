{
 "cells": [
  {
   "cell_type": "code",
   "execution_count": 1,
   "id": "6e7eb68e-3b93-4725-82d4-50f0aab846ff",
   "metadata": {},
   "outputs": [],
   "source": [
    "import random\n",
    "import pandas as pd\n",
    "from faker import Faker\n",
    "from datetime import timedelta, datetime  # Import datetime"
   ]
  },
  {
   "cell_type": "code",
   "execution_count": 2,
   "id": "502ffda3-5521-4b3a-bd4c-257dca5902c4",
   "metadata": {},
   "outputs": [],
   "source": [
    "data_path = \"./data/\""
   ]
  },
  {
   "cell_type": "code",
   "execution_count": 3,
   "id": "e0add317-644b-4301-ad1c-52db010a15a6",
   "metadata": {},
   "outputs": [],
   "source": [
    "fake = Faker()"
   ]
  },
  {
   "cell_type": "code",
   "execution_count": 4,
   "id": "3418f786-1aad-4935-bacb-13460985ef9d",
   "metadata": {},
   "outputs": [],
   "source": [
    "# Configuration\n",
    "\n",
    "NUM_PLANTS = 10\n",
    "NUM_LINES = 30\n",
    "NUM_MACHINES = 50\n",
    "NUM_OPERATORS = 40\n",
    "NUM_MATERIALS = 60\n",
    "NUM_PRODUCTS = 40\n",
    "NUM_WORKORDERS = 80\n",
    "NUM_INSPECTIONS = 70"
   ]
  },
  {
   "cell_type": "code",
   "execution_count": 5,
   "id": "228c9c96-f79c-4a10-975d-ec9d9e6b565d",
   "metadata": {},
   "outputs": [],
   "source": [
    "# 1. Generate ManufacturingPlants\n",
    "plants = []\n",
    "for i in range(NUM_PLANTS):\n",
    "    plants.append({\n",
    "        \"id\": f\"plant_{i}\",\n",
    "        \"plantName\": fake.company() + \" Plant\",\n",
    "        \"location\": fake.city()\n",
    "    })"
   ]
  },
  {
   "cell_type": "code",
   "execution_count": 6,
   "id": "1a6dd154-575a-4eb7-87ea-19f90df91fdd",
   "metadata": {},
   "outputs": [],
   "source": [
    "# 2. Generate ProductionLines\n",
    "# Each line belongs to one plant\n",
    "lines = []\n",
    "for i in range(NUM_LINES):\n",
    "    plant = random.choice(plants)\n",
    "    lines.append({\n",
    "        \"id\": f\"line_{i}\",\n",
    "        \"lineName\": f\"Line_{i}_{fake.word()}\",\n",
    "        \"capacity\": random.randint(50, 500),  # units/day\n",
    "        \"plantID\": plant[\"id\"]\n",
    "    })"
   ]
  },
  {
   "cell_type": "code",
   "execution_count": 7,
   "id": "3b99ab18-a113-4f1f-9cee-1e36ffd16de0",
   "metadata": {},
   "outputs": [],
   "source": [
    "# 3. Generate Machines\n",
    "machine_types = [\"Cutting\", \"Assembly\", \"Packaging\", \"Welding\", \"Pressing\"]\n",
    "machines = []\n",
    "for i in range(NUM_MACHINES):\n",
    "    line = random.choice(lines)\n",
    "    mtype = random.choice(machine_types)\n",
    "    # maintenance due ~ next 6 months\n",
    "    due_date = datetime.today() + timedelta(days=random.randint(0, 180))\n",
    "    machines.append({\n",
    "        \"id\": f\"machine_{i}\",\n",
    "        \"machineName\": f\"{mtype}Machine_{i}\",\n",
    "        \"machineType\": mtype,\n",
    "        \"maintenanceDueDate\": due_date.isoformat(),\n",
    "        \"lineID\": line[\"id\"]\n",
    "    })"
   ]
  },
  {
   "cell_type": "code",
   "execution_count": 8,
   "id": "7f6717d3-f112-4043-ab65-01defeb0d465",
   "metadata": {},
   "outputs": [],
   "source": [
    "# 4. Generate Operators\n",
    "skill_levels = [\"Beginner\", \"Intermediate\", \"Expert\"]\n",
    "operators = []\n",
    "for i in range(NUM_OPERATORS):\n",
    "    operators.append({\n",
    "        \"id\": f\"operator_{i}\",\n",
    "        \"operatorName\": fake.name(),\n",
    "        \"skillLevel\": random.choice(skill_levels),\n",
    "        \"hireDate\": fake.date_between(start_date='-5y', end_date='today').isoformat()\n",
    "    })\n",
    "\n",
    "# Link Operators to Machines in a many-to-many approach\n",
    "# We'll store the \"operatedBy -> Operator\" in a separate structure or as a list\n",
    "machine_operator_links = []\n",
    "for m in machines:\n",
    "    # each machine can have 1-3 operators\n",
    "    num_ops = random.randint(1, 3)\n",
    "    assigned_ops = random.sample(operators, k=num_ops)\n",
    "    # store\n",
    "    m[\"operatorIDs\"] = [op[\"id\"] for op in assigned_ops]"
   ]
  },
  {
   "cell_type": "code",
   "execution_count": 9,
   "id": "5d368da7-9b04-4d65-aa74-14a2c9ed9bb9",
   "metadata": {},
   "outputs": [],
   "source": [
    "# 5. Generate Materials\n",
    "material_types = [\"Raw\", \"Semi-Finished\"]\n",
    "material_names = [\"Steel Sheet\", \"Aluminum Rod\", \"Plastic Granules\", \"Wood Plank\", \"Copper Wire\", \"Rubber Block\", \"Glass Pane\"]\n",
    "materials = []\n",
    "for i in range(NUM_MATERIALS):\n",
    "    mat_name = random.choice(material_names)\n",
    "    mat_type = random.choice(material_types)\n",
    "    unit_cost = round(random.uniform(0.5, 50.0), 2)\n",
    "    materials.append({\n",
    "        \"id\": f\"material_{i}\",\n",
    "        \"materialName\": mat_name,\n",
    "        \"materialType\": mat_type,\n",
    "        \"unitCost\": unit_cost\n",
    "    })"
   ]
  },
  {
   "cell_type": "code",
   "execution_count": 10,
   "id": "2b84467e-aa21-4a67-9b98-bb4d9dd8fe08",
   "metadata": {},
   "outputs": [],
   "source": [
    "# 6. Generate Products\n",
    "product_names = [\"Widget A\", \"Gadget B\", \"Assembly X\", \"Component Y\", \"Part Z\", \"Device Q\"]\n",
    "products = []\n",
    "for i in range(NUM_PRODUCTS):\n",
    "    p_name = random.choice(product_names)\n",
    "    sku_val = f\"SKU-{random.randint(1000,9999)}\"\n",
    "    price = round(random.uniform(5.0, 200.0), 2)\n",
    "    products.append({\n",
    "        \"id\": f\"product_{i}\",\n",
    "        \"productName\": p_name,\n",
    "        \"sku\": sku_val,\n",
    "        \"price\": price\n",
    "    })"
   ]
  },
  {
   "cell_type": "code",
   "execution_count": 11,
   "id": "79786393-8c71-44f0-8450-65b775a1a3f2",
   "metadata": {},
   "outputs": [],
   "source": [
    "# 7. Generate WorkOrders\n",
    "status_options = [\"Scheduled\", \"In Progress\", \"Completed\", \"Cancelled\"]\n",
    "workOrders = []\n",
    "for i in range(NUM_WORKORDERS):\n",
    "    wo_num = f\"WO-{random.randint(1000,9999)}\"\n",
    "    qty = random.randint(10, 1000)\n",
    "    start = fake.date_between(start_date='-180d', end_date='today')\n",
    "    due = start + timedelta(days=random.randint(1, 60))\n",
    "    w_status = random.choice(status_options)\n",
    "    # pick a production line\n",
    "    line = random.choice(lines)\n",
    "    # pick 0-3 consumed materials\n",
    "    consumed_mat_ids = []\n",
    "    mat_count = random.randint(0,3)\n",
    "    if mat_count > 0:\n",
    "        consumed_mat_ids = [random.choice(materials)[\"id\"] for _ in range(mat_count)]\n",
    "    # pick 1 product\n",
    "    prod = random.choice(products)\n",
    "\n",
    "    workOrders.append({\n",
    "        \"id\": f\"wo_{i}\",\n",
    "        \"workOrderNumber\": wo_num,\n",
    "        \"quantity\": qty,\n",
    "        \"startDate\": start.isoformat(),\n",
    "        \"dueDate\": due.isoformat(),\n",
    "        \"status\": w_status,\n",
    "        \"lineID\": line[\"id\"],\n",
    "        \"materialIDs\": consumed_mat_ids,\n",
    "        \"productID\": prod[\"id\"]\n",
    "    })"
   ]
  },
  {
   "cell_type": "code",
   "execution_count": 12,
   "id": "bc785550-2f3a-4826-bac7-22e2ffd7032c",
   "metadata": {},
   "outputs": [],
   "source": [
    "# 8. Generate QualityInspections\n",
    "results = [\"Pass\", \"Fail\"]\n",
    "inspections = []\n",
    "for i in range(NUM_INSPECTIONS):\n",
    "    # choose random work order, operator\n",
    "    wo = random.choice(workOrders)\n",
    "    op = random.choice(operators)\n",
    "    date_of_inspection = fake.date_between(start_date=datetime.fromisoformat(wo[\"startDate\"]), end_date=datetime.fromisoformat(wo[\"dueDate\"]))\n",
    "    insp_result = random.choice(results)\n",
    "    insp_notes = fake.sentence(nb_words=6)\n",
    "\n",
    "    inspections.append({\n",
    "        \"id\": f\"inspection_{i}\",\n",
    "        \"inspectionDate\": date_of_inspection.isoformat(),\n",
    "        \"result\": insp_result,\n",
    "        \"notes\": insp_notes,\n",
    "        \"workOrderID\": wo[\"id\"],\n",
    "        \"operatorID\": op[\"id\"]\n",
    "    })"
   ]
  },
  {
   "cell_type": "code",
   "execution_count": 13,
   "id": "4e59fb6a-632c-42d2-a6d7-970c46df91df",
   "metadata": {},
   "outputs": [
    {
     "name": "stdout",
     "output_type": "stream",
     "text": [
      "ManufacturingPlants: 10\n",
      "ProductionLines: 30\n",
      "Machines: 50\n",
      "Operators: 40\n",
      "Materials: 60\n",
      "Products: 40\n",
      "WorkOrders: 80\n",
      "QualityInspections: 70 \n",
      "\n"
     ]
    }
   ],
   "source": [
    "# Print Summaries\n",
    "print(\"ManufacturingPlants:\", len(plants))\n",
    "print(\"ProductionLines:\", len(lines))\n",
    "print(\"Machines:\", len(machines))\n",
    "print(\"Operators:\", len(operators))\n",
    "print(\"Materials:\", len(materials))\n",
    "print(\"Products:\", len(products))\n",
    "print(\"WorkOrders:\", len(workOrders))\n",
    "print(\"QualityInspections:\", len(inspections), \"\\n\")"
   ]
  },
  {
   "cell_type": "code",
   "execution_count": 14,
   "id": "9d3b5c48-f182-437e-ae20-f9e65db057a7",
   "metadata": {},
   "outputs": [
    {
     "name": "stdout",
     "output_type": "stream",
     "text": [
      "Sample Plant: {'id': 'plant_0', 'plantName': 'Atkins, Jackson and Rivera Plant', 'location': 'Mollyview'}\n",
      "Sample ProductionLine: {'id': 'line_0', 'lineName': 'Line_0_room', 'capacity': 223, 'plantID': 'plant_0'}\n",
      "Sample Machine: {'id': 'machine_0', 'machineName': 'WeldingMachine_0', 'machineType': 'Welding', 'maintenanceDueDate': '2025-07-11T14:50:01.043564', 'lineID': 'line_4', 'operatorIDs': ['operator_28', 'operator_32', 'operator_38']}\n",
      "Sample Operator: {'id': 'operator_0', 'operatorName': 'Joshua Hoover', 'skillLevel': 'Expert', 'hireDate': '2021-09-29'}\n",
      "Sample Material: {'id': 'material_0', 'materialName': 'Steel Sheet', 'materialType': 'Semi-Finished', 'unitCost': 47.55}\n",
      "Sample Product: {'id': 'product_0', 'productName': 'Gadget B', 'sku': 'SKU-5200', 'price': 118.97}\n",
      "Sample WorkOrder: {'id': 'wo_0', 'workOrderNumber': 'WO-5691', 'quantity': 837, 'startDate': '2024-11-15', 'dueDate': '2024-12-09', 'status': 'In Progress', 'lineID': 'line_13', 'materialIDs': ['material_44'], 'productID': 'product_5'}\n",
      "Sample QualityInspection: {'id': 'inspection_0', 'inspectionDate': '2024-11-18', 'result': 'Pass', 'notes': 'Try pressure leader produce work.', 'workOrderID': 'wo_72', 'operatorID': 'operator_27'}\n"
     ]
    }
   ],
   "source": [
    "# Print sample data\n",
    "print(\"Sample Plant:\", plants[0])\n",
    "print(\"Sample ProductionLine:\", lines[0])\n",
    "print(\"Sample Machine:\", machines[0])\n",
    "print(\"Sample Operator:\", operators[0])\n",
    "print(\"Sample Material:\", materials[0])\n",
    "print(\"Sample Product:\", products[0])\n",
    "print(\"Sample WorkOrder:\", workOrders[0])\n",
    "print(\"Sample QualityInspection:\", inspections[0])"
   ]
  },
  {
   "cell_type": "code",
   "execution_count": 15,
   "id": "201047b5-0d0b-483f-a9fa-059f7ab9b4d4",
   "metadata": {},
   "outputs": [],
   "source": [
    "# persist the data\n",
    "pd.DataFrame(plants).to_csv(data_path+\"plants.csv\", encoding = \"utf-8\", escapechar = \"\\\"\", index=False)\n",
    "pd.DataFrame(lines).to_csv(data_path+\"lines.csv\", encoding = \"utf-8\", escapechar = \"\\\"\", index=False)\n",
    "pd.DataFrame(machines).to_csv(data_path+\"machines.csv\", encoding = \"utf-8\", escapechar = \"\\\"\", index=False)\n",
    "pd.DataFrame(operators).to_csv(data_path+\"operators.csv\", encoding = \"utf-8\", escapechar = \"\\\"\", index=False)\n",
    "pd.DataFrame(materials).to_csv(data_path+\"materials.csv\", encoding = \"utf-8\", escapechar = \"\\\"\", index=False)\n",
    "pd.DataFrame(products).to_csv(data_path+\"products.csv\", encoding = \"utf-8\", escapechar = \"\\\"\", index=False)\n",
    "pd.DataFrame(workOrders).to_csv(data_path+\"work_orders.csv\", encoding = \"utf-8\", escapechar = \"\\\"\", index=False)\n",
    "pd.DataFrame(inspections).to_csv(data_path+\"inspections.csv\", encoding = \"utf-8\", escapechar = \"\\\"\", index=False)"
   ]
  },
  {
   "cell_type": "code",
   "execution_count": null,
   "id": "eca3e6b4-c9a7-4e8a-98ac-c9a55759b2c9",
   "metadata": {},
   "outputs": [],
   "source": []
  }
 ],
 "metadata": {
  "kernelspec": {
   "display_name": "Python 3 (ipykernel)",
   "language": "python",
   "name": "python3"
  },
  "language_info": {
   "codemirror_mode": {
    "name": "ipython",
    "version": 3
   },
   "file_extension": ".py",
   "mimetype": "text/x-python",
   "name": "python",
   "nbconvert_exporter": "python",
   "pygments_lexer": "ipython3",
   "version": "3.11.7"
  }
 },
 "nbformat": 4,
 "nbformat_minor": 5
}
