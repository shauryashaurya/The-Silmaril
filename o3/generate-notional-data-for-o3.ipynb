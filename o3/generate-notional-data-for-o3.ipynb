{
 "cells": [
  {
   "cell_type": "markdown",
   "id": "c0b5b573-8764-42e5-96fe-df6564581b60",
   "metadata": {},
   "source": [
    "# Ontology #3: Supply Chain    \n",
    "    "
   ]
  },
  {
   "cell_type": "markdown",
   "id": "e8886157-157d-46dd-9e7f-b80584d6e0a5",
   "metadata": {},
   "source": [
    "## Data generation approach"
   ]
  },
  {
   "cell_type": "markdown",
   "id": "d9721407-9753-462d-99e1-9b257c09651f",
   "metadata": {},
   "source": [
    "### Main Classes    \n",
    "    \n",
    "1. **Supplier**      \n",
    "2. **Manufacturer**      \n",
    "3. **Warehouse**      \n",
    "4. **Retailer**      \n",
    "5. **Product**      \n",
    "6. **Order**      \n",
    "7. **Shipment**      \n",
    "8. **Invoice**      \n",
    "   - Additional relationships link: Supplier→Manufacturer, Manufacturer→Product, Warehouse→Product, Orders reference Retailers & Warehouses, etc.    \n",
    "    \n",
    "### Generation Order & Rationale    \n",
    "    \n",
    "1. **Supplier**      \n",
    "   - Independent. Later, we create a link “suppliesTo → Manufacturer.”    \n",
    "    \n",
    "2. **Manufacturer**      \n",
    "   - Also a top-level entity. We link it back to suppliers.    \n",
    "    \n",
    "3. **Warehouse**      \n",
    "   - Another independent entity. We link it to the products it stores.    \n",
    "    \n",
    "4. **Retailer**      \n",
    "   - Also fairly standalone. Will place orders to a warehouse or manufacturer.    \n",
    "    \n",
    "5. **Product**      \n",
    "   - Created after Manufacturer (since the code might store a link from manufacturer→product), or at least simultaneously.      \n",
    "   - Typically, we do Manufacturer first, then Product, so we can set “manufactures -> Product.”    \n",
    "    \n",
    "6. **Linking**: Supplier→Manufacturer, Manufacturer→Product, Warehouse→Product      \n",
    "   - In code, we often do these “relationship builds” after the main lists are created.    \n",
    "    \n",
    "7. **Order**      \n",
    "   - References a `RetailerID` and either a `WarehouseID` or a `ManufacturerID` as the seller.      \n",
    "   - Hence we must have Retailers, Warehouses, and Manufacturers ready first.    \n",
    "    \n",
    "8. **Shipment**      \n",
    "   - References the `OrderID`, plus a `shipperID` (Warehouse or Manufacturer).      \n",
    "   - Therefore we create shipments after we have Orders in place.    \n",
    "    \n",
    "9. **Invoice**      \n",
    "   - References the same parties as the order (billedBy = seller, billedTo = retailer).      \n",
    "   - So it must come last, after we know which orders are valid and what the order amounts might be.    "
   ]
  },
  {
   "cell_type": "markdown",
   "id": "52f11173-cf45-4b99-aab0-9a8e7c6dec90",
   "metadata": {},
   "source": [
    "## Implementation"
   ]
  },
  {
   "cell_type": "code",
   "execution_count": 1,
   "id": "6e7eb68e-3b93-4725-82d4-50f0aab846ff",
   "metadata": {},
   "outputs": [],
   "source": [
    "import random\n",
    "import pandas as pd\n",
    "from faker import Faker\n",
    "from datetime import datetime"
   ]
  },
  {
   "cell_type": "code",
   "execution_count": 2,
   "id": "502ffda3-5521-4b3a-bd4c-257dca5902c4",
   "metadata": {},
   "outputs": [],
   "source": [
    "data_path = \"./data/\""
   ]
  },
  {
   "cell_type": "code",
   "execution_count": 3,
   "id": "e0add317-644b-4301-ad1c-52db010a15a6",
   "metadata": {},
   "outputs": [],
   "source": [
    "fake = Faker()"
   ]
  },
  {
   "cell_type": "code",
   "execution_count": 4,
   "id": "a65784a8-00cb-4f38-b187-ec7d5ca4833f",
   "metadata": {},
   "outputs": [],
   "source": [
    "# Configurable quantities\n",
    "NUM_SUPPLIERS = 30\n",
    "NUM_MANUFACTURERS = 20\n",
    "NUM_WAREHOUSES = 40\n",
    "NUM_RETAILERS = 50\n",
    "NUM_PRODUCTS = 250\n",
    "NUM_ORDERS = 1500\n",
    "NUM_SHIPMENTS = 1200\n",
    "NUM_INVOICES = 800\n",
    "\n",
    "# Seed (optional)\n",
    "# random.seed(42)  # For reproducibility, uncomment these lines\n",
    "# Faker.seed(42)"
   ]
  },
  {
   "cell_type": "code",
   "execution_count": 5,
   "id": "b611f1c5-3f6a-414a-8ed7-229d5cac16e8",
   "metadata": {},
   "outputs": [],
   "source": [
    "# 1. Generate Suppliers\n",
    "suppliers = []\n",
    "for i in range(NUM_SUPPLIERS):\n",
    "    suppliers.append({\n",
    "        \"id\": f\"supplier_{i}\",\n",
    "        \"supplierName\": fake.company(),\n",
    "        \"location\": fake.city(),\n",
    "        \"rating\": round(random.uniform(2.0, 5.0), 2)  # rating out of 5\n",
    "    })"
   ]
  },
  {
   "cell_type": "code",
   "execution_count": 6,
   "id": "3ea94162-e380-44d0-97f8-20ef52858c60",
   "metadata": {},
   "outputs": [],
   "source": [
    "# 2. Generate Manufacturers\n",
    "manufacturers = []\n",
    "for i in range(NUM_MANUFACTURERS):\n",
    "    manufacturers.append({\n",
    "        \"id\": f\"manufacturer_{i}\",\n",
    "        \"manufacturerName\": fake.company() + \" Manufacturing\",\n",
    "        \"location\": fake.city(),\n",
    "        \"capacity\": random.randint(1000, 10000)  # monthly capacity\n",
    "    })"
   ]
  },
  {
   "cell_type": "code",
   "execution_count": 7,
   "id": "30e598be-5442-40a9-b805-194bbae88e8d",
   "metadata": {},
   "outputs": [],
   "source": [
    "# 3. Generate Warehouses (Distribution Centers)\n",
    "warehouses = []\n",
    "for i in range(NUM_WAREHOUSES):\n",
    "    warehouses.append({\n",
    "        \"id\": f\"warehouse_{i}\",\n",
    "        \"warehouseName\": fake.company() + \" Distribution\",\n",
    "        \"location\": fake.city(),\n",
    "        \"capacity\": random.randint(5000, 20000)\n",
    "    })"
   ]
  },
  {
   "cell_type": "code",
   "execution_count": 8,
   "id": "d62bc29f-76c5-43ad-9958-b8d448015378",
   "metadata": {},
   "outputs": [],
   "source": [
    "# 4. Generate Retailers\n",
    "retailers = []\n",
    "retailer_types = [\"Online\", \"Brick-and-mortar\", \"Mixed\"]\n",
    "for i in range(NUM_RETAILERS):\n",
    "    retailers.append({\n",
    "        \"id\": f\"retailer_{i}\",\n",
    "        \"retailerName\": fake.company() + \" Retail\",\n",
    "        \"location\": fake.city(),\n",
    "        \"retailerType\": random.choice(retailer_types)\n",
    "    })"
   ]
  },
  {
   "cell_type": "code",
   "execution_count": 9,
   "id": "b747b493-ae1c-4483-b9b7-8f24c8bc869e",
   "metadata": {},
   "outputs": [],
   "source": [
    "# 5. Generate Products\n",
    "products = []\n",
    "product_types = [\"RawMaterial\", \"Component\", \"FinishedGood\"]\n",
    "for i in range(NUM_PRODUCTS):\n",
    "    ptype = random.choice(product_types)\n",
    "    products.append({\n",
    "        \"id\": f\"product_{i}\",\n",
    "        \"productName\": fake.catch_phrase(),\n",
    "        \"sku\": f\"SKU-{i}-{random.randint(100, 999)}\",\n",
    "        \"productType\": ptype,\n",
    "        \"unitPrice\": round(random.uniform(1.0, 200.0), 2)\n",
    "    })"
   ]
  },
  {
   "cell_type": "code",
   "execution_count": 10,
   "id": "703193ed-c51f-4923-8e1d-776a210a2331",
   "metadata": {},
   "outputs": [],
   "source": [
    "# 6. Link Supplier -> Manufacturer\n",
    "#    We'll say each supplier \"suppliesTo\" a few random manufacturers\n",
    "for s in suppliers:\n",
    "    num_mf = random.randint(1, 3)  # each supplier might supply 1-3 manufacturers\n",
    "    s[\"manufacturerIDs\"] = [m[\"id\"] for m in random.sample(manufacturers, k=num_mf)]\n",
    "\n",
    "# 7. Link Manufacturer -> Product (they \"manufacture\" finished goods, maybe some components)\n",
    "for m in manufacturers:\n",
    "    # Suppose each manufacturer makes 5-15 products, but only \"Component\" or \"FinishedGood\"\n",
    "    possible_products = [p for p in products if p[\"productType\"] in [\"Component\", \"FinishedGood\"]]\n",
    "    num_prod = random.randint(5, 15)\n",
    "    m[\"productIDs\"] = [prod[\"id\"] for prod in random.sample(possible_products, k=num_prod)]\n",
    "\n",
    "# 8. Link Warehouse -> Product (they \"store\" finished goods or components)\n",
    "for w in warehouses:\n",
    "    # Each warehouse might store 10-20 random products (excluding raw materials maybe)\n",
    "    possible_products = [p for p in products if p[\"productType\"] != \"RawMaterial\"]\n",
    "    num_prod = random.randint(10, 20)\n",
    "    w[\"productIDs\"] = [prod[\"id\"] for prod in random.sample(possible_products, k=num_prod)]"
   ]
  },
  {
   "cell_type": "code",
   "execution_count": 11,
   "id": "fa288889-4d5b-4c2a-a340-1476d3faf89c",
   "metadata": {},
   "outputs": [],
   "source": [
    "# 9. Generate Orders (Retailer -> Warehouse or Manufacturer)\n",
    "orders = []\n",
    "for i in range(NUM_ORDERS):\n",
    "    order_id = f\"order_{i}\"\n",
    "    # randomly choose if ordering from a Warehouse or a Manufacturer\n",
    "    if random.random() < 0.7:\n",
    "        seller = random.choice(warehouses)\n",
    "        sellerType = \"warehouse\"\n",
    "        sellerID = seller[\"id\"]\n",
    "    else:\n",
    "        seller = random.choice(manufacturers)\n",
    "        sellerType = \"manufacturer\"\n",
    "        sellerID = seller[\"id\"]\n",
    "\n",
    "    # pick a random retailer\n",
    "    buyer = random.choice(retailers)\n",
    "\n",
    "    # each order will have 1-5 different products\n",
    "    possible_products = []\n",
    "    if sellerType == \"warehouse\":\n",
    "        # use the warehouse's product list\n",
    "        possible_products = seller[\"productIDs\"]\n",
    "    else:\n",
    "        # use the manufacturer's product list\n",
    "        possible_products = seller[\"productIDs\"]\n",
    "\n",
    "    if not possible_products:\n",
    "        # fallback if no productIDs for some reason\n",
    "        possible_products = [p[\"id\"] for p in products if p[\"productType\"] != \"RawMaterial\"]\n",
    "\n",
    "    num_line_items = random.randint(1, min(5, len(possible_products)))\n",
    "    line_items = random.sample(possible_products, k=num_line_items)\n",
    "\n",
    "    # compute a total amount\n",
    "    total_amount = 0.0\n",
    "    for pid in line_items:\n",
    "        product_obj = next((x for x in products if x[\"id\"] == pid), None)\n",
    "        if product_obj:\n",
    "            # random quantity 1-50\n",
    "            qty = random.randint(1, 50)\n",
    "            total_amount += (product_obj[\"unitPrice\"] * qty)\n",
    "\n",
    "    order_data = {\n",
    "        \"id\": order_id,\n",
    "        \"orderNumber\": f\"ON-{i}-{random.randint(1000, 9999)}\",\n",
    "        \"orderDate\": fake.date_between(start_date='-2y', end_date='today').isoformat(),\n",
    "        \"status\": random.choice([\"Pending\", \"Shipped\", \"Delivered\", \"Cancelled\"]),\n",
    "        \"totalAmount\": round(total_amount, 2),\n",
    "        \"sellerType\": sellerType,\n",
    "        \"sellerID\": sellerID,\n",
    "        \"retailerID\": buyer[\"id\"],\n",
    "        \"productIDs\": line_items,  # simplistic: no separate qty, but you could store it\n",
    "    }\n",
    "    orders.append(order_data)"
   ]
  },
  {
   "cell_type": "code",
   "execution_count": 12,
   "id": "b193bac5-0395-4e44-bc0d-c4a074a16550",
   "metadata": {},
   "outputs": [],
   "source": [
    "# 10. Generate Shipments (each shipment -> one of the orders; hasShipper -> warehouse)\n",
    "shipments = []\n",
    "available_warehouses = warehouses[:]  # to pick from\n",
    "for i in range(NUM_SHIPMENTS):\n",
    "    shipment_id = f\"shipment_{i}\"\n",
    "    # pick a random order that is not \"Cancelled\"\n",
    "    valid_orders = [o for o in orders if o[\"status\"] != \"Cancelled\"]\n",
    "    if not valid_orders:\n",
    "        break  # if all are cancelled, no shipments\n",
    "    order_obj = random.choice(valid_orders)\n",
    "\n",
    "    # only a warehouse can ship an order in this simplified model\n",
    "    if order_obj[\"sellerType\"] == \"warehouse\":\n",
    "        shipperID = order_obj[\"sellerID\"]\n",
    "    else:\n",
    "        # if the seller is a manufacturer, let's say they can ship directly too\n",
    "        shipperID = order_obj[\"sellerID\"]\n",
    "    # The error occurred in the original notebook here.\n",
    "    # fake.date_between() requires datetime.date objects as input, not strings!\n",
    "    ship_date = fake.date_between(start_date=datetime.fromisoformat(order_obj[\"orderDate\"]), end_date=datetime.today())\n",
    "    shipments.append({\n",
    "        \"id\": shipment_id,\n",
    "        \"shipmentID\": f\"SHIP-{i}-{random.randint(1000, 9999)}\",\n",
    "        \"shipDate\": ship_date.isoformat(),\n",
    "        \"carrier\": random.choice([\"UPS\", \"FedEx\", \"DHL\", \"USPS\"]),\n",
    "        \"trackingNumber\": f\"TRK-{random.randint(1000000, 9999999)}\",\n",
    "        \"orderID\": order_obj[\"id\"],\n",
    "        \"shipperID\": shipperID\n",
    "    })"
   ]
  },
  {
   "cell_type": "code",
   "execution_count": 13,
   "id": "310d8897-bf7e-4731-a388-8bdd069bebe2",
   "metadata": {},
   "outputs": [],
   "source": [
    "# 11. Generate Invoices (Warehouse or Manufacturer -> Retailer)\n",
    "invoices = []\n",
    "for i in range(NUM_INVOICES):\n",
    "    invoice_id = f\"invoice_{i}\"\n",
    "    # pick a random order to invoice\n",
    "    # prefer \"Shipped\" or \"Delivered\" orders\n",
    "    valid_orders = [o for o in orders if o[\"status\"] in [\"Shipped\", \"Delivered\"]]\n",
    "    if not valid_orders:\n",
    "        break\n",
    "\n",
    "    order_obj = random.choice(valid_orders)\n",
    "   # Corrected here too, for the same reason as the shipment date error.\n",
    "    invoice_date = fake.date_between(start_date=datetime.fromisoformat(order_obj[\"orderDate\"]), end_date=datetime.today())\n",
    "\n",
    "    amount = order_obj[\"totalAmount\"] * (1 + random.uniform(0.0, 0.2))  # add shipping or tax\n",
    "\n",
    "    invoices.append({\n",
    "        \"id\": invoice_id,\n",
    "        \"invoiceNumber\": f\"INV-{i}-{random.randint(1000, 9999)}\",\n",
    "        \"invoiceDate\": invoice_date.isoformat(),\n",
    "        \"amountDue\": round(amount, 2),\n",
    "        \"dueDate\": fake.date_between(start_date=invoice_date, end_date='+30d').isoformat(),\n",
    "        # who billed it? same as the seller in the order\n",
    "        \"billedByID\": order_obj[\"sellerID\"],\n",
    "        \"billedByType\": order_obj[\"sellerType\"],\n",
    "        \"billedToID\": order_obj[\"retailerID\"]\n",
    "    })"
   ]
  },
  {
   "cell_type": "code",
   "execution_count": 14,
   "id": "f006703f-c552-496a-adfc-fd946d32db57",
   "metadata": {},
   "outputs": [
    {
     "name": "stdout",
     "output_type": "stream",
     "text": [
      "Generated:\n",
      " Suppliers: 30\n",
      " Manufacturers: 20\n",
      " Warehouses: 40\n",
      " Retailers: 50\n",
      " Products: 250\n",
      " Orders: 1500\n",
      " Shipments: 1200\n",
      " Invoices: 800\n"
     ]
    }
   ],
   "source": [
    "# Summary: Show counts\n",
    "print(\"Generated:\")\n",
    "print(\" Suppliers:\", len(suppliers))\n",
    "print(\" Manufacturers:\", len(manufacturers))\n",
    "print(\" Warehouses:\", len(warehouses))\n",
    "print(\" Retailers:\", len(retailers))\n",
    "print(\" Products:\", len(products))\n",
    "print(\" Orders:\", len(orders))\n",
    "print(\" Shipments:\", len(shipments))\n",
    "print(\" Invoices:\", len(invoices))"
   ]
  },
  {
   "cell_type": "code",
   "execution_count": 15,
   "id": "f5cd5959-dc7d-47bc-960e-008b7308e334",
   "metadata": {},
   "outputs": [
    {
     "name": "stdout",
     "output_type": "stream",
     "text": [
      "\n",
      "Sample Supplier: {'id': 'supplier_0', 'supplierName': 'Lee Ltd', 'location': 'East Annette', 'rating': 4.13, 'manufacturerIDs': ['manufacturer_1']}\n",
      "Sample Manufacturer: {'id': 'manufacturer_0', 'manufacturerName': 'Elliott and Sons Manufacturing', 'location': 'Taylorchester', 'capacity': 8902, 'productIDs': ['product_65', 'product_208', 'product_202', 'product_38', 'product_58', 'product_189', 'product_191', 'product_32', 'product_249', 'product_197', 'product_147', 'product_215', 'product_70']}\n",
      "Sample Warehouse: {'id': 'warehouse_0', 'warehouseName': 'Ross-Jones Distribution', 'location': 'Kyleview', 'capacity': 8892, 'productIDs': ['product_246', 'product_2', 'product_97', 'product_238', 'product_169', 'product_227', 'product_188', 'product_214', 'product_103', 'product_176', 'product_151', 'product_133', 'product_190', 'product_8', 'product_126']}\n",
      "Sample Retailer: {'id': 'retailer_0', 'retailerName': 'Smith, Neal and Nunez Retail', 'location': 'Wattshaven', 'retailerType': 'Online'}\n",
      "Sample Product: {'id': 'product_0', 'productName': 'Realigned next generation software', 'sku': 'SKU-0-399', 'productType': 'RawMaterial', 'unitPrice': 19.77}\n",
      "Sample Order: {'id': 'order_0', 'orderNumber': 'ON-0-1734', 'orderDate': '2024-09-13', 'status': 'Delivered', 'totalAmount': 8918.25, 'sellerType': 'manufacturer', 'sellerID': 'manufacturer_5', 'retailerID': 'retailer_30', 'productIDs': ['product_222', 'product_239', 'product_2', 'product_69']}\n",
      "Sample Shipment: {'id': 'shipment_0', 'shipmentID': 'SHIP-0-6570', 'shipDate': '2025-02-10', 'carrier': 'UPS', 'trackingNumber': 'TRK-6703169', 'orderID': 'order_1385', 'shipperID': 'warehouse_0'}\n",
      "Sample Invoice: {'id': 'invoice_0', 'invoiceNumber': 'INV-0-7167', 'invoiceDate': '2024-03-28', 'amountDue': 2015.23, 'dueDate': '2024-05-31', 'billedByID': 'manufacturer_8', 'billedByType': 'manufacturer', 'billedToID': 'retailer_15'}\n"
     ]
    }
   ],
   "source": [
    "# Print a few sample records\n",
    "print(\"\\nSample Supplier:\", suppliers[0])\n",
    "print(\"Sample Manufacturer:\", manufacturers[0])\n",
    "print(\"Sample Warehouse:\", warehouses[0])\n",
    "print(\"Sample Retailer:\", retailers[0])\n",
    "print(\"Sample Product:\", products[0])\n",
    "print(\"Sample Order:\", orders[0])\n",
    "print(\"Sample Shipment:\", shipments[0] if shipments else \"No shipments generated.\")\n",
    "print(\"Sample Invoice:\", invoices[0] if invoices else \"No invoices generated.\")"
   ]
  },
  {
   "cell_type": "code",
   "execution_count": 16,
   "id": "201047b5-0d0b-483f-a9fa-059f7ab9b4d4",
   "metadata": {},
   "outputs": [],
   "source": [
    "# persist the data, use \" as the escape char\n",
    "pd.DataFrame(suppliers).to_csv(data_path+\"suppliers.csv\", encoding = \"utf-8\", escapechar = \"\\\"\", index=False)\n",
    "pd.DataFrame(manufacturers).to_csv(data_path+\"manufacturers.csv\", encoding = \"utf-8\", escapechar = \"\\\"\", index=False)\n",
    "pd.DataFrame(warehouses).to_csv(data_path+\"warehouses.csv\", encoding = \"utf-8\", escapechar = \"\\\"\", index=False)\n",
    "pd.DataFrame(retailers).to_csv(data_path+\"retailers.csv\", encoding = \"utf-8\", escapechar = \"\\\"\", index=False)\n",
    "pd.DataFrame(products).to_csv(data_path+\"products.csv\", encoding = \"utf-8\", escapechar = \"\\\"\", index=False)\n",
    "pd.DataFrame(orders).to_csv(data_path+\"orders.csv\", encoding = \"utf-8\", escapechar = \"\\\"\", index=False)\n",
    "pd.DataFrame(shipments).to_csv(data_path+\"shipments.csv\", encoding = \"utf-8\", escapechar = \"\\\"\", index=False)\n",
    "pd.DataFrame(shipments).to_csv(data_path+\"shipments.csv\", encoding = \"utf-8\", escapechar = \"\\\"\", index=False)"
   ]
  },
  {
   "cell_type": "code",
   "execution_count": null,
   "id": "96ddc01f-532a-494a-b318-73ffbc3681d3",
   "metadata": {},
   "outputs": [],
   "source": []
  },
  {
   "cell_type": "code",
   "execution_count": null,
   "id": "ab863aa9-5468-49f7-8bf0-64e4b33deac6",
   "metadata": {},
   "outputs": [],
   "source": []
  }
 ],
 "metadata": {
  "kernelspec": {
   "display_name": "Python 3 (ipykernel)",
   "language": "python",
   "name": "python3"
  },
  "language_info": {
   "codemirror_mode": {
    "name": "ipython",
    "version": 3
   },
   "file_extension": ".py",
   "mimetype": "text/x-python",
   "name": "python",
   "nbconvert_exporter": "python",
   "pygments_lexer": "ipython3",
   "version": "3.11.7"
  }
 },
 "nbformat": 4,
 "nbformat_minor": 5
}
